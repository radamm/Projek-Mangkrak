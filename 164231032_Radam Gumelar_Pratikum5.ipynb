{
 "cells": [
  {
   "cell_type": "markdown",
   "metadata": {},
   "source": [
    "### Nama  : Radam Gumelar\n",
    "### NIM   : 164231032\n",
    "### Pratikum 5"
   ]
  },
  {
   "cell_type": "markdown",
   "metadata": {},
   "source": [
    "1. Lakukan semua percobaan praktikum di atas secara mandiri (1-3). Laporkan setiap output\n",
    "yang dihasilkan dengan dilengkapi bukti screenshoot."
   ]
  },
  {
   "cell_type": "code",
   "execution_count": 1,
   "metadata": {},
   "outputs": [
    {
     "name": "stdout",
     "output_type": "stream",
     "text": [
      "b lebih besar dari a\n"
     ]
    }
   ],
   "source": [
    "a = 75\n",
    "b = 200\n",
    "if b > a: print (\"b lebih besar dari a\")"
   ]
  },
  {
   "cell_type": "code",
   "execution_count": 7,
   "metadata": {},
   "outputs": [],
   "source": [
    "a = 75\n",
    "b = 200\n",
    "if b > a:\n",
    "    print (\"b lebih besar dari a\")"
   ]
  },
  {
   "cell_type": "markdown",
   "metadata": {},
   "source": [
    "#### Penjelasan\n",
    "sebenarnya tidak ada perbedaan output antara 2 kode diatas, hanya terdapat perbedaan di cara penulisannya dan hal itu boleh dilakukan. yang atas, kondisi if ditulis dalam 1 line code sedangngkan yang bawah kondisi if ditulis dengan penulisan yang umumnya dipakai<br>\n",
    "penjelasan alur kodingan <br>\n",
    "kodingan ini bertujuan untuk menentukan apakah nilai pada variabel b lebih besar dari a\n",
    "1. simpan nilai pada variabel a dan b\n",
    "2. gunakan kondisi if jika b > a maka akan muncul output ``b lebih besar dari a``\n",
    "3. jika nantinya nilai pada variabel a lebih besar dari b, maka program tidak menampilkan output apa apa"
   ]
  },
  {
   "cell_type": "code",
   "execution_count": 2,
   "metadata": {},
   "outputs": [
    {
     "name": "stdout",
     "output_type": "stream",
     "text": [
      "Pernyataan a > b and c > a benar\n"
     ]
    }
   ],
   "source": [
    "a = 200\n",
    "b = 100\n",
    "c = 300\n",
    "if a > b and c > a:\n",
    " print (\"Pernyataan a > b and c > a benar\")\n",
    "else:\n",
    " print (\"Pernyataan a > b and c > a salah\")"
   ]
  },
  {
   "cell_type": "markdown",
   "metadata": {},
   "source": [
    "#### Penjelasan\n",
    "program diatas dibuat untuk menentukan nilai mana yang lebih besar dari variabel a, b, atau c<br>\n",
    "alur programnya adalah:\n",
    "1. beri nilai pada variabel a, b, dan c\n",
    "2. gunakan kondisi if, jika memenuhi syarat a > b dan c > a, maka akan menampilkan output ``Pernyataan a > b and c > a benar``\n",
    "3. ingat bahwa syarat a > b dan c > a harus terpenuhi, tidak boleh salah satu\n",
    "4. jika tidak memenuhi salah satu atau salah keduanya, maka akan menampilkan output ``Pernyataan a > b and c > a salah``\n"
   ]
  },
  {
   "cell_type": "code",
   "execution_count": 3,
   "metadata": {},
   "outputs": [
    {
     "name": "stdout",
     "output_type": "stream",
     "text": [
      "Bilangan positif\n"
     ]
    }
   ],
   "source": [
    "num = 3.4\n",
    "if num > 0:\n",
    " print (\"Bilangan positif\")\n",
    "elif num == 0:\n",
    " print(\"Nol\")\n",
    "else:\n",
    " print (\"Bilangan negatif\")"
   ]
  },
  {
   "cell_type": "markdown",
   "metadata": {},
   "source": [
    "#### Penjelasan\n",
    "program diatas digunakan untuk menentukan nilai dari suatu variabel tergolong ke bilangan positif, bilangan positif, atau nol. <br>\n",
    "alur programnya adalah:<br>\n",
    "1. beri nilai pada suatu variabel (bisa berupa inputan ataupun langsung)\n",
    "2. gunakan kondisi if:\n",
    "   - jika variabel > 0 maka akan menampilkan output ``Bilangan positif``\n",
    "   - jika variabel = 0 maka akan menampilkan output ``nol``\n",
    "   - jika tidak memenuhi kondisi diatas maka akan menampilkan output ``Bilangan negatif``\n"
   ]
  },
  {
   "cell_type": "markdown",
   "metadata": {},
   "source": [
    "----------------------------------------------------------------------------------------------------------------------"
   ]
  },
  {
   "cell_type": "markdown",
   "metadata": {},
   "source": [
    "2. Buatlah program untuk menghitung ongkos kirim dari sebuah barang dengan syarat:<br>\n",
    "   - Jika jarak yang diinputkan lebih kecil dari 5 km maka biaya kirim gratis.\n",
    "   - Jika jarak yang diinputkan bernilai 5-10 km, maka biaya kirim dikalikan dengan 5000.\n",
    "   - Jika jarak yang diinputkan bernilai 11-20 km, maka biaya kirim dikalikan dengan 6000.\n",
    "   - Jika jarak yang diinputkan lebih dari 20 km, maka biaya kirim dikalikan dengan 7000.\n"
   ]
  },
  {
   "cell_type": "code",
   "execution_count": 9,
   "metadata": {},
   "outputs": [
    {
     "name": "stdout",
     "output_type": "stream",
     "text": [
      "biaya kirim barang dengan jarak 10.0 km adalah Rp50000.0\n"
     ]
    }
   ],
   "source": [
    "while True:\n",
    "    try:\n",
    "        jarak = float(input(\"Masukkan jarak kirim : \"))\n",
    "        if jarak > 20:\n",
    "            print(f\"biaya kirim barang dengan jarak {jarak} km adalah Rp{jarak*7000}\")\n",
    "        elif jarak > 10:\n",
    "            print(f\"biaya kirim barang dengan jarak {jarak} km adalah Rp{jarak*6000}\")\n",
    "        elif jarak > 4:\n",
    "            print(f\"biaya kirim barang dengan jarak {jarak} km adalah Rp{jarak*5000}\")\n",
    "        elif jarak > 0:\n",
    "            print(f\"biaya kirim barang dengan jarak {jarak} km adalah Gratis\")\n",
    "        elif jarak < 0:\n",
    "            print(\"tidak ada jarak negatif\")\n",
    "        break\n",
    "    except ValueError:\n",
    "        print(\"Masukkan inputan dengan benar!\")"
   ]
  },
  {
   "cell_type": "markdown",
   "metadata": {},
   "source": [
    "#### Penjelasan\n",
    "program diatas berjalan sesuai ketentuan.<br>\n",
    "saya menggunakan ``while True`` agar program bisa terus berjalan ketika salah inputan.<br>\n",
    "saya menggunakan try-except ValueError untuk menangani salah inputan (inputan tidak sesuai) karena jika inputan salah akan langsung menampilkan ``Masukkan inputan dengan benar!`` dan user akan kembali diminta memasukkan inputan<br>\n",
    "alur programnya adalah:\n",
    "1. user menginputkan jarak kirim\n",
    "2. proses kondisi if:\n",
    "   - jika jarak diatas 20 km (21km dan seterusnya), maka biaya kirim = jarak*7000\n",
    "   - jika jarak 11 - 20 km, maka biaya kirim = jarak*6000\n",
    "   - jika jarak 5 - 10 km, maka biaya kirim = jarak*5000\n",
    "   - jika jarak diatas 0 km dibawah 5 km, maka biaya kirim = gratis\n",
    "   - jika jarak yang diinputkan kurang dari 0 km, maka akan muncul output ``tidak ada jarak negatif``\n",
    "\n"
   ]
  }
 ],
 "metadata": {
  "kernelspec": {
   "display_name": "Python 3",
   "language": "python",
   "name": "python3"
  },
  "language_info": {
   "codemirror_mode": {
    "name": "ipython",
    "version": 3
   },
   "file_extension": ".py",
   "mimetype": "text/x-python",
   "name": "python",
   "nbconvert_exporter": "python",
   "pygments_lexer": "ipython3",
   "version": "3.10.11"
  }
 },
 "nbformat": 4,
 "nbformat_minor": 2
}
