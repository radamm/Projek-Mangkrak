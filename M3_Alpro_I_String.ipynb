{
  "cells": [
    {
      "cell_type": "markdown",
      "metadata": {
        "id": "Wzy-Ri5peH2M"
      },
      "source": [
        "## Slicing"
      ]
    },
    {
      "cell_type": "code",
      "execution_count": 4,
      "metadata": {
        "colab": {
          "base_uri": "https://localhost:8080/"
        },
        "id": "nwmYv7SEd5tq",
        "outputId": "31e6d9ba-a9e6-4ed6-d37d-0c7a4926c6c2"
      },
      "outputs": [
        {
          "name": "stdout",
          "output_type": "stream",
          "text": [
            "edang\n",
            "Saya \n",
            "dang belajar bahasa pemrograman Python\n",
            "tho\n",
            "edang\n",
            "S a\n",
            "aya sedang belajar bahasa pemrograman Python\n",
            "S\n",
            "2\n"
          ]
        }
      ],
      "source": [
        "kalimat = \"Saya sedang belajar bahasa pemrograman Python\"\n",
        "print(kalimat[6:11])\n",
        "print(kalimat[:5])\n",
        "print(kalimat[7:])\n",
        "print(kalimat[-4:-1])\n",
        "print(kalimat[6:11:1])\n",
        "print(kalimat[0:12:4])\n",
        "print(kalimat[1:])\n",
        "print(kalimat[:1])\n",
        "print(kalimat.count(\"s\"))"
      ]
    },
    {
      "cell_type": "markdown",
      "metadata": {
        "id": "ugjeLsd5eKdp"
      },
      "source": [
        "## Format"
      ]
    },
    {
      "cell_type": "code",
      "execution_count": null,
      "metadata": {
        "colab": {
          "base_uri": "https://localhost:8080/"
        },
        "id": "IhVoxrK1eC14",
        "outputId": "1883599b-09cf-4bc6-cfb7-61631205e2a4"
      },
      "outputs": [
        {
          "name": "stdout",
          "output_type": "stream",
          "text": [
            "Nama saya Joni, saya berumur 20\n"
          ]
        }
      ],
      "source": [
        "age = 20\n",
        "txt = \"Nama saya Joni, saya berumur {}\"\n",
        "print(txt.format(age))\n"
      ]
    },
    {
      "cell_type": "markdown",
      "metadata": {
        "id": "hWUyOmIVeR5G"
      },
      "source": [
        "## Gabung"
      ]
    },
    {
      "cell_type": "code",
      "execution_count": null,
      "metadata": {
        "colab": {
          "base_uri": "https://localhost:8080/"
        },
        "id": "Q04a_BaTeThr",
        "outputId": "6878a4af-6e46-4e7b-858b-02351661e050"
      },
      "outputs": [
        {
          "name": "stdout",
          "output_type": "stream",
          "text": [
            "Belajar Python menyenangkan\n"
          ]
        }
      ],
      "source": [
        "x = \"Belajar Python \"\n",
        "y = \"menyenangkan\"\n",
        "z = x + y\n",
        "print(z)\n"
      ]
    },
    {
      "cell_type": "code",
      "execution_count": null,
      "metadata": {
        "colab": {
          "base_uri": "https://localhost:8080/"
        },
        "id": "zdiKhwnl2Lrl",
        "outputId": "81b09e0a-4005-47c6-98c8-a341c601f369"
      },
      "outputs": [
        {
          "name": "stdout",
          "output_type": "stream",
          "text": [
            "Belajar python menyenangkan\n"
          ]
        }
      ],
      "source": [
        "kata = [\"Belajar\", \"python\", \"menyenangkan\"]\n",
        "print(\" \".join(kata))"
      ]
    },
    {
      "cell_type": "markdown",
      "metadata": {
        "id": "tZK2oElcyuJ-"
      },
      "source": [
        "## Find"
      ]
    },
    {
      "cell_type": "code",
      "execution_count": null,
      "metadata": {
        "colab": {
          "base_uri": "https://localhost:8080/"
        },
        "id": "W4mo4YXnyvt9",
        "outputId": "15a98197-e2b9-4b89-8125-e07bbcb637e2"
      },
      "outputs": [
        {
          "data": {
            "text/plain": [
              "7"
            ]
          },
          "execution_count": 1,
          "metadata": {},
          "output_type": "execute_result"
        }
      ],
      "source": [
        "kalimat = \"Hello, my Father's name is Nana\"\n",
        "kalimat.find(\"my\")"
      ]
    },
    {
      "cell_type": "markdown",
      "metadata": {
        "id": "SCV-AW9XyqT2"
      },
      "source": [
        "## Replace"
      ]
    },
    {
      "cell_type": "code",
      "execution_count": null,
      "metadata": {
        "colab": {
          "base_uri": "https://localhost:8080/",
          "height": 36
        },
        "id": "gJ6Hb-pgzBEE",
        "outputId": "35f97fcb-e969-4b23-b7ec-32b2f5b48ad5"
      },
      "outputs": [
        {
          "data": {
            "application/vnd.google.colaboratory.intrinsic+json": {
              "type": "string"
            },
            "text/plain": [
              "\"Hello, Rafik's Father's name is Nana\""
            ]
          },
          "execution_count": 51,
          "metadata": {},
          "output_type": "execute_result"
        }
      ],
      "source": [
        "kalimat = \"Hello, my Father's name is Nana\"\n",
        "kalimat.replace(\"my\", \"Rafik's\")"
      ]
    },
    {
      "cell_type": "markdown",
      "metadata": {
        "id": "3W7fttmvyr0d"
      },
      "source": [
        "## Center"
      ]
    },
    {
      "cell_type": "code",
      "execution_count": null,
      "metadata": {
        "colab": {
          "base_uri": "https://localhost:8080/"
        },
        "id": "HMt0O-ZPzLSg",
        "outputId": "2161b920-978f-410d-d69b-0453de598d3a"
      },
      "outputs": [
        {
          "name": "stdout",
          "output_type": "stream",
          "text": [
            "         Hello, my Father's name is Nana          \n"
          ]
        }
      ],
      "source": [
        "print(kalimat.center(50, \" \"))"
      ]
    },
    {
      "cell_type": "markdown",
      "metadata": {
        "id": "vzyvdiyE2B7c"
      },
      "source": [
        "## Split"
      ]
    },
    {
      "cell_type": "code",
      "execution_count": null,
      "metadata": {
        "colab": {
          "base_uri": "https://localhost:8080/"
        },
        "id": "fKKUpYWu1ukM",
        "outputId": "f8e6fc12-b713-4ca7-8a5b-c726a89db410"
      },
      "outputs": [
        {
          "name": "stdout",
          "output_type": "stream",
          "text": [
            "['bismillah,', 'aku', 'bisa.', 'aku', 'pasti', 'bisa']\n"
          ]
        }
      ],
      "source": [
        "kalimat = \"bismillah, aku bisa. aku pasti bisa\"\n",
        "kalimat = kalimat.split()\n",
        "print(kalimat)"
      ]
    },
    {
      "cell_type": "code",
      "execution_count": null,
      "metadata": {
        "colab": {
          "base_uri": "https://localhost:8080/"
        },
        "id": "OOfXf1oD3nRz",
        "outputId": "da1ffbc3-5536-40c6-bcda-a0cd750f4f45"
      },
      "outputs": [
        {
          "name": "stdout",
          "output_type": "stream",
          "text": [
            "['susu', ' apel', ' labu, sawi, garam, micin, tempe, masako']\n"
          ]
        }
      ],
      "source": [
        "belanja = \"susu, apel, labu, sawi, garam, micin, tempe, masako\"\n",
        "list_belanja = belanja.split(\",\", 2)\n",
        "print(list_belanja)"
      ]
    },
    {
      "cell_type": "markdown",
      "metadata": {
        "id": "OGcpGTsmyWg1"
      },
      "source": [
        "## Cek Fungsi"
      ]
    },
    {
      "cell_type": "code",
      "execution_count": null,
      "metadata": {
        "colab": {
          "base_uri": "https://localhost:8080/"
        },
        "id": "LktKioeSmvR_",
        "outputId": "cd50d091-064d-4acf-d180-884fe65a89ec"
      },
      "outputs": [
        {
          "name": "stdout",
          "output_type": "stream",
          "text": [
            "['__add__', '__class__', '__contains__', '__delattr__', '__dir__', '__doc__', '__eq__', '__format__', '__ge__', '__getattribute__', '__getitem__', '__getnewargs__', '__gt__', '__hash__', '__init__', '__init_subclass__', '__iter__', '__le__', '__len__', '__lt__', '__mod__', '__mul__', '__ne__', '__new__', '__reduce__', '__reduce_ex__', '__repr__', '__rmod__', '__rmul__', '__setattr__', '__sizeof__', '__str__', '__subclasshook__', 'capitalize', 'casefold', 'center', 'count', 'encode', 'endswith', 'expandtabs', 'find', 'format', 'format_map', 'index', 'isalnum', 'isalpha', 'isascii', 'isdecimal', 'isdigit', 'isidentifier', 'islower', 'isnumeric', 'isprintable', 'isspace', 'istitle', 'isupper', 'join', 'ljust', 'lower', 'lstrip', 'maketrans', 'partition', 'removeprefix', 'removesuffix', 'replace', 'rfind', 'rindex', 'rjust', 'rpartition', 'rsplit', 'rstrip', 'split', 'splitlines', 'startswith', 'strip', 'swapcase', 'title', 'translate', 'upper', 'zfill']\n",
            "Help on method_descriptor:\n",
            "\n",
            "center(self, width, fillchar=' ', /)\n",
            "    Return a centered string of length width.\n",
            "    \n",
            "    Padding is done using the specified fill character (default is a space).\n",
            "\n"
          ]
        }
      ],
      "source": [
        "print(dir(str))\n",
        "help(str.center)"
      ]
    },
    {
      "cell_type": "code",
      "execution_count": null,
      "metadata": {
        "colab": {
          "base_uri": "https://localhost:8080/"
        },
        "id": "KWvkHX1AZDT2",
        "outputId": "95172060-e7d7-4576-b854-6f41e7ac8785"
      },
      "outputs": [
        {
          "name": "stdout",
          "output_type": "stream",
          "text": [
            "aku makan soto\n",
            "3\n"
          ]
        }
      ],
      "source": [
        "x=input()\n",
        "y=x.split()\n",
        "print(len(y))"
      ]
    }
  ],
  "metadata": {
    "colab": {
      "provenance": []
    },
    "kernelspec": {
      "display_name": "Python 3",
      "name": "python3"
    },
    "language_info": {
      "codemirror_mode": {
        "name": "ipython",
        "version": 3
      },
      "file_extension": ".py",
      "mimetype": "text/x-python",
      "name": "python",
      "nbconvert_exporter": "python",
      "pygments_lexer": "ipython3",
      "version": "3.10.11"
    }
  },
  "nbformat": 4,
  "nbformat_minor": 0
}
