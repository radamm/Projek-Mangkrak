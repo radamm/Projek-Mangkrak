{
 "cells": [
  {
   "cell_type": "code",
   "execution_count": null,
   "metadata": {},
   "outputs": [],
   "source": [
    "import math as mt #memanggil module math"
   ]
  },
  {
   "cell_type": "markdown",
   "metadata": {},
   "source": [
    "1. Buatlah sebuah program untuk menghitung faktor dari suatu bilangan. Contoh: jika\n",
    "pengguna memberikan input “4” maka program akan menampilkan semua faktor dari\n",
    "bilangan tersebut yaitu, 1, 2, dan 4."
   ]
  },
  {
   "cell_type": "code",
   "execution_count": 19,
   "metadata": {},
   "outputs": [
    {
     "name": "stdout",
     "output_type": "stream",
     "text": [
      "faktor dari 10 adalah [1, 2, 5, 10]\n"
     ]
    }
   ],
   "source": [
    "a = int(input(\"Masukkan angka : \")) #buat inputan\n",
    "b = [] #buat list kosong untuk menyimpan faktor dari a\n",
    "if a>0:\n",
    "    for i in range (1,a+1):\n",
    "        if a%i == 0: #syarat faktor adalah bilangan inputan harus habis dibagi i (tidak punya sisa)\n",
    "            c = a / i \n",
    "            b.append(i) #memasukkan angka dari 1 sampai a yang merupakan faktor dari a\n",
    "    print(f\"faktor dari {a} adalah {b}\") #menampilkan hasil\n",
    "else:\n",
    "    print(f\"{a} tidak memiliki faktor\")"
   ]
  },
  {
   "cell_type": "markdown",
   "metadata": {},
   "source": [
    "2. Buatlah program untuk menghitung luas dan keliling sebuah lingkaran menggunakan\n",
    "modul math pada Python."
   ]
  },
  {
   "cell_type": "code",
   "execution_count": 5,
   "metadata": {},
   "outputs": [
    {
     "name": "stdout",
     "output_type": "stream",
     "text": [
      "jari jari 10\n",
      "luas lingkaran : 314.1592653589793\n",
      "Keliling lingkaran : 62.83185307179586\n"
     ]
    }
   ],
   "source": [
    "r = int(input(\"Masukkan Jari - Jari: \")) #buat inputan\n",
    "phi = mt.pi #memanggil nilai phi dari modul math\n",
    "luas = r*r*phi #rumus luas\n",
    "keliling = 2*r*phi #rumus keliling\n",
    "\n",
    "#menampilkan hasil\n",
    "print(f\"jari jari : {r}\")\n",
    "print(f\"luas lingkaran : {luas}\")\n",
    "print(f\"Keliling lingkaran : {keliling}\")"
   ]
  },
  {
   "cell_type": "markdown",
   "metadata": {},
   "source": [
    "3. Buatlah program trigonometri sederhana untuk menghitung nilai cos, sin, dan tan dari suatu\n",
    "sudut."
   ]
  },
  {
   "cell_type": "code",
   "execution_count": 8,
   "metadata": {},
   "outputs": [
    {
     "name": "stdout",
     "output_type": "stream",
     "text": [
      "nilai sin, cos, tan dari sudut 60.0 adalah 0.8660254037844386, 0.5000000000000001, 1.7320508075688767\n"
     ]
    }
   ],
   "source": [
    "a = float(input(\"Masukkan angka : \")) #buat inputan\n",
    "radian = mt.radians(a) # mengubah nilai inputan ke bentuk radian karena di module math, sin cos tan hanya memngubah nilai radian\n",
    "\n",
    "sin = mt.sin(radian) #mengubah nilai radian ke sin dengan module math\n",
    "cos = mt.cos(radian) #mengubah nilai radian ke cos dengan module math\n",
    "tan = mt.tan(radian) #mengubah nilai radian ke tan ndengan module math\n",
    "\n",
    "print(f\"nilai sin, cos, tan dari sudut {a} adalah {sin}; {cos}; {tan}\")"
   ]
  },
  {
   "cell_type": "markdown",
   "metadata": {},
   "source": [
    "4. Buatlah program untuk menghitung nilai logaritma dari suatu bilangan. Jika input berupa\n",
    "bilangan negatif, nol atau non-numerik, maka tampilkan pesan “TypeError”."
   ]
  },
  {
   "cell_type": "code",
   "execution_count": 28,
   "metadata": {},
   "outputs": [
    {
     "name": "stdout",
     "output_type": "stream",
     "text": [
      "hasil dari 2.0 log 4.0 adalah 2.0\n"
     ]
    }
   ],
   "source": [
    "try: #perintah try untuk membuat syarat jika inputan tidak sesuai maka akan menampilkan perintah pada bagian except\n",
    "    #disini variabel a dan b harus berbentuk float, jadi inputan tidak sesuainya adalah non-numerik/huruf\n",
    "    a = float(input(\"Masukkan numerus : \")) #inputan numerus\n",
    "    b = float(input(\"Masukkan basis : \")) #inputan basis\n",
    "    if a<=0 or b<=0: #kondisi jika nilai a dan b lebih kurang dari samadengan nol (nol atau bilangan negatif)\n",
    "        print(\"ValueError\") #menampilkan ValueError\n",
    "    else: #kondisi jika lebih dari nol (bilangan positif)\n",
    "        c = mt.log(a,b) #perhitungan logaritma menggunakan module math\n",
    "        print(f\"hasil dari {b} log {a} adalah {c}\") #menampilkan hasil\n",
    "except ValueError: #kondisi jika tidak memenuhi inputan yang diminta\n",
    "    print('ValueError')"
   ]
  },
  {
   "cell_type": "markdown",
   "metadata": {},
   "source": [
    "5. Buatlah program untuk menghitung nilai faktorial dari suatu bilangan. Contoh: faktorial\n",
    "dari 6 adalah 6 x 5 x 4 x 3 x 2 x 1 = 720."
   ]
  },
  {
   "cell_type": "code",
   "execution_count": 2,
   "metadata": {},
   "outputs": [
    {
     "name": "stdout",
     "output_type": "stream",
     "text": [
      "faktorial dari 6 adalah 720\n"
     ]
    }
   ],
   "source": [
    "a = int(input(\"Masukkan angka : \")) #membuat inputan\n",
    "b = 1 #memberi nilai pada variabel b\n",
    "for i in range (1,a+1): \n",
    "    b = b*i #melakukan perkalian berulang nilai dari variabel b dengan i (1 sampai dengan b)\n",
    "print(f\"faktorial dari {a} adalah {b}\") #menampilkan hasil"
   ]
  },
  {
   "cell_type": "markdown",
   "metadata": {},
   "source": [
    "6. Tampilkan banyak cara untuk menaiki anak tangga. misal ada 4 anak tangga, maka ada 7 cara. misal ada 7 anak tangga, maka ada 33 anak tangga"
   ]
  },
  {
   "cell_type": "code",
   "execution_count": 16,
   "metadata": {},
   "outputs": [
    {
     "name": "stdout",
     "output_type": "stream",
     "text": [
      "Banyak Cara untuk menaiki 7 anak tangga adalah 33\n"
     ]
    }
   ],
   "source": [
    "a = int(input(\"Masukkan jumlah tangga:\")) #membuat inputan\n",
    "deret = [1,1] #membuat list untuk menyimpan nilai\n",
    "for i in range(2,a): #gunakan for untuk mendapatkan nilai baris ke 2 sampai baris ke a\n",
    "    deret.append(deret[i-1] + deret[i-2]) #baris baru didapatkan dari menjumlah 2 deret sebelumnya\n",
    "print(f\"Banyak Cara untuk menaiki {a} anak tangga adalah {sum(deret)} cara\") #menampilkan nilai dari deret yang diinginkan (misal deret ke 10, berarti nilainya adalah jumlah dari deret ke 1 sampai ke 9)"
   ]
  }
 ],
 "metadata": {
  "kernelspec": {
   "display_name": "Python 3",
   "language": "python",
   "name": "python3"
  },
  "language_info": {
   "codemirror_mode": {
    "name": "ipython",
    "version": 3
   },
   "file_extension": ".py",
   "mimetype": "text/x-python",
   "name": "python",
   "nbconvert_exporter": "python",
   "pygments_lexer": "ipython3",
   "version": "3.10.11"
  }
 },
 "nbformat": 4,
 "nbformat_minor": 2
}
