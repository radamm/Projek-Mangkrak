{
 "cells": [
  {
   "cell_type": "code",
   "execution_count": 4,
   "metadata": {},
   "outputs": [
    {
     "name": "stdout",
     "output_type": "stream",
     "text": [
      "List barang toko barokah: \n",
      "['sabun', 5000, 2]\n",
      "['sikat gigi', 3000, 2]\n",
      "['pasta gigi', 2500, 2]\n",
      "['deterjen', 2000, 2]\n",
      "['pewangi', 1000, 2]\n"
     ]
    }
   ],
   "source": [
    "gudang = [['sabun', 5000, 2], ['sikat gigi', 3000, 2]]\n",
    "\n",
    "print('List barang toko barokah: ')\n",
    "for barang in gudang:\n",
    "    print(barang)"
   ]
  },
  {
   "cell_type": "code",
   "execution_count": 3,
   "metadata": {},
   "outputs": [
    {
     "name": "stdout",
     "output_type": "stream",
     "text": [
      " Selamat datang di Antrean BankUlar\n",
      "      Adakah yang bisa kami bantu?\n",
      "      Menu:\n",
      "      1. Bertemu Teller\n",
      "      2. Bertemu CS\n",
      "      3. Antre ATM\n",
      "      Masukkan Menu Pilihan anda :\n",
      "\n"
     ]
    }
   ],
   "source": [
    "print(''' Selamat datang di Antrean BankUlar\n",
    "      Adakah yang bisa kami bantu?\n",
    "      Menu:\n",
    "      1. Bertemu Teller\n",
    "      2. Bertemu CS\n",
    "      3. Antre ATM\n",
    "      Masukkan Menu Pilihan anda :\n",
    "'''\n",
    ")\n",
    "pilihan = int(input())"
   ]
  },
  {
   "cell_type": "code",
   "execution_count": 12,
   "metadata": {},
   "outputs": [
    {
     "name": "stdout",
     "output_type": "stream",
     "text": [
      "[3, 6, 1, 5, 2]\n"
     ]
    }
   ],
   "source": [
    "aa = [3,6,1,5,2]\n",
    "def bubble(aa):\n",
    "    for x in range(len(aa)-1):\n",
    "        for i in range(len(aa)):\n",
    "            if aa[x] > aa[x+1]:\n",
    "                aa[x],aa[x+1] = aa[x+1],aa[x]\n",
    "        return aa\n",
    "print(bubble(aa))"
   ]
  },
  {
   "cell_type": "code",
   "execution_count": null,
   "metadata": {},
   "outputs": [],
   "source": [
    "import pandas as pd     # modul untuk memproses dataframe\n",
    "import numpy as np      # modul untuk memproses data numerik\n",
    "import sklearn          # modul untuk analisis statistik\n",
    "from sklearn.model_selection import train_test_split        # modul untuk membagi dataset menjadi 2 (train dan test)\n",
    "from sklearn.linear_model import LinearRegression           # membuat permodelan regresi linear\n",
    "import matplotlib.pyplot as plt                             # membuat plot dan visualisasinya\n",
    "\n",
    "df = pd.read_csv(\"F:/UNAIR/ALGORITMA PEMROGRAMAN/SeoulBikeData.csv\")        # membaca file format csv sesuai direktori di laptop\n",
    "df.head()       # Menampilkan 5 data teratas dari tabel\n",
    "\n",
    "x = df[\"Temperature\"].values        # mengambil dan menyimpan nilai dari kolom `Temperature` menjadi variabel x\n",
    "y = df[\"Rented Bike Count\"].values  # mengambil dan menyimpan nilai dari kolom `Rented Bike Count` menjadi variabel y\n",
    "\n",
    "x_train, x_test, y_train, y_test = \n",
    "train_test_split(x, y, test_size=0.3, random_state=2)\n",
    "\n",
    "x_train = np.array(x_train).reshape(-1,1)\n",
    "x_test = np.array(x_test).reshape(-1,1)\n",
    "regresilinear = LinearRegression()\n",
    "regresilinear.fit(x_train,y_train)\n",
    "\n",
    "regresilinear.intercept_ #beta nol\n",
    "regresilinear.coef_[i] #beta i\n",
    "\n",
    "def hasil_y2(x1,x2,x3,x4):\n",
    "    hasil = regresilinear.intercept_ + (regresilinear.coef_[0]*x1)\n",
    "    hasil2 =np.round(hasil)\n",
    "    print(f\"\")\n",
    "\n",
    "data = [(25, 45, 0.8, 0), (30, 90, 0.1, 0.2), (26, 50, 1, 0.4), (28, 55, 0.5, 0), (20, 40, 0.7, 0)]\n",
    "for i in data:\n",
    "    hasil_y2(*i)"
   ]
  },
  {
   "cell_type": "code",
   "execution_count": null,
   "metadata": {},
   "outputs": [],
   "source": [
    "from sklearn.metrics import confusion_matrix            # untuk menghitung matriks konfusi (yang menunjukkan jumlah prediksi benar salah)\n",
    "from sklearn.tree import DecisionTreeClassifier         # untuk membuat model klasifikasi decision tree\n",
    "import sklearn.metrics as metrics           # biasanya untuk menghitung akurasi klasifikasi\n",
    "from sklearn import datasets                # memuat dataset\n",
    "from sklearn import tree                    # membuat pohon keputusan\n",
    "import seaborn as sns                       # untuk membuat plot statistik yang bisa di custom\n",
    "\n",
    "X_train, X_test, y_train, y_test = \n",
    "train_test_split(X,Y, test_size = 0.3, random_state=100)\n",
    "\n",
    "#deklarasi nama kelas\n",
    "X.columns = ['sepal-length', 'sepal-width', 'petal-length', 'petal-width']\n",
    "Y.columns = ['Iris-setosa', 'Iris-versicolor', 'Iris-virginica']\n",
    "\n",
    "clf = DecisionTreeClassifier(random_state=100)\n",
    "clf.fit(X_train, y_train)\n",
    "\n",
    "Y_pred = clf.predict(X_test)\n",
    "print(Y_pred)\n",
    "\n",
    "print(\"Accuracy\", metrics.accuracy_score(y_test, Y_pred))\n",
    "fig1 = plt.figure(1)\n",
    "tree.plot_tree(clf, feature_names=X.columns, class_names = Y.columns,)\n",
    "fig1.show()\n",
    "\n",
    "fig2 = plt.figure(2)\n",
    "sna = sns.heatmap(cm, annot=True, xticklabels=Y.columns, yticklabels=Y.columns)\n",
    "fig2.show()"
   ]
  },
  {
   "cell_type": "code",
   "execution_count": 16,
   "metadata": {},
   "outputs": [
    {
     "data": {
      "text/plain": [
       "(2, ['A', 'B'])"
      ]
     },
     "execution_count": 16,
     "metadata": {},
     "output_type": "execute_result"
    }
   ],
   "source": [
    "graph = {\n",
    "   'A': {'B':2,'C':4},\n",
    "   'B': {},\n",
    "   'C': {'B':-2}\n",
    "}\n",
    "\n",
    "import heapq\n",
    "\n",
    "def dijkstra(graph, start, end):\n",
    "    queue = []\n",
    "    heapq.heappush(queue, (0, start))\n",
    "    distances = {node: float('infinity') for node in graph}\n",
    "    distances[start] = 0\n",
    "    paths = {start: [start]}\n",
    "\n",
    "    while queue:\n",
    "        current_distance, current_node = heapq.heappop(queue)\n",
    "\n",
    "        if distances[current_node] < current_distance:\n",
    "            continue\n",
    "\n",
    "        for adjacent, weight in graph[current_node].items():\n",
    "            distance = current_distance + weight\n",
    "\n",
    "            if distance < distances[adjacent]:\n",
    "                distances[adjacent] = distance\n",
    "                paths[adjacent] = paths[current_node] + [adjacent]\n",
    "                heapq.heappush(queue, (distance, adjacent))\n",
    "\n",
    "    return distances[end], paths[end]\n",
    "\n",
    "dijkstra(graph, \"A\", \"B\")"
   ]
  },
  {
   "cell_type": "code",
   "execution_count": 18,
   "metadata": {},
   "outputs": [
    {
     "name": "stdout",
     "output_type": "stream",
     "text": [
      "Jalur terpendek dari Gresik ke Pasuruan adalah: ['A', 'B'] dengan jarak 2\n"
     ]
    }
   ],
   "source": [
    "import heapq\n",
    "\n",
    "def dijkstra_with_negative_check(graph, start, end):\n",
    "    queue = [(0, start)]\n",
    "    distances = {node: float('infinity') for node in graph}\n",
    "    distances[start] = 0\n",
    "    previous_nodes = {node: None for node in graph}\n",
    "    \n",
    "    while queue:\n",
    "        current_distance, current_node = heapq.heappop(queue)\n",
    "\n",
    "        if current_node == end:\n",
    "            path = []\n",
    "            while current_node is not None:\n",
    "                path.insert(0, current_node)\n",
    "                current_node = previous_nodes[current_node]\n",
    "            return distances[end], path\n",
    "\n",
    "        if current_distance > distances[current_node]:\n",
    "            continue\n",
    "\n",
    "        for neighbor, weight in graph[current_node].items():\n",
    "            if weight < 0:\n",
    "                # Abaikan tepi dengan bobot negatif\n",
    "                continue\n",
    "            distance = current_distance + weight\n",
    "            if distance < distances[neighbor]:\n",
    "                distances[neighbor] = distance\n",
    "                previous_nodes[neighbor] = current_node\n",
    "                heapq.heappush(queue, (distance, neighbor))\n",
    "    \n",
    "    return float('infinity'), []\n",
    "\n",
    "# # Contoh graf dengan bobot (termasuk bobot negatif)\n",
    "# graph = {\n",
    "#     'A': {'B': 1, 'C': 4},\n",
    "#     'B': {'A': 1, 'C': 2, 'D': 5},\n",
    "#     'C': {'A': 4, 'B': 2, 'D': 1},\n",
    "#     'D': {'B': 5, 'C': 1, 'E': -7},  # Tepi negatif ini akan diabaikan\n",
    "#     'E': {'D': -7}  # Tepi negatif ini juga akan diabaikan\n",
    "# }\n",
    "\n",
    "graph = {\n",
    "   'A': {'B':2,'C':4},\n",
    "   'B': {},\n",
    "   'C': {'B':-3}\n",
    "}\n",
    "\n",
    "start_node = 'Gresik'\n",
    "end_node = 'Pasuruan'\n",
    "distance, path = dijkstra_with_negative_check(graph, \"A\", \"B\")\n",
    "print(f\"Jalur terpendek dari {start_node} ke {end_node} adalah: {path} dengan jarak {distance}\")"
   ]
  },
  {
   "cell_type": "code",
   "execution_count": null,
   "metadata": {},
   "outputs": [],
   "source": [
    "import pandas as pd\n",
    "from sklearn import tree\n",
    "from sklearn.tree import DecisionTreeClassifier\n",
    "import matplotlib.pyplot as plt\n",
    "\n",
    "df = pd.DataFrame({\n",
    "    'Bangun': ['Terlambat', 'Tidak Terlambat', 'Tidak Terlambat', 'Terlambat', 'Tidak Terlambat', 'Terlambat'],\n",
    "    'Perkuliahan': ['Datang', 'Tidak', 'Datang', 'Datang', 'Tidak', 'Datang'],\n",
    "    'Hujan': ['Tidak', 'Ya', 'Ya', 'Tidak', 'Ya', 'Ya'],\n",
    "    'Makan': ['Sudah', 'Belum', 'Sudah', 'Sudah', 'Belum', 'Sudah'],\n",
    "    'Mandi': ['Ya', 'Tidak', 'Ya', 'Tidak', 'Tidak', 'Ya']})\n",
    "\n",
    "\n",
    "y = df['Perkuliahan']\n",
    "df = pd.get_dummies(df, drop_first=True,dtype=int)\n",
    "\n",
    "X = df.drop('Perkuliahan_Tidak', axis=1)\n",
    "\n",
    "clf = DecisionTreeClassifier(random_state=100)\n",
    "clf.fit(X, y)\n",
    "\n",
    "plt.figure(figsize=(10, 4))\n",
    "tree.plot_tree(clf, feature_names=list(X.columns), class_names=['Datang', 'Tidak'], filled=True)\n",
    "plt.show()\n"
   ]
  }
 ],
 "metadata": {
  "kernelspec": {
   "display_name": "Python 3",
   "language": "python",
   "name": "python3"
  },
  "language_info": {
   "codemirror_mode": {
    "name": "ipython",
    "version": 3
   },
   "file_extension": ".py",
   "mimetype": "text/x-python",
   "name": "python",
   "nbconvert_exporter": "python",
   "pygments_lexer": "ipython3",
   "version": "3.10.11"
  }
 },
 "nbformat": 4,
 "nbformat_minor": 2
}
