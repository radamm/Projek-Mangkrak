{
 "cells": [
  {
   "cell_type": "markdown",
   "metadata": {},
   "source": [
    "### Kumpulan semua code"
   ]
  },
  {
   "cell_type": "code",
   "execution_count": 3,
   "metadata": {},
   "outputs": [
    {
     "name": "stdout",
     "output_type": "stream",
     "text": [
      "5\n",
      "100\n",
      "2 54\n",
      "2 54\n"
     ]
    }
   ],
   "source": [
    "# penggunaan method min max\n",
    "\n",
    "#min\n",
    "a = min(5, 12)\n",
    "print(a)\n",
    "\n",
    "#max\n",
    "b = max(100, 14)\n",
    "print(b)\n",
    "\n",
    "#min max dari suatu tuple, list\n",
    "c = (2, 34, 54, 2, 7, 9) #tuple\n",
    "print(min(c), max(c))\n",
    "d = [2, 34, 54, 2, 7, 9] #list\n",
    "print(min(d), max(d))\n"
   ]
  },
  {
   "cell_type": "code",
   "execution_count": 55,
   "metadata": {},
   "outputs": [
    {
     "name": "stdout",
     "output_type": "stream",
     "text": [
      "selisih persegi luar dan dalam: 98.0\n"
     ]
    }
   ],
   "source": [
    "# terdapat sebuah persegi besar yang didalamnya terdapat sebuah lingkaran, \n",
    "# dimana didalam lingkaran tersebut terdapat persegi dengan ukuran yang lebih kecil\n",
    "r = int(input())\n",
    "D = 2*r\n",
    "luas_luar = D**2\n",
    "luas_dalam = D**2/2\n",
    "\n",
    "selisih = luas_luar - luas_dalam\n",
    "print(\"selisih persegi luar dan dalam:\", selisih)"
   ]
  },
  {
   "cell_type": "code",
   "execution_count": 2,
   "metadata": {},
   "outputs": [
    {
     "name": "stdout",
     "output_type": "stream",
     "text": [
      "input: ['aku', 'suka', 'belajar']\n",
      "hasil: ['aKU', 'sUKA', 'bELAJAR']\n",
      "hasil: aKU sUKA bELAJAR\n"
     ]
    }
   ],
   "source": [
    "kalimat = input().split()\n",
    "swap_case = []\n",
    "\n",
    "for i in kalimat:\n",
    "    i = i.capitalize()\n",
    "    i = i.swapcase()\n",
    "    swap_case.append(i)\n",
    "\n",
    "print(\"input:\", kalimat)\n",
    "print(\"hasil:\", swap_case)\n",
    "print(\"hasil:\", *swap_case)"
   ]
  },
  {
   "cell_type": "code",
   "execution_count": 11,
   "metadata": {},
   "outputs": [
    {
     "name": "stdout",
     "output_type": "stream",
     "text": [
      "hasil penjumlahan nya adalah (6, 15)\n"
     ]
    }
   ],
   "source": [
    "# Menjumlahkan masing-masing angka genap dan ganjil\n",
    "def genap_ganjil(list):\n",
    "    genap = 0\n",
    "    ganjil = 0\n",
    "    for i in list:\n",
    "        if i % 2 == 0:\n",
    "            genap+=i\n",
    "        else:\n",
    "            ganjil+=i\n",
    "    return genap, ganjil\n",
    "\n",
    "print(f\"hasil penjumlahan nya adalah {genap_ganjil([2, 3, 5, 7, 4])}\")\n"
   ]
  },
  {
   "cell_type": "code",
   "execution_count": 13,
   "metadata": {},
   "outputs": [
    {
     "name": "stdout",
     "output_type": "stream",
     "text": [
      "jam ke detik: 7200 jam ke menit: 2040 detik: 34567\n",
      "yang paling kecil: 2040\n",
      "yang paling besar: 34567\n"
     ]
    }
   ],
   "source": [
    "#\n",
    "import math\n",
    "jam = int(input(\"jam:\"))\n",
    "jam_detik = jam*3600\n",
    "menit = int(input(\"menit:\"))\n",
    "menit_detik = menit*60\n",
    "detik = int(input(\"detik:\"))\n",
    "print(\"jam ke detik:\", jam_detik, \"jam ke menit:\", menit_detik, \"detik:\", detik )\n",
    "print(\"yang paling kecil:\", min(jam_detik, menit_detik, detik))\n",
    "print(\"yang paling besar:\", max(jam_detik, menit_detik, detik))"
   ]
  },
  {
   "cell_type": "code",
   "execution_count": 14,
   "metadata": {},
   "outputs": [
    {
     "data": {
      "text/plain": [
       "'ka...ka...kata'"
      ]
     },
     "execution_count": 14,
     "metadata": {},
     "output_type": "execute_result"
    }
   ],
   "source": [
    "#PRINT GAGAP\n",
    "def gagap(kata):\n",
    "    hasil = kata[:2] + '...'+ kata[:2]+'...'+ kata\n",
    "    return hasil\n",
    "kata = input(\"masukkan kata:\")\n",
    "gagap(kata)"
   ]
  },
  {
   "cell_type": "code",
   "execution_count": 26,
   "metadata": {},
   "outputs": [
    {
     "name": "stdout",
     "output_type": "stream",
     "text": [
      "1\n",
      "1\n"
     ]
    },
    {
     "data": {
      "text/plain": [
       "(5, 7)"
      ]
     },
     "execution_count": 26,
     "metadata": {},
     "output_type": "execute_result"
    }
   ],
   "source": [
    "#penggunaan ceil\n",
    "#ceil yaitu pembulatan keatas\n",
    "\n",
    "import math\n",
    "print(math.ceil(0.1))   #bilangan desimal nya dibawah 5 tetap dibulatkan keatas\n",
    "print(math.ceil(0.8))\n",
    "\n",
    "def ceill(a, b, c):\n",
    "    e = math.ceil(a)\n",
    "    return e+b, e+c\n",
    "ceill(0.2345, 4, 6)"
   ]
  },
  {
   "cell_type": "code",
   "execution_count": 28,
   "metadata": {},
   "outputs": [
    {
     "name": "stdout",
     "output_type": "stream",
     "text": [
      "Harga akhir: 8500.0\n"
     ]
    }
   ],
   "source": [
    "#Harga akhir ketika dalam jual beli mendapatkan pajak serta diskon\n",
    "f = int(input(\"Harga:\"))\n",
    "g = int(input(\"Diskon:\"))\n",
    "h = int(input(\"Pajak:\"))\n",
    "print(\"Harga akhir:\", f-(f*g/100)+(f*h/100))"
   ]
  },
  {
   "cell_type": "code",
   "execution_count": 30,
   "metadata": {},
   "outputs": [
    {
     "name": "stdout",
     "output_type": "stream",
     "text": [
      "Pilihan Anda:  kertas\n",
      "AI memilih:  gunting\n",
      "Anda Kalah!\n"
     ]
    }
   ],
   "source": [
    "#Gunting Batu Kertas\n",
    "import random\n",
    "pilihan_Anda = input(\"Masukkan angka pilihan anda(Gunting/Batu/Kertas): \").lower()\n",
    "print(\"Pilihan Anda: \", pilihan_Anda)\n",
    "AI = [\"gunting\", \"batu\", \"kertas\"]\n",
    "pilih_random = random.choice(AI)\n",
    "print(\"AI memilih: \", pilih_random)\n",
    "if pilihan_Anda == pilih_random:\n",
    "    print(\"seri\")\n",
    "elif pilihan_Anda == \"gunting\" and pilih_random == \"kertas\":\n",
    "    print(\"Anda Menang!\")\n",
    "elif pilihan_Anda == \"kertas\" and pilih_random == \"batu\":\n",
    "    print(\"Anda Menang!\")\n",
    "elif pilihan_Anda == \"batu\" and pilih_random == \"gunting\":\n",
    "    print(\"Anda Menang!\")\n",
    "else:\n",
    "    print(\"Anda Kalah!\")"
   ]
  },
  {
   "cell_type": "code",
   "execution_count": 38,
   "metadata": {},
   "outputs": [
    {
     "name": "stdout",
     "output_type": "stream",
     "text": [
      "Saya\n",
      "makan\n",
      "Nasi\n",
      "Goreng\n",
      "anggur\n",
      "apel\n",
      "mangga\n",
      "jeruk\n",
      "buah naga\n"
     ]
    }
   ],
   "source": [
    "#Penggunaan split \n",
    "#Buatlah fungsi yang digunakan untuk memisahkan kata dari kalimat yang diinputkan\n",
    "\n",
    "#dipisahkan spasi\n",
    "x = \"Saya makan Nasi Goreng\"\n",
    "for i in x.split():\n",
    "    print(i)\n",
    "\n",
    "#dipisahkan koma\n",
    "j = \"anggur,apel,mangga,jeruk,buah naga\"\n",
    "for i in j.split(\",\"):\n",
    "    print(i)"
   ]
  },
  {
   "cell_type": "code",
   "execution_count": 46,
   "metadata": {},
   "outputs": [
    {
     "name": "stdout",
     "output_type": "stream",
     "text": [
      "Vokal\n"
     ]
    }
   ],
   "source": [
    "#deteksi vokal atau konsonan\n",
    "vokal = [\"a\",\"i\",\"e\",\"u\",\"o\"]\n",
    "huruf = input(\"Masukkan huruf: \").lower()\n",
    "\n",
    "if huruf in vokal:\n",
    "    print(\"Vokal\")\n",
    "else:\n",
    "    print(\"Konsonan\")"
   ]
  },
  {
   "cell_type": "code",
   "execution_count": 54,
   "metadata": {},
   "outputs": [
    {
     "name": "stdout",
     "output_type": "stream",
     "text": [
      "Banyak vokal: 6\n"
     ]
    }
   ],
   "source": [
    "#menghitung jumlah vokal dalam suatu string\n",
    "kalimat = input(\"masukkan kalimat:\")\n",
    "vokal = 0\n",
    "for i in kalimat:\n",
    "    if i in 'aiueoAIUEO':\n",
    "        vokal += 1\n",
    "print(\"Banyak vokal:\", vokal)"
   ]
  },
  {
   "cell_type": "code",
   "execution_count": 44,
   "metadata": {},
   "outputs": [
    {
     "name": "stdout",
     "output_type": "stream",
     "text": [
      "Jumlah vokal: 8\n"
     ]
    }
   ],
   "source": [
    "#menghitung jumlah vokal dalam suatu string menggunakan count\n",
    "def hitung_vokal(x):\n",
    "    string = str(x)\n",
    "    string1 = string.lower()\n",
    "    a = string1.count(\"a\")\n",
    "    i = string1.count(\"i\")\n",
    "    u = string1.count(\"u\")\n",
    "    e = string1.count(\"e\")\n",
    "    o = string1.count(\"o\")\n",
    "    return a+i+u+e+o\n",
    "print(\"Jumlah vokal:\", hitung_vokal(\"Saya makan nasi goreng\"))"
   ]
  },
  {
   "cell_type": "code",
   "execution_count": 48,
   "metadata": {},
   "outputs": [
    {
     "name": "stdout",
     "output_type": "stream",
     "text": [
      "Pelangi, pelangi, alangkah indahmu\n",
      "merah, kuning, hijau di langit yang biru\n",
      "Pelukismu agung, siapa gerangan?\n",
      "Pelangi, pelangi, ciptaan Tuhan\n",
      "Pelangi, pelangi, alangkah indahmu\n",
      "merah, kuning, hijau di langit yang biru\n",
      "Pelukismu agung, siapa gerangan?\n",
      "Pelangi, pelangi, ciptaan Tuhan\n",
      "Pelangi, pelangi, alangkah indahmu\n",
      "merah, kuning, hijau di langit yang biru\n",
      "Pelukismu agung, siapa gerangan?\n",
      "Pelangi, pelangi, ciptaan Tuhan\n"
     ]
    }
   ],
   "source": [
    "#Buatlah program menyanyikan lagu anak Pelangi-pelangi dengan warna yang diinputkan user\n",
    "a = input()\n",
    "b = input()\n",
    "c = input()\n",
    "lirik = \"\"\"Pelangi, pelangi, alangkah indahmu\n",
    "{}, {}, {} di langit yang biru\n",
    "Pelukismu agung, siapa gerangan?\n",
    "Pelangi, pelangi, ciptaan Tuhan\n",
    "Pelangi, pelangi, alangkah indahmu\n",
    "{}, {}, {} di langit yang biru\n",
    "Pelukismu agung, siapa gerangan?\n",
    "Pelangi, pelangi, ciptaan Tuhan\n",
    "Pelangi, pelangi, alangkah indahmu\n",
    "{}, {}, {} di langit yang biru\n",
    "Pelukismu agung, siapa gerangan?\n",
    "Pelangi, pelangi, ciptaan Tuhan\"\"\"\n",
    "print(lirik.format(a,b,c,a,b,c,a,b,c))   #menggunakan format"
   ]
  },
  {
   "cell_type": "code",
   "execution_count": null,
   "metadata": {},
   "outputs": [],
   "source": [
    "###program input dan urutkan angka\n",
    "angka = []\n",
    "total_angka = int(input(\"Masukkan total angka: \"))\n",
    "\n",
    "for i in range(total_angka):\n",
    "    angka.append(float(input(f\"Masukkan angka ke {i+1}: \")))\n",
    "\n",
    "print(angka)\n",
    "angka.sort()\n",
    "print(angka)\n"
   ]
  },
  {
   "cell_type": "code",
   "execution_count": 20,
   "metadata": {},
   "outputs": [
    {
     "name": "stdout",
     "output_type": "stream",
     "text": [
      "[1 2 3 4 5]\n",
      "1\n",
      "(5,)\n"
     ]
    }
   ],
   "source": [
    "#membuat array 1 dimensi\n",
    "import numpy as np\n",
    "a = np.array([1, 2, 3, 4, 5])\n",
    "print(a)\n",
    "\n",
    "#mencari jumlah dimensi\n",
    "print(a.ndim)"
   ]
  },
  {
   "cell_type": "code",
   "execution_count": 26,
   "metadata": {},
   "outputs": [
    {
     "data": {
      "text/plain": [
       "'**********5523'"
      ]
     },
     "execution_count": 26,
     "metadata": {},
     "output_type": "execute_result"
    }
   ],
   "source": [
    "def hide(a):\n",
    "    ganti = \"*\"*(len(a)-4)\n",
    "    return ganti+a[-4:]\n",
    "hide(\"35123413355523\")"
   ]
  }
 ],
 "metadata": {
  "kernelspec": {
   "display_name": "Python 3",
   "language": "python",
   "name": "python3"
  },
  "language_info": {
   "codemirror_mode": {
    "name": "ipython",
    "version": 3
   },
   "file_extension": ".py",
   "mimetype": "text/x-python",
   "name": "python",
   "nbconvert_exporter": "python",
   "pygments_lexer": "ipython3",
   "version": "3.11.5"
  }
 },
 "nbformat": 4,
 "nbformat_minor": 2
}
