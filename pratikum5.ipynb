{
 "cells": [
  {
   "cell_type": "code",
   "execution_count": 1,
   "metadata": {},
   "outputs": [
    {
     "name": "stdout",
     "output_type": "stream",
     "text": [
      "A Lulus\n"
     ]
    }
   ],
   "source": [
    "nilai = int(input(\"Masukkan nilai\"))\n",
    "if nilai >= 75:\n",
    "    indeks = \"A\"\n",
    "    kehadiran = int(input(\"Kehadiran : \"))\n",
    "    if kehadiran == 100:\n",
    "        status = \"Lulus\"\n",
    "    else:\n",
    "        status = \"Lulus Bersyarat\"\n",
    "else:\n",
    "    indeks = \"C\"\n",
    "    status = \"Gagal\"\n",
    "\n",
    "print(indeks, status)"
   ]
  },
  {
   "cell_type": "code",
   "execution_count": 3,
   "metadata": {},
   "outputs": [
    {
     "name": "stdout",
     "output_type": "stream",
     "text": [
      "Kategori angka adalah negatif\n"
     ]
    }
   ],
   "source": [
    "a = int(input(\"Masukkan angka : \"))\n",
    "if a >0:\n",
    "    print(\"Kategori angka adalah positif\")\n",
    "else:\n",
    "    print(\"Kategori angka adalah negatif\")"
   ]
  },
  {
   "cell_type": "code",
   "execution_count": 8,
   "metadata": {},
   "outputs": [
    {
     "name": "stdout",
     "output_type": "stream",
     "text": [
      "Kategori angka adalah bukan prima\n"
     ]
    }
   ],
   "source": [
    "a = int(input(\"Masukkan angka : \"))\n",
    "if a == 2:\n",
    "    True\n",
    "elif a == 1:\n",
    "    False\n",
    "elif a%2 == 0:\n",
    "    False\n",
    "elif a%2 == 1:\n",
    "    for i in range(2,a):\n",
    "        if (a%i) == 0:\n",
    "            False\n",
    "True\n",
    "\n",
    "if a == True:\n",
    "    print(\"Kategori angka adalah prima\")\n",
    "else:\n",
    "    print(\"Kategori angka adalah bukan prima\")"
   ]
  },
  {
   "cell_type": "code",
   "execution_count": 10,
   "metadata": {},
   "outputs": [
    {
     "name": "stdout",
     "output_type": "stream",
     "text": [
      "Bilangan 1 lebih kecil dari bilangan 2\n"
     ]
    }
   ],
   "source": [
    "a = int(input(\"Masukkan angka 1 : \"))\n",
    "b = int(input(\"Masukkan angka 2 : \"))\n",
    "if a>b:\n",
    "    print(\"bilangan 1 lebih besar dari bilangan 2\")\n",
    "else:\n",
    "    print(\"Bilangan 1 lebih kecil dari bilangan 2\")"
   ]
  },
  {
   "cell_type": "code",
   "execution_count": 24,
   "metadata": {},
   "outputs": [
    {
     "name": "stdout",
     "output_type": "stream",
     "text": [
      "Bentuk bangun adalah segitiga sama sisi\n"
     ]
    }
   ],
   "source": [
    "a = int(input(\"Masukkan sisi kanan : \"))\n",
    "b = int(input(\"Masukkan sisi kiri : \"))\n",
    "c = int(input(\"Masukkan sisi bawah : \"))\n",
    "\n",
    "if a == b and a == c and b == c:\n",
    "    print(\"Bentuk bangun adalah segitiga sama sisi\")\n",
    "elif a == b or a == c or b == c:\n",
    "    print(\"Bentuk bangun adalah segitiga sama kaki\")\n",
    "else:\n",
    "    print(\"Bentuk bangun adalah segitiga sembarang\")\n"
   ]
  },
  {
   "cell_type": "code",
   "execution_count": 13,
   "metadata": {},
   "outputs": [
    {
     "name": "stdout",
     "output_type": "stream",
     "text": [
      "Kategori usia anda adalah Dewasa\n"
     ]
    }
   ],
   "source": [
    "umur = int(input(\"Masukkan umur : \"))\n",
    "kategori = \"Kategori usia anda adalah \"\n",
    "if umur > 60:\n",
    "    umur = \"Lansia\"\n",
    "elif umur > 31:\n",
    "    umur = \"Dewasa\"\n",
    "elif umur > 18:\n",
    "    umur = \"Muda\"\n",
    "elif umur > 13:\n",
    "    umur = \"Remaja\"\n",
    "elif umur >6:\n",
    "    umur = \"Anak - Anak\"\n",
    "else:\n",
    "    umur = \"Balita\"\n",
    "print(kategori + umur)"
   ]
  }
 ],
 "metadata": {
  "kernelspec": {
   "display_name": "Python 3",
   "language": "python",
   "name": "python3"
  },
  "language_info": {
   "codemirror_mode": {
    "name": "ipython",
    "version": 3
   },
   "file_extension": ".py",
   "mimetype": "text/x-python",
   "name": "python",
   "nbconvert_exporter": "python",
   "pygments_lexer": "ipython3",
   "version": "3.10.11"
  }
 },
 "nbformat": 4,
 "nbformat_minor": 2
}
