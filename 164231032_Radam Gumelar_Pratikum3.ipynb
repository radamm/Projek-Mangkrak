{
 "cells": [
  {
   "cell_type": "markdown",
   "metadata": {},
   "source": [
    "### Nama  : Radam Gumelar\n",
    "### NIM   : 164231032\n",
    "### Pratikum 3"
   ]
  },
  {
   "cell_type": "markdown",
   "metadata": {},
   "source": [
    "1. Buatlah sebuah program yang dapat menampilkan kebalikan dari suatu string sesuai dengan inputan dari pengguna. Contoh:\n",
    "\n",
    "- Input: Surabaya\n",
    "- Output: ayabaruS\n"
   ]
  },
  {
   "cell_type": "code",
   "execution_count": 6,
   "metadata": {},
   "outputs": [
    {
     "name": "stdout",
     "output_type": "stream",
     "text": [
      "ayabaruS\n"
     ]
    }
   ],
   "source": [
    "a = input(\"Masukkan sebuah kata\")\n",
    "print(a[::-1]) "
   ]
  },
  {
   "cell_type": "markdown",
   "metadata": {},
   "source": [
    "### Penjelasan nomor 1\n",
    "<p>nomor 1 adalah diminta untuk me reverse suatu inputan kata ataupun kalimat, jadi semisal ada inputan string, output yang dihasilkan adalah karakter dimulai dari yang paling akhir.<br> berikut adalah langkah langkahnya:</p>\n",
    "\n",
    "1. buat suatu variabel untuk menyimpan sebuah inputan sebuah string, disini saya membuat variabel ``a`` untuk menyimpan inputan\n",
    "2. kode ``a[::-1]`` memiliki penjelasan:\n",
    "   * ``a[ ]`` adalah metode slicing (pengambilan karakter pada variabel a)\n",
    "   * ``::`` adalah mengambil semua karakter awal sampai akhir pada variabel a\n",
    "   * ``-1`` adalah cara memunculkan variabel yang ingin diambil, tanda negatif (-) menandakan karakter ditampilkan mulai dari karakter yang paling akhir"
   ]
  },
  {
   "cell_type": "markdown",
   "metadata": {},
   "source": [
    "----------------------------------------------------------------------------------------------------------------------"
   ]
  },
  {
   "cell_type": "markdown",
   "metadata": {},
   "source": [
    "2. Buatlah kode program untuk menampilkan string “abcdefghi” menjadi urutan seperti berikut ini:\n",
    "- ab\n",
    "- bc\n",
    "- cd\n",
    "- de\n",
    "- ef\n",
    "- fg\n",
    "- gh\n",
    "- hi\n"
   ]
  },
  {
   "cell_type": "code",
   "execution_count": 17,
   "metadata": {},
   "outputs": [
    {
     "name": "stdout",
     "output_type": "stream",
     "text": [
      "ab\n",
      "bc\n",
      "cd\n",
      "de\n",
      "ef\n",
      "fg\n",
      "gh\n",
      "hi\n"
     ]
    }
   ],
   "source": [
    "kata = \"abcdefghi\"\n",
    "\n",
    "for i in range(len(kata)-1):\n",
    "    print(kata[i:i+2]) #menampilkan karakter i dan 1 karakter setelah i"
   ]
  },
  {
   "cell_type": "markdown",
   "metadata": {},
   "source": [
    "### Penjelasan nomor 2\n",
    "<p>tugas nomer 2 adalah diminta untuk menampilkan penggalan tiap 1 karakter dan 1 karakter setelahnya. dalam kasus ini katanya adalah 'abcdefghi' dan output terakhir di 'hi'.<br> \n",
    "berikut adalah langkah langkah penjelasannya:</p>\n",
    "\n",
    "1. mula mula deklarasi variabel `` kata `` dengan nilai 'abcdefghi'\n",
    "2. gunakan perulangan dengan variabel ``i`` dengan batas 0 sampai jumlah karakter pada variabel ``kata``, dengan menggunakan ``len(kata)``\n",
    "3. tetapi jumlah pada variabel ``kata`` dikurangi 1, tujuannya agar nanti outputnya tidak kelebihan 1 (jika tidak ada -1 maka output terakhir bukan 'hi' tapi i karena i terhitung karakter ke 9 sedangkan tidak ada karakter ke 10 sehingga hanya menampilkan i)\n",
    "4. dengan batas 0 sampai jumlah karakter pada variabel ``kata`` (jumlahnya 8) maka program akan mencetak karakter ke-i dan 1 karakter setelahnya\n",
    "5. penulisan kode ``kata[i:i+2]`` karena pemanggilan karakter pada program python berhenti sebelum i, jadi harus i+2 agar memunculkan karakter setelah i. penjelasannya adalah:\n",
    "   *  ``kata[]`` = slicing pada variabel kata\n",
    "   *  ``i:i+2`` = karakter ke i sampai karakter setelah i\n",
    "  \n",
    "   >catatan khusus\n",
    "   >\n",
    "   >``i:i`` = tidak memunculkan apa apa\n",
    "   >\n",
    "   >``i:i+1`` = memunculkan karakter itu sendiri\n",
    "   >\n",
    "   >``i:i+2`` = memunculkan karakter ke i sampai 1 karakter setelah i"
   ]
  },
  {
   "cell_type": "markdown",
   "metadata": {},
   "source": [
    "----------------------------------------------------------------------------------------------------------------------"
   ]
  },
  {
   "cell_type": "markdown",
   "metadata": {},
   "source": [
    "3. Buatlah kode program untuk mengecek apakah terdapat kata “Mereka” dalam paragraf di\n",
    "bawah ini, kemudian hitung berapa banyak kata “Saya” dan kata “saya” yang muncul\n",
    "dalam paragraph tersebut.\n",
    "- Paragraf:\n",
    "**_ Nama saya adalah Rita Sugiarto. Saya memiliki hobi menyanyi sejak kecil. Semua berawal dari mimpi ibu saya untuk memiliki putri seorang penyanyi. Saya berlatih vokal seminggu sekali dengan guru saya. Apabila saya menjadi juara satu dalam perlombaan menyanyi tingkat profinsi, ibu saya akan membelikan saya kado yang sangat istimewa _**"
   ]
  },
  {
   "cell_type": "code",
   "execution_count": 10,
   "metadata": {},
   "outputs": [
    {
     "name": "stdout",
     "output_type": "stream",
     "text": [
      "Tidak terdapat kata 'Mereka' di dalam paragraf\n",
      "Jumlah kata 'Saya' : 2\n",
      "Jumlah kata 'saya' : 6\n"
     ]
    }
   ],
   "source": [
    "paragraf = \"Nama saya adalah Rita Sugiarto. Saya memiliki hobi menyanyi sejak kecil. Semua berawal dari mimpi ibu saya untuk memiliki putri seorang penyanyi. Saya berlatih vokal seminggu sekali dengan guru saya. Apabila saya menjadi juara satu dalam perlombaan menyanyi tingkat profinsi, ibu saya akan membelikan saya kado yang sangat istimewa\"\n",
    "\n",
    "cek_paragraf = \"Mereka\" in paragraf #bernilai True jika terdapat kata \"Mereka\" di variabel paragraf\n",
    "if cek_paragraf == True:\n",
    "    print(\"Terdapat kata 'Mereka' di dalam paragraf\")\n",
    "else:\n",
    "    print(\"Tidak terdapat kata 'Mereka' di dalam paragraf\")\n",
    "\n",
    "Saya = paragraf.count(\"Saya\") #menghitung kata\n",
    "saya = paragraf.count(\"saya\") #menghitung kata\n",
    "print(f\"Jumlah kata 'Saya' : {Saya}\")\n",
    "print(f\"Jumlah kata 'saya' : {saya}\")"
   ]
  },
  {
   "cell_type": "markdown",
   "metadata": {},
   "source": [
    "### Penjelasan nomor 3\n",
    "<p> soal nomor 3 diminta untuk mengecek apakah ada kata \"Mereka\" di variabel paragraf, kemudian menghitung jumlah kata \"Saya\" dan \"saya\".<br>\n",
    "berikut adalah langkah langkah pengerjaannya:</p>\n",
    "\n",
    "1. mula mula buat variabel, disini saya membuat variabel ``paragraf`` dengan isian teks sesuai yang diminta\n",
    "2. buat variabel baru, saya beri nama ``cek_paragraf`` dengan nilai ``\"Mereka\" in paragraf`` maksudnya adalah untuk cek apakah ada kata \"Mereka\" di variabel ``paragraf``. jika ada, maka variabel ``cek_paragraf`` akan otomatis bernilai ``True``. jika tidak ada, maka nilainya adalah ``False``.\n",
    "3. gunakan kondisi if else, jika nilai ``cek_paragraf`` adalah ``True`` maka akan menampilkan teks \"Terdapat kata 'Mereka' di dalam paragraf\"\n",
    "4. jika nilai ``cek_paragraf`` adalah ``False`` maka akan menampilkan teks \"Tidak terdapat kata 'Mereka' di dalam paragraf\"\n",
    "5. kemudian adalah mencari jumlah kata \"Saya\" dan \"saya\" pada teks.\n",
    "6. perhitungan ini saya pisahkan antara \"Saya\" dengan huruf kapital, dan \"saya\" tanpa huruf kapital\n",
    "7. menghitung jumlah karakter adalah menggunakan ``nama_variabel.count(\"kata yang ingin dicari\")`` oleh karena itu saya membuat 2 variabel:\n",
    "   * ``Saya = paragraf.count(\"Saya\")`` untuk menghitung jumlah kata \"Saya\"\n",
    "   * ``saya = paragraf.count(\"saya\")`` untuk menghitung jumlah kata \"saya\"\n",
    "8. setelah itu, menampilkan isi dari variabel variabel diatas\n"
   ]
  }
 ],
 "metadata": {
  "kernelspec": {
   "display_name": "Python 3",
   "language": "python",
   "name": "python3"
  },
  "language_info": {
   "codemirror_mode": {
    "name": "ipython",
    "version": 3
   },
   "file_extension": ".py",
   "mimetype": "text/x-python",
   "name": "python",
   "nbconvert_exporter": "python",
   "pygments_lexer": "ipython3",
   "version": "3.10.11"
  }
 },
 "nbformat": 4,
 "nbformat_minor": 2
}
