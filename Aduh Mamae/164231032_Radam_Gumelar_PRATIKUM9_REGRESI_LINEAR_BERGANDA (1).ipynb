{
  "nbformat": 4,
  "nbformat_minor": 0,
  "metadata": {
    "colab": {
      "provenance": [],
      "toc_visible": true
    },
    "kernelspec": {
      "name": "python3",
      "display_name": "Python 3"
    },
    "language_info": {
      "name": "python"
    }
  },
  "cells": [
    {
      "cell_type": "code",
      "execution_count": null,
      "metadata": {
        "id": "AO0ETnOQcvXn"
      },
      "outputs": [],
      "source": [
        "import pandas as pd\n",
        "import matplotlib.pyplot as plt\n",
        "\n",
        "import statsmodels.api as sm\n",
        "from scipy import stats\n",
        "\n",
        "from statsmodels.graphics.gofplots import qqplot\n",
        "import pylab\n",
        "import scipy.stats as stats\n",
        "\n",
        "from patsy import dmatrices\n",
        "from statsmodels.stats.outliers_influence import variance_inflation_factor\n",
        "\n",
        "import seaborn as sns"
      ]
    },
    {
      "cell_type": "code",
      "source": [
        "from google.colab import drive\n",
        "drive.mount('/content/drive')"
      ],
      "metadata": {
        "colab": {
          "base_uri": "https://localhost:8080/"
        },
        "id": "Pg5yQBWNql_z",
        "outputId": "89993ba2-5dcb-446c-c56e-ef2972972be6"
      },
      "execution_count": null,
      "outputs": [
        {
          "output_type": "stream",
          "name": "stdout",
          "text": [
            "Drive already mounted at /content/drive; to attempt to forcibly remount, call drive.mount(\"/content/drive\", force_remount=True).\n"
          ]
        }
      ]
    },
    {
      "cell_type": "markdown",
      "source": [
        "# NOMOR 1"
      ],
      "metadata": {
        "id": "OEv0SOxaeTf_"
      }
    },
    {
      "cell_type": "code",
      "source": [
        "mydata = {'penjualan': [72,76,78,70,68,80,82,65,62,90],\n",
        "        'jumlah iklan di radio dan tv': [12,11,15,10,11,16,14,8,8,18],\n",
        "        'jumlah endorse selebgram': [5,8,6,5,3,9,12,4,3,10]\n",
        "        }\n",
        "\n",
        "df = pd.DataFrame(mydata, columns = ['penjualan', 'jumlah iklan di radio dan tv', 'jumlah endorse selebgram'])"
      ],
      "metadata": {
        "id": "zsWioT6seSl6"
      },
      "execution_count": null,
      "outputs": []
    },
    {
      "cell_type": "code",
      "source": [
        "df.head()"
      ],
      "metadata": {
        "colab": {
          "base_uri": "https://localhost:8080/",
          "height": 206
        },
        "id": "VCAN6Sa1lw00",
        "outputId": "5714a5ce-629d-4611-e063-ac385fb1e17f"
      },
      "execution_count": null,
      "outputs": [
        {
          "output_type": "execute_result",
          "data": {
            "text/plain": [
              "   penjualan  jumlah iklan di radio dan tv  jumlah endorse selebgram\n",
              "0         72                            12                         5\n",
              "1         76                            11                         8\n",
              "2         78                            15                         6\n",
              "3         70                            10                         5\n",
              "4         68                            11                         3"
            ],
            "text/html": [
              "\n",
              "  <div id=\"df-16ae7ee4-47eb-4b72-9caf-09f3f50cbbae\" class=\"colab-df-container\">\n",
              "    <div>\n",
              "<style scoped>\n",
              "    .dataframe tbody tr th:only-of-type {\n",
              "        vertical-align: middle;\n",
              "    }\n",
              "\n",
              "    .dataframe tbody tr th {\n",
              "        vertical-align: top;\n",
              "    }\n",
              "\n",
              "    .dataframe thead th {\n",
              "        text-align: right;\n",
              "    }\n",
              "</style>\n",
              "<table border=\"1\" class=\"dataframe\">\n",
              "  <thead>\n",
              "    <tr style=\"text-align: right;\">\n",
              "      <th></th>\n",
              "      <th>penjualan</th>\n",
              "      <th>jumlah iklan di radio dan tv</th>\n",
              "      <th>jumlah endorse selebgram</th>\n",
              "    </tr>\n",
              "  </thead>\n",
              "  <tbody>\n",
              "    <tr>\n",
              "      <th>0</th>\n",
              "      <td>72</td>\n",
              "      <td>12</td>\n",
              "      <td>5</td>\n",
              "    </tr>\n",
              "    <tr>\n",
              "      <th>1</th>\n",
              "      <td>76</td>\n",
              "      <td>11</td>\n",
              "      <td>8</td>\n",
              "    </tr>\n",
              "    <tr>\n",
              "      <th>2</th>\n",
              "      <td>78</td>\n",
              "      <td>15</td>\n",
              "      <td>6</td>\n",
              "    </tr>\n",
              "    <tr>\n",
              "      <th>3</th>\n",
              "      <td>70</td>\n",
              "      <td>10</td>\n",
              "      <td>5</td>\n",
              "    </tr>\n",
              "    <tr>\n",
              "      <th>4</th>\n",
              "      <td>68</td>\n",
              "      <td>11</td>\n",
              "      <td>3</td>\n",
              "    </tr>\n",
              "  </tbody>\n",
              "</table>\n",
              "</div>\n",
              "    <div class=\"colab-df-buttons\">\n",
              "\n",
              "  <div class=\"colab-df-container\">\n",
              "    <button class=\"colab-df-convert\" onclick=\"convertToInteractive('df-16ae7ee4-47eb-4b72-9caf-09f3f50cbbae')\"\n",
              "            title=\"Convert this dataframe to an interactive table.\"\n",
              "            style=\"display:none;\">\n",
              "\n",
              "  <svg xmlns=\"http://www.w3.org/2000/svg\" height=\"24px\" viewBox=\"0 -960 960 960\">\n",
              "    <path d=\"M120-120v-720h720v720H120Zm60-500h600v-160H180v160Zm220 220h160v-160H400v160Zm0 220h160v-160H400v160ZM180-400h160v-160H180v160Zm440 0h160v-160H620v160ZM180-180h160v-160H180v160Zm440 0h160v-160H620v160Z\"/>\n",
              "  </svg>\n",
              "    </button>\n",
              "\n",
              "  <style>\n",
              "    .colab-df-container {\n",
              "      display:flex;\n",
              "      gap: 12px;\n",
              "    }\n",
              "\n",
              "    .colab-df-convert {\n",
              "      background-color: #E8F0FE;\n",
              "      border: none;\n",
              "      border-radius: 50%;\n",
              "      cursor: pointer;\n",
              "      display: none;\n",
              "      fill: #1967D2;\n",
              "      height: 32px;\n",
              "      padding: 0 0 0 0;\n",
              "      width: 32px;\n",
              "    }\n",
              "\n",
              "    .colab-df-convert:hover {\n",
              "      background-color: #E2EBFA;\n",
              "      box-shadow: 0px 1px 2px rgba(60, 64, 67, 0.3), 0px 1px 3px 1px rgba(60, 64, 67, 0.15);\n",
              "      fill: #174EA6;\n",
              "    }\n",
              "\n",
              "    .colab-df-buttons div {\n",
              "      margin-bottom: 4px;\n",
              "    }\n",
              "\n",
              "    [theme=dark] .colab-df-convert {\n",
              "      background-color: #3B4455;\n",
              "      fill: #D2E3FC;\n",
              "    }\n",
              "\n",
              "    [theme=dark] .colab-df-convert:hover {\n",
              "      background-color: #434B5C;\n",
              "      box-shadow: 0px 1px 3px 1px rgba(0, 0, 0, 0.15);\n",
              "      filter: drop-shadow(0px 1px 2px rgba(0, 0, 0, 0.3));\n",
              "      fill: #FFFFFF;\n",
              "    }\n",
              "  </style>\n",
              "\n",
              "    <script>\n",
              "      const buttonEl =\n",
              "        document.querySelector('#df-16ae7ee4-47eb-4b72-9caf-09f3f50cbbae button.colab-df-convert');\n",
              "      buttonEl.style.display =\n",
              "        google.colab.kernel.accessAllowed ? 'block' : 'none';\n",
              "\n",
              "      async function convertToInteractive(key) {\n",
              "        const element = document.querySelector('#df-16ae7ee4-47eb-4b72-9caf-09f3f50cbbae');\n",
              "        const dataTable =\n",
              "          await google.colab.kernel.invokeFunction('convertToInteractive',\n",
              "                                                    [key], {});\n",
              "        if (!dataTable) return;\n",
              "\n",
              "        const docLinkHtml = 'Like what you see? Visit the ' +\n",
              "          '<a target=\"_blank\" href=https://colab.research.google.com/notebooks/data_table.ipynb>data table notebook</a>'\n",
              "          + ' to learn more about interactive tables.';\n",
              "        element.innerHTML = '';\n",
              "        dataTable['output_type'] = 'display_data';\n",
              "        await google.colab.output.renderOutput(dataTable, element);\n",
              "        const docLink = document.createElement('div');\n",
              "        docLink.innerHTML = docLinkHtml;\n",
              "        element.appendChild(docLink);\n",
              "      }\n",
              "    </script>\n",
              "  </div>\n",
              "\n",
              "\n",
              "<div id=\"df-1589c801-7b24-494c-9fe3-8f7c7bfca67e\">\n",
              "  <button class=\"colab-df-quickchart\" onclick=\"quickchart('df-1589c801-7b24-494c-9fe3-8f7c7bfca67e')\"\n",
              "            title=\"Suggest charts\"\n",
              "            style=\"display:none;\">\n",
              "\n",
              "<svg xmlns=\"http://www.w3.org/2000/svg\" height=\"24px\"viewBox=\"0 0 24 24\"\n",
              "     width=\"24px\">\n",
              "    <g>\n",
              "        <path d=\"M19 3H5c-1.1 0-2 .9-2 2v14c0 1.1.9 2 2 2h14c1.1 0 2-.9 2-2V5c0-1.1-.9-2-2-2zM9 17H7v-7h2v7zm4 0h-2V7h2v10zm4 0h-2v-4h2v4z\"/>\n",
              "    </g>\n",
              "</svg>\n",
              "  </button>\n",
              "\n",
              "<style>\n",
              "  .colab-df-quickchart {\n",
              "      --bg-color: #E8F0FE;\n",
              "      --fill-color: #1967D2;\n",
              "      --hover-bg-color: #E2EBFA;\n",
              "      --hover-fill-color: #174EA6;\n",
              "      --disabled-fill-color: #AAA;\n",
              "      --disabled-bg-color: #DDD;\n",
              "  }\n",
              "\n",
              "  [theme=dark] .colab-df-quickchart {\n",
              "      --bg-color: #3B4455;\n",
              "      --fill-color: #D2E3FC;\n",
              "      --hover-bg-color: #434B5C;\n",
              "      --hover-fill-color: #FFFFFF;\n",
              "      --disabled-bg-color: #3B4455;\n",
              "      --disabled-fill-color: #666;\n",
              "  }\n",
              "\n",
              "  .colab-df-quickchart {\n",
              "    background-color: var(--bg-color);\n",
              "    border: none;\n",
              "    border-radius: 50%;\n",
              "    cursor: pointer;\n",
              "    display: none;\n",
              "    fill: var(--fill-color);\n",
              "    height: 32px;\n",
              "    padding: 0;\n",
              "    width: 32px;\n",
              "  }\n",
              "\n",
              "  .colab-df-quickchart:hover {\n",
              "    background-color: var(--hover-bg-color);\n",
              "    box-shadow: 0 1px 2px rgba(60, 64, 67, 0.3), 0 1px 3px 1px rgba(60, 64, 67, 0.15);\n",
              "    fill: var(--button-hover-fill-color);\n",
              "  }\n",
              "\n",
              "  .colab-df-quickchart-complete:disabled,\n",
              "  .colab-df-quickchart-complete:disabled:hover {\n",
              "    background-color: var(--disabled-bg-color);\n",
              "    fill: var(--disabled-fill-color);\n",
              "    box-shadow: none;\n",
              "  }\n",
              "\n",
              "  .colab-df-spinner {\n",
              "    border: 2px solid var(--fill-color);\n",
              "    border-color: transparent;\n",
              "    border-bottom-color: var(--fill-color);\n",
              "    animation:\n",
              "      spin 1s steps(1) infinite;\n",
              "  }\n",
              "\n",
              "  @keyframes spin {\n",
              "    0% {\n",
              "      border-color: transparent;\n",
              "      border-bottom-color: var(--fill-color);\n",
              "      border-left-color: var(--fill-color);\n",
              "    }\n",
              "    20% {\n",
              "      border-color: transparent;\n",
              "      border-left-color: var(--fill-color);\n",
              "      border-top-color: var(--fill-color);\n",
              "    }\n",
              "    30% {\n",
              "      border-color: transparent;\n",
              "      border-left-color: var(--fill-color);\n",
              "      border-top-color: var(--fill-color);\n",
              "      border-right-color: var(--fill-color);\n",
              "    }\n",
              "    40% {\n",
              "      border-color: transparent;\n",
              "      border-right-color: var(--fill-color);\n",
              "      border-top-color: var(--fill-color);\n",
              "    }\n",
              "    60% {\n",
              "      border-color: transparent;\n",
              "      border-right-color: var(--fill-color);\n",
              "    }\n",
              "    80% {\n",
              "      border-color: transparent;\n",
              "      border-right-color: var(--fill-color);\n",
              "      border-bottom-color: var(--fill-color);\n",
              "    }\n",
              "    90% {\n",
              "      border-color: transparent;\n",
              "      border-bottom-color: var(--fill-color);\n",
              "    }\n",
              "  }\n",
              "</style>\n",
              "\n",
              "  <script>\n",
              "    async function quickchart(key) {\n",
              "      const quickchartButtonEl =\n",
              "        document.querySelector('#' + key + ' button');\n",
              "      quickchartButtonEl.disabled = true;  // To prevent multiple clicks.\n",
              "      quickchartButtonEl.classList.add('colab-df-spinner');\n",
              "      try {\n",
              "        const charts = await google.colab.kernel.invokeFunction(\n",
              "            'suggestCharts', [key], {});\n",
              "      } catch (error) {\n",
              "        console.error('Error during call to suggestCharts:', error);\n",
              "      }\n",
              "      quickchartButtonEl.classList.remove('colab-df-spinner');\n",
              "      quickchartButtonEl.classList.add('colab-df-quickchart-complete');\n",
              "    }\n",
              "    (() => {\n",
              "      let quickchartButtonEl =\n",
              "        document.querySelector('#df-1589c801-7b24-494c-9fe3-8f7c7bfca67e button');\n",
              "      quickchartButtonEl.style.display =\n",
              "        google.colab.kernel.accessAllowed ? 'block' : 'none';\n",
              "    })();\n",
              "  </script>\n",
              "</div>\n",
              "    </div>\n",
              "  </div>\n"
            ],
            "application/vnd.google.colaboratory.intrinsic+json": {
              "type": "dataframe",
              "variable_name": "df",
              "summary": "{\n  \"name\": \"df\",\n  \"rows\": 10,\n  \"fields\": [\n    {\n      \"column\": \"penjualan\",\n      \"properties\": {\n        \"dtype\": \"number\",\n        \"std\": 8,\n        \"min\": 62,\n        \"max\": 90,\n        \"num_unique_values\": 10,\n        \"samples\": [\n          62,\n          76,\n          80\n        ],\n        \"semantic_type\": \"\",\n        \"description\": \"\"\n      }\n    },\n    {\n      \"column\": \"jumlah iklan di radio dan tv\",\n      \"properties\": {\n        \"dtype\": \"number\",\n        \"std\": 3,\n        \"min\": 8,\n        \"max\": 18,\n        \"num_unique_values\": 8,\n        \"samples\": [\n          11,\n          14,\n          12\n        ],\n        \"semantic_type\": \"\",\n        \"description\": \"\"\n      }\n    },\n    {\n      \"column\": \"jumlah endorse selebgram\",\n      \"properties\": {\n        \"dtype\": \"number\",\n        \"std\": 3,\n        \"min\": 3,\n        \"max\": 12,\n        \"num_unique_values\": 8,\n        \"samples\": [\n          8,\n          12,\n          5\n        ],\n        \"semantic_type\": \"\",\n        \"description\": \"\"\n      }\n    }\n  ]\n}"
            }
          },
          "metadata": {},
          "execution_count": 26
        }
      ]
    },
    {
      "cell_type": "markdown",
      "source": [
        "## **inisiasi variabel**"
      ],
      "metadata": {
        "id": "1YHkauK8ekud"
      }
    },
    {
      "cell_type": "code",
      "source": [
        "x = df[['jumlah iklan di radio dan tv', 'jumlah endorse selebgram']]\n",
        "y = df['penjualan']"
      ],
      "metadata": {
        "id": "TVAtS4afednz"
      },
      "execution_count": null,
      "outputs": []
    },
    {
      "cell_type": "markdown",
      "source": [
        "## **Membuat Model**"
      ],
      "metadata": {
        "id": "Dhe6Ku1gfAja"
      }
    },
    {
      "cell_type": "code",
      "source": [
        "#summary\n",
        "X = sm.add_constant(x)\n",
        "result = sm.OLS(y, X).fit()\n",
        "print(result.summary())"
      ],
      "metadata": {
        "colab": {
          "base_uri": "https://localhost:8080/"
        },
        "id": "joeDSEOCe_24",
        "outputId": "3fd96f67-82bb-489d-97b8-31e64aa90e02"
      },
      "execution_count": null,
      "outputs": [
        {
          "output_type": "stream",
          "name": "stdout",
          "text": [
            "                            OLS Regression Results                            \n",
            "==============================================================================\n",
            "Dep. Variable:              penjualan   R-squared:                       0.961\n",
            "Model:                            OLS   Adj. R-squared:                  0.950\n",
            "Method:                 Least Squares   F-statistic:                     86.34\n",
            "Date:                Thu, 02 May 2024   Prob (F-statistic):           1.17e-05\n",
            "Time:                        16:03:09   Log-Likelihood:                -18.882\n",
            "No. Observations:                  10   AIC:                             43.76\n",
            "Df Residuals:                       7   BIC:                             44.67\n",
            "Df Model:                           2                                         \n",
            "Covariance Type:            nonrobust                                         \n",
            "================================================================================================\n",
            "                                   coef    std err          t      P>|t|      [0.025      0.975]\n",
            "------------------------------------------------------------------------------------------------\n",
            "const                           47.1649      2.470     19.092      0.000      41.323      53.007\n",
            "jumlah iklan di radio dan tv     1.5990      0.281      5.691      0.001       0.935       2.263\n",
            "jumlah endorse selebgram         1.1487      0.305      3.763      0.007       0.427       1.871\n",
            "==============================================================================\n",
            "Omnibus:                        0.154   Durbin-Watson:                   1.792\n",
            "Prob(Omnibus):                  0.926   Jarque-Bera (JB):                0.180\n",
            "Skew:                          -0.187   Prob(JB):                        0.914\n",
            "Kurtosis:                       2.459   Cond. No.                         59.5\n",
            "==============================================================================\n",
            "\n",
            "Notes:\n",
            "[1] Standard Errors assume that the covariance matrix of the errors is correctly specified.\n"
          ]
        },
        {
          "output_type": "stream",
          "name": "stderr",
          "text": [
            "/usr/local/lib/python3.10/dist-packages/scipy/stats/_stats_py.py:1806: UserWarning: kurtosistest only valid for n>=20 ... continuing anyway, n=10\n",
            "  warnings.warn(\"kurtosistest only valid for n>=20 ... continuing \"\n"
          ]
        }
      ]
    },
    {
      "cell_type": "markdown",
      "source": [
        "## **Persamaan** **regresi**\n",
        "\n",
        "$\\hat{Y} = 47.16 + 1.599 X_1 + 1.149 X_2$\n",
        "\n",
        "Berdasarkan persamaan diatas:\n",
        "\n",
        "- Didapatkan koefisien $X_1$ dan $X_2$ pada model regresi adalah positif, artinya terdapat hubungan yang positif pada jumlah iklan di tv & radio dan jumlah iklan di selebgram terhadap jumlah penjualan.\n",
        "- Kesimpulan : apabila jumlah iklan pada tv & radio dan selebgram meningkat, maka penjualan juga akan meningkat.\n",
        "- dengan intercept 47.16 kita dapat menyimpulkan bahwa penjualan tanpa iklan pada tv dan radio serta tanpa endorse selebgram, akan tetap terjual sebesar 47.16.\n",
        "- peningkatan nilai variabel (X1) iklan di radio dan tv sebesar tiap 1 satuan akan meningkatkan penjualan sebesar 1.599\n",
        "- peningkatan nilai variabel (X2) endorse selebgram sebesar tiap 1 satuan akan meningkatkan penjualan sebesar 1.149"
      ],
      "metadata": {
        "id": "xpKfUNrZfUhk"
      }
    },
    {
      "cell_type": "markdown",
      "source": [
        "## **Nilai $R^2$**\n",
        "\n",
        "Berdasarkan model yang digunakan diketahui bahwa nilai $R^2$ yang dihasilkan adalah sebesar 96,1% yang artinya variabel independen pada model dapat menjelaskan variabel dependen dengan sangat baik. Sedangkan sisanya dipengaruhi oleh faktor lain di luar model."
      ],
      "metadata": {
        "id": "sVpuCx24fchr"
      }
    },
    {
      "cell_type": "markdown",
      "source": [
        "## **Uji Serentak**\n",
        "\n",
        "Uji F digunakan untuk melihat apakah model secara keseluruhan layak atau tidak. Juga sering disebut Goodness of Fit.\n",
        "\n",
        "$H_{0}: \\beta_{1} = \\beta_{2} = 0$\n",
        "\n",
        "$H_{1}$: minimal ada satu $\\beta_{i}  \\neq 0$, $i=1,2$"
      ],
      "metadata": {
        "id": "t-C1_VQRfgPJ"
      }
    },
    {
      "cell_type": "code",
      "source": [
        "print('F-hitung = ', result.fvalue) #F hitung\n",
        "print('P-value = ', result.f_pvalue) #P-value"
      ],
      "metadata": {
        "colab": {
          "base_uri": "https://localhost:8080/"
        },
        "id": "RQzD10kYfVLI",
        "outputId": "ed2748a1-dbf2-4b2f-9b8c-79f4ee9d5e8d"
      },
      "execution_count": null,
      "outputs": [
        {
          "output_type": "stream",
          "name": "stdout",
          "text": [
            "F-hitung =  86.33503537237802\n",
            "P-value =  1.1672880895886404e-05\n"
          ]
        }
      ]
    },
    {
      "cell_type": "code",
      "source": [
        "alpha = 0.05\n",
        "\n",
        "#Daerah penolakan dan keputusan\n",
        "if result.f_pvalue > alpha:\n",
        "\tprint('dikarenakan P value > alfa maka gagal tolak H0, artinya tidak ada variabel independen yang mempengaruhi variabel Y (penjualan)')\n",
        "else:\n",
        "\tprint('dikarenakan P value < alfa maka tolak h0, artinya minimal ada satu variabel independen yang mempengaruhi variabel Y (penjualan)')"
      ],
      "metadata": {
        "colab": {
          "base_uri": "https://localhost:8080/"
        },
        "id": "Jc2YD6XEflIS",
        "outputId": "963714c7-0709-4886-908f-6517a78db4b5"
      },
      "execution_count": null,
      "outputs": [
        {
          "output_type": "stream",
          "name": "stdout",
          "text": [
            "dikarenakan P value < alfa maka tolak h0, artinya minimal ada satu variabel independen yang mempengaruhi variabel Y (penjualan)\n"
          ]
        }
      ]
    },
    {
      "cell_type": "markdown",
      "source": [
        "## **Uji Parsial**\n",
        "\n",
        "Uji t adalah untuk menguji apakah satu variabel bebas mempunyai pengaruh yang signifikan terhadap variabel terikat atau tidak.\n",
        "\n",
        "Untuk $\\beta_{1}$\n",
        "\n",
        "$H_{0}: \\beta_{1} = 0$\n",
        "\n",
        "$H_{1}: \\beta_{1} \\neq 0$\n",
        "\n",
        "Untuk $\\beta_{2}$\n",
        "\n",
        "$H_{0}: \\beta_{2} = 0$\n",
        "\n",
        "$H_{1}: \\beta_{2} \\neq 0$"
      ],
      "metadata": {
        "id": "svwvkhu1fuTI"
      }
    },
    {
      "cell_type": "code",
      "source": [
        "print('t-hitung = ', result.tvalues) #F hitung\n",
        "print('P-value = ', result.pvalues) #P-value"
      ],
      "metadata": {
        "colab": {
          "base_uri": "https://localhost:8080/"
        },
        "id": "a0yowiVafv9V",
        "outputId": "ab4f92fb-b821-4cc1-eb50-3b5576fde4a9"
      },
      "execution_count": null,
      "outputs": [
        {
          "output_type": "stream",
          "name": "stdout",
          "text": [
            "t-hitung =  const                           19.091915\n",
            "jumlah iklan di radio dan tv     5.691283\n",
            "jumlah endorse selebgram         3.763316\n",
            "dtype: float64\n",
            "P-value =  const                           2.692292e-07\n",
            "jumlah iklan di radio dan tv    7.420101e-04\n",
            "jumlah endorse selebgram        7.044246e-03\n",
            "dtype: float64\n"
          ]
        }
      ]
    },
    {
      "cell_type": "markdown",
      "source": [
        "- Karena P-value untuk kedua parameter signifikan yaitu < alfa (0.05), maka dapat diputuskan **Tolak H0**.\n",
        "- Sehingga, dapat disimpulkan ada relasi linier antara Y dengan X1 serta Y dengan X2."
      ],
      "metadata": {
        "id": "0WJ3I4mkfzMz"
      }
    },
    {
      "cell_type": "markdown",
      "source": [
        "-------------------------------------------------------------------------------"
      ],
      "metadata": {
        "id": "KV107mOIf5OH"
      }
    },
    {
      "cell_type": "markdown",
      "source": [
        "# NOMOR 2"
      ],
      "metadata": {
        "id": "rmn8WTvjgDt2"
      }
    },
    {
      "cell_type": "code",
      "source": [
        "df = pd.read_csv('/content/drive/MyDrive/concrete_data.csv')\n",
        "df.head()"
      ],
      "metadata": {
        "colab": {
          "base_uri": "https://localhost:8080/",
          "height": 206
        },
        "id": "N1mxql72f7SL",
        "outputId": "73641c4a-5614-40da-fb8b-3157312e9dd0"
      },
      "execution_count": null,
      "outputs": [
        {
          "output_type": "execute_result",
          "data": {
            "text/plain": [
              "   Cement  Blast Furnace Slag  Fly Ash  Water  Superplasticizer  \\\n",
              "0   540.0                 0.0      0.0  162.0               2.5   \n",
              "1   540.0                 0.0      0.0  162.0               2.5   \n",
              "2   332.5               142.5      0.0  228.0               0.0   \n",
              "3   332.5               142.5      0.0  228.0               0.0   \n",
              "4   198.6               132.4      0.0  192.0               0.0   \n",
              "\n",
              "   Coarse Aggregate  Fine Aggregate  Age  Strength  \n",
              "0            1040.0           676.0   28     79.99  \n",
              "1            1055.0           676.0   28     61.89  \n",
              "2             932.0           594.0  270     40.27  \n",
              "3             932.0           594.0  365     41.05  \n",
              "4             978.4           825.5  360     44.30  "
            ],
            "text/html": [
              "\n",
              "  <div id=\"df-7be9bc64-6e5b-4b6b-b996-5c67dfb7bc01\" class=\"colab-df-container\">\n",
              "    <div>\n",
              "<style scoped>\n",
              "    .dataframe tbody tr th:only-of-type {\n",
              "        vertical-align: middle;\n",
              "    }\n",
              "\n",
              "    .dataframe tbody tr th {\n",
              "        vertical-align: top;\n",
              "    }\n",
              "\n",
              "    .dataframe thead th {\n",
              "        text-align: right;\n",
              "    }\n",
              "</style>\n",
              "<table border=\"1\" class=\"dataframe\">\n",
              "  <thead>\n",
              "    <tr style=\"text-align: right;\">\n",
              "      <th></th>\n",
              "      <th>Cement</th>\n",
              "      <th>Blast Furnace Slag</th>\n",
              "      <th>Fly Ash</th>\n",
              "      <th>Water</th>\n",
              "      <th>Superplasticizer</th>\n",
              "      <th>Coarse Aggregate</th>\n",
              "      <th>Fine Aggregate</th>\n",
              "      <th>Age</th>\n",
              "      <th>Strength</th>\n",
              "    </tr>\n",
              "  </thead>\n",
              "  <tbody>\n",
              "    <tr>\n",
              "      <th>0</th>\n",
              "      <td>540.0</td>\n",
              "      <td>0.0</td>\n",
              "      <td>0.0</td>\n",
              "      <td>162.0</td>\n",
              "      <td>2.5</td>\n",
              "      <td>1040.0</td>\n",
              "      <td>676.0</td>\n",
              "      <td>28</td>\n",
              "      <td>79.99</td>\n",
              "    </tr>\n",
              "    <tr>\n",
              "      <th>1</th>\n",
              "      <td>540.0</td>\n",
              "      <td>0.0</td>\n",
              "      <td>0.0</td>\n",
              "      <td>162.0</td>\n",
              "      <td>2.5</td>\n",
              "      <td>1055.0</td>\n",
              "      <td>676.0</td>\n",
              "      <td>28</td>\n",
              "      <td>61.89</td>\n",
              "    </tr>\n",
              "    <tr>\n",
              "      <th>2</th>\n",
              "      <td>332.5</td>\n",
              "      <td>142.5</td>\n",
              "      <td>0.0</td>\n",
              "      <td>228.0</td>\n",
              "      <td>0.0</td>\n",
              "      <td>932.0</td>\n",
              "      <td>594.0</td>\n",
              "      <td>270</td>\n",
              "      <td>40.27</td>\n",
              "    </tr>\n",
              "    <tr>\n",
              "      <th>3</th>\n",
              "      <td>332.5</td>\n",
              "      <td>142.5</td>\n",
              "      <td>0.0</td>\n",
              "      <td>228.0</td>\n",
              "      <td>0.0</td>\n",
              "      <td>932.0</td>\n",
              "      <td>594.0</td>\n",
              "      <td>365</td>\n",
              "      <td>41.05</td>\n",
              "    </tr>\n",
              "    <tr>\n",
              "      <th>4</th>\n",
              "      <td>198.6</td>\n",
              "      <td>132.4</td>\n",
              "      <td>0.0</td>\n",
              "      <td>192.0</td>\n",
              "      <td>0.0</td>\n",
              "      <td>978.4</td>\n",
              "      <td>825.5</td>\n",
              "      <td>360</td>\n",
              "      <td>44.30</td>\n",
              "    </tr>\n",
              "  </tbody>\n",
              "</table>\n",
              "</div>\n",
              "    <div class=\"colab-df-buttons\">\n",
              "\n",
              "  <div class=\"colab-df-container\">\n",
              "    <button class=\"colab-df-convert\" onclick=\"convertToInteractive('df-7be9bc64-6e5b-4b6b-b996-5c67dfb7bc01')\"\n",
              "            title=\"Convert this dataframe to an interactive table.\"\n",
              "            style=\"display:none;\">\n",
              "\n",
              "  <svg xmlns=\"http://www.w3.org/2000/svg\" height=\"24px\" viewBox=\"0 -960 960 960\">\n",
              "    <path d=\"M120-120v-720h720v720H120Zm60-500h600v-160H180v160Zm220 220h160v-160H400v160Zm0 220h160v-160H400v160ZM180-400h160v-160H180v160Zm440 0h160v-160H620v160ZM180-180h160v-160H180v160Zm440 0h160v-160H620v160Z\"/>\n",
              "  </svg>\n",
              "    </button>\n",
              "\n",
              "  <style>\n",
              "    .colab-df-container {\n",
              "      display:flex;\n",
              "      gap: 12px;\n",
              "    }\n",
              "\n",
              "    .colab-df-convert {\n",
              "      background-color: #E8F0FE;\n",
              "      border: none;\n",
              "      border-radius: 50%;\n",
              "      cursor: pointer;\n",
              "      display: none;\n",
              "      fill: #1967D2;\n",
              "      height: 32px;\n",
              "      padding: 0 0 0 0;\n",
              "      width: 32px;\n",
              "    }\n",
              "\n",
              "    .colab-df-convert:hover {\n",
              "      background-color: #E2EBFA;\n",
              "      box-shadow: 0px 1px 2px rgba(60, 64, 67, 0.3), 0px 1px 3px 1px rgba(60, 64, 67, 0.15);\n",
              "      fill: #174EA6;\n",
              "    }\n",
              "\n",
              "    .colab-df-buttons div {\n",
              "      margin-bottom: 4px;\n",
              "    }\n",
              "\n",
              "    [theme=dark] .colab-df-convert {\n",
              "      background-color: #3B4455;\n",
              "      fill: #D2E3FC;\n",
              "    }\n",
              "\n",
              "    [theme=dark] .colab-df-convert:hover {\n",
              "      background-color: #434B5C;\n",
              "      box-shadow: 0px 1px 3px 1px rgba(0, 0, 0, 0.15);\n",
              "      filter: drop-shadow(0px 1px 2px rgba(0, 0, 0, 0.3));\n",
              "      fill: #FFFFFF;\n",
              "    }\n",
              "  </style>\n",
              "\n",
              "    <script>\n",
              "      const buttonEl =\n",
              "        document.querySelector('#df-7be9bc64-6e5b-4b6b-b996-5c67dfb7bc01 button.colab-df-convert');\n",
              "      buttonEl.style.display =\n",
              "        google.colab.kernel.accessAllowed ? 'block' : 'none';\n",
              "\n",
              "      async function convertToInteractive(key) {\n",
              "        const element = document.querySelector('#df-7be9bc64-6e5b-4b6b-b996-5c67dfb7bc01');\n",
              "        const dataTable =\n",
              "          await google.colab.kernel.invokeFunction('convertToInteractive',\n",
              "                                                    [key], {});\n",
              "        if (!dataTable) return;\n",
              "\n",
              "        const docLinkHtml = 'Like what you see? Visit the ' +\n",
              "          '<a target=\"_blank\" href=https://colab.research.google.com/notebooks/data_table.ipynb>data table notebook</a>'\n",
              "          + ' to learn more about interactive tables.';\n",
              "        element.innerHTML = '';\n",
              "        dataTable['output_type'] = 'display_data';\n",
              "        await google.colab.output.renderOutput(dataTable, element);\n",
              "        const docLink = document.createElement('div');\n",
              "        docLink.innerHTML = docLinkHtml;\n",
              "        element.appendChild(docLink);\n",
              "      }\n",
              "    </script>\n",
              "  </div>\n",
              "\n",
              "\n",
              "<div id=\"df-8079ece2-8e03-48c3-9a0e-1d24161f0f05\">\n",
              "  <button class=\"colab-df-quickchart\" onclick=\"quickchart('df-8079ece2-8e03-48c3-9a0e-1d24161f0f05')\"\n",
              "            title=\"Suggest charts\"\n",
              "            style=\"display:none;\">\n",
              "\n",
              "<svg xmlns=\"http://www.w3.org/2000/svg\" height=\"24px\"viewBox=\"0 0 24 24\"\n",
              "     width=\"24px\">\n",
              "    <g>\n",
              "        <path d=\"M19 3H5c-1.1 0-2 .9-2 2v14c0 1.1.9 2 2 2h14c1.1 0 2-.9 2-2V5c0-1.1-.9-2-2-2zM9 17H7v-7h2v7zm4 0h-2V7h2v10zm4 0h-2v-4h2v4z\"/>\n",
              "    </g>\n",
              "</svg>\n",
              "  </button>\n",
              "\n",
              "<style>\n",
              "  .colab-df-quickchart {\n",
              "      --bg-color: #E8F0FE;\n",
              "      --fill-color: #1967D2;\n",
              "      --hover-bg-color: #E2EBFA;\n",
              "      --hover-fill-color: #174EA6;\n",
              "      --disabled-fill-color: #AAA;\n",
              "      --disabled-bg-color: #DDD;\n",
              "  }\n",
              "\n",
              "  [theme=dark] .colab-df-quickchart {\n",
              "      --bg-color: #3B4455;\n",
              "      --fill-color: #D2E3FC;\n",
              "      --hover-bg-color: #434B5C;\n",
              "      --hover-fill-color: #FFFFFF;\n",
              "      --disabled-bg-color: #3B4455;\n",
              "      --disabled-fill-color: #666;\n",
              "  }\n",
              "\n",
              "  .colab-df-quickchart {\n",
              "    background-color: var(--bg-color);\n",
              "    border: none;\n",
              "    border-radius: 50%;\n",
              "    cursor: pointer;\n",
              "    display: none;\n",
              "    fill: var(--fill-color);\n",
              "    height: 32px;\n",
              "    padding: 0;\n",
              "    width: 32px;\n",
              "  }\n",
              "\n",
              "  .colab-df-quickchart:hover {\n",
              "    background-color: var(--hover-bg-color);\n",
              "    box-shadow: 0 1px 2px rgba(60, 64, 67, 0.3), 0 1px 3px 1px rgba(60, 64, 67, 0.15);\n",
              "    fill: var(--button-hover-fill-color);\n",
              "  }\n",
              "\n",
              "  .colab-df-quickchart-complete:disabled,\n",
              "  .colab-df-quickchart-complete:disabled:hover {\n",
              "    background-color: var(--disabled-bg-color);\n",
              "    fill: var(--disabled-fill-color);\n",
              "    box-shadow: none;\n",
              "  }\n",
              "\n",
              "  .colab-df-spinner {\n",
              "    border: 2px solid var(--fill-color);\n",
              "    border-color: transparent;\n",
              "    border-bottom-color: var(--fill-color);\n",
              "    animation:\n",
              "      spin 1s steps(1) infinite;\n",
              "  }\n",
              "\n",
              "  @keyframes spin {\n",
              "    0% {\n",
              "      border-color: transparent;\n",
              "      border-bottom-color: var(--fill-color);\n",
              "      border-left-color: var(--fill-color);\n",
              "    }\n",
              "    20% {\n",
              "      border-color: transparent;\n",
              "      border-left-color: var(--fill-color);\n",
              "      border-top-color: var(--fill-color);\n",
              "    }\n",
              "    30% {\n",
              "      border-color: transparent;\n",
              "      border-left-color: var(--fill-color);\n",
              "      border-top-color: var(--fill-color);\n",
              "      border-right-color: var(--fill-color);\n",
              "    }\n",
              "    40% {\n",
              "      border-color: transparent;\n",
              "      border-right-color: var(--fill-color);\n",
              "      border-top-color: var(--fill-color);\n",
              "    }\n",
              "    60% {\n",
              "      border-color: transparent;\n",
              "      border-right-color: var(--fill-color);\n",
              "    }\n",
              "    80% {\n",
              "      border-color: transparent;\n",
              "      border-right-color: var(--fill-color);\n",
              "      border-bottom-color: var(--fill-color);\n",
              "    }\n",
              "    90% {\n",
              "      border-color: transparent;\n",
              "      border-bottom-color: var(--fill-color);\n",
              "    }\n",
              "  }\n",
              "</style>\n",
              "\n",
              "  <script>\n",
              "    async function quickchart(key) {\n",
              "      const quickchartButtonEl =\n",
              "        document.querySelector('#' + key + ' button');\n",
              "      quickchartButtonEl.disabled = true;  // To prevent multiple clicks.\n",
              "      quickchartButtonEl.classList.add('colab-df-spinner');\n",
              "      try {\n",
              "        const charts = await google.colab.kernel.invokeFunction(\n",
              "            'suggestCharts', [key], {});\n",
              "      } catch (error) {\n",
              "        console.error('Error during call to suggestCharts:', error);\n",
              "      }\n",
              "      quickchartButtonEl.classList.remove('colab-df-spinner');\n",
              "      quickchartButtonEl.classList.add('colab-df-quickchart-complete');\n",
              "    }\n",
              "    (() => {\n",
              "      let quickchartButtonEl =\n",
              "        document.querySelector('#df-8079ece2-8e03-48c3-9a0e-1d24161f0f05 button');\n",
              "      quickchartButtonEl.style.display =\n",
              "        google.colab.kernel.accessAllowed ? 'block' : 'none';\n",
              "    })();\n",
              "  </script>\n",
              "</div>\n",
              "    </div>\n",
              "  </div>\n"
            ],
            "application/vnd.google.colaboratory.intrinsic+json": {
              "type": "dataframe",
              "variable_name": "df",
              "summary": "{\n  \"name\": \"df\",\n  \"rows\": 1030,\n  \"fields\": [\n    {\n      \"column\": \"Cement\",\n      \"properties\": {\n        \"dtype\": \"number\",\n        \"std\": 104.50636449481532,\n        \"min\": 102.0,\n        \"max\": 540.0,\n        \"num_unique_values\": 278,\n        \"samples\": [\n          337.9,\n          290.2,\n          262.0\n        ],\n        \"semantic_type\": \"\",\n        \"description\": \"\"\n      }\n    },\n    {\n      \"column\": \"Blast Furnace Slag\",\n      \"properties\": {\n        \"dtype\": \"number\",\n        \"std\": 86.27934174810584,\n        \"min\": 0.0,\n        \"max\": 359.4,\n        \"num_unique_values\": 185,\n        \"samples\": [\n          94.7,\n          119.0,\n          136.3\n        ],\n        \"semantic_type\": \"\",\n        \"description\": \"\"\n      }\n    },\n    {\n      \"column\": \"Fly Ash\",\n      \"properties\": {\n        \"dtype\": \"number\",\n        \"std\": 63.99700415268765,\n        \"min\": 0.0,\n        \"max\": 200.1,\n        \"num_unique_values\": 156,\n        \"samples\": [\n          98.0,\n          142.0,\n          195.0\n        ],\n        \"semantic_type\": \"\",\n        \"description\": \"\"\n      }\n    },\n    {\n      \"column\": \"Water\",\n      \"properties\": {\n        \"dtype\": \"number\",\n        \"std\": 21.35421856503247,\n        \"min\": 121.8,\n        \"max\": 247.0,\n        \"num_unique_values\": 195,\n        \"samples\": [\n          195.4,\n          183.8,\n          127.3\n        ],\n        \"semantic_type\": \"\",\n        \"description\": \"\"\n      }\n    },\n    {\n      \"column\": \"Superplasticizer\",\n      \"properties\": {\n        \"dtype\": \"number\",\n        \"std\": 5.97384139248552,\n        \"min\": 0.0,\n        \"max\": 32.2,\n        \"num_unique_values\": 111,\n        \"samples\": [\n          15.0,\n          28.2,\n          16.5\n        ],\n        \"semantic_type\": \"\",\n        \"description\": \"\"\n      }\n    },\n    {\n      \"column\": \"Coarse Aggregate\",\n      \"properties\": {\n        \"dtype\": \"number\",\n        \"std\": 77.75395396672077,\n        \"min\": 801.0,\n        \"max\": 1145.0,\n        \"num_unique_values\": 284,\n        \"samples\": [\n          852.1,\n          913.9,\n          914.0\n        ],\n        \"semantic_type\": \"\",\n        \"description\": \"\"\n      }\n    },\n    {\n      \"column\": \"Fine Aggregate\",\n      \"properties\": {\n        \"dtype\": \"number\",\n        \"std\": 80.17598014240437,\n        \"min\": 594.0,\n        \"max\": 992.6,\n        \"num_unique_values\": 302,\n        \"samples\": [\n          710.0,\n          695.4,\n          769.3\n        ],\n        \"semantic_type\": \"\",\n        \"description\": \"\"\n      }\n    },\n    {\n      \"column\": \"Age\",\n      \"properties\": {\n        \"dtype\": \"number\",\n        \"std\": 63,\n        \"min\": 1,\n        \"max\": 365,\n        \"num_unique_values\": 14,\n        \"samples\": [\n          91,\n          100,\n          28\n        ],\n        \"semantic_type\": \"\",\n        \"description\": \"\"\n      }\n    },\n    {\n      \"column\": \"Strength\",\n      \"properties\": {\n        \"dtype\": \"number\",\n        \"std\": 16.705741961912512,\n        \"min\": 2.33,\n        \"max\": 82.6,\n        \"num_unique_values\": 845,\n        \"samples\": [\n          41.68,\n          39.59,\n          2.33\n        ],\n        \"semantic_type\": \"\",\n        \"description\": \"\"\n      }\n    }\n  ]\n}"
            }
          },
          "metadata": {},
          "execution_count": 35
        }
      ]
    },
    {
      "cell_type": "markdown",
      "source": [
        "* Cement: cement\n",
        "* Blast furnace Slag: Slag Produced in Blast Furnace\n",
        "* Fly Ash: Amount of ash produced\n",
        "* Water: Amount of water required\n",
        "* Superplasticizer: Rigidity of cement adter drying\n",
        "* Coarse Aggregate: The coarse nature of the cement particles\n",
        "* Fine Aggregate: Fineness of the cement\n",
        "* Age: Age or time before it needs repairing\n",
        "* Strength: Strength of concrete per kilo newton"
      ],
      "metadata": {
        "id": "_HYP2p0Ah2j1"
      }
    },
    {
      "cell_type": "markdown",
      "source": [
        "## **inisiasi variabel**"
      ],
      "metadata": {
        "id": "TjZzZF88sal_"
      }
    },
    {
      "cell_type": "code",
      "source": [
        "x = df.drop(['Strength'], axis = 1)\n",
        "y = df['Strength']"
      ],
      "metadata": {
        "id": "4ox76lQuh3Nv"
      },
      "execution_count": null,
      "outputs": []
    },
    {
      "cell_type": "markdown",
      "source": [
        "## **Membuat Model**"
      ],
      "metadata": {
        "id": "_JZhB-NKscGv"
      }
    },
    {
      "cell_type": "code",
      "source": [
        "#summary\n",
        "X = sm.add_constant(x)\n",
        "result = sm.OLS(y, X).fit()\n",
        "print(result.summary())"
      ],
      "metadata": {
        "colab": {
          "base_uri": "https://localhost:8080/"
        },
        "id": "RvYG5vjph4_n",
        "outputId": "e295bf12-691d-4cef-eead-9bea8417b2db"
      },
      "execution_count": null,
      "outputs": [
        {
          "output_type": "stream",
          "name": "stdout",
          "text": [
            "                            OLS Regression Results                            \n",
            "==============================================================================\n",
            "Dep. Variable:               Strength   R-squared:                       0.616\n",
            "Model:                            OLS   Adj. R-squared:                  0.613\n",
            "Method:                 Least Squares   F-statistic:                     204.3\n",
            "Date:                Thu, 02 May 2024   Prob (F-statistic):          6.29e-206\n",
            "Time:                        16:06:38   Log-Likelihood:                -3869.0\n",
            "No. Observations:                1030   AIC:                             7756.\n",
            "Df Residuals:                    1021   BIC:                             7800.\n",
            "Df Model:                           8                                         \n",
            "Covariance Type:            nonrobust                                         \n",
            "======================================================================================\n",
            "                         coef    std err          t      P>|t|      [0.025      0.975]\n",
            "--------------------------------------------------------------------------------------\n",
            "const                -23.3312     26.586     -0.878      0.380     -75.500      28.837\n",
            "Cement                 0.1198      0.008     14.113      0.000       0.103       0.136\n",
            "Blast Furnace Slag     0.1039      0.010     10.247      0.000       0.084       0.124\n",
            "Fly Ash                0.0879      0.013      6.988      0.000       0.063       0.113\n",
            "Water                 -0.1499      0.040     -3.731      0.000      -0.229      -0.071\n",
            "Superplasticizer       0.2922      0.093      3.128      0.002       0.109       0.476\n",
            "Coarse Aggregate       0.0181      0.009      1.926      0.054      -0.000       0.037\n",
            "Fine Aggregate         0.0202      0.011      1.887      0.059      -0.001       0.041\n",
            "Age                    0.1142      0.005     21.046      0.000       0.104       0.125\n",
            "==============================================================================\n",
            "Omnibus:                        5.378   Durbin-Watson:                   1.282\n",
            "Prob(Omnibus):                  0.068   Jarque-Bera (JB):                5.304\n",
            "Skew:                          -0.174   Prob(JB):                       0.0705\n",
            "Kurtosis:                       3.045   Cond. No.                     1.06e+05\n",
            "==============================================================================\n",
            "\n",
            "Notes:\n",
            "[1] Standard Errors assume that the covariance matrix of the errors is correctly specified.\n",
            "[2] The condition number is large, 1.06e+05. This might indicate that there are\n",
            "strong multicollinearity or other numerical problems.\n"
          ]
        }
      ]
    },
    {
      "cell_type": "markdown",
      "source": [
        "## **Persamaan Regresi**\n",
        "\n",
        "$\\hat{Y} = -23.33 + 0.1198 X_1 + 0.1039 X_2 + 0.0879X_3 -0.1499X_4 + 0.2922X_5 + 0.181X_6 + 0.0202 X_7 + 0.1142X_8$\n",
        "\n",
        "- Didapatkan koefisien $X_1$ ,$X_2$, $X_3$, $X_5$, $X_6$, $X_7$, dan $X_8$ pada model regresi adalah positif, artinya terdapat hubungan yang positif pada cement, Blast furnace Slag, Fly Ash, Superplasticizer, Coarse Aggregate, Fine Aggregate, dan Age dengan Strength\n",
        "- Didapatkan juga koefisien $X_4$ pada model regresi adalah negatif, artinya terdapat hubungan negatif antara air dengan Strength\n",
        "- Kesimpulan :\n",
        "  - jika jumlah cement, Blast furnace Slag, Fly Ash, Superplasticizer, Coarse Aggregate, Fine Aggregate, dan Age meningkat -> maka Strength meningkat\n",
        "  - jika jumlah air meningkat -> maka Strength menurun\n",
        "- dari intercept -23.3312 dapat disimpulkan kekuatan beton (Strength) jika tanpa ditambahkan cement, Blast furnace Slag, Fly Ash, Superplasticizer, Water, Coarse Aggregate, Fine Aggregate, dan Age.\n",
        "- peningkatan nilai variabel (X1) Cement sebesar tiap 1 satuan akan meningkatkan kekuatan beton sebesar 0.1198\n",
        "- peningkatan nilai variabel (X2) Blast furnace Slag sebesar tiap 1 satuan akan meningkatkan kekuatan beton sebesar 0.1039\n",
        "- peningkatan nilai variabel (X3) Fly Ash sebesar tiap 1 satuan akan meningkatkan kekuatan beton sebesar 0.0879\n",
        "- peningkatan nilai variabel (X4) Water sebesar tiap 1 satuan akan **menurunkan** kekuatan beton sebesar 0.1499\n",
        "- peningkatan nilai variabel (X5) Superplasticizer sebesar tiap 1 satuan akan meningkatkan kekuatan beton sebesar 0.2922\n",
        "- peningkatan nilai variabel (X6) Coarse Aggregate sebesar tiap 1 satuan akan meningkatkan kekuatan beton sebesar 0.181\n",
        "- peningkatan nilai variabel (X7) Fine Aggregate sebesar tiap 1 satuan akan meningkatkan kekuatan beton sebesar 0.0202\n",
        "- peningkatan nilai variabel (X8) Age sebesar tiap 1 satuan akan meningkatkan kekuatan beton sebesar 0.1142"
      ],
      "metadata": {
        "id": "uw_TFWbBh9Tf"
      }
    },
    {
      "cell_type": "markdown",
      "source": [
        "## **Nilai $R^2$**\n",
        "\n",
        "Berdasarkan model yang digunakan diketahui bahwa nilai $R^2$ yang dihasilkan adalah sebesar 61.6% yang artinya variabel independen pada model dapat menjelaskan variabel dependen dengan cukup baik. Sedangkan sisanya dipengaruhi oleh faktor lain di luar model."
      ],
      "metadata": {
        "id": "y-Vyq4ZFiB4R"
      }
    },
    {
      "cell_type": "markdown",
      "source": [
        "## **Uji Serentak**\n",
        "\n",
        "Uji F digunakan untuk melihat apakah model secara keseluruhan layak atau tidak. Juga sering disebut Goodness of Fit.\n",
        "\n",
        "$H_{0}: \\beta_{1} = \\beta_{2} = 0$\n",
        "\n",
        "$H_{1}$: minimal ada satu $\\beta_{i}  \\neq 0$, $i=1,2,3,4,5,6,7,8$"
      ],
      "metadata": {
        "id": "dFqZKChpiGLU"
      }
    },
    {
      "cell_type": "code",
      "source": [
        "print('F-hitung = ', result.fvalue) #F hitung\n",
        "print('P-value = ', result.f_pvalue) #P-value"
      ],
      "metadata": {
        "colab": {
          "base_uri": "https://localhost:8080/"
        },
        "id": "gGz-TNqSBr9O",
        "outputId": "a6b67d77-f84e-49fb-e172-e88e03a63902"
      },
      "execution_count": null,
      "outputs": [
        {
          "output_type": "stream",
          "name": "stdout",
          "text": [
            "F-hitung =  204.31673165077282\n",
            "P-value =  6.285977820306508e-206\n"
          ]
        }
      ]
    },
    {
      "cell_type": "code",
      "source": [
        "alpha = 0.05\n",
        "\n",
        "#Daerah penolakan dan keputusan\n",
        "if result.f_pvalue > alpha:\n",
        "\tprint('dikarenakan P value > alfa maka Gagal Tolak H0, artinya tidak ada relasi linier antara Y dan X')\n",
        "else:\n",
        "\tprint('dikarenakan P value < alfa maka Tolak H0, artinya ada relasi linier antara Y dan X')"
      ],
      "metadata": {
        "colab": {
          "base_uri": "https://localhost:8080/"
        },
        "id": "op1B9lWdh_Vr",
        "outputId": "9a4141fe-e83c-47f2-fb18-aed637d0076e"
      },
      "execution_count": null,
      "outputs": [
        {
          "output_type": "stream",
          "name": "stdout",
          "text": [
            "dikarenakan P value < alfa maka Tolak H0, artinya ada relasi linier antara Y dan X\n"
          ]
        }
      ]
    },
    {
      "cell_type": "markdown",
      "source": [
        "## **Uji Parsial**"
      ],
      "metadata": {
        "id": "d25ZjaaSiQnq"
      }
    },
    {
      "cell_type": "markdown",
      "source": [
        "Uji t adalah untuk menguji apakah satu variabel bebas mempunyai pengaruh yang signifikan terhadap variabel terikat atau tidak.\n",
        "\n",
        "Untuk $\\beta_{i}$\n",
        "\n",
        "$H_{0}: \\beta_{i} = 0$\n",
        "\n",
        "$H_{1}: \\beta_{i} \\neq 0$ $i=1,2,3,4,5,6,7,8$"
      ],
      "metadata": {
        "id": "j6MyHxeTBzGt"
      }
    },
    {
      "cell_type": "code",
      "source": [
        "result.pvalues #P-value"
      ],
      "metadata": {
        "colab": {
          "base_uri": "https://localhost:8080/"
        },
        "id": "Aq9c0RoniR-k",
        "outputId": "82b7acd6-70da-4212-b809-fba165f976ed"
      },
      "execution_count": null,
      "outputs": [
        {
          "output_type": "execute_result",
          "data": {
            "text/plain": [
              "const                 3.803719e-01\n",
              "Cement                1.897989e-41\n",
              "Blast Furnace Slag    1.598993e-23\n",
              "Fly Ash               5.019648e-12\n",
              "Water                 2.008798e-04\n",
              "Superplasticizer      1.810241e-03\n",
              "Coarse Aggregate      5.442481e-02\n",
              "Fine Aggregate        5.949075e-02\n",
              "Age                   5.782491e-82\n",
              "dtype: float64"
            ]
          },
          "metadata": {},
          "execution_count": 40
        }
      ]
    },
    {
      "cell_type": "code",
      "source": [
        "j = 1\n",
        "for i in result.pvalues[1:]:\n",
        "  if i < alpha:\n",
        "    print(result.pvalues.index[j], 'berpengaruh signifikan terhadap variabel respon (Kekuatan Beton)')\n",
        "  else :\n",
        "    print(result.pvalues.index[j], 'tidak berpengaruh signifikan terhadap variabel respon (Kekuatan Beton)')\n",
        "  j = j+1"
      ],
      "metadata": {
        "colab": {
          "base_uri": "https://localhost:8080/"
        },
        "id": "8KU0TWnsiU5r",
        "outputId": "fd3b8dcb-3380-4033-e11e-790a49624e3a"
      },
      "execution_count": null,
      "outputs": [
        {
          "output_type": "stream",
          "name": "stdout",
          "text": [
            "Cement berpengaruh signifikan terhadap variabel respon (Kekuatan Beton)\n",
            "Blast Furnace Slag berpengaruh signifikan terhadap variabel respon (Kekuatan Beton)\n",
            "Fly Ash berpengaruh signifikan terhadap variabel respon (Kekuatan Beton)\n",
            "Water berpengaruh signifikan terhadap variabel respon (Kekuatan Beton)\n",
            "Superplasticizer berpengaruh signifikan terhadap variabel respon (Kekuatan Beton)\n",
            "Coarse Aggregate tidak berpengaruh signifikan terhadap variabel respon (Kekuatan Beton)\n",
            "Fine Aggregate tidak berpengaruh signifikan terhadap variabel respon (Kekuatan Beton)\n",
            "Age berpengaruh signifikan terhadap variabel respon (Kekuatan Beton)\n"
          ]
        }
      ]
    },
    {
      "cell_type": "markdown",
      "source": [
        "-----------------------------------------"
      ],
      "metadata": {
        "id": "J6MR6lKcip4_"
      }
    },
    {
      "cell_type": "markdown",
      "source": [
        "# NOMOR 3"
      ],
      "metadata": {
        "id": "g8A3IK-7isaM"
      }
    },
    {
      "cell_type": "code",
      "source": [
        "df = pd.read_csv('/content/drive/MyDrive/marketingfix.csv')\n",
        "df.head()"
      ],
      "metadata": {
        "colab": {
          "base_uri": "https://localhost:8080/",
          "height": 206
        },
        "id": "XRO-4LGvirGO",
        "outputId": "c58db5be-efd4-4ed6-9c5c-edb3222a9cc7"
      },
      "execution_count": null,
      "outputs": [
        {
          "output_type": "execute_result",
          "data": {
            "text/plain": [
              "   youtube  facebook  newspaper  sales\n",
              "0   276.12     45.36      83.04  26.52\n",
              "1    53.40     47.16      54.12  12.48\n",
              "2    20.64     55.08      83.16  11.16\n",
              "3   181.80     49.56      70.20  22.20\n",
              "4   216.96     12.96      70.08  15.48"
            ],
            "text/html": [
              "\n",
              "  <div id=\"df-af5f755b-e71c-4c1a-bc1f-c65468a08460\" class=\"colab-df-container\">\n",
              "    <div>\n",
              "<style scoped>\n",
              "    .dataframe tbody tr th:only-of-type {\n",
              "        vertical-align: middle;\n",
              "    }\n",
              "\n",
              "    .dataframe tbody tr th {\n",
              "        vertical-align: top;\n",
              "    }\n",
              "\n",
              "    .dataframe thead th {\n",
              "        text-align: right;\n",
              "    }\n",
              "</style>\n",
              "<table border=\"1\" class=\"dataframe\">\n",
              "  <thead>\n",
              "    <tr style=\"text-align: right;\">\n",
              "      <th></th>\n",
              "      <th>youtube</th>\n",
              "      <th>facebook</th>\n",
              "      <th>newspaper</th>\n",
              "      <th>sales</th>\n",
              "    </tr>\n",
              "  </thead>\n",
              "  <tbody>\n",
              "    <tr>\n",
              "      <th>0</th>\n",
              "      <td>276.12</td>\n",
              "      <td>45.36</td>\n",
              "      <td>83.04</td>\n",
              "      <td>26.52</td>\n",
              "    </tr>\n",
              "    <tr>\n",
              "      <th>1</th>\n",
              "      <td>53.40</td>\n",
              "      <td>47.16</td>\n",
              "      <td>54.12</td>\n",
              "      <td>12.48</td>\n",
              "    </tr>\n",
              "    <tr>\n",
              "      <th>2</th>\n",
              "      <td>20.64</td>\n",
              "      <td>55.08</td>\n",
              "      <td>83.16</td>\n",
              "      <td>11.16</td>\n",
              "    </tr>\n",
              "    <tr>\n",
              "      <th>3</th>\n",
              "      <td>181.80</td>\n",
              "      <td>49.56</td>\n",
              "      <td>70.20</td>\n",
              "      <td>22.20</td>\n",
              "    </tr>\n",
              "    <tr>\n",
              "      <th>4</th>\n",
              "      <td>216.96</td>\n",
              "      <td>12.96</td>\n",
              "      <td>70.08</td>\n",
              "      <td>15.48</td>\n",
              "    </tr>\n",
              "  </tbody>\n",
              "</table>\n",
              "</div>\n",
              "    <div class=\"colab-df-buttons\">\n",
              "\n",
              "  <div class=\"colab-df-container\">\n",
              "    <button class=\"colab-df-convert\" onclick=\"convertToInteractive('df-af5f755b-e71c-4c1a-bc1f-c65468a08460')\"\n",
              "            title=\"Convert this dataframe to an interactive table.\"\n",
              "            style=\"display:none;\">\n",
              "\n",
              "  <svg xmlns=\"http://www.w3.org/2000/svg\" height=\"24px\" viewBox=\"0 -960 960 960\">\n",
              "    <path d=\"M120-120v-720h720v720H120Zm60-500h600v-160H180v160Zm220 220h160v-160H400v160Zm0 220h160v-160H400v160ZM180-400h160v-160H180v160Zm440 0h160v-160H620v160ZM180-180h160v-160H180v160Zm440 0h160v-160H620v160Z\"/>\n",
              "  </svg>\n",
              "    </button>\n",
              "\n",
              "  <style>\n",
              "    .colab-df-container {\n",
              "      display:flex;\n",
              "      gap: 12px;\n",
              "    }\n",
              "\n",
              "    .colab-df-convert {\n",
              "      background-color: #E8F0FE;\n",
              "      border: none;\n",
              "      border-radius: 50%;\n",
              "      cursor: pointer;\n",
              "      display: none;\n",
              "      fill: #1967D2;\n",
              "      height: 32px;\n",
              "      padding: 0 0 0 0;\n",
              "      width: 32px;\n",
              "    }\n",
              "\n",
              "    .colab-df-convert:hover {\n",
              "      background-color: #E2EBFA;\n",
              "      box-shadow: 0px 1px 2px rgba(60, 64, 67, 0.3), 0px 1px 3px 1px rgba(60, 64, 67, 0.15);\n",
              "      fill: #174EA6;\n",
              "    }\n",
              "\n",
              "    .colab-df-buttons div {\n",
              "      margin-bottom: 4px;\n",
              "    }\n",
              "\n",
              "    [theme=dark] .colab-df-convert {\n",
              "      background-color: #3B4455;\n",
              "      fill: #D2E3FC;\n",
              "    }\n",
              "\n",
              "    [theme=dark] .colab-df-convert:hover {\n",
              "      background-color: #434B5C;\n",
              "      box-shadow: 0px 1px 3px 1px rgba(0, 0, 0, 0.15);\n",
              "      filter: drop-shadow(0px 1px 2px rgba(0, 0, 0, 0.3));\n",
              "      fill: #FFFFFF;\n",
              "    }\n",
              "  </style>\n",
              "\n",
              "    <script>\n",
              "      const buttonEl =\n",
              "        document.querySelector('#df-af5f755b-e71c-4c1a-bc1f-c65468a08460 button.colab-df-convert');\n",
              "      buttonEl.style.display =\n",
              "        google.colab.kernel.accessAllowed ? 'block' : 'none';\n",
              "\n",
              "      async function convertToInteractive(key) {\n",
              "        const element = document.querySelector('#df-af5f755b-e71c-4c1a-bc1f-c65468a08460');\n",
              "        const dataTable =\n",
              "          await google.colab.kernel.invokeFunction('convertToInteractive',\n",
              "                                                    [key], {});\n",
              "        if (!dataTable) return;\n",
              "\n",
              "        const docLinkHtml = 'Like what you see? Visit the ' +\n",
              "          '<a target=\"_blank\" href=https://colab.research.google.com/notebooks/data_table.ipynb>data table notebook</a>'\n",
              "          + ' to learn more about interactive tables.';\n",
              "        element.innerHTML = '';\n",
              "        dataTable['output_type'] = 'display_data';\n",
              "        await google.colab.output.renderOutput(dataTable, element);\n",
              "        const docLink = document.createElement('div');\n",
              "        docLink.innerHTML = docLinkHtml;\n",
              "        element.appendChild(docLink);\n",
              "      }\n",
              "    </script>\n",
              "  </div>\n",
              "\n",
              "\n",
              "<div id=\"df-10522a43-4339-485b-88eb-dcc680ec0e52\">\n",
              "  <button class=\"colab-df-quickchart\" onclick=\"quickchart('df-10522a43-4339-485b-88eb-dcc680ec0e52')\"\n",
              "            title=\"Suggest charts\"\n",
              "            style=\"display:none;\">\n",
              "\n",
              "<svg xmlns=\"http://www.w3.org/2000/svg\" height=\"24px\"viewBox=\"0 0 24 24\"\n",
              "     width=\"24px\">\n",
              "    <g>\n",
              "        <path d=\"M19 3H5c-1.1 0-2 .9-2 2v14c0 1.1.9 2 2 2h14c1.1 0 2-.9 2-2V5c0-1.1-.9-2-2-2zM9 17H7v-7h2v7zm4 0h-2V7h2v10zm4 0h-2v-4h2v4z\"/>\n",
              "    </g>\n",
              "</svg>\n",
              "  </button>\n",
              "\n",
              "<style>\n",
              "  .colab-df-quickchart {\n",
              "      --bg-color: #E8F0FE;\n",
              "      --fill-color: #1967D2;\n",
              "      --hover-bg-color: #E2EBFA;\n",
              "      --hover-fill-color: #174EA6;\n",
              "      --disabled-fill-color: #AAA;\n",
              "      --disabled-bg-color: #DDD;\n",
              "  }\n",
              "\n",
              "  [theme=dark] .colab-df-quickchart {\n",
              "      --bg-color: #3B4455;\n",
              "      --fill-color: #D2E3FC;\n",
              "      --hover-bg-color: #434B5C;\n",
              "      --hover-fill-color: #FFFFFF;\n",
              "      --disabled-bg-color: #3B4455;\n",
              "      --disabled-fill-color: #666;\n",
              "  }\n",
              "\n",
              "  .colab-df-quickchart {\n",
              "    background-color: var(--bg-color);\n",
              "    border: none;\n",
              "    border-radius: 50%;\n",
              "    cursor: pointer;\n",
              "    display: none;\n",
              "    fill: var(--fill-color);\n",
              "    height: 32px;\n",
              "    padding: 0;\n",
              "    width: 32px;\n",
              "  }\n",
              "\n",
              "  .colab-df-quickchart:hover {\n",
              "    background-color: var(--hover-bg-color);\n",
              "    box-shadow: 0 1px 2px rgba(60, 64, 67, 0.3), 0 1px 3px 1px rgba(60, 64, 67, 0.15);\n",
              "    fill: var(--button-hover-fill-color);\n",
              "  }\n",
              "\n",
              "  .colab-df-quickchart-complete:disabled,\n",
              "  .colab-df-quickchart-complete:disabled:hover {\n",
              "    background-color: var(--disabled-bg-color);\n",
              "    fill: var(--disabled-fill-color);\n",
              "    box-shadow: none;\n",
              "  }\n",
              "\n",
              "  .colab-df-spinner {\n",
              "    border: 2px solid var(--fill-color);\n",
              "    border-color: transparent;\n",
              "    border-bottom-color: var(--fill-color);\n",
              "    animation:\n",
              "      spin 1s steps(1) infinite;\n",
              "  }\n",
              "\n",
              "  @keyframes spin {\n",
              "    0% {\n",
              "      border-color: transparent;\n",
              "      border-bottom-color: var(--fill-color);\n",
              "      border-left-color: var(--fill-color);\n",
              "    }\n",
              "    20% {\n",
              "      border-color: transparent;\n",
              "      border-left-color: var(--fill-color);\n",
              "      border-top-color: var(--fill-color);\n",
              "    }\n",
              "    30% {\n",
              "      border-color: transparent;\n",
              "      border-left-color: var(--fill-color);\n",
              "      border-top-color: var(--fill-color);\n",
              "      border-right-color: var(--fill-color);\n",
              "    }\n",
              "    40% {\n",
              "      border-color: transparent;\n",
              "      border-right-color: var(--fill-color);\n",
              "      border-top-color: var(--fill-color);\n",
              "    }\n",
              "    60% {\n",
              "      border-color: transparent;\n",
              "      border-right-color: var(--fill-color);\n",
              "    }\n",
              "    80% {\n",
              "      border-color: transparent;\n",
              "      border-right-color: var(--fill-color);\n",
              "      border-bottom-color: var(--fill-color);\n",
              "    }\n",
              "    90% {\n",
              "      border-color: transparent;\n",
              "      border-bottom-color: var(--fill-color);\n",
              "    }\n",
              "  }\n",
              "</style>\n",
              "\n",
              "  <script>\n",
              "    async function quickchart(key) {\n",
              "      const quickchartButtonEl =\n",
              "        document.querySelector('#' + key + ' button');\n",
              "      quickchartButtonEl.disabled = true;  // To prevent multiple clicks.\n",
              "      quickchartButtonEl.classList.add('colab-df-spinner');\n",
              "      try {\n",
              "        const charts = await google.colab.kernel.invokeFunction(\n",
              "            'suggestCharts', [key], {});\n",
              "      } catch (error) {\n",
              "        console.error('Error during call to suggestCharts:', error);\n",
              "      }\n",
              "      quickchartButtonEl.classList.remove('colab-df-spinner');\n",
              "      quickchartButtonEl.classList.add('colab-df-quickchart-complete');\n",
              "    }\n",
              "    (() => {\n",
              "      let quickchartButtonEl =\n",
              "        document.querySelector('#df-10522a43-4339-485b-88eb-dcc680ec0e52 button');\n",
              "      quickchartButtonEl.style.display =\n",
              "        google.colab.kernel.accessAllowed ? 'block' : 'none';\n",
              "    })();\n",
              "  </script>\n",
              "</div>\n",
              "    </div>\n",
              "  </div>\n"
            ],
            "application/vnd.google.colaboratory.intrinsic+json": {
              "type": "dataframe",
              "variable_name": "df",
              "summary": "{\n  \"name\": \"df\",\n  \"rows\": 200,\n  \"fields\": [\n    {\n      \"column\": \"youtube\",\n      \"properties\": {\n        \"dtype\": \"number\",\n        \"std\": 103.02508357788969,\n        \"min\": 0.84,\n        \"max\": 355.68,\n        \"num_unique_values\": 190,\n        \"samples\": [\n          345.12,\n          343.2,\n          93.84\n        ],\n        \"semantic_type\": \"\",\n        \"description\": \"\"\n      }\n    },\n    {\n      \"column\": \"facebook\",\n      \"properties\": {\n        \"dtype\": \"number\",\n        \"std\": 17.81617101140247,\n        \"min\": 0.0,\n        \"max\": 59.52,\n        \"num_unique_values\": 167,\n        \"samples\": [\n          9.84,\n          44.28,\n          53.4\n        ],\n        \"semantic_type\": \"\",\n        \"description\": \"\"\n      }\n    },\n    {\n      \"column\": \"newspaper\",\n      \"properties\": {\n        \"dtype\": \"number\",\n        \"std\": 26.13434500622739,\n        \"min\": 0.36,\n        \"max\": 136.8,\n        \"num_unique_values\": 172,\n        \"samples\": [\n          26.76,\n          6.84,\n          20.4\n        ],\n        \"semantic_type\": \"\",\n        \"description\": \"\"\n      }\n    },\n    {\n      \"column\": \"sales\",\n      \"properties\": {\n        \"dtype\": \"number\",\n        \"std\": 6.260947878852574,\n        \"min\": 1.92,\n        \"max\": 32.4,\n        \"num_unique_values\": 121,\n        \"samples\": [\n          13.68,\n          25.44,\n          15.48\n        ],\n        \"semantic_type\": \"\",\n        \"description\": \"\"\n      }\n    }\n  ]\n}"
            }
          },
          "metadata": {},
          "execution_count": 72
        }
      ]
    },
    {
      "cell_type": "markdown",
      "source": [
        "## **inisiasi variabel**"
      ],
      "metadata": {
        "id": "hW0J8ne2EJFW"
      }
    },
    {
      "cell_type": "code",
      "source": [
        "x = df[['youtube', 'facebook', 'newspaper']]\n",
        "y = df['sales']"
      ],
      "metadata": {
        "id": "CZRK7ZiZspmN"
      },
      "execution_count": null,
      "outputs": []
    },
    {
      "cell_type": "markdown",
      "source": [
        "## **Membuat Model**"
      ],
      "metadata": {
        "id": "GWtpOpK0EOFX"
      }
    },
    {
      "cell_type": "code",
      "source": [
        "#summary\n",
        "X = sm.add_constant(x)\n",
        "result = sm.OLS(y, X).fit()\n",
        "print(result.summary())"
      ],
      "metadata": {
        "colab": {
          "base_uri": "https://localhost:8080/"
        },
        "id": "TxqTJskusjwh",
        "outputId": "a63d2843-4f56-4ac2-8586-d7d5a40ac3af"
      },
      "execution_count": null,
      "outputs": [
        {
          "output_type": "stream",
          "name": "stdout",
          "text": [
            "                            OLS Regression Results                            \n",
            "==============================================================================\n",
            "Dep. Variable:                  sales   R-squared:                       0.897\n",
            "Model:                            OLS   Adj. R-squared:                  0.896\n",
            "Method:                 Least Squares   F-statistic:                     570.3\n",
            "Date:                Thu, 02 May 2024   Prob (F-statistic):           1.58e-96\n",
            "Time:                        16:40:40   Log-Likelihood:                -422.65\n",
            "No. Observations:                 200   AIC:                             853.3\n",
            "Df Residuals:                     196   BIC:                             866.5\n",
            "Df Model:                           3                                         \n",
            "Covariance Type:            nonrobust                                         \n",
            "==============================================================================\n",
            "                 coef    std err          t      P>|t|      [0.025      0.975]\n",
            "------------------------------------------------------------------------------\n",
            "const          3.5267      0.374      9.422      0.000       2.789       4.265\n",
            "youtube        0.0458      0.001     32.809      0.000       0.043       0.049\n",
            "facebook       0.1885      0.009     21.893      0.000       0.172       0.206\n",
            "newspaper     -0.0010      0.006     -0.177      0.860      -0.013       0.011\n",
            "==============================================================================\n",
            "Omnibus:                       60.414   Durbin-Watson:                   2.084\n",
            "Prob(Omnibus):                  0.000   Jarque-Bera (JB):              151.241\n",
            "Skew:                          -1.327   Prob(JB):                     1.44e-33\n",
            "Kurtosis:                       6.332   Cond. No.                         545.\n",
            "==============================================================================\n",
            "\n",
            "Notes:\n",
            "[1] Standard Errors assume that the covariance matrix of the errors is correctly specified.\n"
          ]
        }
      ]
    },
    {
      "cell_type": "markdown",
      "source": [
        "## **Persamaan Regresi**\n",
        "\n",
        "$\\hat{Y} = 3.5267 + 0.0458 X_1 + 0.1885 X_2 - 0. 0010 X_3 $\n",
        "\n",
        "- Didapatkan koefisien $X_1$ dan $X_2$ pada model regresi adalah positif, artinya terdapat hubungan yang positif pada youtube dan facebook terhadap sales.\n",
        "- Didapatkan juga koefisien $X_3$ pada model regresi adalah negatif, artinya terdapat hubungan negatif antara newspaper terhadap sales\n",
        "- Kesimpulan :\n",
        "  - jika jumlah uang yang dikeluarkan di youtube dan facebook meningkat -> maka sales (penjualan) meningkat\n",
        "  - jika jumlah uang yang dikeluarkan di newspaper meningkat -> maka sales (penjualanan) menurun\n",
        "- dari intercept 3.5267 dapat disimpulkan nilai pemasaran jika tidak mengeluarkan uang untuk youtube, facebook, dan newspaper.\n",
        "- peningkatan nilai variabel (X1) Cement sebesar tiap 1 satuan akan meningkatkan sales (Penjualan) sebesar 0.0458\n",
        "- peningkatan nilai variabel (X2) Blast furnace Slag sebesar tiap 1 satuan akan meningkatkan sales (Penjualan) sebesar 0.1885\n",
        "- peningkatan nilai variabel (X3) Fly Ash sebesar tiap 1 satuan akan **menurunkan** sales (Penjualan) sebesar 0.001"
      ],
      "metadata": {
        "id": "DcA_rHpbs9iR"
      }
    },
    {
      "cell_type": "markdown",
      "source": [
        "  ## **Nilai $R^2$**\n",
        "  \n",
        "  Berdasarkan model yang digunakan diketahui bahwa nilai $R^2$ yang dihasilkan adalah sebesar 89,7% yang artinya variabel independen pada model dapat menjelaskan variabel dependen dengan sangat baik. Sedangkan sisanya dipengaruhi oleh faktor lain di luar model."
      ],
      "metadata": {
        "id": "84ecC01wGB70"
      }
    },
    {
      "cell_type": "markdown",
      "source": [
        "## **UJI SERENTAK**\n",
        "\n",
        "Uji F digunakan untuk melihat apakah model secara keseluruhan layak atau tidak. Juga sering disebut Goodness of Fit.\n",
        "\n",
        "$H_{0}: \\beta_{1} = \\beta_{2} = 0$\n",
        "\n",
        "$H_{1}$: minimal ada satu $\\beta_{i}  \\neq 0$, $i=1,2,3$"
      ],
      "metadata": {
        "id": "-1vHN4jJtA93"
      }
    },
    {
      "cell_type": "code",
      "source": [
        "print (\"F hitung =\",result.fvalue)\n",
        "print (\"p-value =\", result.f_pvalue)\n",
        "\n",
        "alpha = 0.05"
      ],
      "metadata": {
        "colab": {
          "base_uri": "https://localhost:8080/"
        },
        "id": "kShw_AKJtDTo",
        "outputId": "b0e22dc9-1a2d-4121-dd56-5cb842250771"
      },
      "execution_count": null,
      "outputs": [
        {
          "output_type": "stream",
          "name": "stdout",
          "text": [
            "F hitung = 570.2707036590941\n",
            "p-value = 1.5752272560924787e-96\n"
          ]
        }
      ]
    },
    {
      "cell_type": "code",
      "source": [
        "#Daerah penolakan dan keputusan\n",
        "if result.f_pvalue > alpha:\n",
        "\tprint('dikarenakan P value > alfa maka gagal tolak H0, artinya tidak ada relasi linier antara Y dan X')\n",
        "else:\n",
        "\tprint('dikarenakan P value < alfa maka Tolak H0 ada relasi linier antara Y dan X')"
      ],
      "metadata": {
        "colab": {
          "base_uri": "https://localhost:8080/"
        },
        "id": "1G55Tw-UGacN",
        "outputId": "08526155-0c13-4f34-e820-15ee08432f99"
      },
      "execution_count": null,
      "outputs": [
        {
          "output_type": "stream",
          "name": "stdout",
          "text": [
            "dikarenakan P value < alfa maka Tolak H0 ada relasi linier antara Y dan X\n"
          ]
        }
      ]
    },
    {
      "cell_type": "markdown",
      "source": [
        "## **UJI PARSIAL**\n",
        "\n",
        "Uji t adalah untuk menguji apakah satu variabel bebas mempunyai pengaruh yang signifikan terhadap variabel terikat atau tidak.\n",
        "\n",
        "Untuk $\\beta_{i}$\n",
        "\n",
        "$H_{0}: \\beta_{i} = 0$\n",
        "\n",
        "$H_{1}: \\beta_{i} \\neq 0$ $i=1,2,3$"
      ],
      "metadata": {
        "id": "E_j6BFXztIhC"
      }
    },
    {
      "cell_type": "code",
      "source": [
        "result.pvalues #P-value"
      ],
      "metadata": {
        "colab": {
          "base_uri": "https://localhost:8080/"
        },
        "id": "C9_ReAaItL1R",
        "outputId": "0f490a02-6495-4856-dacd-d49c3866207d"
      },
      "execution_count": null,
      "outputs": [
        {
          "output_type": "execute_result",
          "data": {
            "text/plain": [
              "const        1.267295e-17\n",
              "youtube      1.509960e-81\n",
              "facebook     1.505339e-54\n",
              "newspaper    8.599151e-01\n",
              "dtype: float64"
            ]
          },
          "metadata": {},
          "execution_count": 78
        }
      ]
    },
    {
      "cell_type": "code",
      "source": [
        "j=1\n",
        "for i in result.pvalues[1:]:\n",
        "  if i < alpha:\n",
        "    print(result.pvalues.index[j], 'berpengaruh signifikan terhadap variabel respon (Pemasaran)')\n",
        "  else :\n",
        "    print(result.pvalues.index[j], 'tidak berpengaruh signifikan terhadap variabel respon (Pemasaran)')\n",
        "  j=j+1"
      ],
      "metadata": {
        "colab": {
          "base_uri": "https://localhost:8080/"
        },
        "id": "K-jnQCcEtOQQ",
        "outputId": "1c8903d4-9332-4914-d5a4-8cf202e035b8"
      },
      "execution_count": null,
      "outputs": [
        {
          "output_type": "stream",
          "name": "stdout",
          "text": [
            "youtube berpengaruh signifikan terhadap variabel respon (Pemasaran)\n",
            "facebook berpengaruh signifikan terhadap variabel respon (Pemasaran)\n",
            "newspaper tidak berpengaruh signifikan terhadap variabel respon (Pemasaran)\n"
          ]
        }
      ]
    },
    {
      "cell_type": "markdown",
      "source": [
        "## **Plot Residual**"
      ],
      "metadata": {
        "id": "-0IEJ0QuLTJA"
      }
    },
    {
      "cell_type": "code",
      "source": [
        "# Residuals model regresi linier berganda\n",
        "residual = result.resid\n",
        "residual"
      ],
      "metadata": {
        "colab": {
          "base_uri": "https://localhost:8080/"
        },
        "id": "w4SspflALWIJ",
        "outputId": "ac343ceb-dce4-4686-fdc6-ab5721b6dd34"
      },
      "execution_count": null,
      "outputs": [
        {
          "output_type": "execute_result",
          "data": {
            "text/plain": [
              "0      1.891231\n",
              "1     -2.325426\n",
              "2     -3.609205\n",
              "3      1.082605\n",
              "4     -0.346406\n",
              "         ...   \n",
              "195    2.675589\n",
              "196    1.841625\n",
              "197    0.016895\n",
              "198    2.079214\n",
              "199   -2.127835\n",
              "Length: 200, dtype: float64"
            ]
          },
          "metadata": {},
          "execution_count": 80
        }
      ]
    },
    {
      "cell_type": "code",
      "source": [
        "#Grafik Residual\n",
        "sns.residplot(x=result.fittedvalues, y=residual)"
      ],
      "metadata": {
        "colab": {
          "base_uri": "https://localhost:8080/",
          "height": 451
        },
        "id": "uKnPbOi2Lqph",
        "outputId": "03445ed6-a3ae-4e6e-f12d-85b61d4b606b"
      },
      "execution_count": null,
      "outputs": [
        {
          "output_type": "execute_result",
          "data": {
            "text/plain": [
              "<Axes: >"
            ]
          },
          "metadata": {},
          "execution_count": 81
        },
        {
          "output_type": "display_data",
          "data": {
            "text/plain": [
              "<Figure size 640x480 with 1 Axes>"
            ],
            "image/png": "[encoded data removed]"
          },
          "metadata": {}
        }
      ]
    },
    {
      "cell_type": "markdown",
      "source": [
        "### **Interpretasi**\n",
        "Karena persebaran titik titik residual mendekati garis 0, sehingga dapat disimpulkan perlakuan model sudah baik dan memiliki error yang kecil"
      ],
      "metadata": {
        "id": "S3VeHYjqLR5Q"
      }
    },
    {
      "cell_type": "markdown",
      "source": [
        "--------------------------------------------------------------------------------"
      ],
      "metadata": {
        "id": "4r6Q_KA9jn3Z"
      }
    },
    {
      "cell_type": "markdown",
      "source": [
        "# NOMOR 4"
      ],
      "metadata": {
        "id": "oHbQl4pzjsya"
      }
    },
    {
      "cell_type": "code",
      "source": [
        "mydata = {'Konsentrasi Nitrat': [1.45,1.93,0.81,0.61,1.55,0.95,0.45,1.14,0.74,0.98,1.41,0.81,0.89,0.68,1.39,1.53,0.91,1.49,1.38,1.73,1.11,1.68,0.66,0.69,1.98],\n",
        "        'Pemuatan Nitrat': [0.58,0.86,0.29,0.20,0.56,0.28,0.08,0.41,0.22,0.35,0.59,0.22,0.26,0.12,0.65,0.7,0.3,0.7,0.39,0.72,0.45,0.81,0.04,0.2,0.95],\n",
        "        'Limpasan Air Tawar': [0.71,0.13,0.79,0.2,0.56,0.92,0.01,0.6,0.7,0.73,0.13,0.96,0.27,0.21,0.88,0.3,0.15,0.09,0.17,0.25,0.3,0.32,0.82,0.98,0.00]\n",
        "        }\n",
        "\n",
        "df = pd.DataFrame(mydata, columns = ['Konsentrasi Nitrat', 'Pemuatan Nitrat', 'Limpasan Air Tawar'])\n",
        "df.head()"
      ],
      "metadata": {
        "colab": {
          "base_uri": "https://localhost:8080/",
          "height": 206
        },
        "id": "oPrTuDn9jqFy",
        "outputId": "16dc24c5-3312-4a47-b284-402866d44bfa"
      },
      "execution_count": null,
      "outputs": [
        {
          "output_type": "execute_result",
          "data": {
            "text/plain": [
              "   Konsentrasi Nitrat  Pemuatan Nitrat  Limpasan Air Tawar\n",
              "0                1.45             0.58                0.71\n",
              "1                1.93             0.86                0.13\n",
              "2                0.81             0.29                0.79\n",
              "3                0.61             0.20                0.20\n",
              "4                1.55             0.56                0.56"
            ],
            "text/html": [
              "\n",
              "  <div id=\"df-22a9dcf7-7b44-481d-8df2-8faacc7c4409\" class=\"colab-df-container\">\n",
              "    <div>\n",
              "<style scoped>\n",
              "    .dataframe tbody tr th:only-of-type {\n",
              "        vertical-align: middle;\n",
              "    }\n",
              "\n",
              "    .dataframe tbody tr th {\n",
              "        vertical-align: top;\n",
              "    }\n",
              "\n",
              "    .dataframe thead th {\n",
              "        text-align: right;\n",
              "    }\n",
              "</style>\n",
              "<table border=\"1\" class=\"dataframe\">\n",
              "  <thead>\n",
              "    <tr style=\"text-align: right;\">\n",
              "      <th></th>\n",
              "      <th>Konsentrasi Nitrat</th>\n",
              "      <th>Pemuatan Nitrat</th>\n",
              "      <th>Limpasan Air Tawar</th>\n",
              "    </tr>\n",
              "  </thead>\n",
              "  <tbody>\n",
              "    <tr>\n",
              "      <th>0</th>\n",
              "      <td>1.45</td>\n",
              "      <td>0.58</td>\n",
              "      <td>0.71</td>\n",
              "    </tr>\n",
              "    <tr>\n",
              "      <th>1</th>\n",
              "      <td>1.93</td>\n",
              "      <td>0.86</td>\n",
              "      <td>0.13</td>\n",
              "    </tr>\n",
              "    <tr>\n",
              "      <th>2</th>\n",
              "      <td>0.81</td>\n",
              "      <td>0.29</td>\n",
              "      <td>0.79</td>\n",
              "    </tr>\n",
              "    <tr>\n",
              "      <th>3</th>\n",
              "      <td>0.61</td>\n",
              "      <td>0.20</td>\n",
              "      <td>0.20</td>\n",
              "    </tr>\n",
              "    <tr>\n",
              "      <th>4</th>\n",
              "      <td>1.55</td>\n",
              "      <td>0.56</td>\n",
              "      <td>0.56</td>\n",
              "    </tr>\n",
              "  </tbody>\n",
              "</table>\n",
              "</div>\n",
              "    <div class=\"colab-df-buttons\">\n",
              "\n",
              "  <div class=\"colab-df-container\">\n",
              "    <button class=\"colab-df-convert\" onclick=\"convertToInteractive('df-22a9dcf7-7b44-481d-8df2-8faacc7c4409')\"\n",
              "            title=\"Convert this dataframe to an interactive table.\"\n",
              "            style=\"display:none;\">\n",
              "\n",
              "  <svg xmlns=\"http://www.w3.org/2000/svg\" height=\"24px\" viewBox=\"0 -960 960 960\">\n",
              "    <path d=\"M120-120v-720h720v720H120Zm60-500h600v-160H180v160Zm220 220h160v-160H400v160Zm0 220h160v-160H400v160ZM180-400h160v-160H180v160Zm440 0h160v-160H620v160ZM180-180h160v-160H180v160Zm440 0h160v-160H620v160Z\"/>\n",
              "  </svg>\n",
              "    </button>\n",
              "\n",
              "  <style>\n",
              "    .colab-df-container {\n",
              "      display:flex;\n",
              "      gap: 12px;\n",
              "    }\n",
              "\n",
              "    .colab-df-convert {\n",
              "      background-color: #E8F0FE;\n",
              "      border: none;\n",
              "      border-radius: 50%;\n",
              "      cursor: pointer;\n",
              "      display: none;\n",
              "      fill: #1967D2;\n",
              "      height: 32px;\n",
              "      padding: 0 0 0 0;\n",
              "      width: 32px;\n",
              "    }\n",
              "\n",
              "    .colab-df-convert:hover {\n",
              "      background-color: #E2EBFA;\n",
              "      box-shadow: 0px 1px 2px rgba(60, 64, 67, 0.3), 0px 1px 3px 1px rgba(60, 64, 67, 0.15);\n",
              "      fill: #174EA6;\n",
              "    }\n",
              "\n",
              "    .colab-df-buttons div {\n",
              "      margin-bottom: 4px;\n",
              "    }\n",
              "\n",
              "    [theme=dark] .colab-df-convert {\n",
              "      background-color: #3B4455;\n",
              "      fill: #D2E3FC;\n",
              "    }\n",
              "\n",
              "    [theme=dark] .colab-df-convert:hover {\n",
              "      background-color: #434B5C;\n",
              "      box-shadow: 0px 1px 3px 1px rgba(0, 0, 0, 0.15);\n",
              "      filter: drop-shadow(0px 1px 2px rgba(0, 0, 0, 0.3));\n",
              "      fill: #FFFFFF;\n",
              "    }\n",
              "  </style>\n",
              "\n",
              "    <script>\n",
              "      const buttonEl =\n",
              "        document.querySelector('#df-22a9dcf7-7b44-481d-8df2-8faacc7c4409 button.colab-df-convert');\n",
              "      buttonEl.style.display =\n",
              "        google.colab.kernel.accessAllowed ? 'block' : 'none';\n",
              "\n",
              "      async function convertToInteractive(key) {\n",
              "        const element = document.querySelector('#df-22a9dcf7-7b44-481d-8df2-8faacc7c4409');\n",
              "        const dataTable =\n",
              "          await google.colab.kernel.invokeFunction('convertToInteractive',\n",
              "                                                    [key], {});\n",
              "        if (!dataTable) return;\n",
              "\n",
              "        const docLinkHtml = 'Like what you see? Visit the ' +\n",
              "          '<a target=\"_blank\" href=https://colab.research.google.com/notebooks/data_table.ipynb>data table notebook</a>'\n",
              "          + ' to learn more about interactive tables.';\n",
              "        element.innerHTML = '';\n",
              "        dataTable['output_type'] = 'display_data';\n",
              "        await google.colab.output.renderOutput(dataTable, element);\n",
              "        const docLink = document.createElement('div');\n",
              "        docLink.innerHTML = docLinkHtml;\n",
              "        element.appendChild(docLink);\n",
              "      }\n",
              "    </script>\n",
              "  </div>\n",
              "\n",
              "\n",
              "<div id=\"df-aca3deee-2c4c-4da4-b488-711e26b62c36\">\n",
              "  <button class=\"colab-df-quickchart\" onclick=\"quickchart('df-aca3deee-2c4c-4da4-b488-711e26b62c36')\"\n",
              "            title=\"Suggest charts\"\n",
              "            style=\"display:none;\">\n",
              "\n",
              "<svg xmlns=\"http://www.w3.org/2000/svg\" height=\"24px\"viewBox=\"0 0 24 24\"\n",
              "     width=\"24px\">\n",
              "    <g>\n",
              "        <path d=\"M19 3H5c-1.1 0-2 .9-2 2v14c0 1.1.9 2 2 2h14c1.1 0 2-.9 2-2V5c0-1.1-.9-2-2-2zM9 17H7v-7h2v7zm4 0h-2V7h2v10zm4 0h-2v-4h2v4z\"/>\n",
              "    </g>\n",
              "</svg>\n",
              "  </button>\n",
              "\n",
              "<style>\n",
              "  .colab-df-quickchart {\n",
              "      --bg-color: #E8F0FE;\n",
              "      --fill-color: #1967D2;\n",
              "      --hover-bg-color: #E2EBFA;\n",
              "      --hover-fill-color: #174EA6;\n",
              "      --disabled-fill-color: #AAA;\n",
              "      --disabled-bg-color: #DDD;\n",
              "  }\n",
              "\n",
              "  [theme=dark] .colab-df-quickchart {\n",
              "      --bg-color: #3B4455;\n",
              "      --fill-color: #D2E3FC;\n",
              "      --hover-bg-color: #434B5C;\n",
              "      --hover-fill-color: #FFFFFF;\n",
              "      --disabled-bg-color: #3B4455;\n",
              "      --disabled-fill-color: #666;\n",
              "  }\n",
              "\n",
              "  .colab-df-quickchart {\n",
              "    background-color: var(--bg-color);\n",
              "    border: none;\n",
              "    border-radius: 50%;\n",
              "    cursor: pointer;\n",
              "    display: none;\n",
              "    fill: var(--fill-color);\n",
              "    height: 32px;\n",
              "    padding: 0;\n",
              "    width: 32px;\n",
              "  }\n",
              "\n",
              "  .colab-df-quickchart:hover {\n",
              "    background-color: var(--hover-bg-color);\n",
              "    box-shadow: 0 1px 2px rgba(60, 64, 67, 0.3), 0 1px 3px 1px rgba(60, 64, 67, 0.15);\n",
              "    fill: var(--button-hover-fill-color);\n",
              "  }\n",
              "\n",
              "  .colab-df-quickchart-complete:disabled,\n",
              "  .colab-df-quickchart-complete:disabled:hover {\n",
              "    background-color: var(--disabled-bg-color);\n",
              "    fill: var(--disabled-fill-color);\n",
              "    box-shadow: none;\n",
              "  }\n",
              "\n",
              "  .colab-df-spinner {\n",
              "    border: 2px solid var(--fill-color);\n",
              "    border-color: transparent;\n",
              "    border-bottom-color: var(--fill-color);\n",
              "    animation:\n",
              "      spin 1s steps(1) infinite;\n",
              "  }\n",
              "\n",
              "  @keyframes spin {\n",
              "    0% {\n",
              "      border-color: transparent;\n",
              "      border-bottom-color: var(--fill-color);\n",
              "      border-left-color: var(--fill-color);\n",
              "    }\n",
              "    20% {\n",
              "      border-color: transparent;\n",
              "      border-left-color: var(--fill-color);\n",
              "      border-top-color: var(--fill-color);\n",
              "    }\n",
              "    30% {\n",
              "      border-color: transparent;\n",
              "      border-left-color: var(--fill-color);\n",
              "      border-top-color: var(--fill-color);\n",
              "      border-right-color: var(--fill-color);\n",
              "    }\n",
              "    40% {\n",
              "      border-color: transparent;\n",
              "      border-right-color: var(--fill-color);\n",
              "      border-top-color: var(--fill-color);\n",
              "    }\n",
              "    60% {\n",
              "      border-color: transparent;\n",
              "      border-right-color: var(--fill-color);\n",
              "    }\n",
              "    80% {\n",
              "      border-color: transparent;\n",
              "      border-right-color: var(--fill-color);\n",
              "      border-bottom-color: var(--fill-color);\n",
              "    }\n",
              "    90% {\n",
              "      border-color: transparent;\n",
              "      border-bottom-color: var(--fill-color);\n",
              "    }\n",
              "  }\n",
              "</style>\n",
              "\n",
              "  <script>\n",
              "    async function quickchart(key) {\n",
              "      const quickchartButtonEl =\n",
              "        document.querySelector('#' + key + ' button');\n",
              "      quickchartButtonEl.disabled = true;  // To prevent multiple clicks.\n",
              "      quickchartButtonEl.classList.add('colab-df-spinner');\n",
              "      try {\n",
              "        const charts = await google.colab.kernel.invokeFunction(\n",
              "            'suggestCharts', [key], {});\n",
              "      } catch (error) {\n",
              "        console.error('Error during call to suggestCharts:', error);\n",
              "      }\n",
              "      quickchartButtonEl.classList.remove('colab-df-spinner');\n",
              "      quickchartButtonEl.classList.add('colab-df-quickchart-complete');\n",
              "    }\n",
              "    (() => {\n",
              "      let quickchartButtonEl =\n",
              "        document.querySelector('#df-aca3deee-2c4c-4da4-b488-711e26b62c36 button');\n",
              "      quickchartButtonEl.style.display =\n",
              "        google.colab.kernel.accessAllowed ? 'block' : 'none';\n",
              "    })();\n",
              "  </script>\n",
              "</div>\n",
              "    </div>\n",
              "  </div>\n"
            ],
            "application/vnd.google.colaboratory.intrinsic+json": {
              "type": "dataframe",
              "variable_name": "df",
              "summary": "{\n  \"name\": \"df\",\n  \"rows\": 25,\n  \"fields\": [\n    {\n      \"column\": \"Konsentrasi Nitrat\",\n      \"properties\": {\n        \"dtype\": \"number\",\n        \"std\": 0.4401893531954932,\n        \"min\": 0.45,\n        \"max\": 1.98,\n        \"num_unique_values\": 24,\n        \"samples\": [\n          0.74,\n          1.49,\n          1.45\n        ],\n        \"semantic_type\": \"\",\n        \"description\": \"\"\n      }\n    },\n    {\n      \"column\": \"Pemuatan Nitrat\",\n      \"properties\": {\n        \"dtype\": \"number\",\n        \"std\": 0.2584492213182311,\n        \"min\": 0.04,\n        \"max\": 0.95,\n        \"num_unique_values\": 22,\n        \"samples\": [\n          0.58,\n          0.65,\n          0.22\n        ],\n        \"semantic_type\": \"\",\n        \"description\": \"\"\n      }\n    },\n    {\n      \"column\": \"Limpasan Air Tawar\",\n      \"properties\": {\n        \"dtype\": \"number\",\n        \"std\": 0.32885559140753556,\n        \"min\": 0.0,\n        \"max\": 0.98,\n        \"num_unique_values\": 23,\n        \"samples\": [\n          0.15,\n          0.73,\n          0.71\n        ],\n        \"semantic_type\": \"\",\n        \"description\": \"\"\n      }\n    }\n  ]\n}"
            }
          },
          "metadata": {},
          "execution_count": 58
        }
      ]
    },
    {
      "cell_type": "markdown",
      "source": [
        "## **Inisiasi Variabel**"
      ],
      "metadata": {
        "id": "ua7c9EESHGSG"
      }
    },
    {
      "cell_type": "code",
      "source": [
        "x = df[['Pemuatan Nitrat', 'Limpasan Air Tawar']]\n",
        "y = df['Konsentrasi Nitrat']"
      ],
      "metadata": {
        "id": "b1AdOKtMuHkZ"
      },
      "execution_count": null,
      "outputs": []
    },
    {
      "cell_type": "markdown",
      "source": [
        "## **Membuat Model**"
      ],
      "metadata": {
        "id": "ZdQ7ZAa0HKKt"
      }
    },
    {
      "cell_type": "code",
      "source": [
        "#summary\n",
        "X = sm.add_constant(x)\n",
        "result = sm.OLS(y, X).fit()\n",
        "print(result.summary())"
      ],
      "metadata": {
        "colab": {
          "base_uri": "https://localhost:8080/"
        },
        "id": "Mqtk4Y-bvGij",
        "outputId": "f1a5f0b8-f1b5-49f1-f1a0-48d22d550be6"
      },
      "execution_count": null,
      "outputs": [
        {
          "output_type": "stream",
          "name": "stdout",
          "text": [
            "                            OLS Regression Results                            \n",
            "==============================================================================\n",
            "Dep. Variable:     Konsentrasi Nitrat   R-squared:                       0.940\n",
            "Model:                            OLS   Adj. R-squared:                  0.934\n",
            "Method:                 Least Squares   F-statistic:                     172.0\n",
            "Date:                Thu, 02 May 2024   Prob (F-statistic):           3.70e-14\n",
            "Time:                        16:34:02   Log-Likelihood:                 20.696\n",
            "No. Observations:                  25   AIC:                            -35.39\n",
            "Df Residuals:                      22   BIC:                            -31.74\n",
            "Df Model:                           2                                         \n",
            "Covariance Type:            nonrobust                                         \n",
            "======================================================================================\n",
            "                         coef    std err          t      P>|t|      [0.025      0.975]\n",
            "--------------------------------------------------------------------------------------\n",
            "const                  0.4335      0.066      6.571      0.000       0.297       0.570\n",
            "Pemuatan Nitrat        1.6530      0.095     17.355      0.000       1.455       1.851\n",
            "Limpasan Air Tawar     0.0039      0.075      0.053      0.958      -0.151       0.159\n",
            "==============================================================================\n",
            "Omnibus:                        6.353   Durbin-Watson:                   2.228\n",
            "Prob(Omnibus):                  0.042   Jarque-Bera (JB):                4.413\n",
            "Skew:                           0.963   Prob(JB):                        0.110\n",
            "Kurtosis:                       3.724   Cond. No.                         6.29\n",
            "==============================================================================\n",
            "\n",
            "Notes:\n",
            "[1] Standard Errors assume that the covariance matrix of the errors is correctly specified.\n"
          ]
        }
      ]
    },
    {
      "cell_type": "markdown",
      "source": [
        "## **Persamaan Regresi**\n",
        "\n",
        "$\\hat{Y} = 0.4335 + 1.6530 X_1 + 0.0039 X_2$\n",
        "\n",
        "- Didapatkan koefisien $X_1$ dan $X_2$ pada model regresi adalah positif, artinya terdapat hubungan yang positif pada Pemuatan Nitrat dan Limpasan Air Tawar terhadap Konsentrasi Nitrat.\n",
        "- Kesimpulan : Jika Pemuatan Nitrat dan Limpasan Air tawar meningkat maka Konsentrasi Nitrat akan ikut meningkat\n",
        "- dari intercept 0.4335 dapat disimpulkan besar konsentrasi Nitrat jika tidak dipengaruhi Pemuatan Nitrat dan Limpasan Air Tawar.\n",
        "- peningkatan nilai variabel (X1) Pemuatan Nitrat sebesar tiap 1 satuan akan **meningkatkan** Konsentrasi Nitrat sebesar 1.6530\n",
        "- peningkatan nilai variabel (X2) Limpasan Air Tawar sebesar tiap 1 satuan akan **meningkatkan** Konsentrasi Nitrat sebesar 0.0039"
      ],
      "metadata": {
        "id": "QaKkyWrtHRgv"
      }
    },
    {
      "cell_type": "markdown",
      "source": [
        " ## **Nilai $R^2$**\n",
        "\n",
        "  Berdasarkan model yang digunakan diketahui bahwa nilai $R^2$ yang dihasilkan adalah sebesar 94% yang artinya variabel independen pada model dapat menjelaskan variabel dependen dengan sangat baik. Sedangkan sisanya dipengaruhi oleh faktor lain di luar model."
      ],
      "metadata": {
        "id": "YHSeznzJIa95"
      }
    },
    {
      "cell_type": "markdown",
      "source": [
        "## **Uji Serentak**\n",
        "\n",
        "Uji F digunakan untuk melihat apakah model secara keseluruhan layak atau tidak. Juga sering disebut Goodness of Fit.\n",
        "\n",
        "$H_{0}: \\beta_{1} = \\beta_{2} = 0$\n",
        "\n",
        "$H_{1}$: minimal ada satu $\\beta_{i}  \\neq 0$, $i=1,2$"
      ],
      "metadata": {
        "id": "gePT7iumImfa"
      }
    },
    {
      "cell_type": "code",
      "source": [
        "print (\"F hitung =\",result.fvalue)\n",
        "print (\"p-value =\", result.f_pvalue)\n",
        "\n",
        "alpha = 0.05"
      ],
      "metadata": {
        "colab": {
          "base_uri": "https://localhost:8080/"
        },
        "id": "86_zwZxaIWvh",
        "outputId": "117f8670-694c-402d-b1a9-3abba920f2b0"
      },
      "execution_count": null,
      "outputs": [
        {
          "output_type": "stream",
          "name": "stdout",
          "text": [
            "F hitung = 172.01128173602032\n",
            "p-value = 3.698818725171456e-14\n"
          ]
        }
      ]
    },
    {
      "cell_type": "code",
      "source": [
        "#Daerah penolakan dan keputusan\n",
        "if result.f_pvalue > alpha:\n",
        "\tprint('dikarenakan P value > alfa maka gagal tolak H0, artinya tidak ada relasi linier antara Y dan X')\n",
        "else:\n",
        "\tprint('dikarenakan P value < alfa maka Tolak H0, artinya ada relasi linier antara Y dan X')"
      ],
      "metadata": {
        "colab": {
          "base_uri": "https://localhost:8080/"
        },
        "id": "SkDQQhR9KLnB",
        "outputId": "91e6ca4d-a68b-4718-f6c7-25768398c2d7"
      },
      "execution_count": null,
      "outputs": [
        {
          "output_type": "stream",
          "name": "stdout",
          "text": [
            "dikarenakan P value < alfa maka Tolak H0, artinya ada relasi linier antara Y dan X\n"
          ]
        }
      ]
    },
    {
      "cell_type": "markdown",
      "source": [
        "## **Uji Parsial**\n",
        "Uji t adalah untuk menguji apakah satu variabel bebas mempunyai pengaruh yang signifikan terhadap variabel terikat atau tidak.\n",
        "\n",
        "Untuk $\\beta_{i}$\n",
        "\n",
        "$H_{0}: \\beta_{i} = 0$\n",
        "\n",
        "$H_{1}: \\beta_{i} \\neq 0$ $i=1,2$"
      ],
      "metadata": {
        "id": "Iw9IdfEBKUCf"
      }
    },
    {
      "cell_type": "code",
      "source": [
        "result.pvalues #P-value"
      ],
      "metadata": {
        "colab": {
          "base_uri": "https://localhost:8080/"
        },
        "id": "qdomvRWBKdmB",
        "outputId": "25c7cf7c-d517-44e1-81d3-fcd1f2a13f6a"
      },
      "execution_count": null,
      "outputs": [
        {
          "output_type": "execute_result",
          "data": {
            "text/plain": [
              "const                 1.313239e-06\n",
              "Pemuatan Nitrat       2.525004e-14\n",
              "Limpasan Air Tawar    9.584457e-01\n",
              "dtype: float64"
            ]
          },
          "metadata": {},
          "execution_count": 64
        }
      ]
    },
    {
      "cell_type": "code",
      "source": [
        "j=1\n",
        "for i in result.pvalues[1:]:\n",
        "  if i < alpha:\n",
        "    print(result.pvalues.index[j], 'berpengaruh signifikan terhadap variabel respon (Konsentrasi Nitrat)')\n",
        "  else :\n",
        "    print(result.pvalues.index[j], 'tidak berpengaruh signifikan terhadap variabel respon (Konsentrasi Nitrat)')\n",
        "  j=j+1"
      ],
      "metadata": {
        "colab": {
          "base_uri": "https://localhost:8080/"
        },
        "id": "zs0LMcLZKcP_",
        "outputId": "d3719cf5-7c72-4f86-f82f-ff646fe5c366"
      },
      "execution_count": null,
      "outputs": [
        {
          "output_type": "stream",
          "name": "stdout",
          "text": [
            "Pemuatan Nitrat berpengaruh signifikan terhadap variabel respon (Konsentrasi Nitrat)\n",
            "Limpasan Air Tawar tidak berpengaruh signifikan terhadap variabel respon (Konsentrasi Nitrat)\n"
          ]
        }
      ]
    },
    {
      "cell_type": "markdown",
      "source": [
        "## **Plot Residual**\n"
      ],
      "metadata": {
        "id": "xq-7nUuEKzku"
      }
    },
    {
      "cell_type": "code",
      "source": [
        "# Residuals model regresi linier berganda\n",
        "residual = result.resid\n",
        "residual"
      ],
      "metadata": {
        "colab": {
          "base_uri": "https://localhost:8080/"
        },
        "id": "LpQDql1YK3GO",
        "outputId": "06f71026-472d-417e-8a03-3dde7c00e2f8"
      },
      "execution_count": null,
      "outputs": [
        {
          "output_type": "execute_result",
          "data": {
            "text/plain": [
              "0     0.054916\n",
              "1     0.074366\n",
              "2    -0.106032\n",
              "3    -0.154935\n",
              "4     0.188567\n",
              "5     0.049985\n",
              "6    -0.115826\n",
              "7     0.026359\n",
              "8    -0.059967\n",
              "9    -0.034975\n",
              "10    0.000674\n",
              "11    0.009007\n",
              "12    0.025609\n",
              "13    0.047265\n",
              "14   -0.121464\n",
              "15   -0.061826\n",
              "16   -0.020037\n",
              "17   -0.100998\n",
              "18    0.301115\n",
              "19    0.105311\n",
              "20   -0.068578\n",
              "21   -0.093734\n",
              "22    0.157098\n",
              "23   -0.078012\n",
              "24   -0.023891\n",
              "dtype: float64"
            ]
          },
          "metadata": {},
          "execution_count": 67
        }
      ]
    },
    {
      "cell_type": "code",
      "source": [
        "#Grafik Residual\n",
        "sns.residplot(x=result.fittedvalues, y=residual)"
      ],
      "metadata": {
        "colab": {
          "base_uri": "https://localhost:8080/",
          "height": 448
        },
        "id": "O4d_vadTK6M1",
        "outputId": "bd8734f2-ed13-468b-b915-6a658e5a2b26"
      },
      "execution_count": null,
      "outputs": [
        {
          "output_type": "execute_result",
          "data": {
            "text/plain": [
              "<Axes: >"
            ]
          },
          "metadata": {},
          "execution_count": 68
        },
        {
          "output_type": "display_data",
          "data": {
            "text/plain": [
              "<Figure size 640x480 with 1 Axes>"
            ],
            "image/png": "[encoded data removed]"
          },
          "metadata": {}
        }
      ]
    },
    {
      "cell_type": "markdown",
      "source": [
        "### **Interpretasi**\n",
        "Karena persebaran titik titik residual mendekati garis 0, sehingga dapat disimpulkan perlakuan model sudah baik dan memiliki error yang kecil"
      ],
      "metadata": {
        "id": "yh6qbEq-K7wn"
      }
    }
  ]
}