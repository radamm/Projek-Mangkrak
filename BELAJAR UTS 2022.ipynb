{
 "cells": [
  {
   "cell_type": "markdown",
   "id": "968092f5",
   "metadata": {},
   "source": [
    "### No. 1"
   ]
  },
  {
   "cell_type": "code",
   "execution_count": 60,
   "id": "e81f225b",
   "metadata": {
    "scrolled": true
   },
   "outputs": [
    {
     "name": "stdout",
     "output_type": "stream",
     "text": [
      "Masukkan Kalimat :Saya Chika. Saya suka belajar pemrograman. Saya mahasiswa Prodi Teknologi Sains Data Universitas Airlangga\n",
      "Urutan Kata-Kata Sesuai Abjad :\n",
      "Airlangga\n",
      "Chika.\n",
      "Data\n",
      "Prodi\n",
      "Sains\n",
      "Saya\n",
      "Saya\n",
      "Saya\n",
      "Teknologi\n",
      "Universitas\n",
      "belajar\n",
      "mahasiswa\n",
      "pemrograman.\n",
      "suka\n"
     ]
    }
   ],
   "source": [
    "kalimat=input(\"Masukkan Kalimat :\")\n",
    "\n",
    "def urutan_kata(kalimat):\n",
    "    kalimat=list(kalimat.split())\n",
    "    urutan=sorted(kalimat)\n",
    "    print(\"Urutan Kata-Kata Sesuai Abjad :\")\n",
    "    for word in urutan:\n",
    "        print(word)\n",
    "        \n",
    "urutan_kata(kalimat)"
   ]
  },
  {
   "cell_type": "markdown",
   "id": "99261649",
   "metadata": {},
   "source": [
    "### No. 2"
   ]
  },
  {
   "cell_type": "code",
   "execution_count": 54,
   "id": "5835385a",
   "metadata": {},
   "outputs": [
    {
     "name": "stdout",
     "output_type": "stream",
     "text": [
      "SELAMAT DATANG DI PROGRAM NGGAMBAR\n",
      "Pilih jenis gambar:\n",
      "\t 1. Segitiga Siku-Siku\n",
      "\t 2. Kotak\n",
      "\t 3. Segitiga Siku-Siku Tapi Kebalik\n",
      "Masukkan Nomor Pilihan Lalu Tekan Enter :2\n",
      "Masukkan Tinggi : 4\n",
      "****\n",
      "****\n",
      "****\n",
      "****\n"
     ]
    }
   ],
   "source": [
    "def segitiga(tinggi):\n",
    "    for n in range(1,tinggi+1):\n",
    "        output=n*\"*\"\n",
    "        print(output)\n",
    "        \n",
    "def segitiga_kebalik(tinggi):\n",
    "    for n in range(tinggi,0,-1):\n",
    "        output=n*\"*\"\n",
    "        print(output)\n",
    "        \n",
    "def kotak(tinggi):\n",
    "    for n in range(tinggi):\n",
    "        output=tinggi*\"*\"\n",
    "        print(output)\n",
    "\n",
    "while True:\n",
    "    print(\"SELAMAT DATANG DI PROGRAM NGGAMBAR\")\n",
    "    print(\"Pilih jenis gambar:\")\n",
    "    print(\"\\t 1. Segitiga Siku-Siku\")\n",
    "    print(\"\\t 2. Kotak\")\n",
    "    print(\"\\t 3. Segitiga Siku-Siku Tapi Kebalik\")\n",
    "    try:\n",
    "        command=input(\"Masukkan Nomor Pilihan Lalu Tekan Enter :\").lower()\n",
    "        tinggi=int(input(\"Masukkan Tinggi : \"))\n",
    "        if command == \"1\" or command == \"segitiga siku-siku\":\n",
    "            segitiga(tinggi)\n",
    "            break\n",
    "        elif command == \"2\" or command == \"kotak\":\n",
    "            kotak(tinggi)\n",
    "            break\n",
    "        elif command == \"3\" or command == \"segitiga siku-siku tapi kebalik\" :\n",
    "            segitiga_kebalik(tinggi)\n",
    "            break\n",
    "        else:\n",
    "            print(\"pilih sesuai pilihan\")\n",
    "            continue\n",
    "    except:\n",
    "        print(\"masukkan sesuai perintah\")\n",
    "            "
   ]
  },
  {
   "cell_type": "markdown",
   "id": "12364afc",
   "metadata": {},
   "source": [
    "### No. 3"
   ]
  },
  {
   "cell_type": "code",
   "execution_count": 61,
   "id": "f2940d95",
   "metadata": {},
   "outputs": [
    {
     "name": "stdout",
     "output_type": "stream",
     "text": [
      "['aly', 'bly']\n",
      "['aer', 'ber']\n",
      "['aing', 'bing']\n"
     ]
    }
   ],
   "source": [
    "def add_ly(words):\n",
    "    result=[]\n",
    "    for word in words:\n",
    "        word=str(word)+\"ly\"\n",
    "        result.append(word)\n",
    "    return result\n",
    "\n",
    "def add_er(words):\n",
    "    result=[]\n",
    "    for word in words:\n",
    "        word=str(word)+\"er\"\n",
    "        result.append(word)\n",
    "    return result\n",
    "\n",
    "\n",
    "def add_ing(words):\n",
    "    result=[]\n",
    "    for word in words:\n",
    "        word=str(word)+\"ing\"\n",
    "        result.append(word)\n",
    "    return result\n",
    "\n",
    "#test\n",
    "\n",
    "txt=[\"a\",\"b\"]\n",
    "\n",
    "print(add_ly(txt))\n",
    "print(add_er(txt))\n",
    "print(add_ing(txt))"
   ]
  },
  {
   "cell_type": "markdown",
   "id": "28eb0166",
   "metadata": {},
   "source": [
    "### No. 4"
   ]
  },
  {
   "cell_type": "code",
   "execution_count": 38,
   "id": "ed6e3edf",
   "metadata": {},
   "outputs": [
    {
     "data": {
      "text/plain": [
       "False"
      ]
     },
     "execution_count": 38,
     "metadata": {},
     "output_type": "execute_result"
    }
   ],
   "source": [
    "def cek_spesial(lst):\n",
    "    cek=0\n",
    "    for ganjil in range(0,len(lst),2):\n",
    "        if lst[ganjil] % 2 == 0:\n",
    "            cek+=1\n",
    "    for genap in range(1,len(lst),2):\n",
    "        if lst[genap] % 2 != 0:\n",
    "            cek+=1\n",
    "\n",
    "    if cek==0:\n",
    "        return True\n",
    "    elif cek!=0:\n",
    "        return False\n",
    "\n",
    "cek_spesial([1,2,3,4,5,6])"
   ]
  },
  {
   "cell_type": "markdown",
   "id": "b45c78c9",
   "metadata": {},
   "source": [
    "### No. 5"
   ]
  },
  {
   "cell_type": "code",
   "execution_count": 65,
   "id": "f6d39bdb",
   "metadata": {},
   "outputs": [
    {
     "name": "stdout",
     "output_type": "stream",
     "text": [
      "Mau Cari siapa?leia\n",
      "Luke, I am Your  sister\n"
     ]
    }
   ],
   "source": [
    "ingatan_luke={\"Darth Vader\":\"father\", \"Leia\":\"sister\",\"Han\":\"brother in law\",\"R2DN\":\"droid\"}\n",
    "def cari(nama):\n",
    "    if nama in ingatan_luke:\n",
    "        hub=ingatan_luke.get(nama)\n",
    "        print(\"Luke, I am Your \", hub)\n",
    "    else:\n",
    "        \n",
    "        print(\"tidak ada hubungan\")\n",
    "        \n",
    "nama=input(\"Mau Cari siapa?\").capitalize()\n",
    "cari(nama)"
   ]
  },
  {
   "cell_type": "markdown",
   "id": "13181648",
   "metadata": {},
   "source": [
    "### No. 6"
   ]
  },
  {
   "cell_type": "code",
   "execution_count": 53,
   "id": "a0af34bd",
   "metadata": {},
   "outputs": [
    {
     "name": "stdout",
     "output_type": "stream",
     "text": [
      "your choice: rock\n",
      "your choice: rock\n",
      "its a draw\n"
     ]
    }
   ],
   "source": [
    "def rps(p1,p2):\n",
    "    p1=p1.lower()\n",
    "    p2=p2.lower()\n",
    "    if p1==\"rock\" and p2==\"papper\":\n",
    "        print(\"The Winner is P2\")\n",
    "    elif p1==\"papper\" and p2==\"rock\":\n",
    "        print(\"The Winner is P1\")   \n",
    "    elif p1==\"scissors\" and p2==\"papper\":\n",
    "        print(\"The Winner is P1\")\n",
    "    elif p1==\"papper\" and p2==\"scissors\":\n",
    "        print(\"The Winner is P2\")  \n",
    "    elif p1==\"scissors\" and p2==\"rock\":\n",
    "        print(\"The Winner is P2\")\n",
    "    elif p1==\"rock\" and p2==\"scissors\":\n",
    "        print(\"The Winner is P1\")\n",
    "    elif p1==p2:\n",
    "        print(\"its a draw\")\n",
    "\n",
    "p1=input(\"your choice: \").lower()\n",
    "p2=input(\"your choice: \").lower()\n",
    "\n",
    "rps(p1,p2)"
   ]
  },
  {
   "cell_type": "markdown",
   "id": "b2c27662",
   "metadata": {},
   "source": [
    "dst.."
   ]
  }
 ],
 "metadata": {
  "kernelspec": {
   "display_name": "Python 3 (ipykernel)",
   "language": "python",
   "name": "python3"
  },
  "language_info": {
   "codemirror_mode": {
    "name": "ipython",
    "version": 3
   },
   "file_extension": ".py",
   "mimetype": "text/x-python",
   "name": "python",
   "nbconvert_exporter": "python",
   "pygments_lexer": "ipython3",
   "version": "3.9.7"
  }
 },
 "nbformat": 4,
 "nbformat_minor": 5
}
