{
 "cells": [
  {
   "cell_type": "code",
   "execution_count": 3,
   "metadata": {},
   "outputs": [
    {
     "name": "stdout",
     "output_type": "stream",
     "text": [
      "[5, 8, 9]\n",
      "['bengkoang', 'melon', 'semangka']\n",
      "buah ['bengkoang', 'melon', 'semangka'] memiliki panjang [5, 8, 9]\n",
      "panjangnya yakni 5\n"
     ]
    }
   ],
   "source": [
    "buah=input().split(\",\")\n",
    "list_panjang = []\n",
    "list_buah = []\n",
    "for i in buah:\n",
    "    list_panjang.append(len(i))\n",
    "    list_buah.append(i)\n",
    "\n",
    "list_panjang.sort()\n",
    "list_buah.sort()\n",
    "print(list_panjang)\n",
    "print(list_buah)\n",
    "dictionary = dict(zip(list_buah,list_panjang))\n",
    "print(f\"buah {list(dictionary.keys())} memiliki panjang {list((dictionary.values()))}\")\n",
    "print(\"panjangnya yakni\",min(list_panjang))"
   ]
  },
  {
   "cell_type": "code",
   "execution_count": 6,
   "metadata": {},
   "outputs": [
    {
     "name": "stdout",
     "output_type": "stream",
     "text": [
      "['apel', 'melon', 'semangka, bebek']\n",
      "[4, 5, 5, 8]\n"
     ]
    }
   ],
   "source": [
    "buah=[]\n",
    "kata=[]\n",
    "panjang=[]\n",
    "\n",
    "n=input()\n",
    "a=len(n)\n",
    "if n!='stop':\n",
    "    buah.append(n)\n",
    "    kata.append(a)\n",
    "    while n!='stop':\n",
    "        n=input()\n",
    "        a=len(n)\n",
    "        if n!='stop':\n",
    "            buah.append(n)\n",
    "            kata.append(a)\n",
    "kata.sort()\n",
    "buah1=buah\n",
    "for i in buah1:\n",
    "     panjang_terkecil=min(buah1, key=len)\n",
    "     panjang.append(panjang_terkecil)\n",
    "     buah1.remove(min(buah1, key=len))\n",
    "buah1=str(buah1).replace('[','').replace(']','').replace(\"'\",'')\n",
    "panjang.append((buah1))\n",
    "\n",
    "print(panjang)\n",
    "print(kata)"
   ]
  },
  {
   "cell_type": "code",
   "execution_count": 14,
   "metadata": {},
   "outputs": [
    {
     "name": "stdout",
     "output_type": "stream",
     "text": [
      "['apel', 'leci', 'melon', 'mangga']\n",
      "[4, 4, 5, 6]\n"
     ]
    }
   ],
   "source": [
    "list=[]\n",
    "buah=[\"apel\",\"mangga\",\"melon\",\"leci\"]\n",
    "print(sorted(buah,key=len))\n",
    "for i in buah:\n",
    "    list.append(len(i))\n",
    "print(sorted(list))"
   ]
  }
 ],
 "metadata": {
  "kernelspec": {
   "display_name": "Python 3",
   "language": "python",
   "name": "python3"
  },
  "language_info": {
   "codemirror_mode": {
    "name": "ipython",
    "version": 3
   },
   "file_extension": ".py",
   "mimetype": "text/x-python",
   "name": "python",
   "nbconvert_exporter": "python",
   "pygments_lexer": "ipython3",
   "version": "3.10.11"
  }
 },
 "nbformat": 4,
 "nbformat_minor": 2
}
