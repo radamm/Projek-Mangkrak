{
 "cells": [
  {
   "cell_type": "markdown",
   "metadata": {},
   "source": [
    "SOAL A2 (RESPONSI PERTAMA)"
   ]
  },
  {
   "cell_type": "code",
   "execution_count": 24,
   "metadata": {},
   "outputs": [
    {
     "name": "stdout",
     "output_type": "stream",
     "text": [
      "nomor 1: [1, 3, 4, 5]\n",
      "nomor 2: [1, 3, 4, 7, 5]\n",
      "nomor 3: [5, 7, 4, 3, 1]\n",
      "{'ganjil': [1, 3, 7, 5], 'genap': [4]}\n"
     ]
    }
   ],
   "source": [
    "# SOAL BU MAR A\n",
    "'''\n",
    "1. Buat program tentang array kosong. input dari array berasal dari user. masukkan 5 input berupa integer pada array.\n",
    "2. sisipkan angka 7 di array pada index 3.\n",
    "3. reverse nilai array.\n",
    "4. Jadikan array yang kamu buat menjadi dictionary dengan ketentuan: ganjil dan genap\n",
    "'''\n",
    "\n",
    "\n",
    "input_user = input(\"masukkan 5 angka (dipisah koma): \").split(\", \")\n",
    "input_user = [int(num) for num in input_user]\n",
    "print(f\"nomor 1: {input_user}\")\n",
    "\n",
    "input_user.insert(3,7)\n",
    "print(f\"nomor 2: {input_user}\")\n",
    "\n",
    "print(f\"nomor 3: {input_user[::-1]}\")\n",
    "\n",
    "\n",
    "dict = {\n",
    "    \"ganjil\": [x for x in input_user if x %2==1],\n",
    "    \"genap\": [y for y in input_user if y%2==0],\n",
    "}\n",
    "print(dict)"
   ]
  },
  {
   "cell_type": "code",
   "execution_count": 29,
   "metadata": {},
   "outputs": [
    {
     "name": "stdout",
     "output_type": "stream",
     "text": [
      "nomor 1: [3, 14, 12, 6]\n",
      "nomor 2: [14, 12, 6]\n",
      "nomor 3: [6, 12, 14, 3] \n",
      "{'prime': [3], 'not prime': [14, 12, 6]}\n"
     ]
    }
   ],
   "source": [
    "# SOAL BU MAR B\n",
    "'''\n",
    "1. Buat program tentang array kosong. Input dari array berasal dari user. Masukkan 5 input angka berupa integer pada array.\n",
    "2. cari nilai pada array yang merupakan bilangan genap dan tampilkan.\n",
    "3. reverse nilai array.\n",
    "4. Jadikan array yang kamu buat menjadi dictionary dengan ketentuan: prima dan bukan prima.\n",
    "'''\n",
    "\n",
    "\n",
    "array_user = input(\"Masukkan 5 angka (dipisah koma): \").split(\",\")\n",
    "array_user = [int(num) for num in array_user]\n",
    "print(f\"nomor 1: {array_user}\")\n",
    "\n",
    "array_genap = [x for x in array_user if x%2==0]\n",
    "print(f\"nomor 2: {array_genap}\")\n",
    "\n",
    "print(f\"nomor 3: {array_user[::-1]} \")\n",
    "\n",
    "prime_or_notPrime = {\n",
    "    \"prime\" : [x for x in array_user if x>1 and all(x%i !=0 for i in range(2,x))],\n",
    "    \"not prime\": [x for x in array_user if x < 2 or any(x % i == 0 for i in range(2, x))],\n",
    "}\n",
    "print(prime_or_notPrime)"
   ]
  },
  {
   "cell_type": "code",
   "execution_count": 30,
   "metadata": {},
   "outputs": [
    {
     "name": "stdout",
     "output_type": "stream",
     "text": [
      "nomor 1: ['a', 'i', 'u', 'z', 'q']\n",
      "nomor 2 (huruf vokal): a,i,u\n",
      "nomor 3 (reverse): ['q', 'z', 'u', 'i', 'a']\n",
      "{'Vokal': 'a,i,u', 'non vokal': 'z,q'}\n"
     ]
    }
   ],
   "source": [
    "# SOAL BU MAR C\n",
    "'''\n",
    "1. Buat program tentang array kosong. input dari array berasal dari user, masukkan 5 input huruf pada array.\n",
    "2. cari nilai pada array yang merupakan bilangan vokal dan tampilkan.\n",
    "3. reverse nilai array.\n",
    "4. jadikan array yang kamu buat menjadi dictionary dengan ketentuan: vokal dan bukan vokal.\n",
    "'''\n",
    "\n",
    "array_user = input(\"Masukkan 5 huruf (dipisah dengan koma): \").split(\",\")\n",
    "print(f\"nomor 1: {array_user}\")\n",
    "\n",
    "vokal = 'aiueo'\n",
    "array_vokal = ','.join([x for x in array_user if x.lower() in vokal])\n",
    "print(f\"nomor 2 (huruf vokal): {array_vokal}\")\n",
    "\n",
    "print(f\"nomor 3 (reverse): {array_user[::-1]}\")\n",
    "\n",
    "array_notVokal = ','.join([x for x in array_user if x.lower() not in vokal])\n",
    "vokal_or_notVokal = {\n",
    "    \"Vokal\": array_vokal,\n",
    "    \"non vokal\": array_notVokal,\n",
    "}\n",
    "print(vokal_or_notVokal)"
   ]
  },
  {
   "cell_type": "code",
   "execution_count": 1,
   "metadata": {},
   "outputs": [
    {
     "name": "stdout",
     "output_type": "stream",
     "text": [
      "a\n",
      "ab\n",
      "abc\n",
      "abcd\n",
      "abcde\n",
      "\n",
      "[2, 3, 5, 7, 11, 13]\n"
     ]
    }
   ],
   "source": [
    "# SOAL KAK RAFIK\n",
    "'''\n",
    "1.String.\n",
    "input: 5\n",
    "output: \n",
    "a\n",
    "ab\n",
    "abc\n",
    "abcd\n",
    "abcde\n",
    "\n",
    "2. numerik.\n",
    "input:5\n",
    "output: [2, 3, 5, 7, 11]\n",
    "'''\n",
    "\n",
    "# string\n",
    "huruf = ['a','b','c','d','e','f','g','h','i','j','k','l','m','n','o','p','q','r','s','t','u','v','w','x','y','z']\n",
    "def abcd(n):\n",
    "    for x in range(0,n):\n",
    "        print( ''.join(huruf[:x+1]))\n",
    "abcd(5)\n",
    "\n",
    "print()\n",
    "\n",
    "\n",
    "#numerik\n",
    "prima = []\n",
    "i = 2\n",
    "input = int(input(\"masukkan banyaknya bilangan prima: \"))\n",
    "\n",
    "while len(prima) < input:\n",
    "    if i == 2:\n",
    "        prima.append(i)\n",
    "    else:\n",
    "        isPrime = True\n",
    "        for j in range(2, i):\n",
    "            if i % j == 0:\n",
    "                isPrime = False\n",
    "                break\n",
    "        if isPrime == True:\n",
    "            prima.append(i)\n",
    "    i += 1\n",
    "\n",
    "print(prima)"
   ]
  },
  {
   "cell_type": "code",
   "execution_count": null,
   "metadata": {},
   "outputs": [],
   "source": [
    "# KAK LOVI"
   ]
  },
  {
   "cell_type": "markdown",
   "metadata": {},
   "source": [
    "SOAL A1 (RESPONSI PERTAMA)"
   ]
  },
  {
   "cell_type": "code",
   "execution_count": 2,
   "metadata": {},
   "outputs": [
    {
     "name": "stdout",
     "output_type": "stream",
     "text": [
      "{'andi': '+6281111111111', 'budi': '+6282222222222', 'caca': '+6283333333333', 'doni': '+6284444444444', 'emil': '+6285555555555'}\n",
      "{'pendek': 2, 'sedang': 12, 'panjang': 4}\n"
     ]
    }
   ],
   "source": [
    "# MAS FARRAS\n",
    "'''\n",
    "1. Mengubah Data dalam Dictionary\n",
    "\n",
    "Buatlah sebuah dictionary sederhana yang berisi cukup 5 pasang elemen (key dan value). Key adalah nama teman kalian, valuenya adalah nomor teleponnya yang memiliki angka awalnya adalah “0” (sisanya nomor random gapapa)\n",
    "Contoh = budi : 089898989, adi : 087878787\n",
    "\n",
    "Selanjutnya, ganti angka “0” menjadi “+62” untuk setiap valuenya tanpa mengubah nama orangnya. Output yang diharapkan adalah dictionary baru dengan value nomor telepon versi internasional (+62)\n",
    "\n",
    "2. Membagi kata dalam kalimat menjadi “pendek”, “sedang” atau “panjang”\n",
    "\n",
    "Misal ada sebuah paragraf : Pengemudi xpander tabrak porsche di showroom pik dua, tengah menjadi sorotan. apalagi kini muncul kabar pengemudi xpander malah galang dana untuk ganti rugi.\n",
    "\n",
    "Setelah itu masing-masing kata dibagi berdasarkan panjang hurufnya\n",
    "Pendek : 1 -3 huruf\n",
    "Sedang : 4 - 7 huruf\n",
    "Panjang : > 7\n",
    "Koma ataupun tanda baca lain masuk kedalam kata tersebut, misal : Serang! (7 huruf)\n",
    "Setelah itu buat dictionary, key : PENDEK, SEDANG, PANJANG. Outputnya adalah jumlah masing masing value. Misal : key PANJANG punya 25 nilai (25 kata yang hurufnya > 7)\n",
    "'''\n",
    "\n",
    "#Soal 1\n",
    "nomor = {\n",
    "    \"andi\": \"081111111111\", \n",
    "    \"budi\": \"082222222222\", \n",
    "    \"caca\": \"083333333333\", \n",
    "    \"doni\": \"084444444444\", \n",
    "    \"emil\": \"085555555555\",\n",
    "    }\n",
    "\n",
    "listKey = nomor.keys()\n",
    "\n",
    "for i in listKey:\n",
    "    nomor[i]= \"+62\" + nomor[i][1:]\n",
    "\n",
    "print(nomor)\n",
    "\n",
    "\n",
    "# SOAL 2\n",
    "paragraf = \"Pengemudi xpander tabrak porsche di showroom pik dua, tengah menjadi sorotan. apalagi kini muncul kabar pengemudi xpander malah galang dana untuk ganti rugi.\"\n",
    "listKata = paragraf.split()\n",
    "\n",
    "pendek = 0\n",
    "sedang = 0\n",
    "panjang = 0\n",
    "\n",
    "for kata in listKata:\n",
    "    if len(kata) in range(1, 4):\n",
    "        pendek += 1\n",
    "    elif len(kata) in range(4, 7):\n",
    "        sedang += 1\n",
    "    elif len(kata) > 7:\n",
    "        panjang += 1\n",
    "\n",
    "dict = {\n",
    "        \"pendek\": pendek, \n",
    "        \"sedang\":sedang, \n",
    "        \"panjang\":panjang,\n",
    "        }\n",
    "\n",
    "print(dict)"
   ]
  },
  {
   "cell_type": "code",
   "execution_count": null,
   "metadata": {},
   "outputs": [],
   "source": [
    "# MAS HANIF\n",
    "'''\n",
    "Menentukan Segitiga Siku-Siku atau Bukan\n",
    "\n",
    "Sebuah segitiga dapat ditentukan sebagai segitiga siku-siku apabila nilai kuadrat sisi miring sama dengan nilai jumlah kuadrat sisi lainnya.\n",
    "\n",
    "Diberikan input berupa list yang berisi angka berupa panjang ketiga sisi segitiga. Buat kode untuk menentukan apakah segitiga berjenis segitiga siku-siku atau tidak! Sesuaikan agar output seperti di bawah!\n",
    "\n",
    "Expected Input: [5, 4, 3]\n",
    "Expected Output: 3, 4, dan 5 merupakan segitiga siku-siku!\n",
    "\n",
    "Expected Input: [4, 2, 3]\n",
    "Expected Output: 2, 3, dan 4 bukan merupakan segitiga siku-siku!\n",
    "'''\n",
    "\n",
    "sisi1 = int(input(\"Sisi1: \"))\n",
    "sisi2 = int(input(\"Sisi2: \"))\n",
    "sisi3 = int(input(\"Sisi3: \"))\n",
    "\n",
    "listSisi = [sisi1, sisi2, sisi3]\n",
    "sorted(listSisi)\n",
    "\n",
    "if listSisi[0]**2 + listSisi[1]**2 == listSisi[2]**2:\n",
    "    print(f\"{sisi1}, {sisi2}, {sisi3} merupakan segitiga siku-siku\")\n",
    "else:\n",
    "    print(f\"{sisi1}, {sisi2}, {sisi3} bukan merupakan segitiga siku-siku\")"
   ]
  },
  {
   "cell_type": "code",
   "execution_count": 15,
   "metadata": {},
   "outputs": [
    {
     "name": "stdout",
     "output_type": "stream",
     "text": [
      "{'Anggur': 5, 'Pisang': 0, 'Stroberi': 1}\n"
     ]
    }
   ],
   "source": [
    "# PAK RUZZA\n",
    "\n",
    "'''\n",
    "Memasukkan buah ke dalam keranjang berjumlah random. Buahnya anggur, pisang, stroberi. Maksimal total buah di keranjang 10. Outputnya menampilkan jumlah masing masing buah. lalu dibuat ke dalam dictionary\n",
    "'''\n",
    "\n",
    "import random\n",
    "\n",
    "# Generate random values for each fruit such that their total doesn't exceed 10\n",
    "anggur = random.randint(0, 10)\n",
    "pisang = random.randint(0, 10 - anggur)  # Ensure total value doesn't exceed 10\n",
    "stroberi = random.randint(0, 10 - anggur - pisang)  # Ensure total value doesn't exceed 10\n",
    "\n",
    "# Create a dictionary to store the fruits and their quantities\n",
    "keranjang = {\"Anggur\": anggur, \"Pisang\": pisang, \"Stroberi\": stroberi}\n",
    "\n",
    "# Print the contents of the basket\n",
    "print(keranjang)\n",
    "\n"
   ]
  },
  {
   "cell_type": "markdown",
   "metadata": {},
   "source": [
    "RESPONSI KEDUA"
   ]
  },
  {
   "cell_type": "markdown",
   "metadata": {},
   "source": [
    "A2"
   ]
  },
  {
   "cell_type": "code",
   "execution_count": null,
   "metadata": {},
   "outputs": [],
   "source": [
    "# BU MAR A\n",
    "'''\n",
    "Soal A\n",
    "\n",
    "1.Buat program untuk mengenerate 10 bilangan random lalu simpan dalam list. Lalu lakukan percarian satu bilangan input user pada bilangan dan jika ketemu berikan output “Ketemu” dan “Tidak Ketemu” jika tidak ada.\n",
    "\n",
    "2.Buat program looping untuk mengeluarkan output bilangan prima dari 1 sampai 100.\n",
    "\n",
    "3.Buat program untuk lagu anak ayam dengan ketentuan:\n",
    "Input: total ayam\n",
    "Proses: Ke=ka ayam ma= satu maka kurangi total ayam dan Ke=ka ayam =nggal 1 maka =nggal induk ayam Output: Lagu anak ayam turunnya (total ayam sesuai input), ma= 1 =nggallah (total ayam - 1).\n",
    "\n",
    "4.Buat program untuk kasir sebuah toko yang menjual beberapa barang. Barang disimpan 3 hal yaitu nama barang, jumlah barang dan harga. Berikan diskon 10% jika membeli lebih dari Rp.100.000\n",
    "'''\n",
    "\n",
    "# Nomor 1\n",
    "import random\n",
    "\n",
    "# Generate 10 random numbers and store them in a list\n",
    "bilangan = [random.randint(1, 100) for _ in range(10)]\n",
    "print(\"Bilangan random:\", bilangan)\n",
    "\n",
    "# Input bilangan yang akan dicari\n",
    "bilangan_cari = int(input(\"Masukkan bilangan yang ingin dicari: \"))\n",
    "\n",
    "# Cari bilangan dalam list\n",
    "if bilangan_cari in bilangan:\n",
    "    print(\"Ketemu\")\n",
    "else:\n",
    "    print(\"Tidak Ketemu\")\n",
    "\n",
    "\n",
    "# nomor 2\n",
    "# Function to check if a number is prime\n",
    "def is_prime(n):\n",
    "    if n <= 1:\n",
    "        return False\n",
    "    for i in range(2, int(n**0.5) + 1):\n",
    "        if n % i == 0:\n",
    "            return False\n",
    "    return True\n",
    "\n",
    "# Print prime numbers from 1 to 100\n",
    "print(\"Bilangan prima dari 1 sampai 100:\")\n",
    "for num in range(2, 101):\n",
    "    if is_prime(num):\n",
    "        print(num, end=\" \")\n",
    "\n",
    "\n",
    "# nomor 3\n",
    "total_ayam = int(input(\"Masukkan total ayam: \"))\n",
    "\n",
    "print(\"Lagu anak ayam:\")\n",
    "while total_ayam > 0:\n",
    "    print(f\"Anak ayam turun {total_ayam}, mati satu tinggalah {total_ayam - 1}\")\n",
    "    total_ayam -= 1\n",
    "\n",
    "\n",
    "# nomor 4\n",
    "# Input data barang\n",
    "nama_barang = input(\"Masukkan nama barang: \")\n",
    "jumlah_barang = int(input(\"Masukkan jumlah barang: \"))\n",
    "harga_barang = float(input(\"Masukkan harga barang: \"))\n",
    "\n",
    "# Hitung total harga\n",
    "total_harga = jumlah_barang * harga_barang\n",
    "\n",
    "# Berikan diskon 10% jika total harga lebih dari Rp.100.000\n",
    "if total_harga > 100000:\n",
    "    diskon = 0.1 * total_harga\n",
    "    total_harga -= diskon\n",
    "\n",
    "print(f\"Total harga untuk {nama_barang}: Rp. {total_harga}\")\n"
   ]
  },
  {
   "cell_type": "code",
   "execution_count": null,
   "metadata": {},
   "outputs": [],
   "source": [
    "# BU MAR B\n",
    "'''\n",
    "1. Buat program untuk mengenerate 10 bilangan random lalu simpan dalam list. lalu lakukan pencarian satu bilangan input user pada bilangan dan jika ketemu berikan output \"ketemu' dan 'tidak ketemu' jika tidak ada.\n",
    "2. buat program looping untuk mengeluarkan output bilangan ganjil dari 1 sampai 100.\n",
    "3. buat program untuk lago balonku dengan ketentuan:\n",
    "input: total balon, warna balon yang meletus.\n",
    "proses: ketika balon meletus kurangi angka balon.\n",
    "output: lago balonku (total dan balon meletus sesuai input)\n",
    "4. buat program untuk kasir sebuah toko yang menjual beberapa barang. barang disimpan 3 hal yaitu nama barang, jumlah barang dan harga. berikan diskon 5% jika membeli lebih dari 50.000/\n",
    "'''"
   ]
  },
  {
   "cell_type": "code",
   "execution_count": null,
   "metadata": {},
   "outputs": [],
   "source": [
    "# BU MAR C \n",
    "'''\n",
    "1. buat program untuk mengenerate 10 bilangan random lalu simpan dalam list. lalu lakukan percarian satu bilangan input user pada bilangan dan jika ketemu berikan ouput 'ketemu'\n",
    "\n",
    "'''"
   ]
  },
  {
   "cell_type": "code",
   "execution_count": 2,
   "metadata": {},
   "outputs": [
    {
     "name": "stdout",
     "output_type": "stream",
     "text": [
      "0.3333333333333333\n"
     ]
    }
   ],
   "source": [
    "#Kak Rafik\n",
    "'''\n",
    "Soal 1\n",
    "input pertama: 1\n",
    "input kedua: 3\n",
    "output: 0.33333333 (recurring decimal)\n",
    "\n",
    "Soal 2\n",
    "Buat kode untuk output piramida/segitiga bintang *\n",
    "contoh: \n",
    "input = 3\n",
    "output = \n",
    "  *      *   \n",
    " * *    * *  \n",
    "* * *  * * * \n",
    "\n",
    "soal 3\n",
    "Buatlah kode untuk mencari huruf yang sama dan berbeda:\n",
    "contoh:\n",
    "input1 = sharp\n",
    "input2 = soap\n",
    "huruf yg sama = asp\n",
    "huruf unik input1 = hr\n",
    "huruf unik input 2 = o\n",
    "'''\n",
    "# Soal 1\n",
    "angka1 = int(input(\"angka pertama: \"))\n",
    "angka2 = int(input(\"angka kedua: \"))\n",
    "print(angka1/angka2)\n"
   ]
  },
  {
   "cell_type": "code",
   "execution_count": 10,
   "metadata": {},
   "outputs": [
    {
     "name": "stdout",
     "output_type": "stream",
     "text": [
      "    *          *     \n",
      "   * *        * *    \n",
      "  * * *      * * *   \n",
      " * * * *    * * * *  \n",
      "* * * * *  * * * * * \n"
     ]
    }
   ],
   "source": [
    "#Soal 2\n",
    "tinggi = int(input())\n",
    "\n",
    "for i in range(1,tinggi+1):\n",
    "    bintang = \"* \" * i\n",
    "    tengah = bintang.center(tinggi*2)\n",
    "    print(f\"{tengah} {tengah}\")\n"
   ]
  },
  {
   "cell_type": "code",
   "execution_count": 12,
   "metadata": {},
   "outputs": [
    {
     "name": "stdout",
     "output_type": "stream",
     "text": [
      "huruf yang sama: van\n",
      "huruf unik di input pertama: e\n",
      "huruf unik di input kedua: ss\n"
     ]
    }
   ],
   "source": [
    "# Soal 3\n",
    "#input kata\n",
    "kata1 = input(\"Masukkan kata pertama: \")\n",
    "kata2 = input(\"Masukkan kata kedua: \")\n",
    "\n",
    "#cek kesamaan huruf\n",
    "hurufSama = []\n",
    "unikKata1 = []\n",
    "unikKata2 = []\n",
    "\n",
    "for i in kata1:\n",
    "    if i in kata2: #mencari kesamaan huruf\n",
    "        hurufSama.append(i)\n",
    "    else: #mencari huruf unik kata1\n",
    "        unikKata1.append(i)\n",
    "\n",
    "for i in kata2: #mencari huruf unik kata2\n",
    "    if i not in hurufSama:\n",
    "        unikKata2.append(i)\n",
    "\n",
    "#mengeluarkan hasil dari program\n",
    "hurufSama = \"\".join(hurufSama)\n",
    "unikKata1 = \"\".join(unikKata1)\n",
    "unikKata2 = \"\".join(unikKata2)\n",
    "\n",
    "print(f\"huruf yang sama: {hurufSama}\")\n",
    "print(f\"huruf unik di input pertama: {unikKata1}\")\n",
    "print(f\"huruf unik di input kedua: {unikKata2}\")"
   ]
  },
  {
   "cell_type": "code",
   "execution_count": 20,
   "metadata": {},
   "outputs": [
    {
     "name": "stdout",
     "output_type": "stream",
     "text": [
      "18\n",
      "Faktor: [1, 2, 3, 6, 9, 18]\n"
     ]
    }
   ],
   "source": [
    "# KAK LOVI\n",
    "'''\n",
    "Soal 2\n",
    "THR TIME!\n",
    "\n",
    "INDICATOR: LAMA BEKERJA DAN JUMLAH TANGGUNGAN\n",
    "A. BEKERJA < 3 TAHUN:\n",
    "    THR: 1.000.000 + (jumlah tangungan *100.000)\n",
    "B. bekerja 3-6 tahun:\n",
    "    THR: 1.500.000 + (jumlah tangungan *100.000)\n",
    "C. Bekerja >6 tahun:\n",
    "    THR: 2.000.000 + (jumlah tangungan *100.000)\n",
    "\n",
    "THEN THR dibagi 100.000 dan dicari faktornya\n",
    "\n",
    "\n",
    "Soal 3\n",
    "Main ular tangga. Diminta input bilangan acak dadu(1-6) minimal 5 kali. Hasilnya adalah penjumlahan seluruh angka sebagai langkah. Namun jika angka merupakan kelipatan 2 maka dia adalah ular. Sehingga langkah dikurangi. Kemudian cari faktor dari bilangan akhirnya(hasil akhir).\n",
    "\n",
    "Proses = 1 - 2 + 3 + 5  - 4 = 3\n",
    "\n",
    "Output : “Kamu harus maju 3 langkah”\n",
    "\n",
    "jika hasil negatif maka “mundur”, lalu dipositifkan dulu\n",
    "\n",
    "Faktor dari 4 : [1,2,4]\n",
    "'''\n",
    "\n",
    "# Soal 1\n",
    "\n",
    "tanggal = input(\"Masukkan tanggal lahir (DD-MM-YYYY): \").split(\"-\")\n",
    "\n",
    "if int(tanggal[1]) - 4 <= 0:\n",
    "  if int(tanggal[0]) - 3 <= 0:\n",
    "    umur = 2024 - int(tanggal[2])\n",
    "  else:\n",
    "    umur = 2024 - int(tanggal[2]) - 1\n",
    "else:\n",
    "  umur = 2024 - int(tanggal[2]) - 1\n",
    "\n",
    "print(umur)\n",
    "\n",
    "faktor = []\n",
    "for i in range(1, umur+1):\n",
    "  if umur % i == 0:\n",
    "    faktor.append(i)\n",
    "\n",
    "print(f\"Faktor: {faktor}\")"
   ]
  },
  {
   "cell_type": "code",
   "execution_count": null,
   "metadata": {},
   "outputs": [],
   "source": [
    "# Soal 2\n",
    "lama_kerja = int(input(\"lama kerja: \").split()[0])\n",
    "tanggungan = int(input(\"tanggungan: \").split()[0])\n",
    "\n",
    "\n",
    "if lama_kerja < 3:\n",
    "    thr = 1000000 + (tanggungan*100000)\n",
    "    print(f\"THR yang Anda terima: {thr}\")\n",
    "elif lama_kerja >= 3 and lama_kerja <= 6:\n",
    "    thr = 1500000 + (tanggungan*100000)\n",
    "    print(f\"THR yang Anda terima: {thr}\")\n",
    "else:\n",
    "    thr = 2000000 + (tanggungan*100000)\n",
    "    print(f\"THR yang Anda terima: {thr}\")\n",
    "\n",
    "factor_bagi = int(thr/100000)\n",
    "\n",
    "factor = [x for x in range(1,factor_bagi+1) if factor_bagi % x == 0]\n",
    "print(f'Faktor dari {factor_bagi} adalah {factor}')\n"
   ]
  },
  {
   "cell_type": "code",
   "execution_count": 21,
   "metadata": {},
   "outputs": [
    {
     "name": "stdout",
     "output_type": "stream",
     "text": [
      "Kamu harus maju 4 langkah\n",
      "Faktor dari 4: [1, 2, 4]\n"
     ]
    }
   ],
   "source": [
    "# Soal 3\n",
    "\n",
    "import random\n",
    "\n",
    "def cari_faktor(bilangan):\n",
    "    faktor = [i for i in range(1, bilangan + 1) if bilangan % i == 0]\n",
    "    return faktor\n",
    "\n",
    "# Minta input jumlah dadu\n",
    "jumlah_dadu = int(input(\"Masukkan jumlah dadu yang akan dilempar (minimal 5 kali): \"))\n",
    "\n",
    "# Lempar dadu dan hitung langkah\n",
    "langkah = 0\n",
    "for _ in range(jumlah_dadu):\n",
    "    dadu = random.randint(1, 6)\n",
    "    if dadu % 2 == 0:\n",
    "        langkah -= dadu\n",
    "    else:\n",
    "        langkah += dadu\n",
    "\n",
    "# Jika hasil negatif, mundur\n",
    "if langkah < 0:\n",
    "    langkah *= -1\n",
    "    arah = \"mundur\"\n",
    "else:\n",
    "    arah = \"maju\"\n",
    "\n",
    "print(f\"Kamu harus {arah} {langkah} langkah\")\n",
    "\n",
    "# Cari faktor dari bilangan akhirnya\n",
    "faktor = cari_faktor(langkah)\n",
    "print(f\"Faktor dari {langkah}: {faktor}\")\n"
   ]
  }
 ],
 "metadata": {
  "kernelspec": {
   "display_name": "Python 3",
   "language": "python",
   "name": "python3"
  },
  "language_info": {
   "codemirror_mode": {
    "name": "ipython",
    "version": 3
   },
   "file_extension": ".py",
   "mimetype": "text/x-python",
   "name": "python",
   "nbconvert_exporter": "python",
   "pygments_lexer": "ipython3",
   "version": "3.11.5"
  }
 },
 "nbformat": 4,
 "nbformat_minor": 2
}
