{
  "cells": [
    {
      "cell_type": "markdown",
      "metadata": {
        "id": "pPLMgZCLyZlp"
      },
      "source": [
        "<div class=\"alert alert-block alert-info\">\n",
        "<b>Reponsi 1</b>\n",
        "</div>"
      ]
    },
    {
      "cell_type": "markdown",
      "metadata": {
        "id": "pdAb7Yy4yZlr"
      },
      "source": [
        "#### Bu Maryamah"
      ]
    },
    {
      "cell_type": "code",
      "execution_count": null,
      "metadata": {
        "id": "Axl1dh6TyZls",
        "outputId": "646e72cf-8533-469f-fc48-59428b47d4c4"
      },
      "outputs": [
        {
          "name": "stdout",
          "output_type": "stream",
          "text": [
            "[1, 2, 3, 4, 5]\n",
            "[1, 2, 3, 7, 4, 5]\n",
            "[5, 4, 7, 3, 2, 1]\n",
            "{'ganjil': '4, 2', 'genap': '5, 7, 3, 1'}\n"
          ]
        }
      ],
      "source": [
        "#Soal A\n",
        "\n",
        "#Deklarasi list\n",
        "listAngka = []\n",
        "for i in range(5):\n",
        "    angka = int(input())\n",
        "    listAngka.append(angka)\n",
        "print(listAngka)\n",
        "\n",
        "#memasukkan angka 7 ke index 3\n",
        "listAngka.insert(3, 7)\n",
        "print(listAngka)\n",
        "\n",
        "#membalik list\n",
        "listAngka.reverse() #listAngka[::-1], reversed(listAngka)\n",
        "print(listAngka)\n",
        "\n",
        "#membuat dictionary\n",
        "ganjil = \"\"\n",
        "genap = \"\"\n",
        "for i in listAngka:\n",
        "    if i % 2 == 0:\n",
        "        ganjil += str(i) + \", \"\n",
        "    else:\n",
        "        genap += str(i) + \", \"\n",
        "dict = {\"ganjil\":ganjil[:-2],\"genap\":genap[:-2]}\n",
        "print(dict)"
      ]
    },
    {
      "cell_type": "code",
      "source": [
        "#Soal B\n",
        "\n",
        "#Deklarasi list\n",
        "listAngka = []\n",
        "for i in range(5):\n",
        "    angka = int(input())\n",
        "    listAngka.append(angka)\n",
        "print(listAngka)\n",
        "\n",
        "#Genap\n",
        "genap = []\n",
        "for i in listAngka:\n",
        "  if i % 2 == 0:\n",
        "    genap.append(i)\n",
        "print(genap)\n",
        "\n",
        "#reverse\n",
        "listAngka = listAngka[::-1]\n",
        "print(listAngka)\n",
        "\n",
        "#prima\n",
        "prima = []\n",
        "komposit = []\n",
        "for i in listAngka:\n",
        "  if i <= 1:\n",
        "    komposit.append(i)\n",
        "    continue\n",
        "  elif i == 2:\n",
        "    prima.append(i)\n",
        "    continue\n",
        "  for j in range(2, i):\n",
        "    if i % j == 0:\n",
        "      komposit.append(i)\n",
        "      break\n",
        "    prima.append(i)\n",
        "    break\n",
        "\n",
        "print(prima)\n",
        "print(komposit)"
      ],
      "metadata": {
        "colab": {
          "base_uri": "https://localhost:8080/"
        },
        "id": "LL5FcQ6Hbeld",
        "outputId": "26dcbbc4-9209-4f23-874d-3015aafbdebb"
      },
      "execution_count": null,
      "outputs": [
        {
          "output_type": "stream",
          "name": "stdout",
          "text": [
            "214\n",
            "32\n",
            "17\n",
            "37\n",
            "124\n",
            "[214, 32, 17, 37, 124]\n",
            "[214, 32, 124]\n",
            "[124, 37, 17, 32, 214]\n",
            "[37, 17]\n",
            "[124, 32, 214]\n"
          ]
        }
      ]
    },
    {
      "cell_type": "code",
      "execution_count": null,
      "metadata": {
        "colab": {
          "base_uri": "https://localhost:8080/"
        },
        "id": "w_jY7l-1yZlu",
        "outputId": "ceb951e3-8ce5-4bc4-9426-ae219c9d902f"
      },
      "outputs": [
        {
          "output_type": "stream",
          "name": "stdout",
          "text": [
            "a\n",
            "g\n",
            "r\n",
            "t\n",
            "o\n",
            "Huruf = ['a' 'g' 'r' 't' 'o']\n",
            "Huruf vokal: a, o\n",
            "Huruf (setelah direverse): ['o' 't' 'r' 'g' 'a']\n",
            "{'vokal': 'a, o', 'konsonan': 'g, r, t'}\n"
          ]
        }
      ],
      "source": [
        "#soal C\n",
        "\n",
        "#import dan deklarasi array\n",
        "import numpy as np\n",
        "array = np.char.array([])\n",
        "\n",
        "for i in range(5):\n",
        "    huruf = input().lower()\n",
        "    array = np.append(array, huruf)\n",
        "\n",
        "print(f\"Huruf = {array}\")\n",
        "\n",
        "#mencari huruf vokal\n",
        "vokal = []\n",
        "konsonan = []\n",
        "\n",
        "for i in array:\n",
        "    if i in [\"a\",\"i\",\"u\",\"e\",\"o\"]:\n",
        "        vokal.append(i)\n",
        "    else:\n",
        "        konsonan.append(i)\n",
        "\n",
        "vokal = \", \".join(vokal)\n",
        "konsonan = \", \".join(konsonan)\n",
        "\n",
        "print(f\"Huruf vokal: {vokal}\")\n",
        "\n",
        "#reverse array\n",
        "array = np.flip(array) #array[::-1]\n",
        "\n",
        "print(f\"Huruf (setelah direverse): {array}\")\n",
        "\n",
        "#dictionary\n",
        "dictionary = {\"vokal\":vokal,\"konsonan\":konsonan}\n",
        "\n",
        "print(dictionary)"
      ]
    },
    {
      "cell_type": "markdown",
      "metadata": {
        "id": "YL5Wn3cEyZlv"
      },
      "source": [
        "#### Pak Ruzza"
      ]
    },
    {
      "cell_type": "code",
      "execution_count": null,
      "metadata": {
        "id": "rZ2HYK0hyZlw",
        "colab": {
          "base_uri": "https://localhost:8080/"
        },
        "outputId": "ed4b1560-b140-4f10-9547-eb5c38c6e4df"
      },
      "outputs": [
        {
          "output_type": "stream",
          "name": "stdout",
          "text": [
            "{'Anggur': 1, 'Pisang': 0, 'Stroberi': 0}\n"
          ]
        }
      ],
      "source": [
        "import random\n",
        "\n",
        "anggur = random.randint(0, 10)\n",
        "pisang = random.randint(0, 10)\n",
        "stroberi = random.randint(0, 10)\n",
        "\n",
        "keranjang = {\"Anggur\":anggur, \"Pisang\":pisang, \"Stroberi\":stroberi}\n",
        "\n",
        "print(keranjang)"
      ]
    },
    {
      "cell_type": "markdown",
      "metadata": {
        "id": "e6c-goWzyZlw"
      },
      "source": [
        "#### Kak Rafik"
      ]
    },
    {
      "cell_type": "code",
      "execution_count": null,
      "metadata": {
        "id": "nEJcsOVXyZlw",
        "outputId": "6ed98de4-de62-4aa7-9062-4ab0f0b24078"
      },
      "outputs": [
        {
          "name": "stdout",
          "output_type": "stream",
          "text": [
            "abcdefghijklmnopqrstuvwxyz\n"
          ]
        }
      ],
      "source": [
        "#string\n",
        "\n",
        "huruf = \"abcdefghijklmnopqrstuvwxyz\"\n",
        "\n",
        "panjang = int(input())\n",
        "print(huruf[:panjang])"
      ]
    },
    {
      "cell_type": "code",
      "execution_count": null,
      "metadata": {
        "id": "DGjk2T0JyZlx",
        "outputId": "ec9ddcd8-ef52-434b-c655-f9f2548cc469",
        "colab": {
          "base_uri": "https://localhost:8080/"
        }
      },
      "outputs": [
        {
          "output_type": "stream",
          "name": "stdout",
          "text": [
            "[2, 3, 5, 7, 11]\n"
          ]
        }
      ],
      "source": [
        "#numerik\n",
        "prima = []\n",
        "i = 2\n",
        "\n",
        "while len(prima) < 5:\n",
        "    if i == 2:\n",
        "        prima.append(i)\n",
        "    else:\n",
        "        isPrime = True\n",
        "        for j in range(2, i):\n",
        "            if i % j == 0:\n",
        "                isPrime = False\n",
        "                break\n",
        "        if isPrime == True:\n",
        "            prima.append(i)\n",
        "    i += 1\n",
        "\n",
        "print(prima)"
      ]
    },
    {
      "cell_type": "markdown",
      "metadata": {
        "id": "Q_tyNRyRyZly"
      },
      "source": [
        "#### Kak Lovi"
      ]
    },
    {
      "cell_type": "code",
      "execution_count": null,
      "metadata": {
        "id": "zC20fHH8yZly"
      },
      "outputs": [],
      "source": [
        "#Numerik\n"
      ]
    },
    {
      "cell_type": "markdown",
      "metadata": {
        "id": "fM8bzleryZlz"
      },
      "source": [
        "#### Mas Farras"
      ]
    },
    {
      "cell_type": "code",
      "execution_count": null,
      "metadata": {
        "id": "7MPgND_VyZlz",
        "outputId": "985b8321-9bfa-4d53-ae51-64187a982500"
      },
      "outputs": [
        {
          "name": "stdout",
          "output_type": "stream",
          "text": [
            "{'andi': '+6281111111111', 'budi': '+6282222222222', 'caca': '+6283333333333', 'doni': '+6284444444444', 'emil': '+6285555555555'}\n"
          ]
        }
      ],
      "source": [
        "#Soal 1\n",
        "nomor = {\"andi\": \"081111111111\", \"budi\": \"082222222222\", \"caca\": \"083333333333\", \"doni\": \"084444444444\", \"emil\": \"085555555555\"}\n",
        "\n",
        "listKey = nomor.keys()\n",
        "\n",
        "for i in listKey:\n",
        "    nomor[i] = \"+62\" + nomor[i][1:]\n",
        "\n",
        "print(nomor)"
      ]
    },
    {
      "cell_type": "code",
      "execution_count": null,
      "metadata": {
        "id": "55bvhWC5yZlz",
        "outputId": "5c1846ca-6e23-42a1-e55d-8b3daf861b79"
      },
      "outputs": [
        {
          "name": "stdout",
          "output_type": "stream",
          "text": [
            "{'pendek': 2, 'sedang': 12, 'panjang': 4}\n"
          ]
        }
      ],
      "source": [
        "#Soal 2\n",
        "paragraf = \"Pengemudi xpander tabrak porsche di showroom pik dua, tengah menjadi sorotan. apalagi kini muncul kabar pengemudi xpander malah galang dana untuk ganti rugi.\"\n",
        "listKata = paragraf.split()\n",
        "\n",
        "pendek = 0\n",
        "sedang = 0\n",
        "panjang = 0\n",
        "\n",
        "for kata in listKata:\n",
        "    if len(kata) in range(1, 4):\n",
        "        pendek += 1\n",
        "    elif len(kata) in range(4, 7):\n",
        "        sedang += 1\n",
        "    elif len(kata) > 7:\n",
        "        panjang += 1\n",
        "\n",
        "dict = {\"pendek\": pendek, \"sedang\":sedang, \"panjang\":panjang}\n",
        "\n",
        "print(dict)"
      ]
    },
    {
      "cell_type": "markdown",
      "metadata": {
        "id": "k75xODsCyZl0"
      },
      "source": [
        "#### Mas Hanif"
      ]
    },
    {
      "cell_type": "code",
      "execution_count": null,
      "metadata": {
        "id": "_-nzBmWbyZl0",
        "outputId": "63c152a1-9d06-4336-e106-ea737c523cb7"
      },
      "outputs": [
        {
          "name": "stdout",
          "output_type": "stream",
          "text": [
            "5, 12, 13 merupakan segitiga siku-siku\n"
          ]
        }
      ],
      "source": [
        "sisi1 = int(input(\"Sisi1: \"))\n",
        "sisi2 = int(input(\"Sisi2: \"))\n",
        "sisi3 = int(input(\"Sisi3: \"))\n",
        "\n",
        "listSisi = [sisi1, sisi2, sisi3]\n",
        "sorted(listSisi)\n",
        "\n",
        "if listSisi[0]**2 + listSisi[1]**2 == listSisi[2]**2:\n",
        "    print(f\"{sisi1}, {sisi2}, {sisi3} merupakan segitiga siku-siku\")\n",
        "else:\n",
        "    print(f\"{sisi1}, {sisi2}, {sisi3} bukan segitiga siku-siku\")"
      ]
    },
    {
      "cell_type": "markdown",
      "metadata": {
        "id": "st36vvsGyZl1"
      },
      "source": [
        "<div class=\"alert alert-block alert-info\">\n",
        "<b>Reponsi 2</b>\n",
        "</div>"
      ]
    },
    {
      "cell_type": "markdown",
      "metadata": {
        "id": "G2wu9OWwyZl1"
      },
      "source": [
        "#### Bu Maryamah"
      ]
    },
    {
      "cell_type": "code",
      "execution_count": null,
      "metadata": {
        "id": "5ZcLgv3EyZl1"
      },
      "outputs": [],
      "source": []
    },
    {
      "cell_type": "markdown",
      "metadata": {
        "id": "20ZKLDOByZl1"
      },
      "source": [
        "#### Kak Rafik"
      ]
    },
    {
      "cell_type": "code",
      "execution_count": null,
      "metadata": {
        "id": "2Ofu0ZeOyZl1",
        "outputId": "1329d37d-4f5b-465e-f79f-92bb93a16f89"
      },
      "outputs": [
        {
          "name": "stdout",
          "output_type": "stream",
          "text": [
            "0.06481481481481481\n"
          ]
        }
      ],
      "source": [
        "#Soal 1\n"
      ]
    },
    {
      "cell_type": "code",
      "execution_count": null,
      "metadata": {
        "id": "HhbDytuqyZl2",
        "outputId": "2894d491-2991-4d01-e757-dd1af3b1ee90"
      },
      "outputs": [
        {
          "name": "stdout",
          "output_type": "stream",
          "text": [
            "                                         \n",
            "         *                    *          \n",
            "        * *                  * *         \n",
            "       * * *                * * *        \n",
            "      * * * *              * * * *       \n",
            "     * * * * *            * * * * *      \n",
            "    * * * * * *          * * * * * *     \n",
            "   * * * * * * *        * * * * * * *    \n",
            "  * * * * * * * *      * * * * * * * *   \n",
            " * * * * * * * * *    * * * * * * * * *  \n",
            "* * * * * * * * * *  * * * * * * * * * * \n"
          ]
        }
      ],
      "source": [
        "#Soal 2\n",
        "tinggi = int(input())\n",
        "\n",
        "for i in range(tinggi+1):\n",
        "    bintang = \"* \" * i\n",
        "    tengah = bintang.center(tinggi*2)\n",
        "    print(f\"{tengah} {tengah}\")\n"
      ]
    },
    {
      "cell_type": "code",
      "execution_count": null,
      "metadata": {
        "colab": {
          "base_uri": "https://localhost:8080/"
        },
        "id": "HJpr46smyZl2",
        "outputId": "ceb50d90-6c47-428b-e047-b5762ec554fa"
      },
      "outputs": [
        {
          "output_type": "stream",
          "name": "stdout",
          "text": [
            "Masukkan kata pertama: soap\n",
            "Masukkan kata kedua: sharp\n",
            "huruf yang sama: sap\n",
            "huruf unik di input pertama: o\n",
            "huruf unik di input kedua: hr\n"
          ]
        }
      ],
      "source": [
        "#Soal 3\n",
        "\n",
        "#input kata\n",
        "kata1 = input(\"Masukkan kata pertama: \")\n",
        "kata2 = input(\"Masukkan kata kedua: \")\n",
        "\n",
        "#cek kesamaan huruf\n",
        "hurufSama = []\n",
        "unikKata1 = []\n",
        "unikKata2 = []\n",
        "\n",
        "for i in kata1:\n",
        "    if i in kata2: #mencari kesamaan huruf\n",
        "        hurufSama.append(i)\n",
        "    else: #mencari huruf unik kata1\n",
        "        unikKata1.append(i)\n",
        "\n",
        "for i in kata2: #mencari huruf unik kata2\n",
        "    if i not in hurufSama:\n",
        "        unikKata2.append(i)\n",
        "\n",
        "#mengeluarkan hasil dari program\n",
        "hurufSama = \"\".join(hurufSama)\n",
        "unikKata1 = \"\".join(unikKata1)\n",
        "unikKata2 = \"\".join(unikKata2)\n",
        "\n",
        "print(f\"huruf yang sama: {hurufSama}\")\n",
        "print(f\"huruf unik di input pertama: {unikKata1}\")\n",
        "print(f\"huruf unik di input kedua: {unikKata2}\")"
      ]
    },
    {
      "cell_type": "markdown",
      "source": [
        "#### Kak Lovi"
      ],
      "metadata": {
        "id": "Eqh04p781GKI"
      }
    },
    {
      "cell_type": "code",
      "source": [
        "#Soal 1\n",
        "#dimisalkan tanggal hari ini 03-04-2024\n",
        "\n",
        "tanggal = input(\"Masukkan tanggal lahir (DD-MM-YYYY): \").split(\"-\")\n",
        "\n",
        "if int(tanggal[1]) - 4 <= 0:\n",
        "  if int(tanggal[0]) - 3 <= 0:\n",
        "    umur = 2024 - int(tanggal[2])\n",
        "  else:\n",
        "    umur = 2024 - int(tanggal[2]) - 1\n",
        "else:\n",
        "  umur = 2024 - int(tanggal[2]) - 1\n",
        "\n",
        "print(umur)\n",
        "\n",
        "faktor = []\n",
        "for i in range(1, umur+1):\n",
        "  if umur % i == 0:\n",
        "    faktor.append(i)\n",
        "\n",
        "print(f\"Faktor: {faktor}\")"
      ],
      "metadata": {
        "colab": {
          "base_uri": "https://localhost:8080/"
        },
        "id": "78EXbSYP1JNw",
        "outputId": "69fab76d-1cb8-4aad-e31e-a8b7620334fe"
      },
      "execution_count": null,
      "outputs": [
        {
          "output_type": "stream",
          "name": "stdout",
          "text": [
            "Masukkan tanggal lahir (DD-MM-YYYY): 26-05-2005\n",
            "18\n",
            "Faktor: [1, 2, 3, 6, 9, 18]\n"
          ]
        }
      ]
    },
    {
      "cell_type": "code",
      "source": [
        "#Soal 2\n",
        "\n",
        "lamaKerja = int(input(\"Lama kerja: \"))\n",
        "tanggungan = int(input(\"Jumlah tanggungan: \"))\n",
        "\n",
        "if lamaKerja < 3:\n",
        "  THR = 10\n",
        "elif lamaKerja in range(3, 6):\n",
        "  THR = 15\n",
        "elif lamaKerja > 6:\n",
        "  THR = 20\n",
        "\n",
        "THR += tanggungan * 1\n",
        "print(f\"THR yang diterima: {THR*1000000}\")\n",
        "\n",
        "faktor = []\n",
        "for i in range(1, int(THR)+1):\n",
        "  if THR % i == 0:\n",
        "    faktor.append(i)\n",
        "\n",
        "print(f\"Faktor: {faktor}\")"
      ],
      "metadata": {
        "colab": {
          "base_uri": "https://localhost:8080/"
        },
        "id": "ITVzB29hYEFq",
        "outputId": "7b7d4fc0-2bd1-4ca3-b19d-74d9f3822d02"
      },
      "execution_count": null,
      "outputs": [
        {
          "output_type": "stream",
          "name": "stdout",
          "text": [
            "Lama kerja: 5\n",
            "Jumlah tanggungan: 10\n",
            "THR yang diterima: 25000000\n",
            "Faktor: [1, 5, 25]\n"
          ]
        }
      ]
    },
    {
      "cell_type": "code",
      "source": [
        "#Soal 3\n",
        "import random\n",
        "daduGanjil = []\n",
        "daduGenap = []\n",
        "\n",
        "banyakDadu = int(input(\"Masukkan banyak dadu: \"))\n",
        "\n",
        "for i in range(banyakDadu):\n",
        "  dadu = random.randint(1,6)\n",
        "  if dadu % 2 == 0:\n",
        "    daduGenap.append(dadu)\n",
        "  else:\n",
        "    daduGanjil.append(dadu)\n",
        "\n",
        "langkah = sum(daduGanjil) - sum(daduGenap)\n",
        "\n",
        "if langkah >= 0:\n",
        "  print(f\"Silahkan maju {langkah} langkah\")\n",
        "else:\n",
        "  langkah *= -1\n",
        "  print(f\"Silahkan mundur {langkah} langkah\")\n",
        "\n",
        "faktor = []\n",
        "for i in range(1, int(langkah)+1):\n",
        "  if langkah % i == 0:\n",
        "    faktor.append(i)\n",
        "\n",
        "print(f\"Faktor: {faktor}\")"
      ],
      "metadata": {
        "colab": {
          "base_uri": "https://localhost:8080/"
        },
        "id": "mBJfn2dnZ5-R",
        "outputId": "39a382c3-9a6f-4791-f37f-27911f0ae11f"
      },
      "execution_count": null,
      "outputs": [
        {
          "output_type": "stream",
          "name": "stdout",
          "text": [
            "Masukkan banyak dadu: 6\n",
            "Silahkan mundur 3 langkah\n",
            "Faktor: [1, 3]\n"
          ]
        }
      ]
    }
  ],
  "metadata": {
    "kernelspec": {
      "display_name": "base",
      "language": "python",
      "name": "python3"
    },
    "language_info": {
      "codemirror_mode": {
        "name": "ipython",
        "version": 3
      },
      "file_extension": ".py",
      "mimetype": "text/x-python",
      "name": "python",
      "nbconvert_exporter": "python",
      "pygments_lexer": "ipython3",
      "version": "3.11.5"
    },
    "colab": {
      "provenance": []
    }
  },
  "nbformat": 4,
  "nbformat_minor": 0
}