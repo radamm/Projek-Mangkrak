{
  "cells": [
    {
      "cell_type": "markdown",
      "metadata": {
        "id": "_EgiVqU9mXSP"
      },
      "source": [
        "### Kumpulan semua code"
      ]
    },
    {
      "cell_type": "markdown",
      "source": [
        "# NUMERIK"
      ],
      "metadata": {
        "id": "gyiBQVIl9BjF"
      }
    },
    {
      "cell_type": "markdown",
      "source": [
        "# STRING"
      ],
      "metadata": {
        "id": "rrARBpC29I4j"
      }
    },
    {
      "cell_type": "code",
      "source": [
        "age = int(input())\n",
        "txt = \"umur saya sekarang {} tahun\"\n",
        "print(txt.format(age))"
      ],
      "metadata": {
        "id": "x5BDHie8DIqG"
      },
      "execution_count": null,
      "outputs": []
    },
    {
      "cell_type": "code",
      "source": [
        "#slicing\n",
        "kal = \"saya sedang belajar  bahasa pemrograman python\"\n",
        "print(kal[6:11])\n",
        "print(kal[:5])\n",
        "print(kal[5:])\n",
        "print(kal[-4:-1])\n",
        "print(kal[5:11:1])\n",
        "print(kal[::-1])\n",
        "print(kal[1:])"
      ],
      "metadata": {
        "id": "oxXxYzPTDe98"
      },
      "execution_count": null,
      "outputs": []
    },
    {
      "cell_type": "code",
      "source": [
        "s = input(\"masukkan kata:\")\n",
        "print(s[::-1])"
      ],
      "metadata": {
        "id": "HFQ1wIlyDmgY"
      },
      "execution_count": null,
      "outputs": []
    },
    {
      "cell_type": "code",
      "source": [
        "strin = input()\n",
        "for i in range(len(strin)):\n",
        "    print(strin[i] + strin[i-1])"
      ],
      "metadata": {
        "id": "GuZRyNQODsrI"
      },
      "execution_count": null,
      "outputs": []
    },
    {
      "cell_type": "code",
      "source": [
        "paragraf = \"\"\"\n",
        "Nama saya adalah Rita Sugiarto. Saya memiliki hobi menyanyi sejak kecil. Semua\n",
        "berawal dari mimpi ibu saya untuk memiliki putri seorang penyanyi. Saya berlatih\n",
        "vokal seminggu sekali dengan guru saya. Apabila saya menjadi juara satu dalam\n",
        "perlombaan menyanyi tingkat profinsi, ibu saya akan membelikan saya kado yang\n",
        "sangat istimewa. \"\"\"\n",
        "print(paragraf.find(\"Mereka\"))\n",
        "print(paragraf.lower().count(\"saya\"))"
      ],
      "metadata": {
        "id": "GeQf5cEkD3l8"
      },
      "execution_count": null,
      "outputs": []
    },
    {
      "cell_type": "code",
      "source": [
        "ab = \"Hello World\"\n",
        "print(ab.count(\"o\"))"
      ],
      "metadata": {
        "id": "GIDBcIafD_cI"
      },
      "execution_count": null,
      "outputs": []
    },
    {
      "cell_type": "code",
      "source": [
        "bc= [\"aku\", \"sedang\", \"belajar\"]\n",
        "print(*bc)"
      ],
      "metadata": {
        "id": "b-2CQl8NEFKF"
      },
      "execution_count": null,
      "outputs": []
    },
    {
      "cell_type": "markdown",
      "source": [
        "### Min, Max"
      ],
      "metadata": {
        "id": "H1IKRZB89dIm"
      }
    },
    {
      "cell_type": "code",
      "execution_count": null,
      "metadata": {
        "id": "dbVfg2YEmXSR",
        "outputId": "fb28cb40-afd9-4c55-d31b-cd666abc6bdd"
      },
      "outputs": [
        {
          "name": "stdout",
          "output_type": "stream",
          "text": [
            "5\n",
            "100\n",
            "2 54\n",
            "2 54\n"
          ]
        }
      ],
      "source": [
        "# penggunaan method min max\n",
        "\n",
        "#min\n",
        "a = min(5, 12)\n",
        "print(a)\n",
        "\n",
        "#max\n",
        "b = max(100, 14)\n",
        "print(b)\n",
        "\n",
        "#min max dari suatu tuple, list\n",
        "c = (2, 34, 54, 2, 7, 9) #tuple\n",
        "print(min(c), max(c))\n",
        "d = [2, 34, 54, 2, 7, 9] #list\n",
        "print(min(d), max(d))\n"
      ]
    },
    {
      "cell_type": "markdown",
      "source": [
        "# RESPONSI"
      ],
      "metadata": {
        "id": "ZL39vZuz9Mr1"
      }
    },
    {
      "cell_type": "code",
      "source": [
        "# SOAL BU MAR A\n",
        "'''\n",
        "1. Buat program tentang array kosong. input dari array berasal dari user. masukkan 5 input berupa integer pada array.\n",
        "2. sisipkan angka 7 di array pada index 3.\n",
        "3. reverse nilai array.\n",
        "4. Jadikan array yang kamu buat menjadi dictionary dengan ketentuan: ganjil dan genap\n",
        "'''\n",
        "listAngka = []\n",
        "for i in range(5):\n",
        "    p = int(input(\"masukkan angka:\"))\n",
        "    listAngka.append(p)\n",
        "print(f\"nomor1: {listAngka}\")\n",
        "listAngka.insert(3,7)\n",
        "print(f\"nomor2: {listAngka}\")\n",
        "listAngka.reverse()\n",
        "print(f\"nomor3: {listAngka}\")\n",
        "dict_angka = {\n",
        "    \"ganjil\": [],\n",
        "    \"genap\": [],\n",
        "}\n",
        "for x in listAngka:\n",
        "    if x%2==0:\n",
        "        dict_angka[\"genap\"].append(x)\n",
        "    elif x%2==1:\n",
        "        dict_angka[\"ganjil\"].append(x)\n",
        "\n",
        "print(f\"nomor4: {dict_angka}\")"
      ],
      "metadata": {
        "id": "5DcJDi6mFe9f",
        "colab": {
          "base_uri": "https://localhost:8080/"
        },
        "outputId": "46b27253-ed8b-4a93-cdab-fd3c7364c50b"
      },
      "execution_count": null,
      "outputs": [
        {
          "output_type": "stream",
          "name": "stdout",
          "text": [
            "masukkan angka:1\n",
            "masukkan angka:2\n",
            "masukkan angka:3\n",
            "masukkan angka:4\n",
            "masukkan angka:5\n",
            "nomor1: [1, 2, 3, 4, 5]\n",
            "nomor2: [1, 2, 3, 7, 4, 5]\n",
            "nomor3: [5, 4, 7, 3, 2, 1]\n",
            "nomor4: {'ganjil': [5, 7, 3, 1], 'genap': [4, 2]}\n"
          ]
        }
      ]
    },
    {
      "cell_type": "code",
      "source": [
        "#soal bum mar A evan\n",
        "'''\n",
        "1. Buat program tentang array kosong. input dari array berasal dari user. masukkan 5 input berupa integer pada array.\n",
        "2. sisipkan angka 7 di array pada index 3.\n",
        "3. reverse nilai array.\n",
        "4. Jadikan array yang kamu buat menjadi dictionary dengan ketentuan: ganjil dan genap\n",
        "'''\n",
        "\n",
        "\n",
        "input_user = input(\"masukkan 5 angka (dipisah koma): \").split(\", \")\n",
        "input_user = [int(num) for num in input_user]\n",
        "print(f\"nomor 1: {input_user}\")\n",
        "\n",
        "input_user.insert(3,7)\n",
        "print(f\"nomor 2: {input_user}\")\n",
        "\n",
        "print(f\"nomor 3: {input_user[::-1]}\")\n",
        "\n",
        "\n",
        "dict = {\n",
        "    \"ganjil\": [x for x in input_user if x %2==1],\n",
        "    \"genap\": [y for y in input_user if y%2==0],\n",
        "}\n",
        "print(dict)"
      ],
      "metadata": {
        "id": "GGzFh9fiCVm7"
      },
      "execution_count": null,
      "outputs": []
    },
    {
      "cell_type": "code",
      "source": [
        "# SOAL BU MAR B\n",
        "'''\n",
        "1. Buat program tentang array kosong. Input dari array berasal dari user. Masukkan 5 input angka berupa integer pada array.\n",
        "2. cari nilai pada array yang merupakan bilangan genap dan tampilkan.\n",
        "3. reverse nilai array.\n",
        "4. Jadikan array yang kamu buat menjadi dictionary dengan ketentuan: prima dan bukan prima.\n",
        "'''\n",
        "def cekprima(x):\n",
        "    cek = True\n",
        "    for i in range(2, x):\n",
        "        if x%i==0:\n",
        "            cek = False\n",
        "            break\n",
        "    return cek\n",
        "\n",
        "listAngka2 = []\n",
        "listgenap = []\n",
        "for i in range(5):\n",
        "    q = int(input(\"masukkan angka:\"))\n",
        "    listAngka2.append(q)\n",
        "print(f\"nomor1: {listAngka2}\")\n",
        "for y in listAngka2:\n",
        "    if y %2==0:\n",
        "        listgenap.append(y)\n",
        "print(f\"nomor2: {listgenap}\")\n",
        "listAngka2.reverse()\n",
        "print(f\"nomor3: {listAngka2}\")\n",
        "primaa= []\n",
        "bukanprima = []\n",
        "dict_primabukan= {\n",
        "    \"prima\": [primaa],\n",
        "    \"bukan prima\": [bukanprima]\n",
        "}\n",
        "for z in listAngka2:\n",
        "    if cekprima(z)== True:\n",
        "        primaa.append(z)\n",
        "    else:\n",
        "        bukanprima.append(z)\n",
        "\n",
        "print(f\"nomor4: {dict_primabukan}\")"
      ],
      "metadata": {
        "id": "bVMExxyZF4cA"
      },
      "execution_count": null,
      "outputs": []
    },
    {
      "cell_type": "code",
      "source": [
        "#soal bu mar B evan\n",
        "'''\n",
        "1. Buat program tentang array kosong. Input dari array berasal dari user. Masukkan 5 input angka berupa integer pada array.\n",
        "2. cari nilai pada array yang merupakan bilangan genap dan tampilkan.\n",
        "3. reverse nilai array.\n",
        "4. Jadikan array yang kamu buat menjadi dictionary dengan ketentuan: prima dan bukan prima.\n",
        "'''\n",
        "\n",
        "\n",
        "array_user = input(\"Masukkan 5 angka (dipisah koma): \").split(\",\")\n",
        "array_user = [int(num) for num in array_user]\n",
        "print(f\"nomor 1: {array_user}\")\n",
        "\n",
        "array_genap = [x for x in array_user if x%2==0]\n",
        "print(f\"nomor 2: {array_genap}\")\n",
        "\n",
        "print(f\"nomor 3: {array_user[::-1]} \")\n",
        "\n",
        "prime_or_notPrime = {\n",
        "    \"prime\" : [x for x in array_user if x>1 and all(x%i !=0 for i in range(2,x))],\n",
        "    \"not prime\": [x for x in array_user if x < 2 or any(x % i == 0 for i in range(2, x))],\n",
        "}\n",
        "print(prime_or_notPrime)"
      ],
      "metadata": {
        "id": "KppO0Rw9GD4P"
      },
      "execution_count": null,
      "outputs": []
    },
    {
      "cell_type": "code",
      "source": [
        "# SOAL BU MAR C\n",
        "'''\n",
        "1. Buat program tentang array kosong. input dari array berasal dari user, masukkan 5 input huruf pada array.\n",
        "2. cari nilai pada array yang merupakan bilangan vokal dan tampilkan.\n",
        "3. reverse nilai array.\n",
        "4. jadikan array yang kamu buat menjadi dictionary dengan ketentuan: vokal dan bukan vokal.\n",
        "'''\n",
        "\n",
        "array_user = input(\"Masukkan 5 huruf (dipisah dengan koma): \").split(\", \")\n",
        "print(f\"nomor 1: {array_user}\")\n",
        "\n",
        "vokal = 'aiueo'\n",
        "array_vokal = ','.join([x for x in array_user if x.lower() in vokal])\n",
        "print(f\"nomor 2 (huruf vokal): {array_vokal}\")\n",
        "\n",
        "print(f\"nomor 3 (reverse): {array_user[::-1]}\")\n",
        "\n",
        "array_notVokal = ','.join([x for x in array_user if x.lower() not in vokal])\n",
        "vokal_or_notVokal = {\n",
        "    \"Vokal\": array_vokal,\n",
        "    \"non vokal\": array_notVokal,\n",
        "}\n",
        "print(vokal_or_notVokal)"
      ],
      "metadata": {
        "id": "dcPFt52pGQFy"
      },
      "execution_count": null,
      "outputs": []
    },
    {
      "cell_type": "code",
      "source": [
        "# SOAL BU MAR C EVAN\n",
        "'''\n",
        "1. Buat program tentang array kosong. input dari array berasal dari user, masukkan 5 input huruf pada array.\n",
        "2. cari nilai pada array yang merupakan bilangan vokal dan tampilkan.\n",
        "3. reverse nilai array.\n",
        "4. jadikan array yang kamu buat menjadi dictionary dengan ketentuan: vokal dan bukan vokal.\n",
        "'''\n",
        "\n",
        "array_user = input(\"Masukkan 5 huruf (dipisah dengan koma): \").split(\", \")\n",
        "print(f\"nomor 1: {array_user}\")\n",
        "\n",
        "vokal = 'aiueo'\n",
        "array_vokal = ','.join([x for x in array_user if x.lower() in vokal])\n",
        "print(f\"nomor 2 (huruf vokal): {array_vokal}\")\n",
        "\n",
        "print(f\"nomor 3 (reverse): {array_user[::-1]}\")\n",
        "\n",
        "array_notVokal = ','.join([x for x in array_user if x.lower() not in vokal])\n",
        "vokal_or_notVokal = {\n",
        "    \"Vokal\": array_vokal,\n",
        "    \"non vokal\": array_notVokal,\n",
        "}\n",
        "print(vokal_or_notVokal)"
      ],
      "metadata": {
        "id": "AEOyZrYiGoBz"
      },
      "execution_count": null,
      "outputs": []
    },
    {
      "cell_type": "code",
      "source": [
        "# SOAL KAK RAFIK STRING\n",
        "'''\n",
        "1.String.\n",
        "input: 5\n",
        "output:\n",
        "a\n",
        "ab\n",
        "abc\n",
        "abcd\n",
        "abcde\n",
        "'''\n",
        "#1\n",
        "huruff = \"abcdefghijklmnopqrstuvwxyz\"\n",
        "u = int(input(\"masukkan banyak huruf yang ingin dicetak:\"))\n",
        "for i in range(u):\n",
        "    print(huruff[:i+1])\n",
        "\n",
        "#atau evan\n",
        "huruf = ['a','b','c','d','e','f','g','h','i','j','k','l','m','n','o','p','q','r','s','t','u','v','w','x','y','z']\n",
        "def abcd(n):\n",
        "    for x in range(0,n):\n",
        "        print( ''.join(huruf[:x+1]))\n",
        "abcd(5)\n",
        "\n",
        "print()"
      ],
      "metadata": {
        "id": "77LTguCdGY3B"
      },
      "execution_count": null,
      "outputs": []
    },
    {
      "cell_type": "code",
      "source": [
        "#soal kak rafik numerik\n",
        "#1\n",
        "primaaa = []\n",
        "banyak_prima= int(input(\"masukkan banyak angka yang ingin dikeluarkan:\"))\n",
        "def cekprima(x):\n",
        "    if x< 2:\n",
        "        return False\n",
        "    for i in range(2, x):\n",
        "        if x%i==0:\n",
        "            return False\n",
        "    return True\n",
        "\n",
        "i = 0\n",
        "a = 0\n",
        "while i < banyak_prima:\n",
        "    if cekprima(a)==True:\n",
        "        primaaa.append(a)\n",
        "        i+=1\n",
        "    a+=1\n",
        "print(primaaa)\n",
        "\n",
        "#atau\n",
        "prima = []\n",
        "i = 2\n",
        "input = int(input(\"masukkan banyaknya bilangan prima: \"))\n",
        "\n",
        "while len(prima) < input:\n",
        "    if i == 2:\n",
        "        prima.append(i)\n",
        "    else:\n",
        "        isPrime = True\n",
        "        for j in range(2, i):\n",
        "            if i % j == 0:\n",
        "                isPrime = False\n",
        "                break\n",
        "        if isPrime == True:\n",
        "            prima.append(i)\n",
        "    i += 1\n",
        "\n",
        "print(prima)"
      ],
      "metadata": {
        "id": "IFv9YqydHPS_"
      },
      "execution_count": null,
      "outputs": []
    },
    {
      "cell_type": "code",
      "source": [
        "#soal kak lovi fibonaci\n",
        "'''\n",
        "input: = bilangan min 5\n",
        "output = list bilangan dan fibonaci(pertambahan)\n",
        "contoh:\n",
        "input:1 2 3 4 5\n",
        "output:1 3 6 10 15\n",
        "'''\n",
        "a = int(input(\"masukkan panjang list>=5:\"))\n",
        "listtangka=[]\n",
        "fibo=[]\n",
        "\n",
        "if a >= 5:\n",
        "    for i in range(a):\n",
        "        b = int(input(f\"masukkan angka ke{i+1}:\"))\n",
        "        listtangka.append(b)\n",
        "else:\n",
        "    print(\"panjang list minimal 5\")\n",
        "print(listtangka)\n",
        "\n",
        "if a < 5:\n",
        "    print(\"minimal 5 angka\")\n",
        "else:\n",
        "    for x in range(len(listtangka)):\n",
        "        ab = sum(listtangka[0:x+1])\n",
        "        fibo.append(ab)\n",
        "    print(fibo)\n"
      ],
      "metadata": {
        "id": "bztluBLNHlPk"
      },
      "execution_count": null,
      "outputs": []
    },
    {
      "cell_type": "code",
      "source": [
        "# MAS FARRAS\n",
        "'''\n",
        "1. Mengubah Data dalam Dictionary\n",
        "\n",
        "Buatlah sebuah dictionary sederhana yang berisi cukup 5 pasang elemen (key dan value). Key adalah nama teman kalian, valuenya adalah nomor teleponnya yang memiliki angka awalnya adalah “0” (sisanya nomor random gapapa)\n",
        "Contoh = budi : 089898989, adi : 087878787\n",
        "\n",
        "Selanjutnya, ganti angka “0” menjadi “+62” untuk setiap valuenya tanpa mengubah nama orangnya. Output yang diharapkan adalah dictionary baru dengan value nomor telepon versi internasional (+62)\n",
        "\n",
        "2. Membagi kata dalam kalimat menjadi “pendek”, “sedang” atau “panjang”\n",
        "\n",
        "Misal ada sebuah paragraf : Pengemudi xpander tabrak porsche di showroom pik dua, tengah menjadi sorotan. apalagi kini muncul kabar pengemudi xpander malah galang dana untuk ganti rugi.\n",
        "\n",
        "Setelah itu masing-masing kata dibagi berdasarkan panjang hurufnya\n",
        "Pendek : 1 -3 huruf\n",
        "Sedang : 4 - 7 huruf\n",
        "Panjang : > 7\n",
        "Koma ataupun tanda baca lain masuk kedalam kata tersebut, misal : Serang! (7 huruf)\n",
        "Setelah itu buat dictionary, key : PENDEK, SEDANG, PANJANG. Outputnya adalah jumlah masing masing value. Misal : key PANJANG punya 25 nilai (25 kata yang hurufnya > 7)\n",
        "'''\n",
        "#Soal 1\n",
        "nomor = {\n",
        "    \"andi\": \"081111111111\",\n",
        "    \"budi\": \"082222222222\",\n",
        "    \"caca\": \"083333333333\",\n",
        "    \"doni\": \"084444444444\",\n",
        "    \"emil\": \"085555555555\",\n",
        "    }\n",
        "\n",
        "listKey = nomor.keys()\n",
        "\n",
        "for i in listKey:\n",
        "    nomor[i]= \"+62\" + nomor[i][1:]\n",
        "\n",
        "print(nomor)\n",
        "\n",
        "paragraf = \"Pengemudi xpander tabrak porsche di showroom pik dua, tengah menjadi sorotan. apalagi kini muncul kabar pengemudi xpander malah galang dana untuk ganti rugi.\"\n",
        "listKata = paragraf.split()\n",
        "\n",
        "pendek = 0\n",
        "sedang = 0\n",
        "panjang = 0\n",
        "\n",
        "for kata in listKata:\n",
        "    if len(kata) in range(1, 4):\n",
        "        pendek += 1\n",
        "    elif len(kata) in range(4, 7):\n",
        "        sedang += 1\n",
        "    elif len(kata) > 7:\n",
        "        panjang += 1\n",
        "\n",
        "dict = {\n",
        "        \"pendek\": pendek,\n",
        "        \"sedang\":sedang,\n",
        "        \"panjang\":panjang,\n",
        "        }\n",
        "\n",
        "print(dict)"
      ],
      "metadata": {
        "colab": {
          "base_uri": "https://localhost:8080/"
        },
        "id": "KI5AxKEoLDyi",
        "outputId": "2b7aad74-0ea1-48c9-df13-69cbfadf97de"
      },
      "execution_count": null,
      "outputs": [
        {
          "output_type": "stream",
          "name": "stdout",
          "text": [
            "{'andi': '+6281111111111', 'budi': '+6282222222222', 'caca': '+6283333333333', 'doni': '+6284444444444', 'emil': '+6285555555555'}\n"
          ]
        }
      ]
    },
    {
      "cell_type": "code",
      "source": [
        "# MAS HANIF\n",
        "'''\n",
        "Menentukan Segitiga Siku-Siku atau Bukan\n",
        "\n",
        "Sebuah segitiga dapat ditentukan sebagai segitiga siku-siku apabila nilai kuadrat sisi miring sama dengan nilai jumlah kuadrat sisi lainnya.\n",
        "\n",
        "Diberikan input berupa list yang berisi angka berupa panjang ketiga sisi segitiga. Buat kode untuk menentukan apakah segitiga berjenis segitiga siku-siku atau tidak! Sesuaikan agar output seperti di bawah!\n",
        "\n",
        "Expected Input: [5, 4, 3]\n",
        "Expected Output: 3, 4, dan 5 merupakan segitiga siku-siku!\n",
        "\n",
        "Expected Input: [4, 2, 3]\n",
        "Expected Output: 2, 3, dan 4 bukan merupakan segitiga siku-siku!\n",
        "'''\n",
        "\n",
        "sisi1 = int(input(\"Sisi1: \"))\n",
        "sisi2 = int(input(\"Sisi2: \"))\n",
        "sisi3 = int(input(\"Sisi3: \"))\n",
        "\n",
        "listSisi = [sisi1, sisi2, sisi3]\n",
        "sorted(listSisi)\n",
        "\n",
        "if listSisi[0]**2 + listSisi[1]**2 == listSisi[2]**2:\n",
        "    print(f\"{sisi1}, {sisi2}, {sisi3} merupakan segitiga siku-siku\")\n",
        "else:\n",
        "    print(f\"{sisi1}, {sisi2}, {sisi3} bukan merupakan segitiga siku-siku\")"
      ],
      "metadata": {
        "id": "_MimnPhaL62L"
      },
      "execution_count": null,
      "outputs": []
    },
    {
      "cell_type": "code",
      "source": [
        "# PAK RUZZA\n",
        "\n",
        "'''\n",
        "Memasukkan buah ke dalam keranjang berjumlah random. Buahnya anggur, pisang, stroberi. Maksimal total buah di keranjang 10. Outputnya menampilkan jumlah masing masing buah. lalu dibuat ke dalam dictionary\n",
        "'''\n",
        "\n",
        "import random\n",
        "\n",
        "# Generate random values for each fruit such that their total doesn't exceed 10\n",
        "anggur = random.randint(0, 10)\n",
        "pisang = random.randint(0, 10 - anggur)  # Ensure total value doesn't exceed 10\n",
        "stroberi = random.randint(0, 10 - anggur - pisang)  # Ensure total value doesn't exceed 10\n",
        "\n",
        "# Create a dictionary to store the fruits and their quantities\n",
        "keranjang = {\"Anggur\": anggur, \"Pisang\": pisang, \"Stroberi\": stroberi}\n",
        "\n",
        "# Print the contents of the basket\n",
        "print(keranjang)\n"
      ],
      "metadata": {
        "id": "bfoCYTz7MCeY"
      },
      "execution_count": null,
      "outputs": []
    },
    {
      "cell_type": "markdown",
      "source": [
        "RESPONSI KEDUA"
      ],
      "metadata": {
        "id": "ZGEcwu9GNDc9"
      }
    },
    {
      "cell_type": "code",
      "source": [
        "# BU MAR A\n",
        "'''\n",
        "Soal A\n",
        "\n",
        "1.Buat program untuk mengenerate 10 bilangan random lalu simpan dalam list. Lalu lakukan percarian satu bilangan input user pada bilangan dan jika ketemu berikan output “Ketemu” dan “Tidak Ketemu” jika tidak ada.\n",
        "\n",
        "2.Buat program looping untuk mengeluarkan output bilangan prima dari 1 sampai 100.\n",
        "\n",
        "3.Buat program untuk lagu anak ayam dengan ketentuan:\n",
        "Input: total ayam\n",
        "Proses: Ke=ka ayam ma= satu maka kurangi total ayam dan Ke=ka ayam =nggal 1 maka =nggal induk ayam Output: Lagu anak ayam turunnya (total ayam sesuai input), ma= 1 =nggallah (total ayam - 1).\n",
        "\n",
        "4.Buat program untuk kasir sebuah toko yang menjual beberapa barang. Barang disimpan 3 hal yaitu nama barang, jumlah barang dan harga. Berikan diskon 10% jika membeli lebih dari Rp.100.000\n",
        "'''\n",
        "\n",
        "# Nomor 1\n",
        "import random\n",
        "\n",
        "# Generate 10 random numbers and store them in a list\n",
        "bilangan = [random.randint(1, 100) for _ in range(10)]\n",
        "print(\"Bilangan random:\", bilangan)\n",
        "\n",
        "# Input bilangan yang akan dicari\n",
        "bilangan_cari = int(input(\"Masukkan bilangan yang ingin dicari: \"))\n",
        "\n",
        "# Cari bilangan dalam list\n",
        "if bilangan_cari in bilangan:\n",
        "    print(\"Ketemu\")\n",
        "else:\n",
        "    print(\"Tidak Ketemu\")\n",
        "\n",
        "\n",
        "# nomor 2\n",
        "# Function to check if a number is prime\n",
        "def is_prime(n):\n",
        "    if n <= 1:\n",
        "        return False\n",
        "    for i in range(2, int(n**0.5) + 1):\n",
        "        if n % i == 0:\n",
        "            return False\n",
        "    return True\n",
        "\n",
        "# Print prime numbers from 1 to 100\n",
        "print(\"Bilangan prima dari 1 sampai 100:\")\n",
        "for num in range(2, 101):\n",
        "    if is_prime(num):\n",
        "        print(num, end=\" \")\n",
        "\n",
        "\n",
        "# nomor 3\n",
        "total_ayam = int(input(\"Masukkan total ayam: \"))\n",
        "\n",
        "print(\"Lagu anak ayam:\")\n",
        "while total_ayam > 0:\n",
        "    print(f\"Anak ayam turun {total_ayam}, mati satu tinggalah {total_ayam - 1}\")\n",
        "    total_ayam -= 1\n",
        "\n",
        "\n",
        "# nomor 4\n",
        "# Input data barang\n",
        "nama_barang = input(\"Masukkan nama barang: \")\n",
        "jumlah_barang = int(input(\"Masukkan jumlah barang: \"))\n",
        "harga_barang = float(input(\"Masukkan harga barang: \"))\n",
        "\n",
        "# Hitung total harga\n",
        "total_harga = jumlah_barang * harga_barang\n",
        "\n",
        "# Berikan diskon 10% jika total harga lebih dari Rp.100.000\n",
        "if total_harga > 100000:\n",
        "    diskon = 0.1 * total_harga\n",
        "    total_harga -= diskon\n",
        "\n",
        "print(f\"Total harga untuk {nama_barang}: Rp. {total_harga}\")\n",
        "\n"
      ],
      "metadata": {
        "id": "Fz2FH_1rMdRw"
      },
      "execution_count": null,
      "outputs": []
    },
    {
      "cell_type": "code",
      "source": [
        "'''\n",
        "1. Buat program untuk mengenerate 10 bilangan random lalu simpan dalam list. lalu lakukan pencarian satu bilangan input user pada bilangan dan jika ketemu berikan output \"ketemu' dan 'tidak ketemu' jika tidak ada.\n",
        "2. buat program looping untuk mengeluarkan output bilangan ganjil dari 1 sampai 100.\n",
        "3. buat program untuk lago balonku dengan ketentuan:\n",
        "input: total balon, warna balon yang meletus.\n",
        "proses: ketika balon meletus kurangi angka balon.\n",
        "output: lago balonku (total dan balon meletus sesuai input)\n",
        "4. buat program untuk kasir sebuah toko yang menjual beberapa barang. barang disimpan 3 hal yaitu nama barang, jumlah barang dan harga. berikan diskon 5% jika membeli lebih dari 50.000/\n",
        "'''\n",
        "\n",
        "import random\n",
        "list_random = []\n",
        "for i in range(10):\n",
        "    w = random.randint(100)\n",
        "    list_random.append(w)\n",
        "print(f\"nomor1: {list_random}\")\n",
        "list_ganjill = []\n",
        "for x in range(1, 101):\n",
        "    if x%2==1:\n",
        "        list_ganjill.append(x)\n",
        "print(f\"nomor2: {list_ganjill}\")\n"
      ],
      "metadata": {
        "id": "zPEs7r3E91xF"
      },
      "execution_count": null,
      "outputs": []
    },
    {
      "cell_type": "code",
      "source": [
        "#Kak Rafik\n",
        "'''\n",
        "Soal 1\n",
        "input pertama: 1\n",
        "input kedua: 3\n",
        "output: 0.33333333 (recurring decimal)\n",
        "'''\n",
        "\n",
        "\n",
        "# Soal 1\n",
        "angka1 = int(input(\"angka pertama: \"))\n",
        "angka2 = int(input(\"angka kedua: \"))\n",
        "print(angka1/angka2)\n"
      ],
      "metadata": {
        "id": "dkQjEvPXNH4s"
      },
      "execution_count": null,
      "outputs": []
    },
    {
      "cell_type": "code",
      "source": [
        "#SOAL KAK RAFIK\n",
        "'''\n",
        "Soal 2\n",
        "Buat kode untuk output piramida/segitiga bintang *\n",
        "contoh:\n",
        "input = 3\n",
        "output =\n",
        "  *      *\n",
        " * *    * *\n",
        "* * *  * * *\n",
        "'''\n",
        "#Soal 2\n",
        "tinggi = int(input())\n",
        "\n",
        "for i in range(1,tinggi+1):\n",
        "    bintang = \"* \" * i\n",
        "    tengah = bintang.center(tinggi*2)\n",
        "    print(f\"{tengah} {tengah}\")"
      ],
      "metadata": {
        "colab": {
          "base_uri": "https://localhost:8080/"
        },
        "id": "CTwEMhdMN9Cb",
        "outputId": "4100c0c8-5445-48a7-b900-644f7c6a32f0"
      },
      "execution_count": null,
      "outputs": [
        {
          "output_type": "stream",
          "name": "stdout",
          "text": [
            "3\n",
            "  *      *   \n",
            " * *    * *  \n",
            "* * *  * * * \n"
          ]
        }
      ]
    },
    {
      "cell_type": "code",
      "source": [
        "#SOAL KAK RAFIK\n",
        "'''\n",
        "soal 3\n",
        "Buatlah kode untuk mencari huruf yang sama dan berbeda:\n",
        "contoh:\n",
        "input1 = sharp\n",
        "input2 = soap\n",
        "huruf yg sama = asp\n",
        "huruf unik input1 = hr\n",
        "huruf unik input 2 = o\n",
        "'''\n",
        "#SOAL 3\n",
        "#input kata\n",
        "kata1 = input(\"Masukkan kata pertama: \")\n",
        "kata2 = input(\"Masukkan kata kedua: \")\n",
        "\n",
        "#cek kesamaan huruf\n",
        "hurufSama = []\n",
        "unikKata1 = []\n",
        "unikKata2 = []\n",
        "\n",
        "for i in kata1:\n",
        "    if i in kata2: #mencari kesamaan huruf\n",
        "        hurufSama.append(i)\n",
        "    else: #mencari huruf unik kata1\n",
        "        unikKata1.append(i)\n",
        "\n",
        "for i in kata2: #mencari huruf unik kata2\n",
        "    if i not in hurufSama:\n",
        "        unikKata2.append(i)\n",
        "\n",
        "#mengeluarkan hasil dari program\n",
        "hurufSama = \"\".join(hurufSama)\n",
        "unikKata1 = \"\".join(unikKata1)\n",
        "unikKata2 = \"\".join(unikKata2)\n",
        "\n",
        "print(f\"huruf yang sama: {hurufSama}\")\n",
        "print(f\"huruf unik di input pertama: {unikKata1}\")\n",
        "print(f\"huruf unik di input kedua: {unikKata2}\")\n"
      ],
      "metadata": {
        "id": "Po_Y5VZ8OOL8"
      },
      "execution_count": null,
      "outputs": []
    },
    {
      "cell_type": "code",
      "source": [
        "#soal kak lovi umur beserta faktor\n",
        "# Soal 1\n",
        "\n",
        "tanggal = input(\"Masukkan tanggal lahir (DD-MM-YYYY): \").split(\"-\")\n",
        "\n",
        "if int(tanggal[1]) - 4 <= 0:\n",
        "  if int(tanggal[0]) - 3 <= 0:\n",
        "    umur = 2024 - int(tanggal[2])\n",
        "  else:\n",
        "    umur = 2024 - int(tanggal[2]) - 1\n",
        "else:\n",
        "  umur = 2024 - int(tanggal[2]) - 1\n",
        "\n",
        "print(umur)\n",
        "\n",
        "faktor = []\n",
        "for i in range(1, umur+1):\n",
        "  if umur % i == 0:\n",
        "    faktor.append(i)\n",
        "\n",
        "print(f\"Faktor: {faktor}\")"
      ],
      "metadata": {
        "id": "2zw89QKE6YTa"
      },
      "execution_count": null,
      "outputs": []
    },
    {
      "cell_type": "code",
      "source": [
        "# KAK LOVI\n",
        "'''\n",
        "Soal 2\n",
        "THR TIME!\n",
        "\n",
        "INDICATOR: LAMA BEKERJA DAN JUMLAH TANGGUNGAN\n",
        "A. BEKERJA < 3 TAHUN:\n",
        "    THR: 1.000.000 + (jumlah tangungan *100.000)\n",
        "B. bekerja 3-6 tahun:\n",
        "    THR: 1.500.000 + (jumlah tangungan *100.000)\n",
        "C. Bekerja >6 tahun:\n",
        "    THR: 2.000.000 + (jumlah tangungan *100.000)\n",
        "\n",
        "THEN THR dibagi 100.000 dan dicari faktornya\n",
        "'''\n",
        "# Soal 2\n",
        "lama_kerja = int(input(\"lama kerja: \").split()[0])\n",
        "tanggungan = int(input(\"tanggungan: \").split()[0])\n",
        "\n",
        "\n",
        "if lama_kerja < 3:\n",
        "    thr = 1000000 + (tanggungan*100000)\n",
        "    print(f\"THR yang Anda terima: {thr}\")\n",
        "elif lama_kerja >= 3 and lama_kerja <= 6:\n",
        "    thr = 1500000 + (tanggungan*100000)\n",
        "    print(f\"THR yang Anda terima: {thr}\")\n",
        "else:\n",
        "    thr = 2000000 + (tanggungan*100000)\n",
        "    print(f\"THR yang Anda terima: {thr}\")\n",
        "\n",
        "factor_bagi = int(thr/100000)\n",
        "\n",
        "factor = [x for x in range(1,factor_bagi+1) if factor_bagi % x == 0]\n",
        "print(f'Faktor dari {factor_bagi} adalah {factor}')\n"
      ],
      "metadata": {
        "id": "HXhE-rx5Od_f"
      },
      "execution_count": null,
      "outputs": []
    },
    {
      "cell_type": "code",
      "source": [
        "'''\n",
        "Soal 3\n",
        "Main ular tangga. Diminta input bilangan acak dadu(1-6) minimal 5 kali. Hasilnya adalah penjumlahan seluruh angka sebagai langkah. Namun jika angka merupakan kelipatan 2 maka dia adalah ular. Sehingga langkah dikurangi. Kemudian cari faktor dari bilangan akhirnya(hasil akhir).\n",
        "\n",
        "Proses = 1 - 2 + 3 + 5  - 4 = 3\n",
        "\n",
        "Output : “Kamu harus maju 3 langkah”\n",
        "\n",
        "jika hasil negatif maka “mundur”, lalu dipositifkan dulu\n",
        "\n",
        "Faktor dari 4 : [1,2,4]\n",
        "'''\n",
        "# Soal 3\n",
        "\n",
        "import random\n",
        "\n",
        "def cari_faktor(bilangan):\n",
        "    faktor = [i for i in range(1, bilangan + 1) if bilangan % i == 0]\n",
        "    return faktor\n",
        "\n",
        "# Minta input jumlah dadu\n",
        "jumlah_dadu = int(input(\"Masukkan jumlah dadu yang akan dilempar (minimal 5 kali): \"))\n",
        "\n",
        "# Lempar dadu dan hitung langkah\n",
        "langkah = 0\n",
        "for _ in range(jumlah_dadu):\n",
        "    dadu = random.randint(1, 6)\n",
        "    if dadu % 2 == 0:\n",
        "        langkah -= dadu\n",
        "    else:\n",
        "        langkah += dadu\n",
        "\n",
        "# Jika hasil negatif, mundur\n",
        "if langkah < 0:\n",
        "    langkah *= -1\n",
        "    arah = \"mundur\"\n",
        "else:\n",
        "    arah = \"maju\"\n",
        "\n",
        "print(f\"Kamu harus {arah} {langkah} langkah\")\n",
        "\n",
        "# Cari faktor dari bilangan akhirnya\n",
        "faktor = cari_faktor(langkah)\n",
        "print(f\"Faktor dari {langkah}: {faktor}\")"
      ],
      "metadata": {
        "id": "6sSv80lQ6ppz"
      },
      "execution_count": null,
      "outputs": []
    },
    {
      "cell_type": "code",
      "source": [],
      "metadata": {
        "id": "JeIykbEz62MQ"
      },
      "execution_count": null,
      "outputs": []
    },
    {
      "cell_type": "markdown",
      "source": [
        "### Selisih persegi"
      ],
      "metadata": {
        "id": "3bOURFAH9p-O"
      }
    },
    {
      "cell_type": "code",
      "execution_count": null,
      "metadata": {
        "id": "IhauyKugmXSU",
        "outputId": "dc46d6f6-6ac9-478b-a08c-d72c31f78be3"
      },
      "outputs": [
        {
          "name": "stdout",
          "output_type": "stream",
          "text": [
            "selisih persegi luar dan dalam: 98.0\n"
          ]
        }
      ],
      "source": [
        "# terdapat sebuah persegi besar yang didalamnya terdapat sebuah lingkaran,\n",
        "# dimana didalam lingkaran tersebut terdapat persegi dengan ukuran yang lebih kecil\n",
        "r = int(input())\n",
        "D = 2*r\n",
        "luas_luar = D**2\n",
        "luas_dalam = D**2/2\n",
        "\n",
        "selisih = luas_luar - luas_dalam\n",
        "print(\"selisih persegi luar dan dalam:\", selisih)"
      ]
    },
    {
      "cell_type": "markdown",
      "source": [
        "### Kapital ke non-Kapital"
      ],
      "metadata": {
        "id": "YgDvSV1r-RPk"
      }
    },
    {
      "cell_type": "code",
      "execution_count": null,
      "metadata": {
        "id": "P5iatU3VmXSU",
        "outputId": "7a847564-7d3c-40f3-9461-48e494d92c55"
      },
      "outputs": [
        {
          "name": "stdout",
          "output_type": "stream",
          "text": [
            "input: ['aku', 'suka', 'belajar']\n",
            "hasil: ['aKU', 'sUKA', 'bELAJAR']\n",
            "hasil: aKU sUKA bELAJAR\n"
          ]
        }
      ],
      "source": [
        "kalimat = input().split()\n",
        "swap_case = []\n",
        "\n",
        "for i in kalimat:\n",
        "    i = i.capitalize()\n",
        "    i = i.swapcase()\n",
        "    swap_case.append(i)\n",
        "\n",
        "print(\"input:\", kalimat)\n",
        "print(\"hasil:\", swap_case)\n",
        "print(\"hasil:\", *swap_case)"
      ]
    },
    {
      "cell_type": "markdown",
      "source": [
        "### Menjumlahkan genap ganjil"
      ],
      "metadata": {
        "id": "KsCE-aVk9y7e"
      }
    },
    {
      "cell_type": "code",
      "execution_count": null,
      "metadata": {
        "id": "3JqAPoKzmXSV",
        "outputId": "b3bc00f3-b25f-477c-b936-081860cfac1e"
      },
      "outputs": [
        {
          "name": "stdout",
          "output_type": "stream",
          "text": [
            "hasil penjumlahan nya adalah (6, 15)\n"
          ]
        }
      ],
      "source": [
        "# Menjumlahkan masing-masing angka genap dan ganjil\n",
        "def genap_ganjil(list):\n",
        "    genap = 0\n",
        "    ganjil = 0\n",
        "    for i in list:\n",
        "        if i % 2 == 0:\n",
        "            genap+=i\n",
        "        else:\n",
        "            ganjil+=i\n",
        "    return genap, ganjil\n",
        "\n",
        "print(f\"hasil penjumlahan nya adalah {genap_ganjil([2, 3, 5, 7, 4])}\")\n"
      ]
    },
    {
      "cell_type": "markdown",
      "source": [
        "### Jam ke detik menit"
      ],
      "metadata": {
        "id": "yrDFYWeY-BC8"
      }
    },
    {
      "cell_type": "code",
      "execution_count": null,
      "metadata": {
        "id": "JTY3PmOUmXSV",
        "outputId": "6d69563c-c4a6-4fa0-b398-0bfadd3e90a5"
      },
      "outputs": [
        {
          "name": "stdout",
          "output_type": "stream",
          "text": [
            "jam ke detik: 7200 jam ke menit: 2040 detik: 34567\n",
            "yang paling kecil: 2040\n",
            "yang paling besar: 34567\n"
          ]
        }
      ],
      "source": [
        "import math\n",
        "jam = int(input(\"jam:\"))\n",
        "jam_detik = jam*3600\n",
        "menit = int(input(\"menit:\"))\n",
        "menit_detik = menit*60\n",
        "detik = int(input(\"detik:\"))\n",
        "print(\"jam ke detik:\", jam_detik, \"jam ke menit:\", menit_detik, \"detik:\", detik )\n",
        "print(\"yang paling kecil:\", min(jam_detik, menit_detik, detik))\n",
        "print(\"yang paling besar:\", max(jam_detik, menit_detik, detik))"
      ]
    },
    {
      "cell_type": "markdown",
      "source": [
        "### Gagap"
      ],
      "metadata": {
        "id": "3ZeXnHi9-KVL"
      }
    },
    {
      "cell_type": "code",
      "execution_count": null,
      "metadata": {
        "id": "lMi-u-BbmXSW",
        "outputId": "50445fc1-e3de-4613-e9e0-440c88310e4b"
      },
      "outputs": [
        {
          "data": {
            "text/plain": [
              "'ka...ka...kata'"
            ]
          },
          "execution_count": 14,
          "metadata": {},
          "output_type": "execute_result"
        }
      ],
      "source": [
        "#PRINT GAGAP\n",
        "def gagap(kata):\n",
        "    hasil = kata[:2] + '...'+ kata[:2]+'...'+ kata\n",
        "    return hasil\n",
        "kata = input(\"masukkan kata:\")\n",
        "gagap(kata)"
      ]
    },
    {
      "cell_type": "markdown",
      "source": [
        "### Ceil (pembulatan ke atas)"
      ],
      "metadata": {
        "id": "E1rVBnnc-ZcT"
      }
    },
    {
      "cell_type": "code",
      "execution_count": null,
      "metadata": {
        "id": "-0I76sA-mXSW",
        "outputId": "5cbad419-398d-4acd-c33f-f2a5ef3341b0"
      },
      "outputs": [
        {
          "name": "stdout",
          "output_type": "stream",
          "text": [
            "1\n",
            "1\n"
          ]
        },
        {
          "data": {
            "text/plain": [
              "(5, 7)"
            ]
          },
          "execution_count": 26,
          "metadata": {},
          "output_type": "execute_result"
        }
      ],
      "source": [
        "#penggunaan ceil\n",
        "#ceil yaitu pembulatan keatas\n",
        "\n",
        "import math\n",
        "print(math.ceil(0.1))   #bilangan desimal nya dibawah 5 tetap dibulatkan keatas\n",
        "print(math.ceil(0.8))\n",
        "\n",
        "def ceill(a, b, c):\n",
        "    e = math.ceil(a)\n",
        "    return e+b, e+c\n",
        "ceill(0.2345, 4, 6)"
      ]
    },
    {
      "cell_type": "markdown",
      "source": [
        "### Pajak dan Diskon"
      ],
      "metadata": {
        "id": "y8WRBMvm-iPt"
      }
    },
    {
      "cell_type": "code",
      "execution_count": null,
      "metadata": {
        "id": "1-5o1WtnmXSX",
        "outputId": "75c5d736-df08-4054-a18c-50b93c53283d"
      },
      "outputs": [
        {
          "name": "stdout",
          "output_type": "stream",
          "text": [
            "Harga akhir: 8500.0\n"
          ]
        }
      ],
      "source": [
        "#Harga akhir ketika dalam jual beli mendapatkan pajak serta diskon\n",
        "f = int(input(\"Harga:\"))\n",
        "g = int(input(\"Diskon:\"))\n",
        "h = int(input(\"Pajak:\"))\n",
        "print(\"Harga akhir:\", f-(f*g/100)+(f*h/100))"
      ]
    },
    {
      "cell_type": "markdown",
      "source": [
        "### Gunting Batu Kertas"
      ],
      "metadata": {
        "id": "fdQaFAVq-wom"
      }
    },
    {
      "cell_type": "code",
      "execution_count": null,
      "metadata": {
        "id": "tHG7RlbHmXSX",
        "outputId": "bae05130-bfb5-4e18-d144-f3a8a4edc5de"
      },
      "outputs": [
        {
          "name": "stdout",
          "output_type": "stream",
          "text": [
            "Pilihan Anda:  kertas\n",
            "AI memilih:  gunting\n",
            "Anda Kalah!\n"
          ]
        }
      ],
      "source": [
        "#Gunting Batu Kertas\n",
        "import random\n",
        "pilihan_Anda = input(\"Masukkan angka pilihan anda(Gunting/Batu/Kertas): \").lower()\n",
        "print(\"Pilihan Anda: \", pilihan_Anda)\n",
        "AI = [\"gunting\", \"batu\", \"kertas\"]\n",
        "pilih_random = random.choice(AI)\n",
        "print(\"AI memilih: \", pilih_random)\n",
        "if pilihan_Anda == pilih_random:\n",
        "    print(\"seri\")\n",
        "elif pilihan_Anda == \"gunting\" and pilih_random == \"kertas\":\n",
        "    print(\"Anda Menang!\")\n",
        "elif pilihan_Anda == \"kertas\" and pilih_random == \"batu\":\n",
        "    print(\"Anda Menang!\")\n",
        "elif pilihan_Anda == \"batu\" and pilih_random == \"gunting\":\n",
        "    print(\"Anda Menang!\")\n",
        "else:\n",
        "    print(\"Anda Kalah!\")"
      ]
    },
    {
      "cell_type": "markdown",
      "source": [
        "### Split"
      ],
      "metadata": {
        "id": "vScHTn7d-zbB"
      }
    },
    {
      "cell_type": "code",
      "execution_count": null,
      "metadata": {
        "id": "RZ9efc49mXSY",
        "outputId": "019229dc-a4b7-4be5-9dad-d1ad92b1dcfd"
      },
      "outputs": [
        {
          "name": "stdout",
          "output_type": "stream",
          "text": [
            "Saya\n",
            "makan\n",
            "Nasi\n",
            "Goreng\n",
            "anggur\n",
            "apel\n",
            "mangga\n",
            "jeruk\n",
            "buah naga\n"
          ]
        }
      ],
      "source": [
        "#Penggunaan split\n",
        "#Buatlah fungsi yang digunakan untuk memisahkan kata dari kalimat yang diinputkan\n",
        "\n",
        "#dipisahkan spasi\n",
        "x = \"Saya makan Nasi Goreng\"\n",
        "for i in x.split():\n",
        "    print(i)\n",
        "\n",
        "#dipisahkan koma\n",
        "j = \"anggur,apel,mangga,jeruk,buah naga\"\n",
        "for i in j.split(\",\"):\n",
        "    print(i)"
      ]
    },
    {
      "cell_type": "markdown",
      "source": [
        "### Deteksi Vokal"
      ],
      "metadata": {
        "id": "Ta2mOuQo-1ho"
      }
    },
    {
      "cell_type": "code",
      "execution_count": null,
      "metadata": {
        "id": "Jj7311HHmXSY",
        "outputId": "425a70f6-12d8-4657-96e6-1774f6a0a2d1"
      },
      "outputs": [
        {
          "name": "stdout",
          "output_type": "stream",
          "text": [
            "Vokal\n"
          ]
        }
      ],
      "source": [
        "#deteksi vokal atau konsonan\n",
        "vokal = [\"a\",\"i\",\"e\",\"u\",\"o\"]\n",
        "huruf = input(\"Masukkan huruf: \").lower()\n",
        "\n",
        "if huruf in vokal:\n",
        "    print(\"Vokal\")\n",
        "else:\n",
        "    print(\"Konsonan\")"
      ]
    },
    {
      "cell_type": "markdown",
      "source": [
        "### Menghitung banyak vokal\n"
      ],
      "metadata": {
        "id": "aJuWPyrr-4DQ"
      }
    },
    {
      "cell_type": "code",
      "execution_count": null,
      "metadata": {
        "id": "V0NhTOjgmXSZ",
        "outputId": "d4daf9a7-9401-4a4b-de0c-04de38cb1cdd"
      },
      "outputs": [
        {
          "name": "stdout",
          "output_type": "stream",
          "text": [
            "Banyak vokal: 6\n"
          ]
        }
      ],
      "source": [
        "#menghitung jumlah vokal dalam suatu string\n",
        "kalimat = input(\"masukkan kalimat:\")\n",
        "vokal = 0\n",
        "for i in kalimat:\n",
        "    if i in 'aiueoAIUEO':\n",
        "        vokal += 1\n",
        "print(\"Banyak vokal:\", vokal)"
      ]
    },
    {
      "cell_type": "code",
      "execution_count": null,
      "metadata": {
        "id": "12y6qwhUmXSZ",
        "outputId": "6d460fb2-ffa7-4b0e-e5e7-1ba742f60254"
      },
      "outputs": [
        {
          "name": "stdout",
          "output_type": "stream",
          "text": [
            "Jumlah vokal: 8\n"
          ]
        }
      ],
      "source": [
        "#menghitung jumlah vokal dalam suatu string menggunakan count\n",
        "def hitung_vokal(x):\n",
        "    string = str(x)\n",
        "    string1 = string.lower()\n",
        "    a = string1.count(\"a\")\n",
        "    i = string1.count(\"i\")\n",
        "    u = string1.count(\"u\")\n",
        "    e = string1.count(\"e\")\n",
        "    o = string1.count(\"o\")\n",
        "    return a+i+u+e+o\n",
        "print(\"Jumlah vokal:\", hitung_vokal(\"Saya makan nasi goreng\"))"
      ]
    },
    {
      "cell_type": "markdown",
      "source": [
        "### Lagu Pelangi"
      ],
      "metadata": {
        "id": "GLe3R3Hu__hZ"
      }
    },
    {
      "cell_type": "code",
      "execution_count": null,
      "metadata": {
        "id": "qw7J-6xFmXSZ",
        "outputId": "47fca7cd-52ee-441f-e92c-6527f7fb54eb"
      },
      "outputs": [
        {
          "name": "stdout",
          "output_type": "stream",
          "text": [
            "Pelangi, pelangi, alangkah indahmu\n",
            "merah, kuning, hijau di langit yang biru\n",
            "Pelukismu agung, siapa gerangan?\n",
            "Pelangi, pelangi, ciptaan Tuhan\n",
            "Pelangi, pelangi, alangkah indahmu\n",
            "merah, kuning, hijau di langit yang biru\n",
            "Pelukismu agung, siapa gerangan?\n",
            "Pelangi, pelangi, ciptaan Tuhan\n",
            "Pelangi, pelangi, alangkah indahmu\n",
            "merah, kuning, hijau di langit yang biru\n",
            "Pelukismu agung, siapa gerangan?\n",
            "Pelangi, pelangi, ciptaan Tuhan\n"
          ]
        }
      ],
      "source": [
        "#Buatlah program menyanyikan lagu anak Pelangi-pelangi dengan warna yang diinputkan user\n",
        "a = input()\n",
        "b = input()\n",
        "c = input()\n",
        "lirik = \"\"\"Pelangi, pelangi, alangkah indahmu\n",
        "{}, {}, {} di langit yang biru\n",
        "Pelukismu agung, siapa gerangan?\n",
        "Pelangi, pelangi, ciptaan Tuhan\n",
        "Pelangi, pelangi, alangkah indahmu\n",
        "{}, {}, {} di langit yang biru\n",
        "Pelukismu agung, siapa gerangan?\n",
        "Pelangi, pelangi, ciptaan Tuhan\n",
        "Pelangi, pelangi, alangkah indahmu\n",
        "{}, {}, {} di langit yang biru\n",
        "Pelukismu agung, siapa gerangan?\n",
        "Pelangi, pelangi, ciptaan Tuhan\"\"\"\n",
        "print(lirik.format(a,b,c,a,b,c,a,b,c))   #menggunakan format"
      ]
    },
    {
      "cell_type": "markdown",
      "source": [
        "### Mengurutkan angka"
      ],
      "metadata": {
        "id": "VN6kWpnOAFHb"
      }
    },
    {
      "cell_type": "code",
      "execution_count": null,
      "metadata": {
        "id": "0UpZt5hSmXSa"
      },
      "outputs": [],
      "source": [
        "###program input dan urutkan angka\n",
        "angka = []\n",
        "total_angka = int(input(\"Masukkan total angka: \"))\n",
        "\n",
        "for i in range(total_angka):\n",
        "    angka.append(float(input(f\"Masukkan angka ke {i+1}: \")))\n",
        "\n",
        "print(angka)\n",
        "angka.sort()\n",
        "print(angka)\n"
      ]
    },
    {
      "cell_type": "markdown",
      "source": [
        "### Array 1 dimensi & Jumlah dimensi"
      ],
      "metadata": {
        "id": "XZp8-G7KALB2"
      }
    },
    {
      "cell_type": "code",
      "execution_count": null,
      "metadata": {
        "id": "J2WNQrBhmXSa",
        "outputId": "1ce168fb-88d5-4be5-85ae-74e17578b06a"
      },
      "outputs": [
        {
          "name": "stdout",
          "output_type": "stream",
          "text": [
            "[1 2 3 4 5]\n",
            "1\n",
            "(5,)\n"
          ]
        }
      ],
      "source": [
        "#membuat array 1 dimensi\n",
        "import numpy as np\n",
        "a = np.array([1, 2, 3, 4, 5])\n",
        "print(a)\n",
        "\n",
        "#mencari jumlah dimensi\n",
        "print(a.ndim)"
      ]
    },
    {
      "cell_type": "markdown",
      "source": [
        "### mengganti nilai array"
      ],
      "metadata": {
        "id": "ZdmParnXAP-S"
      }
    },
    {
      "cell_type": "code",
      "execution_count": null,
      "metadata": {
        "id": "QA6xoInDmXSa",
        "outputId": "1b3e1a8d-a545-440b-c5ed-3b87c91f3650"
      },
      "outputs": [
        {
          "data": {
            "text/plain": [
              "'**********5523'"
            ]
          },
          "execution_count": 26,
          "metadata": {},
          "output_type": "execute_result"
        }
      ],
      "source": [
        "def hide(a):\n",
        "    ganti = \"*\"*(len(a)-4)\n",
        "    return ganti+a[-4:]\n",
        "hide(\"35123413355523\")"
      ]
    },
    {
      "cell_type": "markdown",
      "source": [
        "### Mencari indeks di list"
      ],
      "metadata": {
        "id": "l_x8Em3xATyy"
      }
    },
    {
      "cell_type": "code",
      "execution_count": null,
      "metadata": {
        "id": "_9cH7VPpmXSa",
        "outputId": "4b772afa-b6ec-4b74-c014-9980aa18c45b"
      },
      "outputs": [
        {
          "name": "stdout",
          "output_type": "stream",
          "text": [
            "Angka berada pada indeks: 1\n"
          ]
        }
      ],
      "source": [
        "#mencari indeks dari salah satu item dalam list\n",
        "count = [12, 5, 30, 52, 8, 27]\n",
        "cari = int(input(\"masukkan angka yang ingin dicari:\"))\n",
        "try:\n",
        "    hasil = count.index(cari)\n",
        "    print(\"Angka berada pada indeks:\", hasil)\n",
        "except ValueError:\n",
        "    print(\"Angka tidak ada\")"
      ]
    },
    {
      "cell_type": "markdown",
      "source": [],
      "metadata": {
        "id": "Jlr4cH27AXJT"
      }
    },
    {
      "cell_type": "code",
      "execution_count": null,
      "metadata": {
        "id": "KgVL4FOEmXSa",
        "outputId": "5ed4d15a-a722-4a7f-c551-79f5f45e4702"
      },
      "outputs": [
        {
          "name": "stdout",
          "output_type": "stream",
          "text": [
            "[1. 2. 3.]\n"
          ]
        }
      ],
      "source": [
        "import numpy as np\n",
        "k = np.array([])\n",
        "banyak = int(input(\"masukkan banyak item:\"))\n",
        "for i in range(banyak):\n",
        "    l = int(input(\"masukkan angka ke- {}:\".format(i+1)))\n",
        "    k = np.append(k, l)\n",
        "print(k)"
      ]
    },
    {
      "cell_type": "markdown",
      "source": [
        "### Angka Random"
      ],
      "metadata": {
        "id": "Srja4kYeAYdW"
      }
    },
    {
      "cell_type": "code",
      "execution_count": null,
      "metadata": {
        "id": "57DPXrKtmXSb",
        "outputId": "6e23dcb1-6276-4a73-a22a-13e3009eafa9"
      },
      "outputs": [
        {
          "name": "stdout",
          "output_type": "stream",
          "text": [
            "1\n",
            "3\n"
          ]
        }
      ],
      "source": [
        "#panggil angka random\n",
        "import random\n",
        "print(random.randrange(1, 2))\n",
        "print(random.randint(1,3))"
      ]
    },
    {
      "cell_type": "markdown",
      "source": [
        "### Converting number"
      ],
      "metadata": {
        "id": "_6lKGlSRAlWR"
      }
    },
    {
      "cell_type": "code",
      "execution_count": null,
      "metadata": {
        "id": "JImkzQB5mXSb",
        "outputId": "a9bf5101-8804-4a20-e5c1-b63dd4e1c47c"
      },
      "outputs": [
        {
          "name": "stdout",
          "output_type": "stream",
          "text": [
            "234567.0\n",
            "(234567+0j)\n",
            "5\n",
            "(5.9+0j)\n",
            "234567\n",
            "6\n"
          ]
        }
      ],
      "source": [
        "#coverting number\n",
        "\n",
        "x = 234567\n",
        "y = 5.9\n",
        "z = 3j\n",
        "\n",
        "#int to float\n",
        "a = float(x)\n",
        "print(a)\n",
        "\n",
        "#int to complex\n",
        "b = complex(x)\n",
        "print(b)\n",
        "\n",
        "#float to int\n",
        "c = int(y)\n",
        "print(c)\n",
        "\n",
        "#float to complex\n",
        "d = complex(y)\n",
        "print(d)\n",
        "\n",
        "#int to str\n",
        "e = str(x)\n",
        "print(e)\n",
        "print(len(e))"
      ]
    },
    {
      "cell_type": "markdown",
      "source": [
        "### Mencari FPB"
      ],
      "metadata": {
        "id": "wearFMo8ApWd"
      }
    },
    {
      "cell_type": "code",
      "execution_count": null,
      "metadata": {
        "id": "0Y1ksKulmXSb",
        "outputId": "56f381ed-ec3d-4413-9304-518e768d780d"
      },
      "outputs": [
        {
          "name": "stdout",
          "output_type": "stream",
          "text": [
            "7\n"
          ]
        }
      ],
      "source": [
        "#gcd digunakan untuk FPB dari kedua bilangan itu\n",
        "m = 7\n",
        "n = 14\n",
        "import math\n",
        "print(math.gcd(m, n))"
      ]
    },
    {
      "cell_type": "markdown",
      "source": [
        "### Nilai Phi"
      ],
      "metadata": {
        "id": "1liBCxr5AtUQ"
      }
    },
    {
      "cell_type": "code",
      "execution_count": null,
      "metadata": {
        "id": "yRuLWc8MmXSb",
        "outputId": "068315ef-d9bc-4166-e52c-95ae01a99e87"
      },
      "outputs": [
        {
          "name": "stdout",
          "output_type": "stream",
          "text": [
            "153.93804002589985\n"
          ]
        }
      ],
      "source": [
        " o = 7\n",
        "import math\n",
        "luas = math.pi*o**2\n",
        "print(luas)"
      ]
    },
    {
      "cell_type": "markdown",
      "source": [
        "### Sin Cos Tan"
      ],
      "metadata": {
        "id": "R7sXjfauAvTk"
      }
    },
    {
      "cell_type": "code",
      "execution_count": null,
      "metadata": {
        "id": "-DNErIWWmXSb",
        "outputId": "b2071d41-3b3c-4afa-aa2a-782931ea4f92"
      },
      "outputs": [
        {
          "name": "stdout",
          "output_type": "stream",
          "text": [
            "1.5707963267948966\n",
            "1.0\n",
            "6.123233995736766e-17\n",
            "1.633123935319537e+16\n",
            "1.5707963267948966\n",
            "90.0\n"
          ]
        }
      ],
      "source": [
        "sudut = int(input())\n",
        "pan = 0.5\n",
        "import math\n",
        "radian = math.radians(sudut)\n",
        "print(radian)\n",
        "s = math.sin(radian)\n",
        "c = math.cos(radian)\n",
        "t = math.tan(radian)\n",
        "print(s)\n",
        "print(c)\n",
        "print(t)\n",
        "\n",
        "sud = math.asin(s)\n",
        "print(sud)\n",
        "print(math.degrees(sud))\n"
      ]
    },
    {
      "cell_type": "markdown",
      "source": [
        "### Faktor"
      ],
      "metadata": {
        "id": "dRTNRwZ7A0IY"
      }
    },
    {
      "cell_type": "code",
      "execution_count": null,
      "metadata": {
        "id": "qzpF5_9smXSb",
        "outputId": "fefc2126-d5ec-4f3f-ca8f-e573890c63b4"
      },
      "outputs": [
        {
          "name": "stdout",
          "output_type": "stream",
          "text": [
            "faktor: [1, 2, 4]\n"
          ]
        }
      ],
      "source": [
        "#program faktor\n",
        "list_faktor = []\n",
        "fact = int(input(\"masukkan angka:\"))\n",
        "for i in range(1, fact+1):\n",
        "    if fact % i == 0:\n",
        "        list_faktor.append(i)\n",
        "print(\"faktor:\", list_faktor)"
      ]
    },
    {
      "cell_type": "markdown",
      "source": [
        "### Luas Keliling Lingkaran"
      ],
      "metadata": {
        "id": "IgwIRC9dA32F"
      }
    },
    {
      "cell_type": "code",
      "execution_count": null,
      "metadata": {
        "id": "2piZ0UTdmXSb",
        "outputId": "31d5d9aa-24b7-497b-ad1d-d19eb9d03dfc"
      },
      "outputs": [
        {
          "name": "stdout",
          "output_type": "stream",
          "text": [
            "luas 153.93804002589985\n",
            "keliling 43.982297150257104\n"
          ]
        }
      ],
      "source": [
        "#luas dan keliling lingkaran\n",
        "import math\n",
        "jari2 = int(input(\"masukkan jari-jari lingkaran:\"))\n",
        "luas_lingkaran = math.pi*jari2**2\n",
        "keliling_lingkaran = 2*math.pi*jari2\n",
        "print(\"luas\", luas_lingkaran)\n",
        "print(\"keliling\", keliling_lingkaran)"
      ]
    },
    {
      "cell_type": "markdown",
      "source": [
        "### Panjang sisi segitiga"
      ],
      "metadata": {
        "id": "Vny9wX4GA67x"
      }
    },
    {
      "cell_type": "code",
      "execution_count": null,
      "metadata": {
        "id": "U5frk6x3mXSc",
        "outputId": "0780c2f7-10cc-42c9-91fa-89929c5b6e53"
      },
      "outputs": [
        {
          "name": "stdout",
          "output_type": "stream",
          "text": [
            "panjang sisi: 18.258905014552553\n"
          ]
        }
      ],
      "source": [
        "#panjang suatu sisi dengan sudut tertentu\n",
        "import math\n",
        "sdt = int(input(\"masukkan sudut:\"))\n",
        "panj = int(input(\"masukkan panjang:\"))\n",
        "rad_sdt = math.radians(sdt)\n",
        "panj1 = panj*math.sin(panj)\n",
        "print(\"panjang sisi:\", panj1)"
      ]
    },
    {
      "cell_type": "markdown",
      "source": [
        "### Logaritma"
      ],
      "metadata": {
        "id": "85OvAh_sA9_f"
      }
    },
    {
      "cell_type": "code",
      "execution_count": null,
      "metadata": {
        "id": "1o12xhP8mXSc",
        "outputId": "b589f254-3122-4a51-c0d6-14177cb4ffa1"
      },
      "outputs": [
        {
          "name": "stdout",
          "output_type": "stream",
          "text": [
            "TypeError\n"
          ]
        }
      ],
      "source": [
        "#logaritma pake is digit\n",
        "import math\n",
        "basis = input()\n",
        "numerus = input()\n",
        "if basis.isnumeric() == True and numerus.isnumeric() == True: #isnumeric isdigit sama?\n",
        "    if float(basis) > 0 and float(numerus) > 0:\n",
        "        logaritma = math.log(float(numerus), float(basis))\n",
        "        print(logaritma)\n",
        "    else:\n",
        "        print(\"TypeError\")\n",
        "else:\n",
        "    print(\"TypeError\")"
      ]
    },
    {
      "cell_type": "markdown",
      "source": [
        "### Faktorial"
      ],
      "metadata": {
        "id": "Yzir7aQPBGEK"
      }
    },
    {
      "cell_type": "code",
      "execution_count": null,
      "metadata": {
        "id": "Kfi-BPphmXSc",
        "outputId": "acf020c2-a9f0-4f36-d976-e976176e5083"
      },
      "outputs": [
        {
          "name": "stdout",
          "output_type": "stream",
          "text": [
            "hasil faktorial: 3628800\n",
            "hasil faktorial 3628800\n",
            "hasil faktorial 3628800\n"
          ]
        }
      ],
      "source": [
        "#faktorial suatu bilangan\n",
        "faktorial = 1\n",
        "bila = int(input(\"masukkan bilangan\"))\n",
        "for i in range(1, bila+1):\n",
        "    faktorial*=i\n",
        "print(\"hasil faktorial:\", faktorial)\n",
        "print(f\"hasil faktorial {faktorial}\")\n",
        "print(\"hasil faktorial %s\" %(faktorial))"
      ]
    },
    {
      "cell_type": "code",
      "source": [
        "import math\n",
        "faktor_d = []\n",
        "faktord_str = []\n",
        "d = int(input(\"masukkan angka\"))\n",
        "i = 1\n",
        "faktorial = 1\n",
        "while i <= d:\n",
        "    faktor_d.append(i)\n",
        "    faktorial*=i\n",
        "    i+=1\n",
        "for x in faktor_d:\n",
        "    faktord_str.append(str(x))\n",
        "print(\"*\".join(faktord_str), \"=\", faktorial)"
      ],
      "metadata": {
        "id": "2H3CGXAALjE6"
      },
      "execution_count": null,
      "outputs": []
    },
    {
      "cell_type": "code",
      "execution_count": null,
      "metadata": {
        "id": "I7VyfqM3mXSe",
        "outputId": "481c1317-0897-43a5-d7cd-49d3921b4b5d"
      },
      "outputs": [
        {
          "name": "stdout",
          "output_type": "stream",
          "text": [
            "jumlah: 11\n",
            "rata-rata: 5.5\n"
          ]
        }
      ],
      "source": []
    },
    {
      "cell_type": "markdown",
      "source": [
        "#### Array"
      ],
      "metadata": {
        "id": "D_UTYigzETli"
      }
    },
    {
      "cell_type": "code",
      "source": [
        "import numpy as np\n",
        "total = int(input(\"masukkan banyak angka:\"))\n",
        "list_angka = []\n",
        "for i in range(1, total+1):\n",
        "    angk = int(input(\"masukkan angka:\"))\n",
        "    list_angka.append(angk)\n",
        "\n",
        "array_angka = np.array(list_angka)\n",
        "print(\"jumlah:\", sum(array_angka))\n",
        "print(\"rata-rata:\", sum(array_angka/total))"
      ],
      "metadata": {
        "id": "WqmOIAvWEf9-"
      },
      "execution_count": null,
      "outputs": []
    },
    {
      "cell_type": "code",
      "execution_count": null,
      "metadata": {
        "id": "dqCLiy8MmXSl",
        "outputId": "88aedd38-39a9-4cc0-d69f-6673ffc1c36a"
      },
      "outputs": [
        {
          "name": "stdout",
          "output_type": "stream",
          "text": [
            "[3, 8, 6, 1, 4]\n",
            "paling kecil: 1\n",
            "paling besar: 8\n",
            "nilai setelah sort: [1, 3, 4, 6, 8]\n"
          ]
        }
      ],
      "source": [
        "import numpy as np\n",
        "ttl_angka = int(input(\"masukkan total angka:\"))\n",
        "list_anggka = []\n",
        "for i in range(1, ttl_angka+1):\n",
        "    angkaa = int(input(\"angka:\"))\n",
        "    list_anggka.append(angkaa)\n",
        "angkaaa = np.array(list_anggka)\n",
        "print(list_anggka)\n",
        "print(\"paling kecil:\", min(angkaaa))\n",
        "print(\"paling besar:\", max(angkaaa))\n",
        "list_anggka.sort()\n",
        "print(\"nilai setelah sort:\", list_anggka)"
      ]
    },
    {
      "cell_type": "code",
      "execution_count": null,
      "metadata": {
        "id": "ZnaZr3vWmXSl",
        "outputId": "75d6dd19-df60-4509-b1ad-e09ec290bf50"
      },
      "outputs": [
        {
          "name": "stdout",
          "output_type": "stream",
          "text": [
            "5\n"
          ]
        }
      ],
      "source": [
        "listt = [12, 5, 30, 52, 8, 27]\n",
        "dicarii = int(input(\"masukkan angka yang ingin dicari\"))\n",
        "for i in range (len(listt)):\n",
        "    if listt[i]==dicarii:\n",
        "        print (i)\n",
        "        break\n",
        "else:\n",
        "    print (\"gaada di list oe\")\n"
      ]
    },
    {
      "cell_type": "code",
      "execution_count": null,
      "metadata": {
        "id": "L5WL05e0mXSl",
        "outputId": "760c3f48-ac81-44f9-a678-fe9cb834a554"
      },
      "outputs": [
        {
          "name": "stdout",
          "output_type": "stream",
          "text": [
            "1\n"
          ]
        }
      ],
      "source": [
        "listt = [12, 5, 30, 52, 8, 27]\n",
        "dicarii = int(input(\"masukkan angka yang ingin dicari\"))\n",
        "\n",
        "if dicarii in listt:\n",
        "    index = listt.index(dicarii)\n",
        "    print(index)\n",
        "else:\n",
        "    print('gada')\n",
        "\n"
      ]
    },
    {
      "cell_type": "code",
      "execution_count": null,
      "metadata": {
        "id": "-omHhiMmmXSl",
        "outputId": "e1e9709f-bc22-4938-c955-480af7144d77"
      },
      "outputs": [
        {
          "name": "stdout",
          "output_type": "stream",
          "text": [
            "[0, 0, 0, 0, 70, 0, 6, 0, 11]\n",
            "prima: [2, 5, 7, 11, 17]\n"
          ]
        }
      ],
      "source": [
        "prima = []\n",
        "def cek_prima(x):\n",
        "    cek = True\n",
        "    for i in range(2, x):\n",
        "        if x %i == 0:\n",
        "            cek = False\n",
        "        break\n",
        "    return cek\n",
        "listtt = [5, 6, 7, 10, 70, 2, 6, 17, 11]\n",
        "\n",
        "for i in listtt:\n",
        "    if cek_prima(i)==True:\n",
        "        prima.append(i)\n",
        "\n",
        "for i in range (len(listtt)):\n",
        "    if cek_prima(i)==True:\n",
        "        listtt[i]=0\n",
        "print(listtt)\n",
        "print(\"prima:\", sorted(prima))\n",
        "\n"
      ]
    },
    {
      "cell_type": "markdown",
      "source": [
        "### buah"
      ],
      "metadata": {
        "id": "3Iwc6p85E9dX"
      }
    },
    {
      "cell_type": "code",
      "execution_count": null,
      "metadata": {
        "id": "PRWwrMTxmXSm",
        "outputId": "8d3702fe-2f49-4c49-d450-59c03a4e2c13"
      },
      "outputs": [
        {
          "name": "stdout",
          "output_type": "stream",
          "text": [
            "buah dengan panjang terkecil apel\n",
            "panjangnya yakni {4}\n"
          ]
        }
      ],
      "source": [
        "list=[]\n",
        "buah=input().split(\",\")\n",
        "\n",
        "for i in buah:\n",
        "    list.append(len(i))\n",
        "if min(list)== len(i) :\n",
        "    print (\"buah dengan panjang terkecil\",i)\n",
        "\n",
        "print(\"panjangnya yakni\", {min(list)})"
      ]
    },
    {
      "cell_type": "code",
      "execution_count": null,
      "metadata": {
        "id": "YLYFFy0hmXSm",
        "outputId": "02878023-d926-4b29-c62a-b56aa927aeff"
      },
      "outputs": [
        {
          "name": "stdout",
          "output_type": "stream",
          "text": [
            "buah dengan panjang terkecil: apel\n",
            "panjangnya yakni 4\n"
          ]
        }
      ],
      "source": [
        "list =[]\n",
        "buah = input().split(',')\n",
        "\n",
        "for i in buah:\n",
        "    list.append(len(i))\n",
        "if min(list)== len(i):\n",
        "    print(f\"buah dengan panjang terkecil: {i}\")\n",
        "\n",
        "print(f\"panjangnya yakni {min(list)}\")"
      ]
    },
    {
      "cell_type": "code",
      "execution_count": null,
      "metadata": {
        "id": "GCSetHNcmXSm",
        "outputId": "24148f56-a142-4567-b039-6bb2e338da63"
      },
      "outputs": [
        {
          "name": "stdout",
          "output_type": "stream",
          "text": [
            "[8] : semangka\n",
            "[8, 4] : apel\n",
            "[8, 4, 5] : melon\n"
          ]
        }
      ],
      "source": [
        "list =[]\n",
        "buah = input().split(',')\n",
        "\n",
        "for i in buah:\n",
        "    list.append(len(i))\n",
        "    print(f\"{list} : {i}\")"
      ]
    },
    {
      "cell_type": "code",
      "execution_count": null,
      "metadata": {
        "colab": {
          "base_uri": "https://localhost:8080/"
        },
        "id": "QYKloxZqmXSm",
        "outputId": "8a1d1c9c-fc58-4f27-f8ea-32db77c62991"
      },
      "outputs": [
        {
          "output_type": "stream",
          "name": "stdout",
          "text": [
            "masukkan huruf:a\n",
            "masukkan huruf:b\n",
            "masukkan huruf:e\n",
            "masukkan huruf:o\n",
            "masukkan huruf:i\n",
            "input: ['a', 'b', 'e', 'o', 'i']\n",
            "vokal: ['a', 'e', 'o', 'i']\n"
          ]
        }
      ],
      "source": [
        "import numpy as np\n",
        "arrayy = []\n",
        "vocal = []\n",
        "for i in range(5):\n",
        "    bc = input(\"masukkan huruf:\").lower()\n",
        "    arrayy.append(bc)\n",
        "    de = np.array(arrayy)\n",
        "vokall = 'aiueo'\n",
        "for i in de:\n",
        "    if i in vokall:\n",
        "        vocal.append(i)\n",
        "print(\"input:\", arrayy)\n",
        "print(\"vokal:\", vocal)\n",
        "sort.vocal\n",
        "\n"
      ]
    },
    {
      "cell_type": "code",
      "execution_count": null,
      "metadata": {
        "id": "sfpLghROmXSn",
        "colab": {
          "base_uri": "https://localhost:8080/"
        },
        "outputId": "0ccdc645-879f-4b34-acca-fb31b432e4b2"
      },
      "outputs": [
        {
          "output_type": "stream",
          "name": "stdout",
          "text": [
            "Masukkan huruf: a\n",
            "Masukkan huruf: b\n",
            "Masukkan huruf: c\n",
            "Masukkan huruf: d\n",
            "Masukkan huruf: z\n",
            "{'vokal': ['a'], 'bukan vokal': ['b', 'c', 'd', 'z']}\n"
          ]
        }
      ],
      "source": [
        "# Membuat array kosong\n",
        "huruf = []\n",
        "\n",
        "# Meminta 5 inputan dari pengguna\n",
        "for i in range(5):\n",
        "    huruf.append(input(\"Masukkan huruf: \")d)\n",
        "\n",
        "# Deklarasi dictionary\n",
        "dictionary = {\n",
        "    \"vokal\": [],\n",
        "    \"bukan vokal\": [],\n",
        "}\n",
        "\n",
        "# Mengisi dictionary\n",
        "for huruf in huruf:\n",
        "    if huruf in \"aiueo\":\n",
        "        dictionary[\"vokal\"].append(huruf)\n",
        "    else:\n",
        "        dictionary[\"bukan vokal\"].append(huruf)\n",
        "\n",
        "# Menampilkan dictionary\n",
        "print(dictionary)"
      ]
    },
    {
      "cell_type": "code",
      "source": [
        "# Membuat array kosong\n",
        "huruf = []\n",
        "\n",
        "# Meminta 5 inputan dari pengguna\n",
        "for i in range(5):\n",
        "    x= input(\"Masukkan huruf: \")\n",
        "    huruf.append(x)\n",
        "\n",
        "# Deklarasi dictionary\n",
        "dictionary = {\n",
        "    \"vokal\": [],\n",
        "    \"bukan vokal\": [],\n",
        "}\n",
        "\n",
        "# Mengisi dictionary\n",
        "for x in huruf:\n",
        "    if x in \"aiueo\":\n",
        "        dictionary[\"vokal\"].append(x)\n",
        "    else:\n",
        "        dictionary[\"bukan vokal\"].append(x)\n",
        "\n",
        "# Menampilkan dictionary\n",
        "print(dictionary)"
      ],
      "metadata": {
        "colab": {
          "base_uri": "https://localhost:8080/"
        },
        "id": "SzdcgG1J8Pbr",
        "outputId": "1c6868fd-8d80-4930-f642-04320f54e86d"
      },
      "execution_count": null,
      "outputs": [
        {
          "output_type": "stream",
          "name": "stdout",
          "text": [
            "Masukkan huruf: a\n",
            "Masukkan huruf: b\n",
            "Masukkan huruf: b\n",
            "Masukkan huruf: c\n",
            "Masukkan huruf: z\n",
            "{'vokal': ['a'], 'bukan vokal': ['b', 'b', 'c', 'z']}\n"
          ]
        }
      ]
    },
    {
      "cell_type": "code",
      "source": [
        "# Membuat array kosong\n",
        "array = []\n",
        "\n",
        "# Meminta input dari user sebanyak 5 kali\n",
        "for i in range(5):\n",
        "    nilai = input(\"Masukkan nilai array: \")\n",
        "    array.append(nilai)\n",
        "\n",
        "# Mencari nilai vokal dalam array\n",
        "vokal = []\n",
        "for nilai in array:\n",
        "    if nilai in \"aiueoAIUEO\":\n",
        "        vokal.append(nilai)\n",
        "\n",
        "# Membalikkan nilai array\n",
        "array.reverse()\n",
        "\n",
        "# Mengubah array menjadi dictionary\n",
        "dictionary = {}\n",
        "for i in range(len(array)):\n",
        "    if array[i] in \"aiueoAIUEO\":\n",
        "        dictionary[\"vokal\"] = array[i]\n",
        "    else:\n",
        "        dictionary[\"konsonan\"] = array[i]\n",
        "\n",
        "# Menampilkan hasil\n",
        "print(f\"Nilai vokal dalam array: {vokal}\")\n",
        "print(f\"Array yang dibalik: {array}\")\n",
        "print(f\"Dictionary: {dictionary}\")"
      ],
      "metadata": {
        "id": "UTr8e512nYQg"
      },
      "execution_count": null,
      "outputs": []
    },
    {
      "cell_type": "markdown",
      "source": [
        "## Romawi"
      ],
      "metadata": {
        "id": "ZE6XJxTY4Ube"
      }
    },
    {
      "cell_type": "code",
      "source": [
        "#romawi\n",
        "# Function to calculate Roman values\n",
        "def intToRoman(num):\n",
        "\n",
        "\t# Storing roman values of digits from 0-9\n",
        "\t# when placed at different places\n",
        "\tm = [\"\", \"M\", \"MM\", \"MMM\"]\n",
        "\tc = [\"\", \"C\", \"CC\", \"CCC\", \"CD\", \"D\",\n",
        "\t\t\"DC\", \"DCC\", \"DCCC\", \"CM \"]\n",
        "\tx = [\"\", \"X\", \"XX\", \"XXX\", \"XL\", \"L\",\n",
        "\t\t\"LX\", \"LXX\", \"LXXX\", \"XC\"]\n",
        "\ti = [\"\", \"I\", \"II\", \"III\", \"IV\", \"V\",\n",
        "\t\t\"VI\", \"VII\", \"VIII\", \"IX\"]\n",
        "\n",
        "\t# Converting to roman\n",
        "\tthousands = m[num // 1000]\n",
        "\thundreds = c[(num % 1000) // 100]\n",
        "\ttens = x[(num % 100) // 10]\n",
        "\tones = i[num % 10]\n",
        "\n",
        "\tans = (thousands + hundreds +\n",
        "\t\ttens + ones)\n",
        "\n",
        "\treturn ans\n",
        "\n",
        "num = int(input(\"Masukkan angka: \"))\n",
        "intToRoman(num)\n"
      ],
      "metadata": {
        "id": "iuVwM34-nise"
      },
      "execution_count": null,
      "outputs": []
    },
    {
      "cell_type": "code",
      "source": [
        "buah=input().split(\",\")\n",
        "list_panjang = []\n",
        "list_buah = []\n",
        "for i in buah:\n",
        "    list_panjang.append(len(i))\n",
        "    list_buah.append(i)\n",
        "\n",
        "list_panjang.sort()\n",
        "list_buah.sort()\n",
        "print(list_panjang)\n",
        "print(list_buah)\n",
        "dictionary = dict(zip(list_buah,list_panjang))\n",
        "print(f\"buah {list(dictionary.keys())} memiliki panjang {list((dictionary.values()))}\")\n",
        "print(\"panjangnya yakni\",min(list_panjang))"
      ],
      "metadata": {
        "colab": {
          "base_uri": "https://localhost:8080/"
        },
        "id": "x02wedhPnoiT",
        "outputId": "dac48b6d-da59-4bcd-cf38-7b4a78f6334f"
      },
      "execution_count": null,
      "outputs": [
        {
          "output_type": "stream",
          "name": "stdout",
          "text": [
            "apel,melon,semangka\n",
            "[4, 5, 8]\n",
            "['apel', 'melon', 'semangka']\n"
          ]
        },
        {
          "output_type": "error",
          "ename": "TypeError",
          "evalue": "'list' object is not callable",
          "traceback": [
            "\u001b[0;31m---------------------------------------------------------------------------\u001b[0m",
            "\u001b[0;31mTypeError\u001b[0m                                 Traceback (most recent call last)",
            "\u001b[0;32m<ipython-input-24-752e2bd6cdbe>\u001b[0m in \u001b[0;36m<cell line: 11>\u001b[0;34m()\u001b[0m\n\u001b[1;32m      9\u001b[0m \u001b[0mprint\u001b[0m\u001b[0;34m(\u001b[0m\u001b[0mlist_buah\u001b[0m\u001b[0;34m)\u001b[0m\u001b[0;34m\u001b[0m\u001b[0;34m\u001b[0m\u001b[0m\n\u001b[1;32m     10\u001b[0m \u001b[0mdictionary\u001b[0m \u001b[0;34m=\u001b[0m \u001b[0mdict\u001b[0m\u001b[0;34m(\u001b[0m\u001b[0mzip\u001b[0m\u001b[0;34m(\u001b[0m\u001b[0mlist_buah\u001b[0m\u001b[0;34m,\u001b[0m\u001b[0mlist_panjang\u001b[0m\u001b[0;34m)\u001b[0m\u001b[0;34m)\u001b[0m\u001b[0;34m\u001b[0m\u001b[0;34m\u001b[0m\u001b[0m\n\u001b[0;32m---> 11\u001b[0;31m \u001b[0mprint\u001b[0m\u001b[0;34m(\u001b[0m\u001b[0;34mf\"buah {list(dictionary.keys())} memiliki panjang {(dictionary.values())}\"\u001b[0m\u001b[0;34m)\u001b[0m\u001b[0;34m\u001b[0m\u001b[0;34m\u001b[0m\u001b[0m\n\u001b[0m\u001b[1;32m     12\u001b[0m \u001b[0mprint\u001b[0m\u001b[0;34m(\u001b[0m\u001b[0;34m\"panjangnya yakni\"\u001b[0m\u001b[0;34m,\u001b[0m\u001b[0mmin\u001b[0m\u001b[0;34m(\u001b[0m\u001b[0mlist_panjang\u001b[0m\u001b[0;34m)\u001b[0m\u001b[0;34m)\u001b[0m\u001b[0;34m\u001b[0m\u001b[0;34m\u001b[0m\u001b[0m\n",
            "\u001b[0;31mTypeError\u001b[0m: 'list' object is not callable"
          ]
        }
      ]
    },
    {
      "cell_type": "code",
      "source": [
        "list=[]\n",
        "buah=[\"apel\",\"mangga\",\"melon\",\"leci\"]\n",
        "print(sorted(buah,key=len))\n",
        "for i in buah:\n",
        "    list.append(len(i))\n",
        "print(sorted(list))"
      ],
      "metadata": {
        "colab": {
          "base_uri": "https://localhost:8080/"
        },
        "id": "LSF2Anle4Jil",
        "outputId": "906624ae-2d45-4924-e035-00b247926017"
      },
      "execution_count": null,
      "outputs": [
        {
          "output_type": "stream",
          "name": "stdout",
          "text": [
            "['apel', 'leci', 'melon', 'mangga']\n",
            "[4, 4, 5, 6]\n"
          ]
        }
      ]
    },
    {
      "cell_type": "code",
      "source": [
        "abuah=[]\n",
        "kata=[]\n",
        "panjang=[]\n",
        "\n",
        "n=input()\n",
        "a=len(n)\n",
        "if n!='stop':\n",
        "    buah.append(n)\n",
        "    kata.append(a)\n",
        "    while n!='stop':\n",
        "        n=input()\n",
        "        a=len(n)\n",
        "        if n!='stop':\n",
        "            buah.append(n)\n",
        "            kata.append(a)\n",
        "kata.sort()\n",
        "buah1=buah\n",
        "for i in buah1:\n",
        "     panjang_terkecil=min(buah1, key=len)\n",
        "     panjang.append(panjang_terkecil)\n",
        "     buah1.remove(min(buah1, key=len))\n",
        "buah1=str(buah1).replace('[','').replace(']','').replace(\"'\",'')\n",
        "panjang.append((buah1))\n",
        "\n",
        "print(panjang)\n",
        "print(kata)"
      ],
      "metadata": {
        "colab": {
          "base_uri": "https://localhost:8080/"
        },
        "id": "ib5QdrfA4NH5",
        "outputId": "72bb5854-8f3f-4e94-e996-a57d729a9a23"
      },
      "execution_count": null,
      "outputs": [
        {
          "output_type": "stream",
          "name": "stdout",
          "text": [
            "apel\n",
            "mangga\n",
            "melon\n",
            "leci\n",
            "stop\n",
            "['a', 'apel', 'leci', 'apel,mangga,melon,leci, mangga, melon']\n",
            "[4, 4, 5, 6]\n"
          ]
        }
      ]
    },
    {
      "cell_type": "code",
      "source": [
        "list=[]\n",
        "buah=input().split(\",\")\n",
        "\n",
        "for i in buah:\n",
        "    list.append(len(i))\n",
        "if min(list)==len(i) :\n",
        "    print (\"buah dengan panjang terkecil\",i)\n",
        "\n",
        "print(\"panjangnya yakni\",min(list))"
      ],
      "metadata": {
        "colab": {
          "base_uri": "https://localhost:8080/"
        },
        "id": "S_qjDihP6Dsa",
        "outputId": "dd38e901-1ed3-4788-ee14-67713bf0d8ca"
      },
      "execution_count": null,
      "outputs": [
        {
          "output_type": "stream",
          "name": "stdout",
          "text": [
            "apel,mangga,leci,melon\n",
            "panjangnya yakni 4\n"
          ]
        }
      ]
    },
    {
      "cell_type": "markdown",
      "source": [
        "### Dictionary"
      ],
      "metadata": {
        "id": "ojhsWIOv3s_g"
      }
    },
    {
      "cell_type": "code",
      "source": [
        "# Membuat dictionary kosong\n",
        "sinonim = {}\n",
        "\n",
        "# Input kata dan sinonimnya\n",
        "for i in range(10):\n",
        "  kata = input(\"Masukkan kata: \").lower()\n",
        "  sinonimnya = input(f\"Masukkan sinonim kata {kata}: \").lower()\n",
        "  sinonim[kata] = sinonimnya\n",
        "\n",
        "# Mencari kata\n",
        "kata_dicari = input(\"Masukkan kata yang ingin dicari sinonimnya: \")\n",
        "kata_dicari.lower()\n",
        "\n",
        "# Menampilkan sinonim jika ditemukan\n",
        "if kata_dicari in sinonim:\n",
        "  print(sinonim)\n",
        "  print(f\"Sinonim dari kata '{kata_dicari}' adalah '{sinonim[kata_dicari]}'.\")\n",
        "else:\n",
        "  print(\"Kata tersebut belum ada pada dictionary.\")"
      ],
      "metadata": {
        "id": "dmUgokEn30M1"
      },
      "execution_count": null,
      "outputs": []
    },
    {
      "cell_type": "code",
      "source": [
        "list=[]\n",
        "while True:\n",
        "    x=input()\n",
        "    if x==\"stop\":\n",
        "        break\n",
        "    list.append(x)\n",
        "print(*list)"
      ],
      "metadata": {
        "colab": {
          "base_uri": "https://localhost:8080/"
        },
        "id": "xovQuCda6JT7",
        "outputId": "10a210af-9bdf-4ed7-eb0b-d39a099405fd"
      },
      "execution_count": null,
      "outputs": [
        {
          "output_type": "stream",
          "name": "stdout",
          "text": [
            "aku\n",
            "suka\n",
            "belajar\n",
            "stop\n",
            "aku suka belajar\n"
          ]
        }
      ]
    },
    {
      "cell_type": "markdown",
      "source": [
        "### fungsi cek prima"
      ],
      "metadata": {
        "id": "CoSTDr87LPJM"
      }
    },
    {
      "cell_type": "code",
      "source": [
        "def cekprima(x):\n",
        "    cek = True\n",
        "    for i in range(2, x):\n",
        "        if x%i==0:\n",
        "            cek = False\n",
        "            break\n",
        "    return cek"
      ],
      "metadata": {
        "id": "2nToZbUiLVc_"
      },
      "execution_count": null,
      "outputs": []
    }
  ],
  "metadata": {
    "kernelspec": {
      "display_name": "Python 3",
      "language": "python",
      "name": "python3"
    },
    "language_info": {
      "codemirror_mode": {
        "name": "ipython",
        "version": 3
      },
      "file_extension": ".py",
      "mimetype": "text/x-python",
      "name": "python",
      "nbconvert_exporter": "python",
      "pygments_lexer": "ipython3",
      "version": "3.11.5"
    },
    "colab": {
      "provenance": [],
      "collapsed_sections": [
        "H1IKRZB89dIm"
      ],
      "toc_visible": true
    }
  },
  "nbformat": 4,
  "nbformat_minor": 0
}