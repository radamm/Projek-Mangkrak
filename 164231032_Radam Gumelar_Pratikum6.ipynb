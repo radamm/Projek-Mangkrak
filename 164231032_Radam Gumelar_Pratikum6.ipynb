{
 "cells": [
  {
   "cell_type": "markdown",
   "metadata": {},
   "source": [
    "### Nama  : Radam Gumelar\n",
    "### NIM   : 164231032\n",
    "### Pratikum 6"
   ]
  },
  {
   "cell_type": "markdown",
   "metadata": {},
   "source": [
    "1. Lakukan semua percobaan praktikum di atas secara mandiri (1-5) dan berikan penjelasan"
   ]
  },
  {
   "cell_type": "code",
   "execution_count": 2,
   "metadata": {},
   "outputs": [
    {
     "name": "stdout",
     "output_type": "stream",
     "text": [
      "1\n",
      "2\n",
      "3\n"
     ]
    }
   ],
   "source": [
    "i = 1\n",
    "while i < 6:\n",
    "    print(i)\n",
    "    if i == 3:\n",
    "        break\n",
    "    i += 1"
   ]
  },
  {
   "cell_type": "markdown",
   "metadata": {},
   "source": [
    "#### Penjelasan\n",
    "kode diatas melakukan while looping dengan kejadian:\n",
    "1. inisiasi nilai i = 1\n",
    "2. jika nilai i < 6 maka akan menampilkan nilai i\n",
    "3. nilai i akan bertambah 1 setiap perulangan\n",
    "4. jika nilai i = 3, maka perulangan berhenti karena ada syarat ``break`` jika i = 3"
   ]
  },
  {
   "cell_type": "code",
   "execution_count": 4,
   "metadata": {},
   "outputs": [
    {
     "name": "stdout",
     "output_type": "stream",
     "text": [
      "1\n",
      "2\n",
      "4\n",
      "5\n",
      "6\n"
     ]
    }
   ],
   "source": [
    "i = 0\n",
    "while i < 6:\n",
    "    i += 1\n",
    "    if i == 3:\n",
    "        continue\n",
    "    print(i)"
   ]
  },
  {
   "cell_type": "markdown",
   "metadata": {},
   "source": [
    "#### Penjelasan\n",
    "sama seperti penjelasan pada program sebelumnya, namun disini jika nilai i = 3 maka dia ``continue`` yang artinya dia ke skip alias dilewati. maka bisa dilihat output yang dihasilkan tidak memuat angka 3.<br>\n",
    "kemudian kenapa angka 6 dicetak padahal syarat while adalah i < 6 adalah karena di proses pertama saat perulangan, nilai i ditambahkan terlebih dahulu baru di cetak, oleh sebab itu proses yg terakhir adalah:\n",
    "* i bernilai 5 (memenuhi syarat while)\n",
    "* nilai i + 1 menjadi 6\n",
    "* nilai i dicetak"
   ]
  },
  {
   "cell_type": "code",
   "execution_count": 5,
   "metadata": {},
   "outputs": [
    {
     "name": "stdout",
     "output_type": "stream",
     "text": [
      "aku\n",
      "kamu\n"
     ]
    }
   ],
   "source": [
    "orang = [\"aku\", \"kamu\", \"dia\"]\n",
    "for x in orang:\n",
    "    print(x)\n",
    "    if x == \"kamu\":\n",
    "        break"
   ]
  },
  {
   "cell_type": "markdown",
   "metadata": {},
   "source": [
    "#### Penjelasan\n",
    "program diatas memanggil semua nilai yang ada di list ``orang`` namun ketika nilai di list adalah \"kamu\" maka program akan berhenti atau selesai, oeh karena itu nilai \"dia\" tidak ditampilkan di output"
   ]
  },
  {
   "cell_type": "code",
   "execution_count": 6,
   "metadata": {},
   "outputs": [
    {
     "name": "stdout",
     "output_type": "stream",
     "text": [
      "ani\n",
      "angel\n",
      "lelga\n",
      "prasetyo\n"
     ]
    }
   ],
   "source": [
    "nama = [\"ani\", \"angel\", \"lelga\", \"viki\", \"prasetyo\"]\n",
    "for x in nama:\n",
    "    if x == \"viki\":\n",
    "        continue\n",
    "    print(x)\n"
   ]
  },
  {
   "cell_type": "markdown",
   "metadata": {},
   "source": [
    "#### Penjelasan\n",
    "program diatas sama seperti program diatasnya, namun disini menggunakan ``continue`` di kondisi nilai x adalah \"viki\". jadi ketika memanggil nilai di list ``nama`` ketika nilainya \"viki\" maka akan di skip dan tidak ditampilkan."
   ]
  },
  {
   "cell_type": "code",
   "execution_count": 7,
   "metadata": {},
   "outputs": [
    {
     "name": "stdout",
     "output_type": "stream",
     "text": [
      "0\n",
      "1\n",
      "2\n",
      "3\n",
      "4\n",
      "5\n",
      "2\n",
      "3\n",
      "4\n",
      "5\n"
     ]
    }
   ],
   "source": [
    "# range contoh 1\n",
    "for x in range (6):\n",
    "    print(x)\n",
    "# range contoh 2\n",
    "for x in range (2, 6):\n",
    "    print(x)"
   ]
  },
  {
   "cell_type": "markdown",
   "metadata": {},
   "source": [
    "#### Penjelasan\n",
    "untuk contoh satu, ``for x in range (6)`` berarti memanggil angka dari 0 sampai sebelum batas range (karena disitu tertulis 6 maka akan berhenti di angka sebelum 6 yaitu angka 5)<br>\n",
    "untuk contoh dua, ``for x in range (2,6)`` berarti memberi batas bawah dan batas atas pemanggilan angka. angka yang terpanggil yaitu 2 (batas bawah) sampai dengan angka 5 (1 angka sebelum batas atas)"
   ]
  },
  {
   "cell_type": "markdown",
   "metadata": {},
   "source": [
    "----------------------------------------------------------------------------------------------------------------------"
   ]
  },
  {
   "cell_type": "markdown",
   "metadata": {},
   "source": [
    "2. Buatlah sebuah program untuk mencetak output sesuai dengan syarat di bawah ini:\n",
    "   - Input berupa angka dan harus bernilai lebih besar dari 0 serta merupakan bilangan positif, jika tidak maka tampilkan pesan \"error\".\n",
    "   - Input untuk memilih opsi segitiga/persegi, jika input yang diberikan diluar dari pilihan tersebut maka tampilkan pesan \"error\".\n"
   ]
  },
  {
   "cell_type": "code",
   "execution_count": 26,
   "metadata": {},
   "outputs": [
    {
     "name": "stdout",
     "output_type": "stream",
     "text": [
      "====================\n",
      "Pilih bentuk: \n",
      "1. persegi\n",
      "2. Segitiga\n",
      "====================\n",
      "pilihan : Segitiga\n",
      "input : 4\n",
      "****\n",
      "***\n",
      "**\n",
      "*\n"
     ]
    }
   ],
   "source": [
    "bentuk = [\"persegi\", \"Segitiga\"]\n",
    "\n",
    "n = int(input(\"input angka: \"))\n",
    "if n > 0:\n",
    "    def menu():\n",
    "        try:\n",
    "            print(20*\"=\")\n",
    "            print(\"Pilih bentuk: \")\n",
    "            x = 1\n",
    "            for i in bentuk:\n",
    "                print(f\"{x}. {i}\")\n",
    "                x+=1\n",
    "            print(20*\"=\")\n",
    "\n",
    "            pilih = int(input(\"Masukkan pilihan bentuk [1/2]: \"))\n",
    "\n",
    "            if pilih == 1:\n",
    "                print(f\"pilihan : {bentuk[0]}\")\n",
    "                print(f\"input : {n}\")\n",
    "                for i in range(0,n):\n",
    "                    print(\"*\"*n)\n",
    "            elif pilih == 2:\n",
    "                print(f\"pilihan : {bentuk[1]}\")\n",
    "                print(f\"input : {n}\")\n",
    "                for i in range(n,0,-1):\n",
    "                    print(\"*\"*i)\n",
    "            else:\n",
    "                print(\"error\")\n",
    "                menu()\n",
    "        except ValueError:\n",
    "            print(\"inputan angka only\")\n",
    "            menu()\n",
    "    menu()\n",
    "else:\n",
    "    print(\"error\")\n",
    "\n"
   ]
  },
  {
   "cell_type": "markdown",
   "metadata": {},
   "source": [
    "#### Penjelasan\n",
    "mula mula buat list untuk menyimpan nilai \"persegi\" dan \"segitiga\" (ini saya buat cmn untuk mencoba menampilkan pilihan dengan for)<br>\n",
    "penjelasan program:\n",
    "1. user diminta input angka yang akan digunakan untuk menentukan tinggi ukuran bangun datar\n",
    "2. jika nilai inputan kurang dari 0, maka akan menampilkan tulisan \"error\"\n",
    "3. jika inputan lebih dari 0 maka:\n",
    "   1. akan menampilkan pilihan bentuk\n",
    "   2. user akan diminta menginputkan angka 1 atau 2 untuk memilih\n",
    "   3. jika menginputkan selain 1 dan 2, akan menampilkan tulisan \"error\" dan akan diminta menginputkan lagi\n",
    "   4. jika input angka 1, maka akan menampilkan pilihan persegi dan menampilkan bentuk persegi dengan ukuran sesuai inputan awal\n",
    "   5. jika input angka 2, maka akan menampilkan pilihan segitiga dan menampilkan bentuk segitiga dengan ukuran sesuai inputan awal\n",
    "\n",
    "saya memakai fungsi bernama ``menu`` yang digunakan untuk memanggil program didalamnya. pemanggilan fungsi ini saya letakkan setelah program mengalami output \"error\" agar user bisa kembali melakukan inputan saya letakkan setelah isian fungsinya untuk memanggil fungsi tersebut"
   ]
  }
 ],
 "metadata": {
  "kernelspec": {
   "display_name": "Python 3",
   "language": "python",
   "name": "python3"
  },
  "language_info": {
   "codemirror_mode": {
    "name": "ipython",
    "version": 3
   },
   "file_extension": ".py",
   "mimetype": "text/x-python",
   "name": "python",
   "nbconvert_exporter": "python",
   "pygments_lexer": "ipython3",
   "version": "3.10.undefined"
  }
 },
 "nbformat": 4,
 "nbformat_minor": 2
}
