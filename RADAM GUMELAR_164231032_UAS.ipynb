{
 "cells": [
  {
   "cell_type": "markdown",
   "id": "6500ac80",
   "metadata": {},
   "source": [
    "# UAS Pengantar Pemrograman 2023/2024\n",
    "## RADAM GUMELAR\n",
    "## 164231032"
   ]
  },
  {
   "cell_type": "markdown",
   "id": "968092f5",
   "metadata": {},
   "source": [
    "### No. 1"
   ]
  },
  {
   "cell_type": "code",
   "execution_count": 2,
   "id": "e81f225b",
   "metadata": {},
   "outputs": [
    {
     "name": "stdout",
     "output_type": "stream",
     "text": [
      "Masukkan pilihan anda : Gunting\n",
      "AI memilih : Kertas\n",
      "Anda Menang!\n"
     ]
    }
   ],
   "source": [
    "import random\n",
    "suit = [\"Kertas\", \"Batu\", \"Gunting\"]\n",
    "nilai = random.choice(suit)\n",
    "masuk = input(\"Masukkan pilihan anda : \")\n",
    "aku = masuk.lower()\n",
    "def hasil():\n",
    "    if nilai == \"Kertas\" and aku == \"gunting\":\n",
    "        print(\"Anda Menang!\")\n",
    "    elif nilai == \"Kertas\" and aku == \"batu\":\n",
    "        print(\"Anda Kalah!\")\n",
    "    elif nilai == \"Kertas\" and aku == \"kertas\":\n",
    "        print(\"Permainan Seri!\")\n",
    "    elif nilai == \"Batu\" and aku == \"gunting\":\n",
    "        print(\"Anda Kalah!\")\n",
    "    elif nilai == \"Batu\" and aku == \"batu\":\n",
    "        print(\"Permainan Seri!\")\n",
    "    elif nilai == \"Batu\" and aku == \"kertas\":\n",
    "        print(\"Anda Menang!\")\n",
    "    elif nilai == \"Gunting\" and aku == \"gunting\":\n",
    "        print(\"Permainan Seri!\")\n",
    "    elif nilai == \"Gunting\" and aku == \"batu\":\n",
    "        print(\"Anda Menang!\")\n",
    "    elif nilai == \"Gunting\" and aku == \"kertas\":\n",
    "        print(\"Anda Kalah!\")\n",
    "    else:\n",
    "        print(\"Inputan tidak sesuai\")\n",
    "print(f\"AI memilih : {nilai}\")\n",
    "hasil()\n"
   ]
  },
  {
   "cell_type": "markdown",
   "id": "99261649",
   "metadata": {},
   "source": [
    "### No. 2"
   ]
  },
  {
   "cell_type": "code",
   "execution_count": 3,
   "id": "5835385a",
   "metadata": {},
   "outputs": [
    {
     "name": "stdout",
     "output_type": "stream",
     "text": [
      "Masukkan sebuah kata : outstanding\n",
      "ou... ou... outstanding?\n"
     ]
    }
   ],
   "source": [
    "ngomong = input(\"Masukkan sebuah kata : \")\n",
    "def gagap(kata):\n",
    "    print(f\"{kata[:2]}... {kata[:2]}... {kata}?\")\n",
    "gagap(ngomong)"
   ]
  },
  {
   "cell_type": "markdown",
   "id": "12364afc",
   "metadata": {},
   "source": [
    "### No. 3"
   ]
  },
  {
   "cell_type": "code",
   "execution_count": 4,
   "id": "16e5c807",
   "metadata": {},
   "outputs": [
    {
     "name": "stdout",
     "output_type": "stream",
     "text": [
      "Masukkan Nilai Rupiah : 150000\n",
      "Nilai Dolar : 10.0\n",
      "Nilai Euro : 8.823529411764707\n"
     ]
    }
   ],
   "source": [
    "rupiah = int(input(\"Masukkan Nilai Rupiah : \"))\n",
    "\n",
    "def dollar(rupiah):\n",
    "    nilai = rupiah/15000\n",
    "    print(f\"Nilai Dolar : {nilai}\")\n",
    "\n",
    "def euro(rupiah):\n",
    "    nilai = rupiah/17000\n",
    "    print(f\"Nilai Euro : {nilai}\")\n",
    "\n",
    "dollar(rupiah)\n",
    "euro(rupiah)\n"
   ]
  },
  {
   "cell_type": "markdown",
   "id": "b2c27662",
   "metadata": {},
   "source": [
    "### No. 4"
   ]
  },
  {
   "cell_type": "code",
   "execution_count": 14,
   "id": "50614cf9",
   "metadata": {},
   "outputs": [
    {
     "name": "stdout",
     "output_type": "stream",
     "text": [
      "Masukkan Angka : 12\n",
      "Angka Romawi : XII"
     ]
    }
   ],
   "source": [
    "angka = int(input(\"Masukkan Angka : \"))\n",
    "def romawi(angka):\n",
    "    nomer = [1, 4, 5, 9, 10, 40, 50, 90, 100, 400, 500, 900, 1000, 5000]\n",
    "    simbol = [\"I\", \"IV\", \"V\", \"IX\", \"X\", \"XL\", \"L\", \"XC\", \"C\", \"CD\", \"D\", \"CM\", \"M\", \"V aksen\"]\n",
    "    i = 13\n",
    "    while angka:\n",
    "        div = angka // nomer[i]\n",
    "        angka %= nomer[i]\n",
    "        \n",
    "        while div:\n",
    "            print(simbol[i], end = \"\")\n",
    "            div -= 1\n",
    "        i -= 1\n",
    "print(\"Angka Romawi : \", end= \"\")\n",
    "romawi(angka)"
   ]
  },
  {
   "cell_type": "markdown",
   "id": "ee6f21de",
   "metadata": {},
   "source": [
    "### No. 5"
   ]
  },
  {
   "cell_type": "code",
   "execution_count": 15,
   "id": "ee4e9445",
   "metadata": {},
   "outputs": [
    {
     "name": "stdout",
     "output_type": "stream",
     "text": [
      "Masukkan Angka Pertama : 5\n",
      "Masukkan Operator : +\n",
      "Masukkan Angka Kedua : 3\n",
      "Hasil: 8.0\n"
     ]
    }
   ],
   "source": [
    "a = float(input(\"Masukkan Angka Pertama : \"))\n",
    "op = input(\"Masukkan Operator : \")\n",
    "b = float(input(\"Masukkan Angka Kedua : \"))\n",
    "\n",
    "def kalkulator(a,op,b):\n",
    "    if op == \"+\":\n",
    "        print(a+b)\n",
    "    elif op == \"-\":\n",
    "        print(a-b)\n",
    "    elif op == \"*\":\n",
    "        print(a*b)\n",
    "    elif op == \"/\":\n",
    "        print(a/b)\n",
    "    else:\n",
    "        print(\"Operator Salah\")\n",
    "print(\"Hasil:\", end =\" \")\n",
    "kalkulator(a,op,b)"
   ]
  },
  {
   "cell_type": "markdown",
   "id": "f73851ec",
   "metadata": {},
   "source": [
    "### No. 6"
   ]
  },
  {
   "cell_type": "code",
   "execution_count": 12,
   "id": "4e930bf9",
   "metadata": {},
   "outputs": [
    {
     "name": "stdout",
     "output_type": "stream",
     "text": [
      "Masukkan Huruf : A\n",
      "Huruf Adalah Vocal\n"
     ]
    }
   ],
   "source": [
    "a = input(\"Masukkan Huruf : \")\n",
    "huruf = a.lower()\n",
    "if huruf == \"a\" or huruf == \"i\" or huruf == \"u\" or huruf == \"e\" or huruf == \"o\":\n",
    "    print(\"Huruf Adalah Vocal\")\n",
    "else:\n",
    "    print(\"Huruf Adalah Konsonan\")"
   ]
  },
  {
   "cell_type": "markdown",
   "id": "7f5494da",
   "metadata": {},
   "source": [
    "### No.7"
   ]
  },
  {
   "cell_type": "code",
   "execution_count": 7,
   "id": "9c63c43a",
   "metadata": {},
   "outputs": [
    {
     "name": "stdout",
     "output_type": "stream",
     "text": [
      "Masukkan Nilai : 80\n",
      "Nilai : B\n"
     ]
    }
   ],
   "source": [
    "nilai = int(input(\"Masukkan Nilai : \"))\n",
    "if 100 <= nilai >=86:\n",
    "    print(\"Nilai : A\")\n",
    "elif nilai >= 78:\n",
    "    print(\"Nilai : B\")\n",
    "elif nilai >= 68:\n",
    "    print(\"Nilai : C\")\n",
    "elif nilai >= 55:\n",
    "    print(\"Nilai : D\")\n",
    "elif nilai < 55:\n",
    "    print(\"Nilai : E\")"
   ]
  }
 ],
 "metadata": {
  "kernelspec": {
   "display_name": "Python 3 (ipykernel)",
   "language": "python",
   "name": "python3"
  },
  "language_info": {
   "codemirror_mode": {
    "name": "ipython",
    "version": 3
   },
   "file_extension": ".py",
   "mimetype": "text/x-python",
   "name": "python",
   "nbconvert_exporter": "python",
   "pygments_lexer": "ipython3",
   "version": "3.10.7"
  }
 },
 "nbformat": 4,
 "nbformat_minor": 5
}
