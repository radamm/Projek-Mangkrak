{
 "cells": [
  {
   "cell_type": "code",
   "execution_count": null,
   "metadata": {},
   "outputs": [],
   "source": [
    "#Contoh penulisan list dalam Python\n",
    "list1 = [1, \"melati\", \"putih\", 20]\n",
    "list2 = [\"lari marathon\", \"Surabaya\", 2021]"
   ]
  },
  {
   "cell_type": "code",
   "execution_count": 1,
   "metadata": {},
   "outputs": [
    {
     "name": "stdout",
     "output_type": "stream",
     "text": [
      "list[2]:  13\n",
      "Data List Setelah di Update:  [3, 6, 13, 10, 17, 19, 45, 100, 120, 150, 23]\n",
      "Data List:  [3, 13, 10, 17, 19, 45, 100, 120, 150, 23]\n",
      "Data List Baru:  [3, 13, 17, 19, 45, 100, 120, 150, 23]\n",
      "Data List Baru: []\n"
     ]
    }
   ],
   "source": [
    "list = [3, 6, 13, 10, 19, 45, 100, 120, 150]\n",
    "print(\"list[2]: \", list[2]) #Contoh akses nilai list dalam Python\n",
    "list.append(23) #Contoh update nilai list dalam Python\n",
    "list.insert(4, 17)\n",
    "print(\"Data List Setelah di Update: \", list)\n",
    "del list[1] #Contoh menghapus nilai list dalam Python\n",
    "print(\"Data List: \", list )\n",
    "list.remove(10)\n",
    "print(\"Data List Baru: \", list)\n",
    "list.clear() #Contoh menghapus semua nilai list dalam Python\n",
    "print(\"Data List Baru:\" , list)"
   ]
  },
  {
   "cell_type": "code",
   "execution_count": 1,
   "metadata": {},
   "outputs": [
    {
     "name": "stdout",
     "output_type": "stream",
     "text": [
      "List:  (3, 6, 13, 10, 19, 45, 100, 120, 150)\n",
      "Panjang List:  9\n"
     ]
    }
   ],
   "source": [
    "list = (3, 6, 13, 10, 19, 45, 100, 120, 150)\n",
    "list1=len(list)\n",
    "print('List: ', list)\n",
    "print('Panjang List: ', list1)"
   ]
  },
  {
   "cell_type": "code",
   "execution_count": 1,
   "metadata": {},
   "outputs": [
    {
     "name": "stdout",
     "output_type": "stream",
     "text": [
      "[1, 2, 3, 4, 5, 6, 7, 8, 9, 10]\n",
      "list genap : [2, 4, 6, 8, 10]\n",
      "list ganjil : [1, 3, 5, 7, 9]\n",
      "jumlah ganjil 25\n"
     ]
    }
   ],
   "source": [
    "a= int(input(\"masukkan batas list : \"))\n",
    "list = []\n",
    "for i in range (a):\n",
    "    b = int(input(f\"Masukkan angka ke - {i}\"))\n",
    "    list.append(b)\n",
    "print(list)\n",
    "\n",
    "ganjil = []\n",
    "genap = []\n",
    "for angka in list:\n",
    "    if angka%2 == 0:\n",
    "        genap.append(angka)\n",
    "    elif angka%2 == 1:\n",
    "        ganjil.append(angka)\n",
    "\n",
    "print(f\"list genap : {genap}\")\n",
    "print(f\"list ganjil : {ganjil}\")\n",
    "hasil = sum(ganjil)\n",
    "print(f\"jumlah ganjil {hasil}\")"
   ]
  },
  {
   "cell_type": "code",
   "execution_count": 3,
   "metadata": {},
   "outputs": [
    {
     "data": {
      "text/plain": [
       "3"
      ]
     },
     "execution_count": 3,
     "metadata": {},
     "output_type": "execute_result"
    }
   ],
   "source": [
    "buah = \"Anggur, Apel, Semangka\"\n",
    "len(buah.split(\",\")) "
   ]
  },
  {
   "cell_type": "code",
   "execution_count": 17,
   "metadata": {},
   "outputs": [
    {
     "name": "stdout",
     "output_type": "stream",
     "text": [
      "[6, 4, 8]\n"
     ]
    }
   ],
   "source": [
    "buah = (\"Anggur\", \"Apel\", \"Semangka\")\n",
    "jumlah = []\n",
    "for i in buah:\n",
    "    jumlah.append(len(i))\n",
    "print(jumlah)\n",
    "\n"
   ]
  },
  {
   "cell_type": "code",
   "execution_count": 5,
   "metadata": {},
   "outputs": [
    {
     "name": "stdout",
     "output_type": "stream",
     "text": [
      "[0. 0. 0. 0.]\n",
      "[1. 1.]\n",
      "[0. 0. 0. 0.]\n",
      "[5 5 5 5]\n",
      "[[1. 0. 0. 0.]\n",
      " [0. 1. 0. 0.]\n",
      " [0. 0. 1. 0.]\n",
      " [0. 0. 0. 1.]]\n",
      "[[8 6 2]\n",
      " [9 2 3]\n",
      " [6 7 8]]\n"
     ]
    }
   ],
   "source": [
    "import numpy as np\n",
    "print(np.zeros(4))\n",
    "print(np.ones(2))\n",
    "print(np.empty(4))\n",
    "print(np.full(4,5))\n",
    "print(np.eye(4))\n",
    "print(np.random.randint(2,10,size=(3,3)))"
   ]
  }
 ],
 "metadata": {
  "kernelspec": {
   "display_name": "Python 3",
   "language": "python",
   "name": "python3"
  },
  "language_info": {
   "codemirror_mode": {
    "name": "ipython",
    "version": 3
   },
   "file_extension": ".py",
   "mimetype": "text/x-python",
   "name": "python",
   "nbconvert_exporter": "python",
   "pygments_lexer": "ipython3",
   "version": "3.10.11"
  }
 },
 "nbformat": 4,
 "nbformat_minor": 2
}
