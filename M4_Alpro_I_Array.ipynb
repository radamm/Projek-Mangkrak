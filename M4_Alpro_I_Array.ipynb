{
  "cells": [
    {
      "cell_type": "markdown",
      "metadata": {
        "id": "OW96voQjoLBl"
      },
      "source": [
        "## List"
      ]
    },
    {
      "cell_type": "code",
      "execution_count": null,
      "metadata": {
        "colab": {
          "base_uri": "https://localhost:8080/"
        },
        "id": "U8-GsnYfn5S4",
        "outputId": "4442b45e-49d5-40ba-fcf4-77d59cd2f04a"
      },
      "outputs": [
        {
          "name": "stdout",
          "output_type": "stream",
          "text": [
            "['sapi', 'kuda', 'ayam', 'kucing', 'kambing']\n"
          ]
        }
      ],
      "source": [
        "# membuat list\n",
        "hewan = [\"sapi\", \"kuda\", \"ayam\", \"kucing\", \"kambing\"]\n",
        "print(hewan)"
      ]
    },
    {
      "cell_type": "code",
      "execution_count": null,
      "metadata": {
        "colab": {
          "base_uri": "https://localhost:8080/"
        },
        "id": "iSBz-8_Jr1XT",
        "outputId": "610516c2-fba4-4650-d66f-a8000b95f26f"
      },
      "outputs": [
        {
          "name": "stdout",
          "output_type": "stream",
          "text": [
            "['sapi', 'kuda', 'ayam', 'kucing', 'kudanil', 'kambing']\n"
          ]
        }
      ],
      "source": [
        "hewan.insert(4, \"kudanil\")\n",
        "print(hewan)"
      ]
    },
    {
      "cell_type": "code",
      "execution_count": null,
      "metadata": {
        "colab": {
          "base_uri": "https://localhost:8080/"
        },
        "id": "puXautqKsvaq",
        "outputId": "3bebff24-b368-4e1e-eae9-78944cba8fce"
      },
      "outputs": [
        {
          "name": "stdout",
          "output_type": "stream",
          "text": [
            "['sapi', 'kuda', 'ayam', 'kucing', 'kambing']\n"
          ]
        }
      ],
      "source": [
        "hewan.remove(\"kudanil\")\n",
        "print(hewan)"
      ]
    },
    {
      "cell_type": "code",
      "execution_count": null,
      "metadata": {
        "colab": {
          "base_uri": "https://localhost:8080/"
        },
        "id": "vPMi_hfXsfc5",
        "outputId": "511e4e95-47ba-438a-c762-640ccb46eaf6"
      },
      "outputs": [
        {
          "name": "stdout",
          "output_type": "stream",
          "text": [
            "['sapi', 'kuda', 'ayam', 'kucing', 'kambing', 'bebek', 'kalkun', 'beo']\n"
          ]
        }
      ],
      "source": [
        "hewan.extend([\"bebek\", \"kalkun\", \"beo\"])\n",
        "print(hewan)"
      ]
    },
    {
      "cell_type": "code",
      "execution_count": null,
      "metadata": {
        "colab": {
          "base_uri": "https://localhost:8080/"
        },
        "id": "VEc1a-ftoTOz",
        "outputId": "5f116012-6f2d-4acc-ab20-9a27b303be5c"
      },
      "outputs": [
        {
          "name": "stdout",
          "output_type": "stream",
          "text": [
            "kuda\n",
            "['ayam', 'kucing', 'kambing']\n"
          ]
        }
      ],
      "source": [
        "# mengakses\n",
        "print(hewan[1])\n",
        "print(hewan[2:5])"
      ]
    },
    {
      "cell_type": "code",
      "execution_count": null,
      "metadata": {
        "colab": {
          "base_uri": "https://localhost:8080/"
        },
        "id": "i856pwoMobuz",
        "outputId": "4a4fa317-f20c-4ed4-bcae-caf694754528"
      },
      "outputs": [
        {
          "name": "stdout",
          "output_type": "stream",
          "text": [
            "['sapi', 'gajah', 'ayam', 'kucing', 'kambing', 'bebek', 'kalkun', 'beo']\n"
          ]
        }
      ],
      "source": [
        "# mengganti\n",
        "hewan[1] = \"gajah\"\n",
        "print(hewan)"
      ]
    },
    {
      "cell_type": "code",
      "execution_count": null,
      "metadata": {
        "colab": {
          "base_uri": "https://localhost:8080/"
        },
        "id": "aq9O-2lvohrw",
        "outputId": "caa4b3c7-9009-4042-e9f2-ced6fa4737f4"
      },
      "outputs": [
        {
          "name": "stdout",
          "output_type": "stream",
          "text": [
            "8\n"
          ]
        }
      ],
      "source": [
        "# mencari panjang\n",
        "print(len(hewan))"
      ]
    },
    {
      "cell_type": "markdown",
      "metadata": {
        "id": "siJQEuB4onzM"
      },
      "source": [
        "## Tuple"
      ]
    },
    {
      "cell_type": "code",
      "execution_count": null,
      "metadata": {
        "colab": {
          "base_uri": "https://localhost:8080/"
        },
        "id": "Xfi0kEF-o2lr",
        "outputId": "0a1aa418-ed64-4ac6-ec02-70d7e63ca891"
      },
      "outputs": [
        {
          "name": "stdout",
          "output_type": "stream",
          "text": [
            "('sapi', 'kuda', 'ayam', 'kucing', 'kambing')\n"
          ]
        }
      ],
      "source": [
        "# membuat tuple\n",
        "hewan = (\"sapi\", \"kuda\", \"ayam\", \"kucing\", \"kambing\")\n",
        "print(hewan)"
      ]
    },
    {
      "cell_type": "code",
      "execution_count": null,
      "metadata": {
        "colab": {
          "base_uri": "https://localhost:8080/"
        },
        "id": "Xgjrux_mpB9e",
        "outputId": "9c03daf8-6950-43ce-b6f2-c5d1765b2b84"
      },
      "outputs": [
        {
          "name": "stdout",
          "output_type": "stream",
          "text": [
            "kuda\n",
            "kambing\n",
            "('sapi', 'kuda', 'ayam', 'kucing', 'kambing')\n"
          ]
        }
      ],
      "source": [
        "# mengakses\n",
        "print(hewan[1])\n",
        "print(hewan[-1])\n",
        "print(hewan[:5])"
      ]
    },
    {
      "cell_type": "code",
      "execution_count": null,
      "metadata": {
        "colab": {
          "base_uri": "https://localhost:8080/",
          "height": 218
        },
        "id": "zoYbGI5JpHVs",
        "outputId": "e9cefb13-182f-4b12-fb9d-bf7749a76f37"
      },
      "outputs": [
        {
          "ename": "TypeError",
          "evalue": "'tuple' object is not callable",
          "output_type": "error",
          "traceback": [
            "\u001b[0;31m---------------------------------------------------------------------------\u001b[0m",
            "\u001b[0;31mTypeError\u001b[0m                                 Traceback (most recent call last)",
            "\u001b[0;32m<ipython-input-48-afb801ea4582>\u001b[0m in \u001b[0;36m<cell line: 2>\u001b[0;34m()\u001b[0m\n\u001b[1;32m      1\u001b[0m \u001b[0;31m# mengubah nilai\u001b[0m\u001b[0;34m\u001b[0m\u001b[0;34m\u001b[0m\u001b[0m\n\u001b[0;32m----> 2\u001b[0;31m \u001b[0mhewan\u001b[0m \u001b[0;34m=\u001b[0m \u001b[0mlist\u001b[0m\u001b[0;34m(\u001b[0m\u001b[0mhewan\u001b[0m\u001b[0;34m)\u001b[0m\u001b[0;34m\u001b[0m\u001b[0;34m\u001b[0m\u001b[0m\n\u001b[0m\u001b[1;32m      3\u001b[0m \u001b[0mhewan\u001b[0m\u001b[0;34m[\u001b[0m\u001b[0;36m1\u001b[0m\u001b[0;34m]\u001b[0m \u001b[0;34m=\u001b[0m \u001b[0;34m\"gajah\"\u001b[0m\u001b[0;34m\u001b[0m\u001b[0;34m\u001b[0m\u001b[0m\n\u001b[1;32m      4\u001b[0m \u001b[0mhewan\u001b[0m \u001b[0;34m=\u001b[0m \u001b[0mtuple\u001b[0m\u001b[0;34m(\u001b[0m\u001b[0mhewan\u001b[0m\u001b[0;34m)\u001b[0m\u001b[0;34m\u001b[0m\u001b[0;34m\u001b[0m\u001b[0m\n\u001b[1;32m      5\u001b[0m \u001b[0mprint\u001b[0m\u001b[0;34m(\u001b[0m\u001b[0mhewan\u001b[0m\u001b[0;34m)\u001b[0m\u001b[0;34m\u001b[0m\u001b[0;34m\u001b[0m\u001b[0m\n",
            "\u001b[0;31mTypeError\u001b[0m: 'tuple' object is not callable"
          ]
        }
      ],
      "source": [
        "# mengubah nilai\n",
        "hewan = list(hewan)\n",
        "hewan[1] = \"gajah\"\n",
        "hewan = tuple(hewan)\n",
        "print(hewan)"
      ]
    },
    {
      "cell_type": "code",
      "execution_count": null,
      "metadata": {
        "colab": {
          "base_uri": "https://localhost:8080/"
        },
        "id": "Cn_6lF-JplVA",
        "outputId": "842aa27b-8965-4b7a-ff34-a7ad40a048f7"
      },
      "outputs": [
        {
          "name": "stdout",
          "output_type": "stream",
          "text": [
            "5\n"
          ]
        }
      ],
      "source": [
        "# panjang\n",
        "print(len(hewan))"
      ]
    },
    {
      "cell_type": "markdown",
      "metadata": {
        "id": "gKFAideRpp9U"
      },
      "source": [
        "## Set"
      ]
    },
    {
      "cell_type": "code",
      "execution_count": null,
      "metadata": {
        "colab": {
          "base_uri": "https://localhost:8080/"
        },
        "id": "pa8zwMzkpriG",
        "outputId": "e0fc0116-d1b6-420b-bf44-6e1d7b561053"
      },
      "outputs": [
        {
          "name": "stdout",
          "output_type": "stream",
          "text": [
            "{'ayam', 'kuda', 'sapi', 'kucing', 'ikan'}\n"
          ]
        }
      ],
      "source": [
        "# membuat set\n",
        "hewan = {\"sapi\", \"kuda\", \"ayam\", \"kucing\", \"ikan\"}\n",
        "print(hewan)"
      ]
    },
    {
      "cell_type": "code",
      "execution_count": null,
      "metadata": {
        "colab": {
          "base_uri": "https://localhost:8080/",
          "height": 164
        },
        "id": "Oh4wmoO2p2vN",
        "outputId": "885c9c9f-3d0a-4285-d294-5713d090ae92"
      },
      "outputs": [
        {
          "ename": "TypeError",
          "evalue": "'set' object is not subscriptable",
          "output_type": "error",
          "traceback": [
            "\u001b[0;31m---------------------------------------------------------------------------\u001b[0m",
            "\u001b[0;31mTypeError\u001b[0m                                 Traceback (most recent call last)",
            "\u001b[0;32m<ipython-input-13-5ef243c3aa3e>\u001b[0m in \u001b[0;36m<cell line: 2>\u001b[0;34m()\u001b[0m\n\u001b[1;32m      1\u001b[0m \u001b[0;31m# mengakses yang salah\u001b[0m\u001b[0;34m\u001b[0m\u001b[0;34m\u001b[0m\u001b[0m\n\u001b[0;32m----> 2\u001b[0;31m \u001b[0mprint\u001b[0m\u001b[0;34m(\u001b[0m\u001b[0mhewan\u001b[0m\u001b[0;34m[\u001b[0m\u001b[0;36m1\u001b[0m\u001b[0;34m]\u001b[0m\u001b[0;34m)\u001b[0m\u001b[0;34m\u001b[0m\u001b[0;34m\u001b[0m\u001b[0m\n\u001b[0m",
            "\u001b[0;31mTypeError\u001b[0m: 'set' object is not subscriptable"
          ]
        }
      ],
      "source": [
        "# mengakses yang salah\n",
        "print(hewan[1])"
      ]
    },
    {
      "cell_type": "code",
      "execution_count": null,
      "metadata": {
        "colab": {
          "base_uri": "https://localhost:8080/"
        },
        "id": "ASAOnGQZp9cx",
        "outputId": "5f132739-8838-4a79-8245-8e50d5211c21"
      },
      "outputs": [
        {
          "name": "stdout",
          "output_type": "stream",
          "text": [
            "ayam\n",
            "kuda\n",
            "sapi\n",
            "kucing\n",
            "ikan\n"
          ]
        }
      ],
      "source": [
        "# mengakses yang benar\n",
        "for x in hewan :\n",
        "  print(x)"
      ]
    },
    {
      "cell_type": "code",
      "execution_count": null,
      "metadata": {
        "colab": {
          "base_uri": "https://localhost:8080/"
        },
        "id": "LkYOiEzeqMrm",
        "outputId": "bedbdb19-552b-4716-f703-05915f5e4455"
      },
      "outputs": [
        {
          "name": "stdout",
          "output_type": "stream",
          "text": [
            "ada sapi\n"
          ]
        }
      ],
      "source": [
        "# atau\n",
        "if \"sapi\" in hewan :\n",
        "  print(\"ada sapi\")\n",
        "else :\n",
        "  print(\"gaada\")"
      ]
    },
    {
      "cell_type": "markdown",
      "metadata": {
        "id": "vjHxOqX8qSYa"
      },
      "source": [
        "## Dictionary"
      ]
    },
    {
      "cell_type": "code",
      "execution_count": null,
      "metadata": {
        "colab": {
          "base_uri": "https://localhost:8080/"
        },
        "id": "9e_PtxBFqOlB",
        "outputId": "3996c3ee-260a-46e2-acc2-be3f408a76e2"
      },
      "outputs": [
        {
          "name": "stdout",
          "output_type": "stream",
          "text": [
            "{'merk': 'Infinix', 'jenis': 'laptop', 'processor': 'intel_i3'}\n"
          ]
        }
      ],
      "source": [
        "# membuat dictionary\n",
        "spesifikasi = {\"merk\" : \"Infinix\", \"jenis\" : \"laptop\",\"processor\" : \"intel_i3\"}\n",
        "print(spesifikasi)"
      ]
    },
    {
      "cell_type": "code",
      "execution_count": null,
      "metadata": {
        "colab": {
          "base_uri": "https://localhost:8080/"
        },
        "id": "gR7FV6U5q0Cy",
        "outputId": "7153331e-9bb6-407e-c44d-2f854a9d8905"
      },
      "outputs": [
        {
          "name": "stdout",
          "output_type": "stream",
          "text": [
            "laptop\n",
            "laptop\n"
          ]
        }
      ],
      "source": [
        "# mengakses\n",
        "x = spesifikasi[\"jenis\"]\n",
        "print(x)\n",
        "\n",
        "print(spesifikasi.get(\"jenis\"))"
      ]
    },
    {
      "cell_type": "code",
      "execution_count": null,
      "metadata": {
        "colab": {
          "base_uri": "https://localhost:8080/"
        },
        "id": "3AqkZWVuq71u",
        "outputId": "1031397b-9b22-48a2-81ee-ad5170d78011"
      },
      "outputs": [
        {
          "name": "stdout",
          "output_type": "stream",
          "text": [
            "{'merk': 'Infinix', 'jenis': 'Smartphone', 'processor': 'intel_i3'}\n"
          ]
        }
      ],
      "source": [
        "# mengubah\n",
        "spesifikasi[\"jenis\"] = \"Smartphone\"\n",
        "print(spesifikasi)"
      ]
    },
    {
      "cell_type": "code",
      "execution_count": null,
      "metadata": {
        "colab": {
          "base_uri": "https://localhost:8080/"
        },
        "id": "KnGkvkyXrKfY",
        "outputId": "4195ad68-3115-4f37-d886-3f3a50122f79"
      },
      "outputs": [
        {
          "name": "stdout",
          "output_type": "stream",
          "text": [
            "3\n"
          ]
        }
      ],
      "source": [
        "# panjang\n",
        "print(len(spesifikasi))"
      ]
    },
    {
      "cell_type": "markdown",
      "metadata": {
        "id": "wC6b--uRrSSD"
      },
      "source": [
        "## Array"
      ]
    },
    {
      "cell_type": "code",
      "execution_count": null,
      "metadata": {
        "id": "P7x-1sh0tNSf"
      },
      "outputs": [],
      "source": [
        "!pip install numpy"
      ]
    },
    {
      "cell_type": "code",
      "execution_count": null,
      "metadata": {
        "id": "KXgf4DQGtQhh"
      },
      "outputs": [],
      "source": [
        "import numpy as np"
      ]
    },
    {
      "cell_type": "code",
      "execution_count": null,
      "metadata": {
        "colab": {
          "base_uri": "https://localhost:8080/"
        },
        "id": "244wpYm3siaz",
        "outputId": "db3a37c8-4a5a-41ea-e8ee-54c0ddc38dea"
      },
      "outputs": [
        {
          "name": "stdout",
          "output_type": "stream",
          "text": [
            "Help on _ArrayFunctionDispatcher in module numpy:\n",
            "\n",
            "sort(a, axis=-1, kind=None, order=None)\n",
            "    Return a sorted copy of an array.\n",
            "    \n",
            "    Parameters\n",
            "    ----------\n",
            "    a : array_like\n",
            "        Array to be sorted.\n",
            "    axis : int or None, optional\n",
            "        Axis along which to sort. If None, the array is flattened before\n",
            "        sorting. The default is -1, which sorts along the last axis.\n",
            "    kind : {'quicksort', 'mergesort', 'heapsort', 'stable'}, optional\n",
            "        Sorting algorithm. The default is 'quicksort'. Note that both 'stable'\n",
            "        and 'mergesort' use timsort or radix sort under the covers and, in general,\n",
            "        the actual implementation will vary with data type. The 'mergesort' option\n",
            "        is retained for backwards compatibility.\n",
            "    \n",
            "        .. versionchanged:: 1.15.0.\n",
            "           The 'stable' option was added.\n",
            "    \n",
            "    order : str or list of str, optional\n",
            "        When `a` is an array with fields defined, this argument specifies\n",
            "        which fields to compare first, second, etc.  A single field can\n",
            "        be specified as a string, and not all fields need be specified,\n",
            "        but unspecified fields will still be used, in the order in which\n",
            "        they come up in the dtype, to break ties.\n",
            "    \n",
            "    Returns\n",
            "    -------\n",
            "    sorted_array : ndarray\n",
            "        Array of the same type and shape as `a`.\n",
            "    \n",
            "    See Also\n",
            "    --------\n",
            "    ndarray.sort : Method to sort an array in-place.\n",
            "    argsort : Indirect sort.\n",
            "    lexsort : Indirect stable sort on multiple keys.\n",
            "    searchsorted : Find elements in a sorted array.\n",
            "    partition : Partial sort.\n",
            "    \n",
            "    Notes\n",
            "    -----\n",
            "    The various sorting algorithms are characterized by their average speed,\n",
            "    worst case performance, work space size, and whether they are stable. A\n",
            "    stable sort keeps items with the same key in the same relative\n",
            "    order. The four algorithms implemented in NumPy have the following\n",
            "    properties:\n",
            "    \n",
            "    =========== ======= ============= ============ ========\n",
            "       kind      speed   worst case    work space   stable\n",
            "    =========== ======= ============= ============ ========\n",
            "    'quicksort'    1     O(n^2)            0          no\n",
            "    'heapsort'     3     O(n*log(n))       0          no\n",
            "    'mergesort'    2     O(n*log(n))      ~n/2        yes\n",
            "    'timsort'      2     O(n*log(n))      ~n/2        yes\n",
            "    =========== ======= ============= ============ ========\n",
            "    \n",
            "    .. note:: The datatype determines which of 'mergesort' or 'timsort'\n",
            "       is actually used, even if 'mergesort' is specified. User selection\n",
            "       at a finer scale is not currently available.\n",
            "    \n",
            "    All the sort algorithms make temporary copies of the data when\n",
            "    sorting along any but the last axis.  Consequently, sorting along\n",
            "    the last axis is faster and uses less space than sorting along\n",
            "    any other axis.\n",
            "    \n",
            "    The sort order for complex numbers is lexicographic. If both the real\n",
            "    and imaginary parts are non-nan then the order is determined by the\n",
            "    real parts except when they are equal, in which case the order is\n",
            "    determined by the imaginary parts.\n",
            "    \n",
            "    Previous to numpy 1.4.0 sorting real and complex arrays containing nan\n",
            "    values led to undefined behaviour. In numpy versions >= 1.4.0 nan\n",
            "    values are sorted to the end. The extended sort order is:\n",
            "    \n",
            "      * Real: [R, nan]\n",
            "      * Complex: [R + Rj, R + nanj, nan + Rj, nan + nanj]\n",
            "    \n",
            "    where R is a non-nan real value. Complex values with the same nan\n",
            "    placements are sorted according to the non-nan part if it exists.\n",
            "    Non-nan values are sorted as before.\n",
            "    \n",
            "    .. versionadded:: 1.12.0\n",
            "    \n",
            "    quicksort has been changed to `introsort <https://en.wikipedia.org/wiki/Introsort>`_.\n",
            "    When sorting does not make enough progress it switches to\n",
            "    `heapsort <https://en.wikipedia.org/wiki/Heapsort>`_.\n",
            "    This implementation makes quicksort O(n*log(n)) in the worst case.\n",
            "    \n",
            "    'stable' automatically chooses the best stable sorting algorithm\n",
            "    for the data type being sorted.\n",
            "    It, along with 'mergesort' is currently mapped to\n",
            "    `timsort <https://en.wikipedia.org/wiki/Timsort>`_\n",
            "    or `radix sort <https://en.wikipedia.org/wiki/Radix_sort>`_\n",
            "    depending on the data type.\n",
            "    API forward compatibility currently limits the\n",
            "    ability to select the implementation and it is hardwired for the different\n",
            "    data types.\n",
            "    \n",
            "    .. versionadded:: 1.17.0\n",
            "    \n",
            "    Timsort is added for better performance on already or nearly\n",
            "    sorted data. On random data timsort is almost identical to\n",
            "    mergesort. It is now used for stable sort while quicksort is still the\n",
            "    default sort if none is chosen. For timsort details, refer to\n",
            "    `CPython listsort.txt <https://github.com/python/cpython/blob/3.7/Objects/listsort.txt>`_.\n",
            "    'mergesort' and 'stable' are mapped to radix sort for integer data types. Radix sort is an\n",
            "    O(n) sort instead of O(n log n).\n",
            "    \n",
            "    .. versionchanged:: 1.18.0\n",
            "    \n",
            "    NaT now sorts to the end of arrays for consistency with NaN.\n",
            "    \n",
            "    Examples\n",
            "    --------\n",
            "    >>> a = np.array([[1,4],[3,1]])\n",
            "    >>> np.sort(a)                # sort along the last axis\n",
            "    array([[1, 4],\n",
            "           [1, 3]])\n",
            "    >>> np.sort(a, axis=None)     # sort the flattened array\n",
            "    array([1, 1, 3, 4])\n",
            "    >>> np.sort(a, axis=0)        # sort along the first axis\n",
            "    array([[1, 1],\n",
            "           [3, 4]])\n",
            "    \n",
            "    Use the `order` keyword to specify a field to use when sorting a\n",
            "    structured array:\n",
            "    \n",
            "    >>> dtype = [('name', 'S10'), ('height', float), ('age', int)]\n",
            "    >>> values = [('Arthur', 1.8, 41), ('Lancelot', 1.9, 38),\n",
            "    ...           ('Galahad', 1.7, 38)]\n",
            "    >>> a = np.array(values, dtype=dtype)       # create a structured array\n",
            "    >>> np.sort(a, order='height')                        # doctest: +SKIP\n",
            "    array([('Galahad', 1.7, 38), ('Arthur', 1.8, 41),\n",
            "           ('Lancelot', 1.8999999999999999, 38)],\n",
            "          dtype=[('name', '|S10'), ('height', '<f8'), ('age', '<i4')])\n",
            "    \n",
            "    Sort by age, then height if ages are equal:\n",
            "    \n",
            "    >>> np.sort(a, order=['age', 'height'])               # doctest: +SKIP\n",
            "    array([('Galahad', 1.7, 38), ('Lancelot', 1.8999999999999999, 38),\n",
            "           ('Arthur', 1.8, 41)],\n",
            "          dtype=[('name', '|S10'), ('height', '<f8'), ('age', '<i4')])\n",
            "\n"
          ]
        }
      ],
      "source": [
        "help(np.sort)"
      ]
    },
    {
      "cell_type": "code",
      "execution_count": null,
      "metadata": {
        "colab": {
          "base_uri": "https://localhost:8080/"
        },
        "id": "T-McxdYjsvqf",
        "outputId": "933abac2-2a74-4274-ea1a-7d308760ba3f"
      },
      "outputs": [
        {
          "name": "stdout",
          "output_type": "stream",
          "text": [
            "[1, 2, 3]\n"
          ]
        }
      ],
      "source": [
        "a = [1,2,3]\n",
        "a.sort()\n",
        "print(a)"
      ]
    },
    {
      "cell_type": "code",
      "execution_count": null,
      "metadata": {
        "colab": {
          "base_uri": "https://localhost:8080/"
        },
        "id": "lTEHX8eprTdN",
        "outputId": "b8da99da-dbf6-4911-9cc7-763ea1c08952"
      },
      "outputs": [
        {
          "name": "stdout",
          "output_type": "stream",
          "text": [
            "[1 2 3 4 5]\n"
          ]
        }
      ],
      "source": [
        "# membuat array 1 dimensi\n",
        "a = np.array([1, 2, 3, 4, 5])\n",
        "print(a)"
      ]
    },
    {
      "cell_type": "code",
      "execution_count": null,
      "metadata": {
        "colab": {
          "base_uri": "https://localhost:8080/"
        },
        "id": "QiAyv6__umEs",
        "outputId": "ccffbf0e-0397-4aab-ccc4-ee17b2daf593"
      },
      "outputs": [
        {
          "name": "stdout",
          "output_type": "stream",
          "text": [
            "2\n"
          ]
        }
      ],
      "source": [
        "print(a[1])"
      ]
    },
    {
      "cell_type": "code",
      "execution_count": null,
      "metadata": {
        "colab": {
          "base_uri": "https://localhost:8080/"
        },
        "id": "pz4-qQ6dtaNI",
        "outputId": "414863ec-f6fc-4dd9-88b1-13c7665bee03"
      },
      "outputs": [
        {
          "name": "stdout",
          "output_type": "stream",
          "text": [
            "[[1 2 0]\n",
            " [3 4 5]]\n"
          ]
        }
      ],
      "source": [
        "#membuat array 2 dimensi\n",
        "b = np.full((2,3), [[1,2,0],[3,4,5]])\n",
        "print(b)"
      ]
    },
    {
      "cell_type": "code",
      "execution_count": null,
      "metadata": {
        "colab": {
          "base_uri": "https://localhost:8080/"
        },
        "id": "48gM5R3ZuWry",
        "outputId": "67ce7532-7ccb-43aa-90ef-6a9ea67f1841"
      },
      "outputs": [
        {
          "name": "stdout",
          "output_type": "stream",
          "text": [
            "[2 4]\n"
          ]
        }
      ],
      "source": [
        "print(b[:2,1])"
      ]
    },
    {
      "cell_type": "code",
      "execution_count": null,
      "metadata": {
        "colab": {
          "base_uri": "https://localhost:8080/"
        },
        "id": "9lhtUPLEu7Mn",
        "outputId": "b1646e04-d067-4144-a902-272087f38925"
      },
      "outputs": [
        {
          "data": {
            "text/plain": [
              "1"
            ]
          },
          "execution_count": 27,
          "metadata": {},
          "output_type": "execute_result"
        }
      ],
      "source": [
        "#mencari jumlah dimensi\n",
        "a.ndim"
      ]
    },
    {
      "cell_type": "code",
      "execution_count": null,
      "metadata": {
        "colab": {
          "base_uri": "https://localhost:8080/"
        },
        "id": "Q9jTxW3zvI7e",
        "outputId": "b66a3cdf-347a-49c2-9b11-ed2e84132ac6"
      },
      "outputs": [
        {
          "data": {
            "text/plain": [
              "(2, 3)"
            ]
          },
          "execution_count": 30,
          "metadata": {},
          "output_type": "execute_result"
        }
      ],
      "source": [
        "#mencari ukuran\n",
        "b.shape"
      ]
    },
    {
      "cell_type": "code",
      "execution_count": null,
      "metadata": {
        "colab": {
          "base_uri": "https://localhost:8080/"
        },
        "id": "wQn2jnPSvUDj",
        "outputId": "ae4aacfc-1fd6-4470-c382-f6a11fa7b83b"
      },
      "outputs": [
        {
          "name": "stdout",
          "output_type": "stream",
          "text": [
            "masukkan jumlah : 3\n",
            "masukkan angka ke - 1 : 12\n",
            "masukkan angka ke - 2 : 13\n",
            "masukkan angka ke - 3 : 14\n",
            "[12. 13. 14.]\n",
            "39.0\n",
            "13.0\n"
          ]
        }
      ],
      "source": [
        "c = np.array([])\n",
        "jumlah = int(input(\"masukkan jumlah : \"))\n",
        "for i in range(jumlah) :\n",
        "  x = int(input(\"masukkan angka ke - {} : \".format(i+1)))\n",
        "  c = np.append(c,x)\n",
        "print(c)\n",
        "total = np.sum(c)\n",
        "print(total)\n",
        "print(total/len(c))"
      ]
    },
    {
      "cell_type": "code",
      "execution_count": null,
      "metadata": {
        "colab": {
          "base_uri": "https://localhost:8080/"
        },
        "id": "_XlygN4irAMK",
        "outputId": "fa3f4011-45e7-41ac-a4fa-8486785257da"
      },
      "outputs": [
        {
          "name": "stdout",
          "output_type": "stream",
          "text": [
            "5\n",
            "3\n",
            "6\n",
            "2\n",
            "7\n",
            "1\n",
            "[3, 6, 2, 7, 1]\n",
            "[1 2 3 6 7]\n"
          ]
        }
      ],
      "source": [
        "import numpy as np\n",
        "total=int(input())\n",
        "list=[]\n",
        "for i in range (total):\n",
        "  angka=int(input())\n",
        "  list.append(angka)\n",
        "x=np.array(list)\n",
        "sorting=np.sort(x)\n",
        "print(list)\n",
        "print(sorting)"
      ]
    },
    {
      "cell_type": "markdown",
      "metadata": {
        "id": "5Egtx2np2gRG"
      },
      "source": [
        "# Praktikum"
      ]
    },
    {
      "cell_type": "markdown",
      "metadata": {
        "id": "Ou1xVaVe2-VX"
      },
      "source": [
        "## List"
      ]
    },
    {
      "cell_type": "code",
      "execution_count": null,
      "metadata": {
        "colab": {
          "base_uri": "https://localhost:8080/"
        },
        "id": "f5P1nz3q2nqA",
        "outputId": "eea8f3c8-23c0-48ff-87dd-a9a51137e376"
      },
      "outputs": [
        {
          "name": "stdout",
          "output_type": "stream",
          "text": [
            "list[2]: 13\n"
          ]
        }
      ],
      "source": [
        "list = [3, 6, 13, 10, 19, 45, 100, 120, 150]\n",
        "print(\"list[2]:\", list[2]) #Contoh akses nilai list dalam Python"
      ]
    },
    {
      "cell_type": "code",
      "execution_count": null,
      "metadata": {
        "colab": {
          "base_uri": "https://localhost:8080/"
        },
        "id": "OmL3lsWk2ucB",
        "outputId": "f9bbafb6-72bc-4ce9-8eb4-69c2c97d4ae6"
      },
      "outputs": [
        {
          "name": "stdout",
          "output_type": "stream",
          "text": [
            "Data List Setelah di Update:  [3, 6, 13, 10, 17, 19, 45, 100, 120, 150, 23]\n"
          ]
        }
      ],
      "source": [
        "list.append(23) #Contoh update nilai list dalam Python\n",
        "list.insert(4, 17)\n",
        "print(\"Data List Setelah di Update: \", list)"
      ]
    },
    {
      "cell_type": "code",
      "execution_count": null,
      "metadata": {
        "colab": {
          "base_uri": "https://localhost:8080/"
        },
        "id": "XPQez4s02zin",
        "outputId": "3274624b-dc6c-4d26-b8cc-5af0957c97ce"
      },
      "outputs": [
        {
          "name": "stdout",
          "output_type": "stream",
          "text": [
            "Data List:  [3, 13, 10, 17, 19, 45, 100, 120, 150, 23]\n",
            "Data List Baru:  [3, 13, 17, 19, 45, 100, 120, 150, 23]\n"
          ]
        }
      ],
      "source": [
        "del list[1] #Contoh menghapus nilai list dalam Python\n",
        "print(\"Data List: \", list )\n",
        "list.remove(10)\n",
        "print(\"Data List Baru: \", list)"
      ]
    },
    {
      "cell_type": "code",
      "execution_count": null,
      "metadata": {
        "colab": {
          "base_uri": "https://localhost:8080/"
        },
        "id": "c7iHwZk024uJ",
        "outputId": "661c3b58-8b07-41b4-cc0e-9a4af9590b57"
      },
      "outputs": [
        {
          "name": "stdout",
          "output_type": "stream",
          "text": [
            "Data List Baru:  []\n"
          ]
        }
      ],
      "source": [
        "list.clear() #Contoh menghapus semua nilai list dalam Python\n",
        "print(\"Data List Baru: \", list)"
      ]
    },
    {
      "cell_type": "markdown",
      "metadata": {
        "id": "sA--D6D_28Il"
      },
      "source": [
        "## Tuple"
      ]
    },
    {
      "cell_type": "code",
      "execution_count": null,
      "metadata": {
        "colab": {
          "base_uri": "https://localhost:8080/"
        },
        "id": "Sg4qGIWq27Yw",
        "outputId": "7c54a808-e6b4-4f38-efc7-d8cc2f308164"
      },
      "outputs": [
        {
          "name": "stdout",
          "output_type": "stream",
          "text": [
            "List:  (3, 6, 13, 10, 19, 45, 100, 120, 150)\n",
            "Panjang List:  9\n"
          ]
        }
      ],
      "source": [
        "list = (3, 6, 13, 10, 19, 45, 100, 120, 150)\n",
        "list1=len(list)\n",
        "print('List: ', list)\n",
        "print('Panjang List: ', list1)"
      ]
    },
    {
      "cell_type": "code",
      "execution_count": null,
      "metadata": {
        "id": "aTkqHHBRYT9s"
      },
      "outputs": [],
      "source": []
    },
    {
      "cell_type": "markdown",
      "metadata": {
        "id": "X-OOiFFB3a_N"
      },
      "source": [
        "## Dictionary"
      ]
    },
    {
      "cell_type": "code",
      "execution_count": null,
      "metadata": {
        "colab": {
          "base_uri": "https://localhost:8080/"
        },
        "id": "4x8LOndZ3hDr",
        "outputId": "dc3003a7-3f4f-4a65-a9b7-1ef6bec5cda1"
      },
      "outputs": [
        {
          "name": "stdout",
          "output_type": "stream",
          "text": [
            "dict_keys(['Andrian', 'Vancy', 'Dewi'])\n"
          ]
        }
      ],
      "source": [
        "A = {\"Andrian\":\"A1\", \"Vancy\":\"A2\", \"Dewi\":\"A3\"}\n",
        "p = A.keys()\n",
        "print(p)"
      ]
    },
    {
      "cell_type": "code",
      "execution_count": null,
      "metadata": {
        "colab": {
          "base_uri": "https://localhost:8080/"
        },
        "id": "Nh0wRldY5pdI",
        "outputId": "c87b84cb-e518-4830-d893-684b120476f4"
      },
      "outputs": [
        {
          "data": {
            "text/plain": [
              "dict_keys"
            ]
          },
          "execution_count": 44,
          "metadata": {},
          "output_type": "execute_result"
        }
      ],
      "source": [
        "type(p)"
      ]
    },
    {
      "cell_type": "code",
      "execution_count": null,
      "metadata": {
        "colab": {
          "base_uri": "https://localhost:8080/"
        },
        "id": "pyjJw7T13tnb",
        "outputId": "2b54c839-7f2b-4a34-ca29-c5e21a97a61d"
      },
      "outputs": [
        {
          "name": "stdout",
          "output_type": "stream",
          "text": [
            "('Andrian', 'Vancy', 'Dewi')\n"
          ]
        }
      ],
      "source": [
        "l = tuple(A.keys())\n",
        "print(l)"
      ]
    },
    {
      "cell_type": "code",
      "execution_count": null,
      "metadata": {
        "colab": {
          "base_uri": "https://localhost:8080/"
        },
        "id": "Br4Kzex33-ks",
        "outputId": "ab3402b1-a569-4921-c737-554fba98c409"
      },
      "outputs": [
        {
          "name": "stdout",
          "output_type": "stream",
          "text": [
            "dict_values(['A1', 'A2', 'A3'])\n"
          ]
        }
      ],
      "source": [
        "v= A.values()\n",
        "print(v)"
      ]
    },
    {
      "cell_type": "code",
      "execution_count": null,
      "metadata": {
        "colab": {
          "base_uri": "https://localhost:8080/"
        },
        "id": "ekXLvZAV4WWU",
        "outputId": "99f82009-244c-42b0-d059-c270aecaf9f2"
      },
      "outputs": [
        {
          "name": "stdout",
          "output_type": "stream",
          "text": [
            "dict_items([('Andrian', 'A1'), ('Vancy', 'A2'), ('Dewi', 'A3')])\n"
          ]
        }
      ],
      "source": [
        "i=A.items()\n",
        "print(i)"
      ]
    },
    {
      "cell_type": "code",
      "execution_count": null,
      "metadata": {
        "colab": {
          "base_uri": "https://localhost:8080/"
        },
        "id": "sFFhNyGd4aKw",
        "outputId": "e88a3740-beed-40bd-a8de-2c3619b70920"
      },
      "outputs": [
        {
          "name": "stdout",
          "output_type": "stream",
          "text": [
            "A3\n"
          ]
        }
      ],
      "source": [
        "g=A.get(\"Dewi\")\n",
        "print(g)"
      ]
    },
    {
      "cell_type": "code",
      "execution_count": null,
      "metadata": {
        "colab": {
          "base_uri": "https://localhost:8080/"
        },
        "id": "V6VfphFQ4d52",
        "outputId": "87c493ca-1f7c-41d5-de83-723ab4fbb369"
      },
      "outputs": [
        {
          "name": "stdout",
          "output_type": "stream",
          "text": [
            "NO ENTRY\n"
          ]
        }
      ],
      "source": [
        "g1 = A.get(\"Fitri\",\"NO ENTRY\")\n",
        "print(g1)"
      ]
    },
    {
      "cell_type": "code",
      "execution_count": null,
      "metadata": {
        "colab": {
          "base_uri": "https://localhost:8080/"
        },
        "id": "NwlYp5s-4vIm",
        "outputId": "50a22a53-989d-4fee-cc18-8a26e9ae0696"
      },
      "outputs": [
        {
          "name": "stdout",
          "output_type": "stream",
          "text": [
            "Help on method_descriptor:\n",
            "\n",
            "get(self, key, default=None, /)\n",
            "    Return the value for key if key is in the dictionary, else default.\n",
            "\n"
          ]
        }
      ],
      "source": [
        "help(dict.get)"
      ]
    },
    {
      "cell_type": "code",
      "execution_count": null,
      "metadata": {
        "colab": {
          "base_uri": "https://localhost:8080/"
        },
        "id": "hsZumohG8dPc",
        "outputId": "725ca6cc-5427-466b-8886-e3496abd24f5"
      },
      "outputs": [
        {
          "name": "stdout",
          "output_type": "stream",
          "text": [
            "Masukkan list : c,b,d\n",
            "Masukkan yang ingin dicari : B\n",
            "dia merupakan anggota list ke-2\n"
          ]
        }
      ],
      "source": [
        "a = input(\"Masukkan list : \").split(\",\")\n",
        "for i in range(len(a)) :\n",
        "  a[i] = a[i].lower()\n",
        "cari = input(\"Masukkan yang ingin dicari : \")\n",
        "cari = cari.lower()\n",
        "if cari in a :\n",
        "  print(f\"dia merupakan anggota list ke-{a.index(cari)+1}\")\n",
        "else :\n",
        "  print(\"gaada\")"
      ]
    },
    {
      "cell_type": "code",
      "execution_count": null,
      "metadata": {
        "colab": {
          "base_uri": "https://localhost:8080/"
        },
        "id": "9ghBxmxEAPUU",
        "outputId": "f2790a10-57b8-4c86-a470-27a96758b0b7"
      },
      "outputs": [
        {
          "name": "stdout",
          "output_type": "stream",
          "text": [
            "Masukkan nama buah (pisahkan dengan koma): Anggur,Apel,Manggis,Pepaya\n",
            "Tuple nama buah: ('Anggur', 'Apel', 'Manggis', 'Pepaya')\n",
            "Tuple jumlah huruf: (6, 4, 7, 6)\n",
            "Buah dengan jumlah huruf terbanyak: Apel\n"
          ]
        }
      ],
      "source": [
        "nama_buah = tuple(input(\"Masukkan nama buah (pisahkan dengan koma): \").split(','))\n",
        "\n",
        "jumlah_huruf = tuple(len(buah) for buah in nama_buah)\n",
        "\n",
        "buah_terpanjang = nama_buah[jumlah_huruf.index(min(jumlah_huruf))]\n",
        "\n",
        "print(\"Tuple nama buah:\", nama_buah)\n",
        "print(\"Tuple jumlah huruf:\", jumlah_huruf)\n",
        "print(\"Buah dengan jumlah huruf terbanyak:\", buah_terpanjang)\n"
      ]
    },
    {
      "cell_type": "code",
      "execution_count": null,
      "metadata": {
        "colab": {
          "base_uri": "https://localhost:8080/"
        },
        "id": "idHyavVZB1N5",
        "outputId": "520ec3b9-3a42-4846-b325-958d22b8cf71"
      },
      "outputs": [
        {
          "name": "stdout",
          "output_type": "stream",
          "text": [
            "Rata-rata nilai matematika: 85.0\n",
            "Siswa dengan nilai matematika tertinggi: Cindy\n"
          ]
        }
      ],
      "source": [
        "data_siswa = {\n",
        "    \"Andi\": 80,\n",
        "    \"Budi\": 90,\n",
        "    \"Cindy\": 100,\n",
        "    \"Dika\": 70\n",
        "}\n",
        "rata_matematika = sum(data_siswa.values()) / len(data_siswa)\n",
        "a = max(data_siswa.values())\n",
        "for nama, nilai in data_siswa.items() :\n",
        "  if nilai == a :\n",
        "    siswa_terbaik_matematika = nama\n",
        "\n",
        "print(\"Rata-rata nilai matematika:\", rata_matematika)\n",
        "print(\"Siswa dengan nilai matematika tertinggi:\", siswa_terbaik_matematika)\n"
      ]
    },
    {
      "cell_type": "code",
      "execution_count": null,
      "metadata": {
        "colab": {
          "base_uri": "https://localhost:8080/"
        },
        "id": "v1BYFPKviWaN",
        "outputId": "11ef0bcc-522e-4ec2-a01c-05307a2f06cf"
      },
      "outputs": [
        {
          "name": "stdout",
          "output_type": "stream",
          "text": [
            "panjang buah terkecil adalah Leci\n",
            "panjang : 4\n"
          ]
        }
      ],
      "source": [
        "nama_buah = (\"Leci\",\"Blackcurret\",\"apel\")\n",
        "for i in nama_buah:\n",
        "  if i:\n",
        "    panjang_terkecil = min(nama_buah, key = len)\n",
        "    print(f\"panjang buah terkecil adalah {panjang_terkecil}\")\n",
        "    print(f\"panjang : {len(panjang_terkecil)}\")\n",
        "  break"
      ]
    },
    {
      "cell_type": "code",
      "execution_count": null,
      "metadata": {
        "id": "Wyws72hknPyf"
      },
      "outputs": [],
      "source": []
    }
  ],
  "metadata": {
    "colab": {
      "provenance": []
    },
    "kernelspec": {
      "display_name": "Python 3",
      "name": "python3"
    },
    "language_info": {
      "name": "python"
    }
  },
  "nbformat": 4,
  "nbformat_minor": 0
}
