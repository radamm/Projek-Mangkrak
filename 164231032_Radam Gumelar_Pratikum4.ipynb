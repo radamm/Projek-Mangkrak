{
 "cells": [
  {
   "cell_type": "markdown",
   "metadata": {},
   "source": [
    "### Nama  : Radam Gumelar\n",
    "### NIM   : 164231032\n",
    "### Pratikum 4"
   ]
  },
  {
   "cell_type": "markdown",
   "metadata": {},
   "source": [
    "1. Jalankan ketiga contoh pada Percobaan Praktikum 4, kemudian berikan penjelasannya."
   ]
  },
  {
   "cell_type": "code",
   "execution_count": 4,
   "metadata": {},
   "outputs": [
    {
     "name": "stdout",
     "output_type": "stream",
     "text": [
      "list[2]:  13\n",
      "Data List Setelah di Update:  [3, 6, 13, 10, 17, 19, 45, 100, 120, 150, 23]\n",
      "Data List:  [3, 13, 10, 17, 19, 45, 100, 120, 150, 23]\n",
      "Data List Baru:  [3, 13, 17, 19, 45, 100, 120, 150, 23]\n",
      "Data List Baru: []\n"
     ]
    }
   ],
   "source": [
    "satu = [3, 6, 13, 10, 19, 45, 100, 120, 150]\n",
    "print(\"list[2]: \", satu[2]) #Contoh akses nilai list dalam Python\n",
    "satu.append(23) #Contoh update nilai list dalam Python\n",
    "satu.insert(4, 17)\n",
    "print(\"Data List Setelah di Update: \", satu)\n",
    "del satu[1] #Contoh menghapus nilai list dalam Python\n",
    "print(\"Data List: \", satu )\n",
    "satu.remove(10)\n",
    "print(\"Data List Baru: \", satu)\n",
    "satu.clear() #Contoh menghapus semua nilai list dalam Python\n",
    "print(\"Data List Baru:\" , satu)\n"
   ]
  },
  {
   "cell_type": "markdown",
   "metadata": {},
   "source": [
    "#### Penjelasan\n",
    "1. ``print(\"list[2]: \", satu[2])`` : perintah ``satu[2]`` memiliki makna mengakses nilai list pada indeks elemen ke-3 yaitu 13 kemudian menampilkannya (karena ada print).<br>\n",
    "   **perlu diingat bahwa indeks list dimulai dari 0, jadi ketika ditulis ``[2]`` maka itu adalah nilai pada urutan ke 3**\n",
    "2. ``satu.append(23)``    : fungsi ``.append(nilai yang ingin ditambahkan)`` digunakan untuk menambahkan nilai/elemen baru ke dalam list satu.\n",
    "3. ``satu.insert(4, 17)`` : fungsi ``.insert(indeks, nilai)`` digunakan untuk menyisipkan nilai pada indeks ke x kedalam suatu list.\n",
    "4. ``del satu[1]``        : del digunakan untuk menghapus nilai di dalam list dengan indeks ke x dengan menggunakan pemanggilan list``[ ]``\n",
    "5. ``satu.remove(10)``    : fungsi ``.remove(inputan)`` digunakan untuk menghapus nilai/elemen dalam list dengan nilai sesuai inputan yang diinginkan\n",
    "6. ``satu.clear()``       : fungsi ``.clear()`` digunakan untuk menghapus semua nilai/elemen yang ada di list satu\n"
   ]
  },
  {
   "cell_type": "code",
   "execution_count": 5,
   "metadata": {},
   "outputs": [
    {
     "name": "stdout",
     "output_type": "stream",
     "text": [
      "List:  (3, 6, 13, 10, 19, 45, 100, 120, 150)\n",
      "Panjang List:  9\n"
     ]
    }
   ],
   "source": [
    "dua = (3, 6, 13, 10, 19, 45, 100, 120, 150)\n",
    "kedua=len(dua)\n",
    "print('List: ', dua)\n",
    "print('Panjang List: ', kedua)"
   ]
  },
  {
   "cell_type": "markdown",
   "metadata": {},
   "source": [
    "#### Penjelasan\n",
    "**array diatas berbentuk tuple, sehingga tidak bisa diubah isinya**\n",
    "1. ``len(array)`` : digunakan untuk menghitung panjang tuple. fungsi len tidak hanya digunakan untuk menghitung panjang tuple, tapi dalam kasus ini juga bisa digunakan untuk menghitung panjang isian dari suatu array berupa tuple/list/dictionary.\n",
    "2. ``print('List: ', dua)`` : menampilkan isian tuple\n",
    "3. ``print('Panjang List: ', kedua)`` : menampilkan panjang tuple\n"
   ]
  },
  {
   "cell_type": "code",
   "execution_count": 6,
   "metadata": {},
   "outputs": [
    {
     "name": "stdout",
     "output_type": "stream",
     "text": [
      "dict_keys(['Andrian', 'Vancy', 'Dewi'])\n",
      "['Andrian', 'Vancy', 'Dewi']\n",
      "dict_values(['A1', 'A2', 'A3'])\n",
      "dict_items([('Andrian', 'A1'), ('Vancy', 'A2'), ('Dewi', 'A3')])\n",
      "None\n",
      "NO ENTRY\n"
     ]
    }
   ],
   "source": [
    "kelas = {'Andrian':'A1', 'Vancy':'A2', 'Dewi':'A3'}\n",
    "p   = kelas.keys()\n",
    "l   = list(kelas.keys())\n",
    "v   = kelas.values()\n",
    "i   = kelas.items()\n",
    "g   = kelas.get('Cahyo')\n",
    "g1  = kelas.get('Fitri','NO ENTRY')\n",
    "print(p)\n",
    "print(l)\n",
    "print(v)\n",
    "print(i)\n",
    "print(g)\n",
    "print(g1)"
   ]
  },
  {
   "cell_type": "markdown",
   "metadata": {},
   "source": [
    "#### Penjelasan\n",
    "**array kelas berupa sebuah dictionary**\n",
    ">perlu diingat di dictionary tuh bentuknya:<br>\n",
    "> dictionary = {'key' : 'values'}\n",
    "1. ``kelas.keys()`` : mengambil semua nilai key dari dictionary bernama kelas\n",
    "2. ``list(kelas.keys())`` : sama seperti diatas, mengambil semua nilai key namun ini diubah ke dalam bentuk list\n",
    "3. ``kelas.values()`` : mengambil semua nilai values dari dictionary bernama kelas\n",
    "4. ``kelas.items()`` : mengambil semua nilai key-values dari dictionary bernama kelas\n",
    "5. ``kelas.get('Cahyo')`` : fungsi ``.get(inputan)`` digunakan untuk menampilkan values dari key inputan. disini inputannya 'cahyo' berarti akan mencari key bernama 'cahyo' kemudian akan menampilkan nilai valuesnya. jika tidak ditemukan, akan menampilkan **none**\n",
    "6. ``kelas.get('Fitri','NO ENTRY')`` : sama seperti nomor 5, namun bedanya, jika tidak ditemukan key sesuai yang diinputkan, maka akan menampilkan tulisan 'NO ENTRY' bukan **none**. <br>\n",
    "   jadi disini bedanya adalah ketika tidak ditemukan nilai key yang sesuai, maka kita bisa membuat output yang menginformasikan bahwa key tersebut tidak ada. outputnya bebas sesuai apa yang diinputkan.\n",
    "\n",
    "\n",
    "\n"
   ]
  },
  {
   "cell_type": "markdown",
   "metadata": {},
   "source": [
    "----------------------------------------------------------------------------------------------------------------------"
   ]
  },
  {
   "cell_type": "markdown",
   "metadata": {},
   "source": [
    "2. Buatlah program list untuk input sejumlah angka secara acak (tidak urut) minimal 5 kemudian lakukan panjang list, urutkan data tersebut (dari kecil ke besar dan besar ke kecil), mencari nilai maksimum dan minimum dengan menggunakan method pada Python. Jelaskan untuk masing-masing penggunaan method tersebut beserta hasilnya.\n"
   ]
  },
  {
   "cell_type": "code",
   "execution_count": 2,
   "metadata": {},
   "outputs": [
    {
     "name": "stdout",
     "output_type": "stream",
     "text": [
      "List angka yang ada : [64, 32, 97, 234, 95, 3]\n",
      "Panjang list adalah : 6\n",
      "Urutan angka di list dari kecil ke besar : [3, 32, 64, 95, 97, 234]\n",
      "Urutan angka di list dari besar ke kecil : [234, 97, 95, 64, 32, 3]\n",
      "Nilai maksimum pada list adalah 234\n",
      "Nilai minimum pada list adalah 3\n"
     ]
    }
   ],
   "source": [
    "#while pertama untuk syarat minimal 5 angka\n",
    "while True:\n",
    "  try:\n",
    "    jumlah_angka = int(input(\"Masukkan jumlah angka (minimal 5): \"))\n",
    "    if jumlah_angka >= 5:\n",
    "      break\n",
    "    else:\n",
    "      print(\"MINIMAL 5 PLIS!\")\n",
    "  except ValueError:\n",
    "    print(\"Inputan salah, gunakan bilangan bulat.\")\n",
    "\n",
    "#while kedua untuk antisipasi salah inputan\n",
    "while True:\n",
    "  try:\n",
    "    list_angka = []\n",
    "\n",
    "    for i in range(jumlah_angka):\n",
    "      angka = int(input(f\"Masukkan angka ke-{i} : \"))\n",
    "      list_angka.append(angka)\n",
    "\n",
    "    #jumlah elemen\n",
    "    print(f\"List angka yang ada : {list_angka}\")\n",
    "    print(f\"Panjang list adalah : {len(list_angka)}\")\n",
    "\n",
    "    #mengurutkan dari kecil ke besar\n",
    "    list_angka.sort()\n",
    "    print(f\"Urutan angka di list dari kecil ke besar : {list_angka}\")\n",
    "\n",
    "    #mengurutkan dari besar ke kecil\n",
    "    list_angka.reverse()\n",
    "    print(f\"Urutan angka di list dari besar ke kecil : {list_angka}\")\n",
    "\n",
    "    #mencari angka terbesar dan terkecil\n",
    "    maksimum = max(list_angka)\n",
    "    minimum  = min(list_angka) \n",
    "    print(f\"Nilai maksimum pada list adalah {maksimum}\")\n",
    "    print(f\"Nilai minimum pada list adalah {minimum}\")\n",
    "    break\n",
    "  except ValueError:\n",
    "      print(\"Inputan salah, gunakan bilangan bulat.\")\n"
   ]
  },
  {
   "cell_type": "markdown",
   "metadata": {},
   "source": [
    "#### Penjelasan nomor 2\n",
    "disini saya membuat 2 while<br>\n",
    "* perulangan While True yang paling atas digunakan untuk mengecek user harus menginputkan angka minimal angka 5, jika tidak maka menampilkan output di else kemudian kembali diminta menginputkan angka ulang (program akan berulang sampai memenuhi syarat)\n",
    "  fungsi try-except digunakan untuk memastikan inputan berupa bilangan bulat, jika tidak maka akan ada pemberitahuan dan akan diminta input ulang\n",
    "* perulangan while true yang kedua untuk memastikan inputan yang akan dimasukkan ke list benar berupa bilangan bulat.\n",
    "  try-except disini digunakan jika salah inputan akan menampilkan output peringatan dan diminta menginputkan angka ulang sampai benar"
   ]
  },
  {
   "cell_type": "markdown",
   "metadata": {},
   "source": [
    "penjelasan kodingan:<br>\n",
    "<p>yang didalam while yang pertama:<br>\n",
    "<ol>\n",
    "    <li>user akan diminta untuk memasukkan angka</li>\n",
    "    <li>gunakan kondisi if <code>if jumlah_angka >= 5:</code> jika angka inputan nilainya kurang dari samadengan 5, maka masuk ke else</li></ol></p>\n",
    "<p>yang didalam while yang kedua:<br>\n",
    "<ol>\n",
    "    <li>membuat list kosong dengan nama <code>list_angka</code></li>\n",
    "    <li>pada perulangan <code>for i in range(jumlah_angka):</code>, maknanya perulangan dilakukan sebanyak jumlah_angka</li>\n",
    "    <li>user akan diminta menginputkan angka acak sebanyak jumlah perulangan, kemudian inputan tersebut akan disimpan ke dalam list menggunakan kode <code>list_angka.append(angka)</code></li>\n",
    "    <li>selanjutnya tinggal menampilkan sesuai yang diminta:\n",
    "    <ol>\n",
    "        <li><code>len(list_angka)</code> : untuk menghitung panjang elemen didalam list</li>\n",
    "        <li><code>list_angka.sort()</code> : untuk mengurutkan nilai di dalam list dari kecil ke besar</li>\n",
    "        <li><code>list_angka.reverse()</code> : untuk mengurutkan nilai di dalam list dari besar ke kecil</li>\n",
    "        <li><code>max(list_angka)</code> : untuk mencari angka terbesar di dalam list</li>\n",
    "        <li><code>min(list_angka)</code> : untuk mencari angka terkecil di dalam list</li>\n",
    "    </ol></li>\n",
    "    \n"
   ]
  },
  {
   "cell_type": "markdown",
   "metadata": {},
   "source": [
    "----------------------------------------------------------------------------------------------------------------------"
   ]
  },
  {
   "cell_type": "markdown",
   "metadata": {},
   "source": [
    "3. <p>Buatlah program untuk menentukan bilangan prima dari 2 input bilangan<br>\n",
    "Misalkan:\n",
    ">Masukan bilangan awal: 10<br>\n",
    ">Masukan bilangan akhir: 20<br>\n",
    ">List angka: [10, 11, 12, 13, 14, 15, 16, 17, 18, 19, 20]<br>\n",
    ">Bilangan prima: [11, 13, 17, 19]"
   ]
  },
  {
   "cell_type": "code",
   "execution_count": 20,
   "metadata": {},
   "outputs": [
    {
     "name": "stdout",
     "output_type": "stream",
     "text": [
      "list angka : [10, 11, 12, 13, 14, 15, 16, 17, 18, 19, 20]\n",
      "bilangan prima : [11, 13, 17, 19]\n"
     ]
    }
   ],
   "source": [
    "#membuat fungsi untuk mengecek bilangan prima\n",
    "def tebak(a):\n",
    "    if a == 2:\n",
    "        return True\n",
    "    elif a == 1:\n",
    "        return False\n",
    "    elif a%2 == 0:\n",
    "        return False\n",
    "    elif a%2 == 1:\n",
    "        for i in range(2,a):\n",
    "            if (a%i) == 0:\n",
    "                return False\n",
    "    return True\n",
    "\n",
    "#program utama untuk mengambil bilangan prima\n",
    "try:\n",
    "    #inputan batas\n",
    "    a = int(input(\"Masukkan bilangan awal : \"))\n",
    "    b = int(input(\"Masukkan bilangan akhir : \"))\n",
    "\n",
    "    #buat list kosong\n",
    "    angka = []\n",
    "    prima_final = []\n",
    "\n",
    "    #mengisi nilai di list angka\n",
    "    for i in range(a,b+1):\n",
    "        angka.append(i)\n",
    "    print(f\"list angka : {angka}\")\n",
    "\n",
    "    #cek nilai angka apakah prima atau bukan\n",
    "    for i in range(len(angka)):\n",
    "        if tebak(angka[i]):\n",
    "            prima_final.append(angka[i])\n",
    "\n",
    "    #cetak bilangan prima\n",
    "    print(f\"bilangan prima : {prima_final}\")\n",
    "except ValueError:\n",
    "    print(\"Masukkan inputan dengan benar\")"
   ]
  },
  {
   "cell_type": "markdown",
   "metadata": {},
   "source": [
    "#### Penjelasan nomor 3\n",
    "fungsi def didalamnya berisi kodingan untuk mengecek apakah dia bilangan prima atau tidak<br>\n",
    ">``true`` berarti bilangan prima<br>\n",
    ">``false`` berarti bukan bilangan prima<br>\n",
    "alur fungsi diatas adalah seperti berikut<br>\n",
    "1. kalau inputan berupa 1 maka **bukan prima**\n",
    "2. kalau inputan berupa 2 maka **prima**\n",
    "3. kalau inputan habis dibagi 2 maka **bukan prima**\n",
    "4. kalau inputan dibagi 2 sisa 1 tapi habis dibagi oleh suatu bilangan dari range 2 sampai bilangan itu sendiri maka **bukan prima**\n",
    "5. kalau inputan dibagi 2 sisa 1 dan hanya habis dibagi bilangan itu sendiri maka **prima**\n"
   ]
  },
  {
   "cell_type": "markdown",
   "metadata": {},
   "source": [
    "penjelasan program utama:<br>\n",
    "1. user diminta memasukkan batas angka prima (a untuk batas awal, b untuk batas akhir).\n",
    "2. buat list kosong bernama angka untuk menyimpan nilai angka dari a sampai b dan list kosong lagi bernama prima_final untuk menyimpan nilai berupa angka prima.\n",
    "3. gunakan ``for i in range(a,b+1):`` kemudian ``angka.append(i)`` untuk memasukkan angka dari batas a sampai b ke dalam list angka.\n",
    "4. gunakan ``for i in range(len(angka)):`` untuk melakukan perulangan dengan batas dari 0 sampai jumlah banyaknya elemen pada list angka.\n",
    "5. kode ``if tebak(angka[i]):`` bermakna program akan mengecek tiap nilai pada list angka ke dalam fungsi. jika elemen di angka bernilai ``True`` setelah dicek di dalam fungsi tebak maka akan dimasukkan ke list prima_final dengan kode ``prima_final.append(angka[i])``.\n",
    "6. setelah itu tinggal tampilkan saja isian dari list angka dan list prima_final"
   ]
  },
  {
   "cell_type": "markdown",
   "metadata": {},
   "source": [
    "----------------------------------------------------------------------------------------------------------------------"
   ]
  },
  {
   "cell_type": "markdown",
   "metadata": {},
   "source": [
    "4. Buatlah program dictionary untuk meminta input suatu kata yang berisi sinonim atau persamaan kata sebanyak 10 elemen (misalnya: afeksi = kasih sayang, deduksi = konklusi, dan seterusnya). kemudian cari kata tersebut pada dictionary yang telah dibuat tersebut. Jika ditemukan, tampilkan sinonim yang telah diinput tersebut, jika tidak ditemukan, tampilkan pesan bahwa “Kata tersebut belum ada pada dictionary”"
   ]
  },
  {
   "cell_type": "code",
   "execution_count": 8,
   "metadata": {},
   "outputs": [
    {
     "name": "stdout",
     "output_type": "stream",
     "text": [
      "{'murah': 'hemat', 'cepat': 'kencang', 'cantik': 'indah', 'besar': 'luas', 'lezat': 'enak', 'gembira': 'bahagia', 'cerdas': 'pandai', 'muda': 'belia', 'hewan': 'binatang', 'ikan': 'pisces'}\n",
      "Sinonim dari kata 'cerdas' adalah 'pandai'.\n"
     ]
    }
   ],
   "source": [
    "# Membuat dictionary kosong\n",
    "sinonim = {}\n",
    "\n",
    "# Input kata dan sinonimnya\n",
    "for i in range(10):\n",
    "  kata = input(\"Masukkan kata: \").lower()\n",
    "  sinonimnya = input(f\"Masukkan sinonim kata {kata}: \").lower()\n",
    "  sinonim[kata] = sinonimnya\n",
    "\n",
    "# Mencari kata\n",
    "kata_dicari = input(\"Masukkan kata yang ingin dicari sinonimnya: \")\n",
    "kata_dicari.lower()\n",
    "\n",
    "# Menampilkan sinonim jika ditemukan\n",
    "if kata_dicari in sinonim:\n",
    "  print(sinonim)\n",
    "  print(f\"Sinonim dari kata '{kata_dicari}' adalah '{sinonim[kata_dicari]}'.\")\n",
    "else:\n",
    "  print(\"Kata tersebut belum ada pada dictionary.\")"
   ]
  },
  {
   "cell_type": "markdown",
   "metadata": {},
   "source": [
    "#### Penjelasan nomor 4\n",
    "1. membuat dictionary kosong\n",
    "2. karena diminta 10 sinonim, maka buat perulangan dengan batas sampai 10 ``for i in range(10):``.\n",
    "3. inputkan kata dan sinonimnya, kemudian dimasukkan ke dalam dictionary kosong untuk disimpan. kode ``sinonim[kata] = sinonimnya`` bermakna ``[kata]`` maka akan dimasukkan sebagai key di dalam dictionary, sedangkan ``sinonimnya`` akan dimasukkan sebagai values di dalam dictionary\n",
    "4. semuanya di format ``.lower`` agar tidak case sensitive (kapital tidak berpengaruh)\n",
    "5. buat inputan untuk mencari kata inputan yang diminta kemudian disimpan ke variabel ``kata_dicari``\n",
    "6. ``if kata_dicari in sinonim:`` bermakna mencari keys di dalam dictionary sinonim, jika ada maka akan menampilkan semua isi dari dictionary sinonim dan juga tulisan \"sinonim dari kata [keys] adalah [values]\"\n",
    "7. jika ``kata_dicari`` tidak ditemukan di dalam dictionary, maka akan menampilkan tulisan \"Kata tersebut belum ada pada dictionary.\"\n",
    "\n"
   ]
  }
 ],
 "metadata": {
  "kernelspec": {
   "display_name": "Python 3",
   "language": "python",
   "name": "python3"
  },
  "language_info": {
   "codemirror_mode": {
    "name": "ipython",
    "version": 3
   },
   "file_extension": ".py",
   "mimetype": "text/x-python",
   "name": "python",
   "nbconvert_exporter": "python",
   "pygments_lexer": "ipython3",
   "version": "3.10.11"
  }
 },
 "nbformat": 4,
 "nbformat_minor": 2
}
