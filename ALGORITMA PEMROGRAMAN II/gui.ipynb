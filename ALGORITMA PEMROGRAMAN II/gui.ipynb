{
 "cells": [
  {
   "cell_type": "code",
   "execution_count": 1,
   "metadata": {},
   "outputs": [
    {
     "name": "stdout",
     "output_type": "stream",
     "text": [
      "Requirement already satisfied: mysql-connector-python in c:\\users\\acer\\appdata\\local\\packages\\pythonsoftwarefoundation.python.3.10_qbz5n2kfra8p0\\localcache\\local-packages\\python310\\site-packages (9.0.0)Note: you may need to restart the kernel to use updated packages.\n",
      "\n"
     ]
    },
    {
     "name": "stderr",
     "output_type": "stream",
     "text": [
      "\n",
      "[notice] A new release of pip is available: 23.0.1 -> 24.2\n",
      "[notice] To update, run: C:\\Users\\Acer\\AppData\\Local\\Microsoft\\WindowsApps\\PythonSoftwareFoundation.Python.3.10_qbz5n2kfra8p0\\python.exe -m pip install --upgrade pip\n"
     ]
    }
   ],
   "source": [
    "pip install mysql-connector-python"
   ]
  },
  {
   "cell_type": "markdown",
   "metadata": {},
   "source": [
    "# Dari Awal"
   ]
  },
  {
   "cell_type": "code",
   "execution_count": 11,
   "metadata": {},
   "outputs": [],
   "source": [
    "import tkinter as tk\n",
    "from tkinter import messagebox, ttk\n",
    "import mysql.connector"
   ]
  },
  {
   "cell_type": "code",
   "execution_count": 12,
   "metadata": {},
   "outputs": [],
   "source": [
    "# Function to establish the database connection\n",
    "def establish_db_connection():\n",
    "    try:\n",
    "        conn = mysql.connector.connect(\n",
    "            host=\"localhost\",    # Change if your DB is hosted elsewhere\n",
    "            user=\"root\",         # Your MySQL username\n",
    "            password=\"\",         # Your MySQL password (leave as empty string if no password)\n",
    "            database=\"alproii\"  # Your existing database name\n",
    "        )\n",
    "        return conn\n",
    "    except mysql.connector.Error as err:\n",
    "        messagebox.showerror(\"Database Error\", f\"Error: {err}\")\n",
    "        return None"
   ]
  },
  {
   "cell_type": "code",
   "execution_count": 13,
   "metadata": {},
   "outputs": [],
   "source": [
    "# Function untuk menambahkan data ke tabel kuis_alpro\n",
    "def add_user():\n",
    "    nim = nim_entry.get()\n",
    "    nama = nama_entry.get()\n",
    "    nilai_kuis = nilai_kuis_entry.get()\n",
    "\n",
    "    if nim and nama and nilai_kuis.isdigit():  # Memastikan nilai kuis adalah angka\n",
    "        conn = establish_db_connection()\n",
    "        if conn:\n",
    "            cursor = conn.cursor()\n",
    "            cursor.execute(\"INSERT INTO kuis_alpro (Nim, Nama, `Nilai Kuis`) VALUES (%s, %s, %s)\",\n",
    "                           (nim, nama, int(nilai_kuis)))  # Memasukkan data ke tabel yang benar\n",
    "            conn.commit()\n",
    "            cursor.close()\n",
    "            conn.close()\n",
    "\n",
    "            nim_entry.delete(0, tk.END)\n",
    "            nama_entry.delete(0, tk.END)\n",
    "            nilai_kuis_entry.delete(0, tk.END)\n",
    "            show_users()  # Fungsi opsional untuk menampilkan pengguna setelah menambah data\n",
    "    else:\n",
    "        messagebox.showwarning(\"Input Error\", \"Harap masukkan NIM, Nama, dan Nilai Kuis yang valid.\")"
   ]
  },
  {
   "cell_type": "code",
   "execution_count": 14,
   "metadata": {},
   "outputs": [],
   "source": [
    "# Function untuk menampilkan data dari tabel kuis_alpro ke Treeview\n",
    "def show_users():\n",
    "    conn = establish_db_connection()  # Menghubungkan ke database\n",
    "    if conn:\n",
    "        cursor = conn.cursor()\n",
    "        cursor.execute(\"SELECT * FROM kuis_alpro\")  # Query untuk mengambil data\n",
    "        records = cursor.fetchall()  # Mengambil semua record dari tabel\n",
    "        \n",
    "        # Bersihkan Treeview sebelum menambahkan data baru\n",
    "        for row in tree.get_children():\n",
    "            tree.delete(row)\n",
    "\n",
    "        # Masukkan data ke dalam Treeview\n",
    "        for record in records:\n",
    "            tree.insert(\"\", tk.END, values=record)\n",
    "\n",
    "        cursor.close()\n",
    "        conn.close()  # Tutup koneksi database setelah selesai"
   ]
  },
  {
   "cell_type": "code",
   "execution_count": 15,
   "metadata": {},
   "outputs": [
    {
     "data": {
      "text/plain": [
       "''"
      ]
     },
     "execution_count": 15,
     "metadata": {},
     "output_type": "execute_result"
    }
   ],
   "source": [
    "# Creating the main window\n",
    "root = tk.Tk()\n",
    "root.title(\"User Information\")\n",
    "\n"
   ]
  },
  {
   "cell_type": "code",
   "execution_count": 16,
   "metadata": {},
   "outputs": [
    {
     "data": {
      "text/plain": [
       "''"
      ]
     },
     "execution_count": 16,
     "metadata": {},
     "output_type": "execute_result"
    }
   ],
   "source": [
    "# Setup GUI\n",
    "root = tk.Tk()\n",
    "root.title(\"Tambah Data ke Tabel kuis_alpro\")"
   ]
  },
  {
   "cell_type": "code",
   "execution_count": 17,
   "metadata": {},
   "outputs": [],
   "source": [
    "# Label dan Entry untuk NIM\n",
    "nim_label = tk.Label(root, text=\"NIM:\")\n",
    "nim_label.pack()\n",
    "\n",
    "nim_entry = tk.Entry(root)\n",
    "nim_entry.pack()\n",
    "\n",
    "# Label dan Entry untuk Nama\n",
    "nama_label = tk.Label(root, text=\"Nama:\")\n",
    "nama_label.pack()\n",
    "\n",
    "nama_entry = tk.Entry(root)\n",
    "nama_entry.pack()\n",
    "\n",
    "# Label dan Entry untuk Nilai Kuis\n",
    "nilai_kuis_label = tk.Label(root, text=\"Nilai Kuis:\")\n",
    "nilai_kuis_label.pack()\n",
    "\n",
    "nilai_kuis_entry = tk.Entry(root)\n",
    "nilai_kuis_entry.pack()\n",
    "\n",
    "# Tombol untuk menambah data ke tabel kuis_alpro\n",
    "add_button = tk.Button(root, text=\"Tambah Data\", command=add_user)\n",
    "add_button.pack()\n",
    "\n",
    "# Treeview untuk menampilkan data dari tabel kuis_alpro\n",
    "tree = ttk.Treeview(root, columns=(\"NIM\", \"Nama\", \"Nilai Kuis\"), show='headings')\n",
    "tree.heading(\"NIM\", text=\"NIM\")\n",
    "tree.heading(\"Nama\", text=\"Nama\")\n",
    "tree.heading(\"Nilai Kuis\", text=\"Nilai Kuis\")\n",
    "tree.pack()\n"
   ]
  },
  {
   "cell_type": "code",
   "execution_count": 18,
   "metadata": {},
   "outputs": [],
   "source": [
    "# Memanggil fungsi untuk menampilkan data ketika aplikasi dimulai\n",
    "show_users()\n",
    "root.mainloop()"
   ]
  },
  {
   "cell_type": "code",
   "execution_count": null,
   "metadata": {},
   "outputs": [],
   "source": [
    "import tkinter as tk\n",
    "from tkinter import messagebox, ttk\n",
    "import mysql.connector\n",
    "\n",
    "# Function to establish the database connection\n",
    "def establish_db_connection():\n",
    "    try:\n",
    "        conn = mysql.connector.connect(\n",
    "            host=\"localhost\",    # Change if your DB is hosted elsewhere\n",
    "            user=\"root\",         # Your MySQL username\n",
    "            password=\"\",         # Your MySQL password (leave as empty string if no password)\n",
    "            database=\"alproii\"  # Your existing database name\n",
    "        )\n",
    "        return conn\n",
    "    except mysql.connector.Error as err:\n",
    "        messagebox.showerror(\"Database Error\", f\"Error: {err}\")\n",
    "        return None\n",
    "    \n",
    "# Function untuk menambahkan data ke tabel kuis_alpro\n",
    "def add_user():\n",
    "    nim = nim_entry.get()\n",
    "    nama = nama_entry.get()\n",
    "    nilai_kuis = nilai_kuis_entry.get()\n",
    "\n",
    "    if nim and nama and nilai_kuis.isdigit():  # Memastikan nilai kuis adalah angka\n",
    "        conn = establish_db_connection()\n",
    "        if conn:\n",
    "            cursor = conn.cursor()\n",
    "            cursor.execute(\"INSERT INTO kuis_alpro (Nim, Nama, `Nilai Kuis`) VALUES (%s, %s, %s)\",\n",
    "                           (nim, nama, int(nilai_kuis)))  # Memasukkan data ke tabel yang benar\n",
    "            conn.commit()\n",
    "            cursor.close()\n",
    "            conn.close()\n",
    "\n",
    "            nim_entry.delete(0, tk.END)\n",
    "            nama_entry.delete(0, tk.END)\n",
    "            nilai_kuis_entry.delete(0, tk.END)\n",
    "            show_users()  # Fungsi opsional untuk menampilkan pengguna setelah menambah data\n",
    "    else:\n",
    "        messagebox.showwarning(\"Input Error\", \"Harap masukkan NIM, Nama, dan Nilai Kuis yang valid.\")\n",
    "\n",
    "# Function untuk menampilkan data dari tabel kuis_alpro ke Treeview\n",
    "def show_users():\n",
    "    conn = establish_db_connection()  # Menghubungkan ke database\n",
    "    if conn:\n",
    "        cursor = conn.cursor()\n",
    "        cursor.execute(\"SELECT * FROM kuis_alpro\")  # Query untuk mengambil data\n",
    "        records = cursor.fetchall()  # Mengambil semua record dari tabel\n",
    "        \n",
    "        # Bersihkan Treeview sebelum menambahkan data baru\n",
    "        for row in tree.get_children():\n",
    "            tree.delete(row)\n",
    "\n",
    "        # Masukkan data ke dalam Treeview\n",
    "        for record in records:\n",
    "            tree.insert(\"\", tk.END, values=record)\n",
    "\n",
    "        cursor.close()\n",
    "        conn.close()  # Tutup koneksi database setelah selesai\n",
    "\n",
    "# Creating the main window\n",
    "root = tk.Tk()\n",
    "root.title(\"User Information\")\n",
    "\n",
    "# Setup GUI\n",
    "root = tk.Tk()\n",
    "root.title(\"Tambah Data ke Tabel kuis_alpro\")\n",
    "\n",
    "# Label dan Entry untuk NIM\n",
    "nim_label = tk.Label(root, text=\"NIM:\")\n",
    "nim_label.pack()\n",
    "\n",
    "nim_entry = tk.Entry(root)\n",
    "nim_entry.pack()\n",
    "\n",
    "# Label dan Entry untuk Nama\n",
    "nama_label = tk.Label(root, text=\"Nama:\")\n",
    "nama_label.pack()\n",
    "\n",
    "nama_entry = tk.Entry(root)\n",
    "nama_entry.pack()\n",
    "\n",
    "# Label dan Entry untuk Nilai Kuis\n",
    "nilai_kuis_label = tk.Label(root, text=\"Nilai Kuis:\")\n",
    "nilai_kuis_label.pack()\n",
    "\n",
    "nilai_kuis_entry = tk.Entry(root)\n",
    "nilai_kuis_entry.pack()\n",
    "\n",
    "# Tombol untuk menambah data ke tabel kuis_alpro\n",
    "add_button = tk.Button(root, text=\"Tambah Data\", command=add_user)\n",
    "add_button.pack()\n",
    "\n",
    "# Treeview untuk menampilkan data dari tabel kuis_alpro\n",
    "tree = ttk.Treeview(root, columns=(\"NIM\", \"Nama\", \"Nilai Kuis\"), show='headings')\n",
    "tree.heading(\"NIM\", text=\"NIM\")\n",
    "tree.heading(\"Nama\", text=\"Nama\")\n",
    "tree.heading(\"Nilai Kuis\", text=\"Nilai Kuis\")\n",
    "tree.pack()\n",
    "\n"
   ]
  },
  {
   "cell_type": "markdown",
   "metadata": {},
   "source": []
  }
 ],
 "metadata": {
  "kernelspec": {
   "display_name": "base",
   "language": "python",
   "name": "python3"
  },
  "language_info": {
   "codemirror_mode": {
    "name": "ipython",
    "version": 3
   },
   "file_extension": ".py",
   "mimetype": "text/x-python",
   "name": "python",
   "nbconvert_exporter": "python",
   "pygments_lexer": "ipython3",
   "version": "3.10.11"
  }
 },
 "nbformat": 4,
 "nbformat_minor": 2
}
