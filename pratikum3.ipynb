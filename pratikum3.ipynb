{
 "cells": [
  {
   "cell_type": "code",
   "execution_count": 18,
   "metadata": {},
   "outputs": [
    {
     "name": "stdout",
     "output_type": "stream",
     "text": [
      "var1[0] :  H\n",
      "var2[2:6] :  ya b\n"
     ]
    }
   ],
   "source": [
    "var1 = 'Hallo Python'\n",
    "var2 = 'Saya belajar pemrograman dengan Python'\n",
    "#mengakses substring dengan indeks ke 0\n",
    "print(\"var1[0] : \", var1[0])\n",
    "#mengakses substring dengan indeks range 2-6\n",
    "print(\"var2[2:6] : \", var2[2:6])"
   ]
  },
  {
   "cell_type": "markdown",
   "metadata": {},
   "source": [
    "Slicing String"
   ]
  },
  {
   "cell_type": "code",
   "execution_count": 19,
   "metadata": {},
   "outputs": [
    {
     "name": "stdout",
     "output_type": "stream",
     "text": [
      "edang\n",
      "Saya \n",
      "dang belajar bahasa pemrograman Python\n",
      "tho\n",
      "edang\n",
      "S a\n"
     ]
    }
   ],
   "source": [
    "kalimat = \"Saya sedang belajar bahasa pemrograman Python\"\n",
    "#slicing dimulai dari 1\n",
    "print(kalimat[6:11]) #karakter a sampe karakter b (harus dilebihin satu), itu brrti 6 sampe 10\n",
    "print(kalimat[:5]) #\n",
    "print(kalimat[7:])\n",
    "print(kalimat[-4:-1]) #akses dari belakang\n",
    "print(kalimat[6:11:1])\n",
    "print(kalimat[0:12:4]) #0 sampai 12 lompat tiap 4 karakter"
   ]
  },
  {
   "cell_type": "markdown",
   "metadata": {},
   "source": [
    "Memformat String"
   ]
  },
  {
   "cell_type": "code",
   "execution_count": 20,
   "metadata": {},
   "outputs": [
    {
     "name": "stdout",
     "output_type": "stream",
     "text": [
      "Nama saya Joni, saya berumur 20\n"
     ]
    }
   ],
   "source": [
    "age = 20\n",
    "txt = \"Nama saya Joni, saya berumur {}\"\n",
    "print(txt.format(age)) #memberi nilai ke dalam string"
   ]
  },
  {
   "cell_type": "code",
   "execution_count": 21,
   "metadata": {},
   "outputs": [
    {
     "name": "stdout",
     "output_type": "stream",
     "text": [
      "Saya ingin 1 buah barang dengan nomor barang 123 seharga 49.95 dolar.\n"
     ]
    }
   ],
   "source": [
    "quantity = 1\n",
    "nomoritem = 123\n",
    "price = 49.95\n",
    "myorder = \"Saya ingin {} buah barang dengan nomor barang {} seharga {} dolar.\"\n",
    "print (myorder.format(quantity, nomoritem, price))"
   ]
  },
  {
   "cell_type": "markdown",
   "metadata": {},
   "source": [
    "Menggabungkan String"
   ]
  },
  {
   "cell_type": "code",
   "execution_count": 22,
   "metadata": {},
   "outputs": [
    {
     "name": "stdout",
     "output_type": "stream",
     "text": [
      "Belajar Python menyenangkan\n"
     ]
    }
   ],
   "source": [
    "x = \"Belajar Python \"\n",
    "y = \"menyenangkan\"\n",
    "z = x + y\n",
    "print(z)"
   ]
  },
  {
   "cell_type": "code",
   "execution_count": 26,
   "metadata": {},
   "outputs": [
    {
     "name": "stdout",
     "output_type": "stream",
     "text": [
      "Radam Suka Mengaji\n"
     ]
    }
   ],
   "source": [
    "kata = [\"Radam\", \"Suka\", \"Mengaji\"]\n",
    "print(\" \".join(kata))"
   ]
  },
  {
   "cell_type": "code",
   "execution_count": 29,
   "metadata": {},
   "outputs": [
    {
     "data": {
      "text/plain": [
       "-1"
      ]
     },
     "execution_count": 29,
     "metadata": {},
     "output_type": "execute_result"
    }
   ],
   "source": [
    "#menemukan kata/huruf dalam kalimat\n",
    "kalimat = \"Hello, my name is Radam\"\n",
    "# kalimat.find(\"is\")\n",
    "# kalimat.find(\"Deborah\")\n",
    "# kalimat.find(\"R\")"
   ]
  },
  {
   "cell_type": "code",
   "execution_count": 30,
   "metadata": {},
   "outputs": [
    {
     "data": {
      "text/plain": [
       "'Hello, my name is Preti'"
      ]
     },
     "execution_count": 30,
     "metadata": {},
     "output_type": "execute_result"
    }
   ],
   "source": [
    "kalimat = \"Hello, my name is Radam\"\n",
    "kalimat.replace(\"Radam\", \"Preti\")"
   ]
  },
  {
   "cell_type": "markdown",
   "metadata": {},
   "source": [
    "Center"
   ]
  },
  {
   "cell_type": "code",
   "execution_count": 35,
   "metadata": {},
   "outputs": [
    {
     "name": "stdout",
     "output_type": "stream",
     "text": [
      "Hello, my name is Radam\n"
     ]
    }
   ],
   "source": [
    "kalimat = \"Hello, my name is Radam\"\n",
    "print(kalimat.center(20,\"/\"))"
   ]
  },
  {
   "cell_type": "code",
   "execution_count": 38,
   "metadata": {},
   "outputs": [
    {
     "name": "stdout",
     "output_type": "stream",
     "text": [
      " \n"
     ]
    }
   ],
   "source": [
    "a = input(\"input : \")\n",
    "b = \" \"\n",
    "for i in a:\n",
    "    if a.isupper()==True:\n",
    "        b += (a.lower())\n",
    "    elif a.islower()==True:\n",
    "        b += (a.upper())\n",
    "print(b)"
   ]
  },
  {
   "cell_type": "code",
   "execution_count": 40,
   "metadata": {},
   "outputs": [
    {
     "data": {
      "text/plain": [
       "2"
      ]
     },
     "execution_count": 40,
     "metadata": {},
     "output_type": "execute_result"
    }
   ],
   "source": [
    "a = input(\"input : \")\n",
    "b = a.split()\n",
    "len(b)"
   ]
  },
  {
   "cell_type": "code",
   "execution_count": 54,
   "metadata": {},
   "outputs": [
    {
     "name": "stdout",
     "output_type": "stream",
     "text": [
      "28-02-2003\n",
      "27-02-2024\n",
      "21\n"
     ]
    }
   ],
   "source": [
    "tgl_lahir = input()\n",
    "a = tgl_lahir.replace(\"-\",\" \")\n",
    "split_tgl_lahir = a.split()\n",
    "\n",
    "hari_ini = input()\n",
    "b = hari_ini.replace(\"-\",\" \")\n",
    "split_hari_ini = b.split()\n",
    "\n",
    "umur = int(split_hari_ini[2])-int(split_tgl_lahir[2])\n",
    "if split_hari_ini[1] < split_tgl_lahir[1]:\n",
    "    umur -= 1\n",
    "elif split_hari_ini[1] == split_tgl_lahir[1]:\n",
    "    if split_tgl_lahir[0] < split_hari_ini[0]:\n",
    "        umur -=1\n",
    "    elif split_tgl_lahir[0] > split_hari_ini[0]:\n",
    "        umur\n",
    "print(tgl_lahir)\n",
    "print(hari_ini)\n",
    "print(umur)"
   ]
  },
  {
   "cell_type": "code",
   "execution_count": 1,
   "metadata": {},
   "outputs": [
    {
     "name": "stdout",
     "output_type": "stream",
     "text": [
      "aku pengen makan pentol\n"
     ]
    }
   ],
   "source": [
    "list=[]\n",
    "while True:\n",
    "    x=input()\n",
    "    if x==\"stop\":\n",
    "        break\n",
    "    list.append(x)\n",
    "print(*list)"
   ]
  },
  {
   "cell_type": "code",
   "execution_count": 69,
   "metadata": {},
   "outputs": [],
   "source": [
    "a = input()\n",
    "print(a[-1:-5])"
   ]
  }
 ],
 "metadata": {
  "kernelspec": {
   "display_name": "Python 3",
   "language": "python",
   "name": "python3"
  },
  "language_info": {
   "codemirror_mode": {
    "name": "ipython",
    "version": 3
   },
   "file_extension": ".py",
   "mimetype": "text/x-python",
   "name": "python",
   "nbconvert_exporter": "python",
   "pygments_lexer": "ipython3",
   "version": "3.10.11"
  }
 },
 "nbformat": 4,
 "nbformat_minor": 2
}
