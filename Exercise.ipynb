{
 "cells": [
  {
   "cell_type": "code",
   "execution_count": 3,
   "metadata": {},
   "outputs": [
    {
     "name": "stdout",
     "output_type": "stream",
     "text": [
      "Masukkan pilihan anda : 10\n",
      "AI memilih 21\n",
      "Anda Kalah\n"
     ]
    }
   ],
   "source": [
    "import random\n",
    "a = int(input(\"Masukkan Angka : \"))\n",
    "b = random.randrange(1,31)\n",
    "print(f\"Masukkan pilihan anda : {a}\")\n",
    "print(f\"AI memilih {b}\")\n",
    "if a>>b:\n",
    "    print(\"Anda menang\")\n",
    "elif a<<b:\n",
    "    print(\"Anda Kalah\")"
   ]
  },
  {
   "cell_type": "code",
   "execution_count": null,
   "metadata": {},
   "outputs": [],
   "source": [
    "a = int(input(\"Masukkan Angka : \"))\n"
   ]
  },
  {
   "cell_type": "code",
   "execution_count": 9,
   "metadata": {},
   "outputs": [
    {
     "name": "stdout",
     "output_type": "stream",
     "text": [
      "1 = ganjil\n",
      "2 = genap\n",
      "3 = ganjil\n",
      "4 = genap\n",
      "5 = ganjil\n",
      "6 = genap\n",
      "7 = ganjil\n",
      "8 = genap\n",
      "9 = ganjil\n",
      "10 = genap\n",
      "11 = ganjil\n",
      "12 = genap\n",
      "13 = ganjil\n",
      "14 = genap\n",
      "15 = ganjil\n",
      "16 = genap\n",
      "17 = ganjil\n",
      "18 = genap\n",
      "19 = ganjil\n",
      "20 = genap\n",
      "21 = ganjil\n",
      "22 = genap\n",
      "23 = ganjil\n",
      "24 = genap\n",
      "25 = ganjil\n",
      "26 = genap\n",
      "27 = ganjil\n",
      "28 = genap\n",
      "29 = ganjil\n",
      "30 = genap\n"
     ]
    }
   ],
   "source": [
    "for i in range (1,31):\n",
    "    if i%2 == 0:\n",
    "        print(f\"{i} = genap\")\n",
    "    else:\n",
    "        print(f\"{i} = ganjil\")"
   ]
  },
  {
   "cell_type": "code",
   "execution_count": 1,
   "metadata": {},
   "outputs": [],
   "source": [
    "import math as mt"
   ]
  },
  {
   "cell_type": "code",
   "execution_count": null,
   "metadata": {},
   "outputs": [],
   "source": [
    "a = int(input(\"Masukkan Angka : \"))\n"
   ]
  },
  {
   "cell_type": "code",
   "execution_count": 9,
   "metadata": {},
   "outputs": [
    {
     "name": "stdout",
     "output_type": "stream",
     "text": [
      "List angka adalah [12  2 20]\n",
      "Nilai setelah sorting adalah [ 2 12 20]\n"
     ]
    }
   ],
   "source": [
    "import numpy as np\n",
    "a = int(input(\"Masukkan jumlah inputan\"))\n",
    "angka = []\n",
    "for i in range(a):\n",
    "    angka.append(int(input(f\"Masukkan angka ke : {i}\")))\n",
    "print(f\"List angka adalah {np.array(angka)}\")\n",
    "angka.sort()\n",
    "print(f\"Nilai setelah sorting adalah {np.array(angka)}\")"
   ]
  },
  {
   "cell_type": "code",
   "execution_count": 26,
   "metadata": {},
   "outputs": [
    {
     "name": "stdout",
     "output_type": "stream",
     "text": [
      "list awal : [5, 6, 7, 10, 70, 2, 6, 17, 11]\n",
      "setelah diurutkan : [0, 0, 0, 0, 0, 6, 6, 10, 70]\n",
      "bilangan prima : [2, 5, 7, 11, 17]\n"
     ]
    }
   ],
   "source": [
    "def tebak(a):\n",
    "    if a == 2:\n",
    "        return True\n",
    "    elif a == 1:\n",
    "        return False\n",
    "    elif a%2 == 0:\n",
    "        return False\n",
    "    elif a%2 == 1:\n",
    "        for i in range(2,a):\n",
    "            if (a%i) == 0:\n",
    "                return False\n",
    "            return True\n",
    "\n",
    "a = int(input(\"Masukkan jumlah inputan\"))\n",
    "prima = []\n",
    "prima_final = []\n",
    "for i in range(a):\n",
    "    prima.append(int(input(f\"Masukkan angka ke : {i}\")))\n",
    "print(f\"list awal : {prima}\")\n",
    "\n",
    "for i in range(len(prima)):\n",
    "    if tebak(prima[i]):\n",
    "        prima_final.append(prima[i])\n",
    "        prima[i] = 0\n",
    "prima.sort()\n",
    "prima_final.sort()\n",
    "# print(f\"setelah diurutkan : {prima}\")\n",
    "print(f\"bilangan prima : {prima_final}\")\n",
    "\n"
   ]
  }
 ],
 "metadata": {
  "kernelspec": {
   "display_name": "Python 3",
   "language": "python",
   "name": "python3"
  },
  "language_info": {
   "codemirror_mode": {
    "name": "ipython",
    "version": 3
   },
   "file_extension": ".py",
   "mimetype": "text/x-python",
   "name": "python",
   "nbconvert_exporter": "python",
   "pygments_lexer": "ipython3",
   "version": "3.10.11"
  }
 },
 "nbformat": 4,
 "nbformat_minor": 2
}
