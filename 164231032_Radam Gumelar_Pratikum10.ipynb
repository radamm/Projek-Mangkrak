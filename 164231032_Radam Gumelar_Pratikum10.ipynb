{
 "cells": [
  {
   "cell_type": "markdown",
   "metadata": {},
   "source": [
    "### Nama  : Radam Gumelar\n",
    "### NIM   : 164231032\n",
    "### Pratikum 10"
   ]
  },
  {
   "cell_type": "markdown",
   "metadata": {},
   "source": [
    "1. Buat fungsi untuk algoritma *sorting* dan *searching* lalu coba jelaskan tiap barisnya. Apakah sesuai konsep?"
   ]
  },
  {
   "cell_type": "code",
   "execution_count": 4,
   "metadata": {},
   "outputs": [
    {
     "name": "stdout",
     "output_type": "stream",
     "text": [
      "kursor dalam : [6, 3, 7, 2, 5, 4, 9]\n",
      "kursor dalam : [6, 3, 2, 7, 5, 4, 9]\n",
      "kursor dalam : [6, 3, 2, 5, 7, 4, 9]\n",
      "kursor dalam : [6, 3, 2, 5, 4, 7, 9]\n",
      "kursor luar : [6, 3, 2, 5, 4, 7, 9]\n",
      "kursor dalam : [3, 6, 2, 5, 4, 7, 9]\n",
      "kursor dalam : [3, 2, 6, 5, 4, 7, 9]\n",
      "kursor dalam : [3, 2, 5, 6, 4, 7, 9]\n",
      "kursor dalam : [3, 2, 5, 4, 6, 7, 9]\n",
      "kursor luar : [3, 2, 5, 4, 6, 7, 9]\n",
      "kursor dalam : [2, 3, 5, 4, 6, 7, 9]\n",
      "kursor dalam : [2, 3, 4, 5, 6, 7, 9]\n",
      "kursor luar : [2, 3, 4, 5, 6, 7, 9]\n",
      "kursor luar : [2, 3, 4, 5, 6, 7, 9]\n",
      "kursor luar : [2, 3, 4, 5, 6, 7, 9]\n",
      "kursor luar : [2, 3, 4, 5, 6, 7, 9]\n"
     ]
    }
   ],
   "source": [
    "def bubblesort(var):\n",
    "    iterasi = 0\n",
    "    while iterasi < (len(var)-1):\n",
    "        cursor = 0\n",
    "        while cursor < (len(var)-1):\n",
    "            if var[cursor] > var[cursor+1]:\n",
    "                var[cursor], var[cursor+1] = var[cursor+1], var[cursor]\n",
    "                print(f\"kursor dalam : {var}\")\n",
    "            cursor +=1\n",
    "        iterasi +=1\n",
    "        print(f\"kursor luar : {var}\")\n",
    "bubblesort([6,7,3,2,5,4,9])"
   ]
  },
  {
   "cell_type": "markdown",
   "metadata": {},
   "source": [
    "- program dimulai dengan membuat fungsi dengan nama ``bubblesort`` dan menerima 1 variabel ``var``\n",
    "  - inisiasi variabel ``iterasi`` dengan nilai 0\n",
    "  - menggunakan looping while dengan kondisi:\n",
    "    - jika nilai ``iterasi`` kurang dari jumlah panjang nilai pada variabel ``var`` dikurangi 1 maka:\n",
    "      - inisiasi variabel ``cursor`` dengan nilai 0\n",
    "      - looping while dengan kondisi jika nilai ``cursor`` lebih dari index ke ``cursor``+1 pada list ``var`` maka:\n",
    "        - jika nilai pada indeks ke-(cursor) di list ``var`` lebih besar dari nilai pada indeks ke-(cursor)+1 di list ``var``:\n",
    "          - balik letak nilai pada indeks ke-(cursor) di list ``var`` dengan nilai pada indeks ke-(cursor)+ di list ``var``\n",
    "        - setelah itu nilai pada variabel `cursor` ditambah 1\n",
    "      - nilai pada variabel `iterasi` ditambah satu\n",
    "    - simpan nilai parameter var\n",
    "- program akan terus berulang selama kondisi while masih terpenuhi\n",
    "\n",
    "> ringkasnya program ini akan mengurutkan nilai pada list dengan membandingkan antara nilai dia dengan nilai sebelah kanannya<br>\n",
    "> jika nilainya lebih besar dibanding kanannya, maka posisinya dibalik<br>\n",
    "> contoh misal [3,1] -> 3 lebih besar daripada 1 maka posisinya ditukar jadi [1,3]<br>\n",
    "><br>\n",
    "> kalau di soal misal listnya [1,4,2,5,7,8,3,2,6] maka prosesnya<br>\n",
    "> [1, 2, 4, 5, 7, 3, 2, 6, 8]<br>\n",
    "> [1, 2, 4, 5, 3, 2, 6, 7, 8]<br>\n",
    "> [1, 2, 4, 3, 2, 5, 6, 7, 8]<br>\n",
    "> [1, 2, 3, 2, 4, 5, 6, 7, 8]<br>\n",
    "> [1, 2, 2, 3, 4, 5, 6, 7, 8]<br>\n",
    "> [1, 2, 2, 3, 4, 5, 6, 7, 8]<br>\n",
    "> [1, 2, 2, 3, 4, 5, 6, 7, 8]<br>\n",
    "> [1, 2, 2, 3, 4, 5, 6, 7, 8] -> HASIL AKHIR\n",
    "----------------------------------------------------------------------------------------------------------------------"
   ]
  },
  {
   "cell_type": "code",
   "execution_count": 13,
   "metadata": {},
   "outputs": [
    {
     "name": "stdout",
     "output_type": "stream",
     "text": [
      "index pertama : 6\n",
      "kursor dalam : [6, 7, 3, 2, 5, 4, 9]\n",
      "index kedua = 3\n",
      "kursor dalam : [6, 7, 3, 2, 5, 4, 9]\n",
      "index kedua = 2\n",
      "kursor luar : [2, 7, 3, 6, 5, 4, 9]\n",
      "index pertama : 7\n",
      "kursor dalam : [2, 7, 3, 6, 5, 4, 9]\n",
      "index kedua = 3\n",
      "kursor luar : [2, 3, 7, 6, 5, 4, 9]\n",
      "index pertama : 7\n",
      "kursor dalam : [2, 3, 7, 6, 5, 4, 9]\n",
      "index kedua = 6\n",
      "kursor dalam : [2, 3, 7, 6, 5, 4, 9]\n",
      "index kedua = 5\n",
      "kursor dalam : [2, 3, 7, 6, 5, 4, 9]\n",
      "index kedua = 4\n",
      "kursor luar : [2, 3, 4, 6, 5, 7, 9]\n",
      "index pertama : 6\n",
      "kursor dalam : [2, 3, 4, 6, 5, 7, 9]\n",
      "index kedua = 5\n",
      "kursor luar : [2, 3, 4, 5, 6, 7, 9]\n",
      "index pertama : 6\n",
      "kursor luar : [2, 3, 4, 5, 6, 7, 9]\n",
      "index pertama : 7\n",
      "kursor luar : [2, 3, 4, 5, 6, 7, 9]\n",
      "index pertama : 9\n",
      "kursor luar : [2, 3, 4, 5, 6, 7, 9]\n"
     ]
    }
   ],
   "source": [
    "#Traverse through all array elements\n",
    "def selectionsort(var):\n",
    "    for i in range(len(var)):\n",
    "        min_idx = i\n",
    "        print(f\"index pertama : {var[min_idx]}\")\n",
    "        for j in range(i+1, len(var)):\n",
    "            if var[min_idx] > var[j]:\n",
    "                min_idx = j\n",
    "                print(f\"kursor dalam : {var}\")\n",
    "                print(f\"index kedua = {var[min_idx]}\")\n",
    "        var[i], var[min_idx] = var[min_idx], var[i]\n",
    "        print(f\"kursor luar : {var}\")\n",
    "selectionsort([6,7,3,2,5,4,9])"
   ]
  },
  {
   "cell_type": "markdown",
   "metadata": {},
   "source": [
    "- program dimulai dengan fungsi bernama `selectionsort` dan menerima 1 parameter `var` (isinya list)\n",
    "  - perulangan untuk tiap nilai (i) sampai batas panjang list di variabel `var` lakukan:\n",
    "    - inisiasi nilai `min_idx` = i\n",
    "    - untuk tiap nilai (j) dengan batas i+1 sampai panjang list `var`:\n",
    "      - jika nilai pada indeks ke-`min_idx` di dalam `var` lebih dari nilai pada indeks ke-`j` di dalam `var`:\n",
    "        - nilai `min_idx` menjadi `j`\n",
    "      - kemudian posisinya dibalik\n",
    "\n",
    "> ringkasnya, program ini mula mula akan cek nilai di paling kiri, kemudian dibandingkan dengan semua nilai di sebelah kanannya.<br>\n",
    "> jika nilainya lebih besar dari dikanannya, maka posisinya akan saling bertukar<br>\n",
    "> contoh misal [1,5,7,8,2] maka mula mula 5 akan bertukar dengan 2 menjadi [1,2,7,8,5] kemudian 7 akan bertukar dengan 5 dan seterusnya<br>\n",
    "><br>\n",
    "> kalau di soal misal punya list [1, 4, 2, 5, 8, 2, 4, 6] maka menjadi:<br>\n",
    "> [1, 4, 2, 5, 8, 2, 4, 6]<br>\n",
    "> [1, 2, 4, 5, 8, 2, 4, 6]<br>\n",
    "> [1, 2, 2, 5, 8, 4, 4, 6]<br>\n",
    "> [1, 2, 2, 4, 8, 5, 4, 6]<br>\n",
    "> [1, 2, 2, 4, 4, 5, 8, 6]<br>\n",
    "> [1, 2, 2, 4, 4, 5, 8, 6]<br>\n",
    "> [1, 2, 2, 4, 4, 5, 6, 8]<br>\n",
    "> [1, 2, 2, 4, 4, 5, 6, 8] -> HASIL AKHIR\n",
    "----------------------------------------------------------------------------------------------------------------------"
   ]
  },
  {
   "cell_type": "code",
   "execution_count": 67,
   "metadata": {},
   "outputs": [
    {
     "name": "stdout",
     "output_type": "stream",
     "text": [
      "Nilai:  4 berhasil ditemukan di index ke  3\n"
     ]
    }
   ],
   "source": [
    "a = [1,2,3,4,5,6]\n",
    "cari = int(input(\"Masukkan nilai yang dicari: \"))\n",
    "ketemu = False\n",
    "for i in range(0, len(a)):\n",
    "    if cari == a[i]:\n",
    "        ketemu = True\n",
    "        idx = i\n",
    "        break\n",
    "\n",
    "if ketemu:\n",
    "    print(\"Nilai: \", cari, \"berhasil ditemukan di index ke \", idx)\n",
    "else:\n",
    "    print(\"Nilai: \", cari,\"tidak ditemukan\")"
   ]
  },
  {
   "cell_type": "markdown",
   "metadata": {},
   "source": [
    "- program dimulai dengan membuat variabel `a` dengan list didalamnya\n",
    "- buat inputan untuk menginputkan angka yang ingin dicari\n",
    "- gunakan perulangn for, dengan nilai mulai dari 0 sampai dengan panjang di dalam list\n",
    "  - jika inputan angka yang ingin dicari terdapat pada list, maka akan menampilkan nilai berhasil ditemukan pada index ke ...\n",
    "----------------------------------------------------------------------------------------------------------------------"
   ]
  },
  {
   "cell_type": "code",
   "execution_count": 54,
   "metadata": {},
   "outputs": [
    {
     "data": {
      "text/plain": [
       "8"
      ]
     },
     "execution_count": 54,
     "metadata": {},
     "output_type": "execute_result"
    }
   ],
   "source": [
    "def binary_search(arr,x):\n",
    "    low = 0\n",
    "    high = len(arr)-1\n",
    "    mid = 0\n",
    "\n",
    "    while low <= high:\n",
    "        mid = (high+low)//2\n",
    "        if arr[mid] < x:\n",
    "            low = mid+1\n",
    "        elif arr[mid] > x:\n",
    "            high = mid-1\n",
    "        else:\n",
    "            return mid\n",
    "    return \"TIDAK DITEMUKAN\"\n",
    "\n",
    "binary_search([1,2,3,4,5,6,7,8,9,10],9)"
   ]
  },
  {
   "cell_type": "markdown",
   "metadata": {},
   "source": [
    "- program dimulai dengan membuat fungsi `binary_search` dan 2 parameter `arr` dan `x`\n",
    "  - inisiasi variabel `low` = 0\n",
    "  - inisiasi variabel `mid` = 0\n",
    "  - inisiasi variabel `high` = jumlah panjang `arr`-1\n",
    "  - looping selama nilai `low` kurang dari samadengan `high`:\n",
    "    - nilai `mid` = (high+low)//2\n",
    "    - jika pada indeks ke-`mid` pada list arr kurang dari `x`:\n",
    "      - nilai `low` = `mid`+1\n",
    "    - jika pada indeks ke-`mid` pada list arr lebih dari `x`:\n",
    "      - nilai `low` = `mid`-1\n",
    "    - jika tidak memenuhi maka fungsi mengembalikan nilai mid\n",
    "  - jika looping selesai dan tidak menemukan nilai yang dicari, akan mengembalikan nilai \"TIDAK DITEMUKAN\"\n",
    "----------------------------------------------------------------------------------------------------------------------"
   ]
  },
  {
   "cell_type": "markdown",
   "metadata": {},
   "source": [
    "2. Modifikasilah kode *sorting* diatas sehingga menampilkan pengurutan *Descending*."
   ]
  },
  {
   "cell_type": "code",
   "execution_count": 70,
   "metadata": {},
   "outputs": [
    {
     "data": {
      "text/plain": [
       "[8, 6, 5, 4, 4, 2, 2, 1]"
      ]
     },
     "execution_count": 70,
     "metadata": {},
     "output_type": "execute_result"
    }
   ],
   "source": [
    "def selectionsort_descending(var):\n",
    "    for i in range(len(var)):\n",
    "        min_idx = i\n",
    "        for j in range(i+1, len(var)):\n",
    "            if var[min_idx] < var[j]:\n",
    "                min_idx = j\n",
    "        var[i], var[min_idx] = var[min_idx], var[i]\n",
    "    return var\n",
    "selectionsort_descending([1,4,2,5,8,2,4,6])"
   ]
  },
  {
   "cell_type": "markdown",
   "metadata": {},
   "source": [
    "- program dimulai dengan fungsi bernama `selectionsort_descending` dan menerima 1 parameter `var` (isinya list)\n",
    "  - perulangan untuk tiap nilai (i) sampai batas panjang list di variabel `var` lakukan:\n",
    "    - inisiasi nilai `min_idx` = i\n",
    "    - untuk tiap nilai (j) dengan batas i+1 sampai panjang list `var`:\n",
    "      - jika nilai pada indeks ke-`min_idx` di dalam `var` kurang dari nilai pada indeks ke-`j` di dalam `var`:\n",
    "        - nilai `min_idx` menjadi `j`\n",
    "      - kemudian posisinya dibalik\n",
    "\n",
    "> ringkasnya, program ini mula mula akan cek nilai di paling kiri, kemudian dibandingkan dengan semua nilai di sebelah kanannya.<br>\n",
    "> jika nilainya lebih kecil dari dikanannya, maka posisinya akan saling bertukar<br>\n",
    "> contoh misal [1,5,7,8,2] maka mula mula 1 akan bertukar dengan 5 menjadi [5,1,7,8,2] kemudian 1 akan bertukar dengan 7 dan seterusnya<br>\n",
    "><br>\n",
    "> kalau di soal misal punya list [1, 4, 2, 5, 8, 2, 4, 6] maka menjadi:<br>\n",
    "> [1, 4, 2, 5, 8, 2, 4, 6]<br>\n",
    "> [8, 4, 2, 5, 1, 2, 4, 6]<br>\n",
    "> [8, 6, 2, 5, 1, 2, 4, 4]<br>\n",
    "> [8, 6, 5, 2, 1, 2, 4, 4]<br>\n",
    "> [8, 6, 5, 4, 1, 2, 2, 4]<br>\n",
    "> [8, 6, 5, 4, 4, 2, 2, 1]<br>\n",
    "> [8, 6, 5, 4, 4, 2, 2, 1]<br>\n",
    "> [8, 6, 5, 4, 4, 2, 2, 1]<br>\n",
    "[8, 6, 5, 4, 4, 2, 2, 1]\n",
    "\n",
    "- program ini sama kayak selectionsort biasa namun prosesnya dibalik, yang lebih besar menjadi dikiri yang kecil dikanan\n",
    "----------------------------------------------------------------------------------------------------------------------"
   ]
  },
  {
   "cell_type": "markdown",
   "metadata": {},
   "source": [
    "3. Modifikasilah kode *Binary Search* diatas sehingga menampilkan index dan nilai yang dicari."
   ]
  },
  {
   "cell_type": "code",
   "execution_count": 61,
   "metadata": {},
   "outputs": [
    {
     "name": "stdout",
     "output_type": "stream",
     "text": [
      "[1, 2, 3, 4, 7, 8, 10, 17]\n"
     ]
    },
    {
     "data": {
      "text/plain": [
       "'Nilai 8 ditemukan pada indeks ke 5'"
      ]
     },
     "execution_count": 61,
     "metadata": {},
     "output_type": "execute_result"
    }
   ],
   "source": [
    "listnya = [7,2,4,1,17,3,8,10]\n",
    "urut = bubblesort(listnya)\n",
    "cari = 8\n",
    "\n",
    "def binary_search(arr,x):\n",
    "    low = 0\n",
    "    high = len(arr)-1\n",
    "    mid = 0\n",
    "\n",
    "    while low <= high:\n",
    "        mid = (high+low)//2\n",
    "        if arr[mid] < x:\n",
    "            low = mid+1\n",
    "        elif arr[mid] > x:\n",
    "            high = mid-1\n",
    "        else:\n",
    "            return (f\"Nilai {x} ditemukan pada indeks ke {mid}\")\n",
    "    return(f\"Nilai {x} tidak ditemukan di dalam list/di indeks manapun\")\n",
    "\n",
    "print(urut)\n",
    "binary_search(urut,cari)"
   ]
  },
  {
   "cell_type": "markdown",
   "metadata": {},
   "source": [
    "- prosesnya sama persis, cuman beda di inputan dan di return\n",
    "- disini saya buat inputan terlebih dahulu berupa list\n",
    "- list diurutkan terlebih dahulu dengan fungsi `bubblesort` kemudian simpan di variabel urut\n",
    "- buat variabel `cari` dengan nilai sebuah integer (ini untuk mencari angka yg dicari)\n",
    "<br>\n",
    "selanjutnya sama prosesnya seperti binary_search diatas yaitu:\n",
    "- program dimulai dengan membuat fungsi `binary_search` dan 2 parameter `arr` dan `x`\n",
    "  - inisiasi variabel `low` = 0\n",
    "  - inisiasi variabel `mid` = 0\n",
    "  - inisiasi variabel `high` = jumlah panjang `arr`-1\n",
    "  - looping selama nilai `low` kurang dari samadengan `high`:\n",
    "    - nilai `mid` = (high+low)//2\n",
    "    - jika pada indeks ke-`mid` pada list arr kurang dari `x`:\n",
    "      - nilai `low` = `mid`+1\n",
    "    - jika pada indeks ke-`mid` pada list arr lebih dari `x`:\n",
    "      - nilai `low` = `mid`-1\n",
    "    - jika tidak memenuhi maka fungsi mengembalikan nilai string (f\"Nilai {x} ditemukan pada indeks ke {mid}\")\n",
    "  - jika looping selesai dan tidak menemukan nilai yang dicari, akan mengembalikan nilai (f\"Nilai {x} tidak ditemukan di dalam list/di indeks manapun\")\n"
   ]
  },
  {
   "cell_type": "markdown",
   "metadata": {},
   "source": [
    "\n",
    "----------------------------------------------------------------------------------------------------------------------"
   ]
  },
  {
   "cell_type": "markdown",
   "metadata": {},
   "source": [
    "4. Muatlah file mobydick.txt dan pecah string menjadi setiap kata menggunakan fungsi split.\n",
    "Cobalah untuk mengurutkan list kata tersebut menggunakan fungsi sorting yang telah anda\n",
    "tulis. Amati perubahan apa yang terjadi."
   ]
  },
  {
   "cell_type": "code",
   "execution_count": 38,
   "metadata": {},
   "outputs": [
    {
     "data": {
      "text/plain": [
       "['Adelaide',\n",
       " 'By',\n",
       " 'DICK;',\n",
       " 'ERIS',\n",
       " \"Gutenberg's\",\n",
       " 'Herman',\n",
       " 'Library',\n",
       " 'MOBY',\n",
       " 'Melville',\n",
       " 'Notes:',\n",
       " 'OR',\n",
       " 'Original',\n",
       " 'Project',\n",
       " 'THE',\n",
       " 'Tech',\n",
       " 'The',\n",
       " 'The',\n",
       " 'This',\n",
       " \"Transcriber's\",\n",
       " 'University',\n",
       " 'Virginia',\n",
       " 'Virginia',\n",
       " 'WHALE',\n",
       " 'a',\n",
       " 'and',\n",
       " 'archives.',\n",
       " 'are',\n",
       " 'at',\n",
       " 'combination',\n",
       " 'etexts,',\n",
       " 'for',\n",
       " 'from',\n",
       " 'from',\n",
       " 'indebted',\n",
       " 'is',\n",
       " 'now-defunct',\n",
       " 'of',\n",
       " 'of',\n",
       " 'of',\n",
       " 'one',\n",
       " 'one',\n",
       " 'preserving',\n",
       " 'project',\n",
       " 'proofreaders',\n",
       " 'text',\n",
       " 'the',\n",
       " 'the',\n",
       " 'this',\n",
       " 'to',\n",
       " 'version']"
      ]
     },
     "execution_count": 38,
     "metadata": {},
     "output_type": "execute_result"
    }
   ],
   "source": [
    "kata = int(input(\"Masukkan jumlah kata yang ingin diambil : \"))\n",
    "moby = open(\"MobyDick.txt\",\"r\")\n",
    "dick = moby.read().split()[:kata]\n",
    "a = []\n",
    "for i in dick:\n",
    "    a.append(i)\n",
    "bubblesort(a)"
   ]
  },
  {
   "cell_type": "markdown",
   "metadata": {},
   "source": [
    "*disini saya menggunakan batasan dengan inputan jumlah kata yang ingin ditampilkan, karna kalo ditampilkan semua lama re runnya*\n",
    "- input angka untuk menunjukkan berapa kata yang nantinya akan diinginkan untuk ditampilkan\n",
    "- buka file txt dengan `open(\"nama file\")` (tapi filenya harus 1 folder dengan file ipynb ini, kalo ngga harus ditulis lengkap direktorinya)\n",
    "- baca file txtnya dengan `.read()` kemudian `.split` untuk memisah kata di text kemudian `[:kata]` berarti batas jumlah kata yang ditambilkan waktu di split\n",
    "- buat list kosong\n",
    "- masukkan semua nilai yang tadinya sudah di split ke dalam list kosong tersebut\n",
    "- gunakan fungsi bubblesort() yang sudah dibuat di atas untuk mengurutkan sesuai abjad kata2 yang sudah dipisah dengan split\n",
    "- outputnya adalah list tapi tampilannya menjadi kebawah\n",
    "\n",
    "> urutan jika huruf adalah <br>\n",
    "> simbol -> angka -> huruf kapital -> huruf kecil\n",
    "----------------------------------------------------------------------------------------------------------------------"
   ]
  },
  {
   "cell_type": "markdown",
   "metadata": {},
   "source": [
    "5. Cobalah megurutkan list kata mobydick menggunakan fungsi sort () dari python. Apa yang\n",
    "terjadi? Jelaskan setiap temuan."
   ]
  },
  {
   "cell_type": "code",
   "execution_count": 40,
   "metadata": {},
   "outputs": [
    {
     "name": "stdout",
     "output_type": "stream",
     "text": [
      "['Adelaide', 'By', 'DICK;', 'ERIS', \"Gutenberg's\", 'Herman', 'Library', 'MOBY', 'Melville', 'Notes:', 'OR', 'Original', 'Project', 'THE', 'Tech', 'The', 'The', 'This', \"Transcriber's\", 'University', 'Virginia', 'Virginia', 'WHALE', 'a', 'and', 'archives.', 'are', 'at', 'combination', 'etexts,', 'for', 'from', 'from', 'indebted', 'is', 'now-defunct', 'of', 'of', 'of', 'one', 'one', 'preserving', 'project', 'proofreaders', 'text', 'the', 'the', 'this', 'to', 'version']\n"
     ]
    }
   ],
   "source": [
    "kata = int(input(\"Masukkan jumlah kata yang ingin diambil : \"))\n",
    "moby = open(\"MobyDick.txt\",\"r\")\n",
    "dick = moby.read().split()[:kata]\n",
    "a = []\n",
    "for i in dick:\n",
    "    a.append(i)\n",
    "a.sort()\n",
    "print(a)"
   ]
  },
  {
   "cell_type": "markdown",
   "metadata": {},
   "source": [
    "- sebenarnya ini sama pengurutannya dengan menggunakan bubble sort ataupun selection sort\n",
    "- yang menjadi pembeda disini adalah output yang dihasilkan jika menggunakan sort maka tetap menjadi list menyamping\n",
    "----------------------------------------------------------------------------------------------------------------------"
   ]
  }
 ],
 "metadata": {
  "kernelspec": {
   "display_name": "Python 3",
   "language": "python",
   "name": "python3"
  },
  "language_info": {
   "codemirror_mode": {
    "name": "ipython",
    "version": 3
   },
   "file_extension": ".py",
   "mimetype": "text/x-python",
   "name": "python",
   "nbconvert_exporter": "python",
   "pygments_lexer": "ipython3",
   "version": "3.10.11"
  }
 },
 "nbformat": 4,
 "nbformat_minor": 2
}
