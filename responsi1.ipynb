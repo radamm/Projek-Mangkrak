{
 "cells": [
  {
   "cell_type": "code",
   "execution_count": 13,
   "metadata": {},
   "outputs": [
    {
     "name": "stdout",
     "output_type": "stream",
     "text": [
      "[4]\n",
      "[4, 8]\n",
      "[4, 8, 13]\n"
     ]
    }
   ],
   "source": [
    "a = [1,3,5,8]\n",
    "hasil = []\n",
    "for i in range (1,len(a)):\n",
    "    nilai = a[i] + a[i-1]\n",
    "    hasil.append(nilai)\n",
    "    print(hasil)\n"
   ]
  },
  {
   "cell_type": "code",
   "execution_count": 2,
   "metadata": {},
   "outputs": [
    {
     "name": "stdout",
     "output_type": "stream",
     "text": [
      "[4]\n",
      "[4, 6]\n",
      "[4, 6, 9]\n",
      "[4, 6, 9, 8]\n",
      "[4, 6, 9, 8, 11]\n",
      "[4, 6, 9, 8, 11, 13]\n"
     ]
    }
   ],
   "source": [
    "a = [1,3,5,8]\n",
    "hasil = []\n",
    "for i in range(len(a)):\n",
    "    for j in range(i+1,len(a)):\n",
    "        hasil.append(a[i]+a[j])\n",
    "        print(hasil)"
   ]
  },
  {
   "cell_type": "code",
   "execution_count": 24,
   "metadata": {},
   "outputs": [
    {
     "name": "stdout",
     "output_type": "stream",
     "text": [
      "Total dadu adalah : -8\n",
      "Kamu harus mundur 8 langkah\n",
      "faktor dari 8 adalah [1, 2, 4, 8]\n"
     ]
    }
   ],
   "source": [
    "nilai = 0\n",
    "#ini untuk inputan\n",
    "for i in range(5):\n",
    "    dadu = int(input(f\"lemparan dadu ke-{i+1}: \"))\n",
    "    if dadu>=1 and dadu<= 6: \n",
    "        if dadu%2==1:\n",
    "            nilai += dadu\n",
    "        elif dadu%2==0:\n",
    "            nilai -= dadu\n",
    "    else:\n",
    "        print(\"dadu hanya ada angka 1 sampai 6\")\n",
    "\n",
    "print(f\"Total dadu adalah : {nilai}\")\n",
    "#ini untuk output pertama\n",
    "if nilai < 0:\n",
    "    print(f\"Kamu harus mundur {-nilai} langkah\")\n",
    "elif nilai > 0:\n",
    "    print(f\"Kamu harus maju {nilai} langkah\")\n",
    "\n",
    "#ini untuk mencari faktor\n",
    "faktor = []\n",
    "if nilai>0:\n",
    "    for i in range (1,nilai+1):\n",
    "        if nilai%i == 0: \n",
    "            faktor.append(i)\n",
    "    print(f\"faktor dari {nilai} adalah {faktor}\")\n",
    "elif nilai<0:\n",
    "    nilai = -nilai\n",
    "    for i in range (1,nilai+1):\n",
    "        if nilai%i == 0: \n",
    "            faktor.append(i)\n",
    "    print(f\"faktor dari {nilai} adalah {faktor}\")"
   ]
  },
  {
   "cell_type": "code",
   "execution_count": 23,
   "metadata": {},
   "outputs": [
    {
     "name": "stdout",
     "output_type": "stream",
     "text": [
      "Kamu harus mundur 5 langkah\n",
      "faktor dari 5 adalah [1, 5]\n"
     ]
    }
   ],
   "source": [
    "nilai = 0\n",
    "def inputan():\n",
    "    dadu = int(input(\"lemparan dadu: \"))\n",
    "#ini untuk inputan\n",
    "for i in range(5):\n",
    "    # dadu = int(input(f\"lemparan dadu ke-{i+1}: \"))\n",
    "    inputan()\n",
    "    if dadu>=1 and dadu<= 6: \n",
    "        if dadu%2==1:\n",
    "            nilai += dadu\n",
    "        elif dadu%2==0:\n",
    "            nilai -= dadu\n",
    "    else:\n",
    "        print(\"dadu hanya ada angka 1 sampai 6\")\n",
    "        inputan()\n",
    "\n",
    "#ini untuk output pertama\n",
    "if nilai < 0:\n",
    "    print(f\"Kamu harus mundur {-nilai} langkah\")\n",
    "elif nilai > 0:\n",
    "    print(f\"Kamu harus mundur {nilai} langkah\")\n",
    "\n",
    "#ini untuk mencari faktor\n",
    "faktor = []\n",
    "if nilai>0:\n",
    "    for i in range (1,nilai+1):\n",
    "        if nilai%i == 0: \n",
    "            faktor.append(i)\n",
    "    print(f\"faktor dari {nilai} adalah {faktor}\")\n",
    "elif nilai<0:\n",
    "    nilai = -nilai\n",
    "    for i in range (1,nilai+1):\n",
    "        if nilai%i == 0: \n",
    "            faktor.append(i)\n",
    "    print(f\"faktor dari {nilai} adalah {faktor}\")"
   ]
  },
  {
   "cell_type": "code",
   "execution_count": 14,
   "metadata": {},
   "outputs": [
    {
     "name": "stdout",
     "output_type": "stream",
     "text": [
      "[35, 73, 4, 23, 40, 40, 7, 70, 65, 47]\n",
      "ketemu\n"
     ]
    }
   ],
   "source": [
    "list=[]\n",
    "import random\n",
    "for i in range (1,11):\n",
    "    list.append(random.randint(1,100))\n",
    "print (list)\n",
    "cari=int(input())\n",
    "if cari in list:\n",
    "    print(\"ketemu\")\n",
    "else:\n",
    "    print(\"tidak ketemu\")\n"
   ]
  },
  {
   "cell_type": "code",
   "execution_count": null,
   "metadata": {},
   "outputs": [],
   "source": [
    "for i in range (1,101):\n",
    "    if i%2==0:\n",
    "        print (i)"
   ]
  },
  {
   "cell_type": "code",
   "execution_count": 17,
   "metadata": {},
   "outputs": [
    {
     "name": "stdout",
     "output_type": "stream",
     "text": [
      "little monkey on the bed One fell off and bumped his head 6\n",
      "little monkey on the bed One fell off and bumped his head 5\n",
      "little monkey on the bed One fell off and bumped his head 4\n",
      "little monkey on the bed One fell off and bumped his head 3\n",
      "little monkey on the bed One fell off and bumped his head 2\n",
      "little monkey on the bed One fell off and bumped his head 1\n"
     ]
    }
   ],
   "source": [
    "total=int(input())\n",
    "for i in range (total,0,-1):\n",
    "    print(\"little monkey on the bed One fell off and bumped his head\",i)"
   ]
  },
  {
   "cell_type": "code",
   "execution_count": null,
   "metadata": {},
   "outputs": [],
   "source": [
    "dict={ \"jilbab\"\n",
    "\n",
    "\n",
    "}"
   ]
  }
 ],
 "metadata": {
  "kernelspec": {
   "display_name": "Python 3",
   "language": "python",
   "name": "python3"
  },
  "language_info": {
   "codemirror_mode": {
    "name": "ipython",
    "version": 3
   },
   "file_extension": ".py",
   "mimetype": "text/x-python",
   "name": "python",
   "nbconvert_exporter": "python",
   "pygments_lexer": "ipython3",
   "version": "3.10.undefined"
  }
 },
 "nbformat": 4,
 "nbformat_minor": 2
}
